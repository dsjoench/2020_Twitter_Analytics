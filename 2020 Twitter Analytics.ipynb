{
 "cells": [
  {
   "cell_type": "code",
   "execution_count": 1,
   "metadata": {},
   "outputs": [
    {
     "data": {
      "text/html": [
       "        <script type=\"text/javascript\">\n",
       "        window.PlotlyConfig = {MathJaxConfig: 'local'};\n",
       "        if (window.MathJax) {MathJax.Hub.Config({SVG: {font: \"STIX-Web\"}});}\n",
       "        if (typeof require !== 'undefined') {\n",
       "        require.undef(\"plotly\");\n",
       "        requirejs.config({\n",
       "            paths: {\n",
       "                'plotly': ['https://cdn.plot.ly/plotly-latest.min']\n",
       "            }\n",
       "        });\n",
       "        require(['plotly'], function(Plotly) {\n",
       "            window._Plotly = Plotly;\n",
       "        });\n",
       "        }\n",
       "        </script>\n",
       "        "
      ]
     },
     "metadata": {},
     "output_type": "display_data"
    }
   ],
   "source": [
    "import pandas as pd\n",
    "import numpy as np\n",
    "import seaborn as sns\n",
    "import multiprocessing as mp\n",
    "import matplotlib.pyplot as plt\n",
    "import matplotlib as matplot\n",
    "\n",
    "from scipy import stats\n",
    "from scipy.stats import norm, skew #for some statistics\n",
    "\n",
    "from plotly.offline import init_notebook_mode, iplot\n",
    "import plotly.figure_factory as ff # create_table for categorical variables\n",
    "import cufflinks\n",
    "cufflinks.go_offline()  \n",
    "cufflinks.set_config_file(world_readable=True, theme='pearl')\n",
    "\n",
    "import plotly.graph_objs as go # graphs on objects\n",
    "import chart_studio.plotly as py # plotly library\n",
    "\n",
    "import datetime\n",
    "import plotly.graph_objects as go"
   ]
  },
  {
   "cell_type": "markdown",
   "metadata": {},
   "source": [
    "## Data Exploratory and Understanding"
   ]
  },
  {
   "cell_type": "markdown",
   "metadata": {},
   "source": [
    "### Import the original data"
   ]
  },
  {
   "cell_type": "code",
   "execution_count": 2,
   "metadata": {},
   "outputs": [],
   "source": [
    "df = pd.read_csv('flat_sb_2020.csv',lineterminator='\\n',low_memory=False)"
   ]
  },
  {
   "cell_type": "code",
   "execution_count": 3,
   "metadata": {},
   "outputs": [],
   "source": [
    "ads_df = pd.read_excel('ads_info.xlsx')"
   ]
  },
  {
   "cell_type": "code",
   "execution_count": 4,
   "metadata": {},
   "outputs": [
    {
     "data": {
      "text/html": [
       "<div>\n",
       "<style scoped>\n",
       "    .dataframe tbody tr th:only-of-type {\n",
       "        vertical-align: middle;\n",
       "    }\n",
       "\n",
       "    .dataframe tbody tr th {\n",
       "        vertical-align: top;\n",
       "    }\n",
       "\n",
       "    .dataframe thead th {\n",
       "        text-align: right;\n",
       "    }\n",
       "</style>\n",
       "<table border=\"1\" class=\"dataframe\">\n",
       "  <thead>\n",
       "    <tr style=\"text-align: right;\">\n",
       "      <th></th>\n",
       "      <th>Unnamed: 0</th>\n",
       "      <th>id</th>\n",
       "      <th>id_str</th>\n",
       "      <th>in_reply_to_status_id</th>\n",
       "      <th>in_reply_to_status_id_str</th>\n",
       "      <th>in_reply_to_user_id</th>\n",
       "      <th>in_reply_to_user_id_str</th>\n",
       "      <th>geo</th>\n",
       "      <th>coordinates</th>\n",
       "      <th>place</th>\n",
       "      <th>...</th>\n",
       "      <th>retweeted_status.quoted_status.place</th>\n",
       "      <th>retweeted_status.quoted_status.contributors</th>\n",
       "      <th>retweeted_status.quoted_status.quote_count</th>\n",
       "      <th>retweeted_status.quoted_status.reply_count</th>\n",
       "      <th>retweeted_status.quoted_status.retweet_count</th>\n",
       "      <th>retweeted_status.quoted_status.favorite_count</th>\n",
       "      <th>retweeted_status.quoted_status.quoted_status_id</th>\n",
       "      <th>retweeted_status.quoted_status.quoted_status_id_str</th>\n",
       "      <th>quoted_status.quoted_status_id</th>\n",
       "      <th>quoted_status.quoted_status_id_str</th>\n",
       "    </tr>\n",
       "  </thead>\n",
       "  <tbody>\n",
       "    <tr>\n",
       "      <td>count</td>\n",
       "      <td>494079.000000</td>\n",
       "      <td>4.940790e+05</td>\n",
       "      <td>4.940790e+05</td>\n",
       "      <td>5.818000e+04</td>\n",
       "      <td>5.818000e+04</td>\n",
       "      <td>8.136000e+04</td>\n",
       "      <td>8.136000e+04</td>\n",
       "      <td>0.0</td>\n",
       "      <td>0.0</td>\n",
       "      <td>0.0</td>\n",
       "      <td>...</td>\n",
       "      <td>0.0</td>\n",
       "      <td>0.0</td>\n",
       "      <td>23715.000000</td>\n",
       "      <td>23715.000000</td>\n",
       "      <td>23715.000000</td>\n",
       "      <td>23715.000000</td>\n",
       "      <td>7.670000e+02</td>\n",
       "      <td>7.670000e+02</td>\n",
       "      <td>1.863000e+03</td>\n",
       "      <td>1.863000e+03</td>\n",
       "    </tr>\n",
       "    <tr>\n",
       "      <td>mean</td>\n",
       "      <td>281522.611263</td>\n",
       "      <td>1.224143e+18</td>\n",
       "      <td>1.224143e+18</td>\n",
       "      <td>1.223834e+18</td>\n",
       "      <td>1.223834e+18</td>\n",
       "      <td>2.181581e+17</td>\n",
       "      <td>2.181581e+17</td>\n",
       "      <td>NaN</td>\n",
       "      <td>NaN</td>\n",
       "      <td>NaN</td>\n",
       "      <td>...</td>\n",
       "      <td>NaN</td>\n",
       "      <td>NaN</td>\n",
       "      <td>1010.453637</td>\n",
       "      <td>498.526544</td>\n",
       "      <td>3493.584651</td>\n",
       "      <td>16623.151001</td>\n",
       "      <td>1.211414e+18</td>\n",
       "      <td>1.211414e+18</td>\n",
       "      <td>1.215874e+18</td>\n",
       "      <td>1.215874e+18</td>\n",
       "    </tr>\n",
       "    <tr>\n",
       "      <td>std</td>\n",
       "      <td>163585.252349</td>\n",
       "      <td>1.602256e+13</td>\n",
       "      <td>1.602256e+13</td>\n",
       "      <td>7.242075e+15</td>\n",
       "      <td>7.242075e+15</td>\n",
       "      <td>4.124439e+17</td>\n",
       "      <td>4.124439e+17</td>\n",
       "      <td>NaN</td>\n",
       "      <td>NaN</td>\n",
       "      <td>NaN</td>\n",
       "      <td>...</td>\n",
       "      <td>NaN</td>\n",
       "      <td>NaN</td>\n",
       "      <td>2390.237861</td>\n",
       "      <td>1983.446716</td>\n",
       "      <td>5839.301197</td>\n",
       "      <td>25671.982581</td>\n",
       "      <td>9.586781e+16</td>\n",
       "      <td>9.586781e+16</td>\n",
       "      <td>7.856791e+16</td>\n",
       "      <td>7.856791e+16</td>\n",
       "    </tr>\n",
       "    <tr>\n",
       "      <td>min</td>\n",
       "      <td>2.000000</td>\n",
       "      <td>1.224113e+18</td>\n",
       "      <td>1.224113e+18</td>\n",
       "      <td>2.627492e+17</td>\n",
       "      <td>2.627492e+17</td>\n",
       "      <td>1.200000e+01</td>\n",
       "      <td>1.200000e+01</td>\n",
       "      <td>NaN</td>\n",
       "      <td>NaN</td>\n",
       "      <td>NaN</td>\n",
       "      <td>...</td>\n",
       "      <td>NaN</td>\n",
       "      <td>NaN</td>\n",
       "      <td>0.000000</td>\n",
       "      <td>0.000000</td>\n",
       "      <td>0.000000</td>\n",
       "      <td>0.000000</td>\n",
       "      <td>2.409060e+17</td>\n",
       "      <td>2.409060e+17</td>\n",
       "      <td>8.783073e+09</td>\n",
       "      <td>8.783073e+09</td>\n",
       "    </tr>\n",
       "    <tr>\n",
       "      <td>25%</td>\n",
       "      <td>140303.500000</td>\n",
       "      <td>1.224130e+18</td>\n",
       "      <td>1.224130e+18</td>\n",
       "      <td>1.224123e+18</td>\n",
       "      <td>1.224123e+18</td>\n",
       "      <td>5.689803e+07</td>\n",
       "      <td>5.689803e+07</td>\n",
       "      <td>NaN</td>\n",
       "      <td>NaN</td>\n",
       "      <td>NaN</td>\n",
       "      <td>...</td>\n",
       "      <td>NaN</td>\n",
       "      <td>NaN</td>\n",
       "      <td>37.000000</td>\n",
       "      <td>30.000000</td>\n",
       "      <td>164.000000</td>\n",
       "      <td>509.000000</td>\n",
       "      <td>1.223816e+18</td>\n",
       "      <td>1.223816e+18</td>\n",
       "      <td>1.223962e+18</td>\n",
       "      <td>1.223962e+18</td>\n",
       "    </tr>\n",
       "    <tr>\n",
       "      <td>50%</td>\n",
       "      <td>275841.000000</td>\n",
       "      <td>1.224142e+18</td>\n",
       "      <td>1.224142e+18</td>\n",
       "      <td>1.224134e+18</td>\n",
       "      <td>1.224134e+18</td>\n",
       "      <td>4.744472e+08</td>\n",
       "      <td>4.744472e+08</td>\n",
       "      <td>NaN</td>\n",
       "      <td>NaN</td>\n",
       "      <td>NaN</td>\n",
       "      <td>...</td>\n",
       "      <td>NaN</td>\n",
       "      <td>NaN</td>\n",
       "      <td>620.000000</td>\n",
       "      <td>188.000000</td>\n",
       "      <td>2199.000000</td>\n",
       "      <td>9539.000000</td>\n",
       "      <td>1.224046e+18</td>\n",
       "      <td>1.224046e+18</td>\n",
       "      <td>1.224115e+18</td>\n",
       "      <td>1.224115e+18</td>\n",
       "    </tr>\n",
       "    <tr>\n",
       "      <td>75%</td>\n",
       "      <td>423165.500000</td>\n",
       "      <td>1.224156e+18</td>\n",
       "      <td>1.224156e+18</td>\n",
       "      <td>1.224149e+18</td>\n",
       "      <td>1.224149e+18</td>\n",
       "      <td>3.901788e+09</td>\n",
       "      <td>3.901788e+09</td>\n",
       "      <td>NaN</td>\n",
       "      <td>NaN</td>\n",
       "      <td>NaN</td>\n",
       "      <td>...</td>\n",
       "      <td>NaN</td>\n",
       "      <td>NaN</td>\n",
       "      <td>620.000000</td>\n",
       "      <td>188.000000</td>\n",
       "      <td>4077.000000</td>\n",
       "      <td>22234.000000</td>\n",
       "      <td>1.224115e+18</td>\n",
       "      <td>1.224115e+18</td>\n",
       "      <td>1.224146e+18</td>\n",
       "      <td>1.224146e+18</td>\n",
       "    </tr>\n",
       "    <tr>\n",
       "      <td>max</td>\n",
       "      <td>563274.000000</td>\n",
       "      <td>1.224173e+18</td>\n",
       "      <td>1.224173e+18</td>\n",
       "      <td>1.224173e+18</td>\n",
       "      <td>1.224173e+18</td>\n",
       "      <td>1.224170e+18</td>\n",
       "      <td>1.224170e+18</td>\n",
       "      <td>NaN</td>\n",
       "      <td>NaN</td>\n",
       "      <td>NaN</td>\n",
       "      <td>...</td>\n",
       "      <td>NaN</td>\n",
       "      <td>NaN</td>\n",
       "      <td>109403.000000</td>\n",
       "      <td>36402.000000</td>\n",
       "      <td>139513.000000</td>\n",
       "      <td>547929.000000</td>\n",
       "      <td>1.224168e+18</td>\n",
       "      <td>1.224168e+18</td>\n",
       "      <td>1.224171e+18</td>\n",
       "      <td>1.224171e+18</td>\n",
       "    </tr>\n",
       "  </tbody>\n",
       "</table>\n",
       "<p>8 rows × 118 columns</p>\n",
       "</div>"
      ],
      "text/plain": [
       "          Unnamed: 0            id        id_str  in_reply_to_status_id  \\\n",
       "count  494079.000000  4.940790e+05  4.940790e+05           5.818000e+04   \n",
       "mean   281522.611263  1.224143e+18  1.224143e+18           1.223834e+18   \n",
       "std    163585.252349  1.602256e+13  1.602256e+13           7.242075e+15   \n",
       "min         2.000000  1.224113e+18  1.224113e+18           2.627492e+17   \n",
       "25%    140303.500000  1.224130e+18  1.224130e+18           1.224123e+18   \n",
       "50%    275841.000000  1.224142e+18  1.224142e+18           1.224134e+18   \n",
       "75%    423165.500000  1.224156e+18  1.224156e+18           1.224149e+18   \n",
       "max    563274.000000  1.224173e+18  1.224173e+18           1.224173e+18   \n",
       "\n",
       "       in_reply_to_status_id_str  in_reply_to_user_id  \\\n",
       "count               5.818000e+04         8.136000e+04   \n",
       "mean                1.223834e+18         2.181581e+17   \n",
       "std                 7.242075e+15         4.124439e+17   \n",
       "min                 2.627492e+17         1.200000e+01   \n",
       "25%                 1.224123e+18         5.689803e+07   \n",
       "50%                 1.224134e+18         4.744472e+08   \n",
       "75%                 1.224149e+18         3.901788e+09   \n",
       "max                 1.224173e+18         1.224170e+18   \n",
       "\n",
       "       in_reply_to_user_id_str  geo  coordinates  place  ...  \\\n",
       "count             8.136000e+04  0.0          0.0    0.0  ...   \n",
       "mean              2.181581e+17  NaN          NaN    NaN  ...   \n",
       "std               4.124439e+17  NaN          NaN    NaN  ...   \n",
       "min               1.200000e+01  NaN          NaN    NaN  ...   \n",
       "25%               5.689803e+07  NaN          NaN    NaN  ...   \n",
       "50%               4.744472e+08  NaN          NaN    NaN  ...   \n",
       "75%               3.901788e+09  NaN          NaN    NaN  ...   \n",
       "max               1.224170e+18  NaN          NaN    NaN  ...   \n",
       "\n",
       "       retweeted_status.quoted_status.place  \\\n",
       "count                                   0.0   \n",
       "mean                                    NaN   \n",
       "std                                     NaN   \n",
       "min                                     NaN   \n",
       "25%                                     NaN   \n",
       "50%                                     NaN   \n",
       "75%                                     NaN   \n",
       "max                                     NaN   \n",
       "\n",
       "       retweeted_status.quoted_status.contributors  \\\n",
       "count                                          0.0   \n",
       "mean                                           NaN   \n",
       "std                                            NaN   \n",
       "min                                            NaN   \n",
       "25%                                            NaN   \n",
       "50%                                            NaN   \n",
       "75%                                            NaN   \n",
       "max                                            NaN   \n",
       "\n",
       "       retweeted_status.quoted_status.quote_count  \\\n",
       "count                                23715.000000   \n",
       "mean                                  1010.453637   \n",
       "std                                   2390.237861   \n",
       "min                                      0.000000   \n",
       "25%                                     37.000000   \n",
       "50%                                    620.000000   \n",
       "75%                                    620.000000   \n",
       "max                                 109403.000000   \n",
       "\n",
       "       retweeted_status.quoted_status.reply_count  \\\n",
       "count                                23715.000000   \n",
       "mean                                   498.526544   \n",
       "std                                   1983.446716   \n",
       "min                                      0.000000   \n",
       "25%                                     30.000000   \n",
       "50%                                    188.000000   \n",
       "75%                                    188.000000   \n",
       "max                                  36402.000000   \n",
       "\n",
       "       retweeted_status.quoted_status.retweet_count  \\\n",
       "count                                  23715.000000   \n",
       "mean                                    3493.584651   \n",
       "std                                     5839.301197   \n",
       "min                                        0.000000   \n",
       "25%                                      164.000000   \n",
       "50%                                     2199.000000   \n",
       "75%                                     4077.000000   \n",
       "max                                   139513.000000   \n",
       "\n",
       "       retweeted_status.quoted_status.favorite_count  \\\n",
       "count                                   23715.000000   \n",
       "mean                                    16623.151001   \n",
       "std                                     25671.982581   \n",
       "min                                         0.000000   \n",
       "25%                                       509.000000   \n",
       "50%                                      9539.000000   \n",
       "75%                                     22234.000000   \n",
       "max                                    547929.000000   \n",
       "\n",
       "       retweeted_status.quoted_status.quoted_status_id  \\\n",
       "count                                     7.670000e+02   \n",
       "mean                                      1.211414e+18   \n",
       "std                                       9.586781e+16   \n",
       "min                                       2.409060e+17   \n",
       "25%                                       1.223816e+18   \n",
       "50%                                       1.224046e+18   \n",
       "75%                                       1.224115e+18   \n",
       "max                                       1.224168e+18   \n",
       "\n",
       "       retweeted_status.quoted_status.quoted_status_id_str  \\\n",
       "count                                       7.670000e+02     \n",
       "mean                                        1.211414e+18     \n",
       "std                                         9.586781e+16     \n",
       "min                                         2.409060e+17     \n",
       "25%                                         1.223816e+18     \n",
       "50%                                         1.224046e+18     \n",
       "75%                                         1.224115e+18     \n",
       "max                                         1.224168e+18     \n",
       "\n",
       "       quoted_status.quoted_status_id  quoted_status.quoted_status_id_str  \n",
       "count                    1.863000e+03                        1.863000e+03  \n",
       "mean                     1.215874e+18                        1.215874e+18  \n",
       "std                      7.856791e+16                        7.856791e+16  \n",
       "min                      8.783073e+09                        8.783073e+09  \n",
       "25%                      1.223962e+18                        1.223962e+18  \n",
       "50%                      1.224115e+18                        1.224115e+18  \n",
       "75%                      1.224146e+18                        1.224146e+18  \n",
       "max                      1.224171e+18                        1.224171e+18  \n",
       "\n",
       "[8 rows x 118 columns]"
      ]
     },
     "execution_count": 4,
     "metadata": {},
     "output_type": "execute_result"
    }
   ],
   "source": [
    "df.describe()"
   ]
  },
  {
   "cell_type": "code",
   "execution_count": 5,
   "metadata": {},
   "outputs": [
    {
     "data": {
      "text/html": [
       "<div>\n",
       "<style scoped>\n",
       "    .dataframe tbody tr th:only-of-type {\n",
       "        vertical-align: middle;\n",
       "    }\n",
       "\n",
       "    .dataframe tbody tr th {\n",
       "        vertical-align: top;\n",
       "    }\n",
       "\n",
       "    .dataframe thead th {\n",
       "        text-align: right;\n",
       "    }\n",
       "</style>\n",
       "<table border=\"1\" class=\"dataframe\">\n",
       "  <thead>\n",
       "    <tr style=\"text-align: right;\">\n",
       "      <th></th>\n",
       "      <th>Unnamed: 0</th>\n",
       "      <th>_id</th>\n",
       "      <th>created_at</th>\n",
       "      <th>id</th>\n",
       "      <th>id_str</th>\n",
       "      <th>text</th>\n",
       "      <th>source</th>\n",
       "      <th>truncated</th>\n",
       "      <th>in_reply_to_status_id</th>\n",
       "      <th>in_reply_to_status_id_str</th>\n",
       "      <th>...</th>\n",
       "      <th>retweeted_status.extended_tweet.entities.polls</th>\n",
       "      <th>retweeted_status.scopes.followers</th>\n",
       "      <th>quoted_status.entities.polls</th>\n",
       "      <th>retweeted_status.quoted_status.extended_tweet.entities.polls</th>\n",
       "      <th>retweeted_status.quoted_status.entities.polls</th>\n",
       "      <th>quoted_status.extended_tweet.entities.polls</th>\n",
       "      <th>retweeted_status.quoted_status.user.withheld_in_countries</th>\n",
       "      <th>retweeted_status.quoted_status.withheld_in_countries</th>\n",
       "      <th>quoted_status.user.withheld_in_countries</th>\n",
       "      <th>quoted_status.withheld_in_countries</th>\n",
       "    </tr>\n",
       "  </thead>\n",
       "  <tbody>\n",
       "    <tr>\n",
       "      <td>0</td>\n",
       "      <td>2</td>\n",
       "      <td>5e37c79ad45e79dd671e47ed</td>\n",
       "      <td>Mon Feb 03 03:28:35 +0000 2020</td>\n",
       "      <td>1224172804100194304</td>\n",
       "      <td>1224172804100194304</td>\n",
       "      <td>RT @theBaeSensei: I’ll drink bleach before i p...</td>\n",
       "      <td>&lt;a href=\"http://twitter.com/download/iphone\" r...</td>\n",
       "      <td>False</td>\n",
       "      <td>NaN</td>\n",
       "      <td>NaN</td>\n",
       "      <td>...</td>\n",
       "      <td>NaN</td>\n",
       "      <td>NaN</td>\n",
       "      <td>NaN</td>\n",
       "      <td>NaN</td>\n",
       "      <td>NaN</td>\n",
       "      <td>NaN</td>\n",
       "      <td>NaN</td>\n",
       "      <td>NaN</td>\n",
       "      <td>NaN</td>\n",
       "      <td>NaN</td>\n",
       "    </tr>\n",
       "    <tr>\n",
       "      <td>1</td>\n",
       "      <td>3</td>\n",
       "      <td>5e37c79ad45e79dd671e47ec</td>\n",
       "      <td>Mon Feb 03 03:28:44 +0000 2020</td>\n",
       "      <td>1224172844097179654</td>\n",
       "      <td>1224172844097179654</td>\n",
       "      <td>RT @theBaeSensei: I’ll drink bleach before i p...</td>\n",
       "      <td>&lt;a href=\"http://twitter.com/download/iphone\" r...</td>\n",
       "      <td>False</td>\n",
       "      <td>NaN</td>\n",
       "      <td>NaN</td>\n",
       "      <td>...</td>\n",
       "      <td>NaN</td>\n",
       "      <td>NaN</td>\n",
       "      <td>NaN</td>\n",
       "      <td>NaN</td>\n",
       "      <td>NaN</td>\n",
       "      <td>NaN</td>\n",
       "      <td>NaN</td>\n",
       "      <td>NaN</td>\n",
       "      <td>NaN</td>\n",
       "      <td>NaN</td>\n",
       "    </tr>\n",
       "    <tr>\n",
       "      <td>2</td>\n",
       "      <td>4</td>\n",
       "      <td>5e37c79ad45e79dd671e47e8</td>\n",
       "      <td>Mon Feb 03 03:29:44 +0000 2020</td>\n",
       "      <td>1224173095369486338</td>\n",
       "      <td>1224173095369486338</td>\n",
       "      <td>RT @BleachImmortal: \"My name is Ichigo Kurosak...</td>\n",
       "      <td>&lt;a href=\"http://twitter.com/download/android\" ...</td>\n",
       "      <td>False</td>\n",
       "      <td>NaN</td>\n",
       "      <td>NaN</td>\n",
       "      <td>...</td>\n",
       "      <td>NaN</td>\n",
       "      <td>NaN</td>\n",
       "      <td>NaN</td>\n",
       "      <td>NaN</td>\n",
       "      <td>NaN</td>\n",
       "      <td>NaN</td>\n",
       "      <td>NaN</td>\n",
       "      <td>NaN</td>\n",
       "      <td>NaN</td>\n",
       "      <td>NaN</td>\n",
       "    </tr>\n",
       "    <tr>\n",
       "      <td>3</td>\n",
       "      <td>5</td>\n",
       "      <td>5e37c79ad45e79dd671e47e6</td>\n",
       "      <td>Mon Feb 03 03:29:54 +0000 2020</td>\n",
       "      <td>1224173137698467842</td>\n",
       "      <td>1224173137698467842</td>\n",
       "      <td>RT @ZBrag101: My Next Video, hav't started yet...</td>\n",
       "      <td>&lt;a href=\"http://twitter.com/download/android\" ...</td>\n",
       "      <td>False</td>\n",
       "      <td>NaN</td>\n",
       "      <td>NaN</td>\n",
       "      <td>...</td>\n",
       "      <td>NaN</td>\n",
       "      <td>NaN</td>\n",
       "      <td>NaN</td>\n",
       "      <td>NaN</td>\n",
       "      <td>NaN</td>\n",
       "      <td>NaN</td>\n",
       "      <td>NaN</td>\n",
       "      <td>NaN</td>\n",
       "      <td>NaN</td>\n",
       "      <td>NaN</td>\n",
       "    </tr>\n",
       "    <tr>\n",
       "      <td>4</td>\n",
       "      <td>6</td>\n",
       "      <td>5e37c79ad45e79dd671e47f0</td>\n",
       "      <td>Mon Feb 03 03:28:29 +0000 2020</td>\n",
       "      <td>1224172779559321600</td>\n",
       "      <td>1224172779559321600</td>\n",
       "      <td>@AubreyNexus @LaudenRolly When I bleach my hai...</td>\n",
       "      <td>&lt;a href=\"http://twitter.com/download/android\" ...</td>\n",
       "      <td>False</td>\n",
       "      <td>NaN</td>\n",
       "      <td>NaN</td>\n",
       "      <td>...</td>\n",
       "      <td>NaN</td>\n",
       "      <td>NaN</td>\n",
       "      <td>NaN</td>\n",
       "      <td>NaN</td>\n",
       "      <td>NaN</td>\n",
       "      <td>NaN</td>\n",
       "      <td>NaN</td>\n",
       "      <td>NaN</td>\n",
       "      <td>NaN</td>\n",
       "      <td>NaN</td>\n",
       "    </tr>\n",
       "  </tbody>\n",
       "</table>\n",
       "<p>5 rows × 400 columns</p>\n",
       "</div>"
      ],
      "text/plain": [
       "   Unnamed: 0                       _id                      created_at  \\\n",
       "0           2  5e37c79ad45e79dd671e47ed  Mon Feb 03 03:28:35 +0000 2020   \n",
       "1           3  5e37c79ad45e79dd671e47ec  Mon Feb 03 03:28:44 +0000 2020   \n",
       "2           4  5e37c79ad45e79dd671e47e8  Mon Feb 03 03:29:44 +0000 2020   \n",
       "3           5  5e37c79ad45e79dd671e47e6  Mon Feb 03 03:29:54 +0000 2020   \n",
       "4           6  5e37c79ad45e79dd671e47f0  Mon Feb 03 03:28:29 +0000 2020   \n",
       "\n",
       "                    id               id_str  \\\n",
       "0  1224172804100194304  1224172804100194304   \n",
       "1  1224172844097179654  1224172844097179654   \n",
       "2  1224173095369486338  1224173095369486338   \n",
       "3  1224173137698467842  1224173137698467842   \n",
       "4  1224172779559321600  1224172779559321600   \n",
       "\n",
       "                                                text  \\\n",
       "0  RT @theBaeSensei: I’ll drink bleach before i p...   \n",
       "1  RT @theBaeSensei: I’ll drink bleach before i p...   \n",
       "2  RT @BleachImmortal: \"My name is Ichigo Kurosak...   \n",
       "3  RT @ZBrag101: My Next Video, hav't started yet...   \n",
       "4  @AubreyNexus @LaudenRolly When I bleach my hai...   \n",
       "\n",
       "                                              source  truncated  \\\n",
       "0  <a href=\"http://twitter.com/download/iphone\" r...      False   \n",
       "1  <a href=\"http://twitter.com/download/iphone\" r...      False   \n",
       "2  <a href=\"http://twitter.com/download/android\" ...      False   \n",
       "3  <a href=\"http://twitter.com/download/android\" ...      False   \n",
       "4  <a href=\"http://twitter.com/download/android\" ...      False   \n",
       "\n",
       "   in_reply_to_status_id  in_reply_to_status_id_str  ...  \\\n",
       "0                    NaN                        NaN  ...   \n",
       "1                    NaN                        NaN  ...   \n",
       "2                    NaN                        NaN  ...   \n",
       "3                    NaN                        NaN  ...   \n",
       "4                    NaN                        NaN  ...   \n",
       "\n",
       "   retweeted_status.extended_tweet.entities.polls  \\\n",
       "0                                             NaN   \n",
       "1                                             NaN   \n",
       "2                                             NaN   \n",
       "3                                             NaN   \n",
       "4                                             NaN   \n",
       "\n",
       "   retweeted_status.scopes.followers quoted_status.entities.polls  \\\n",
       "0                                NaN                          NaN   \n",
       "1                                NaN                          NaN   \n",
       "2                                NaN                          NaN   \n",
       "3                                NaN                          NaN   \n",
       "4                                NaN                          NaN   \n",
       "\n",
       "   retweeted_status.quoted_status.extended_tweet.entities.polls  \\\n",
       "0                                                NaN              \n",
       "1                                                NaN              \n",
       "2                                                NaN              \n",
       "3                                                NaN              \n",
       "4                                                NaN              \n",
       "\n",
       "   retweeted_status.quoted_status.entities.polls  \\\n",
       "0                                            NaN   \n",
       "1                                            NaN   \n",
       "2                                            NaN   \n",
       "3                                            NaN   \n",
       "4                                            NaN   \n",
       "\n",
       "   quoted_status.extended_tweet.entities.polls  \\\n",
       "0                                          NaN   \n",
       "1                                          NaN   \n",
       "2                                          NaN   \n",
       "3                                          NaN   \n",
       "4                                          NaN   \n",
       "\n",
       "   retweeted_status.quoted_status.user.withheld_in_countries  \\\n",
       "0                                                NaN           \n",
       "1                                                NaN           \n",
       "2                                                NaN           \n",
       "3                                                NaN           \n",
       "4                                                NaN           \n",
       "\n",
       "   retweeted_status.quoted_status.withheld_in_countries  \\\n",
       "0                                                NaN      \n",
       "1                                                NaN      \n",
       "2                                                NaN      \n",
       "3                                                NaN      \n",
       "4                                                NaN      \n",
       "\n",
       "   quoted_status.user.withheld_in_countries  \\\n",
       "0                                       NaN   \n",
       "1                                       NaN   \n",
       "2                                       NaN   \n",
       "3                                       NaN   \n",
       "4                                       NaN   \n",
       "\n",
       "   quoted_status.withheld_in_countries  \n",
       "0                                  NaN  \n",
       "1                                  NaN  \n",
       "2                                  NaN  \n",
       "3                                  NaN  \n",
       "4                                  NaN  \n",
       "\n",
       "[5 rows x 400 columns]"
      ]
     },
     "execution_count": 5,
     "metadata": {},
     "output_type": "execute_result"
    }
   ],
   "source": [
    "df.head()"
   ]
  },
  {
   "cell_type": "code",
   "execution_count": 6,
   "metadata": {},
   "outputs": [
    {
     "name": "stdout",
     "output_type": "stream",
     "text": [
      "['Unnamed: 0' '_id' 'created_at' 'id' 'id_str' 'text' 'source' 'truncated'\n",
      " 'in_reply_to_status_id' 'in_reply_to_status_id_str' 'in_reply_to_user_id'\n",
      " 'in_reply_to_user_id_str' 'in_reply_to_screen_name' 'geo' 'coordinates'\n",
      " 'place' 'contributors' 'is_quote_status' 'quote_count' 'reply_count'\n",
      " 'retweet_count' 'favorite_count' 'favorited' 'retweeted' 'filter_level'\n",
      " 'lang' 'matching_rules' 'timestamp' 'valid_time' 'period' 'AdTitle'\n",
      " 'Brand' 'sentiment' 'user.id' 'user.id_str' 'user.name'\n",
      " 'user.screen_name' 'user.location' 'user.url' 'user.description'\n",
      " 'user.translator_type' 'user.protected' 'user.verified'\n",
      " 'user.followers_count' 'user.friends_count' 'user.listed_count'\n",
      " 'user.favourites_count' 'user.statuses_count' 'user.created_at'\n",
      " 'user.utc_offset' 'user.time_zone' 'user.geo_enabled' 'user.lang'\n",
      " 'user.contributors_enabled' 'user.is_translator'\n",
      " 'user.profile_background_color' 'user.profile_background_image_url'\n",
      " 'user.profile_background_image_url_https' 'user.profile_background_tile'\n",
      " 'user.profile_link_color' 'user.profile_sidebar_border_color'\n",
      " 'user.profile_sidebar_fill_color' 'user.profile_text_color'\n",
      " 'user.profile_use_background_image' 'user.profile_image_url'\n",
      " 'user.profile_image_url_https' 'user.profile_banner_url'\n",
      " 'user.default_profile' 'user.default_profile_image' 'user.following'\n",
      " 'user.follow_request_sent' 'user.notifications' 'entities.hashtags'\n",
      " 'entities.urls' 'entities.user_mentions' 'entities.symbols'\n",
      " 'retweeted_status.created_at' 'retweeted_status.id'\n",
      " 'retweeted_status.id_str' 'retweeted_status.text'\n",
      " 'retweeted_status.display_text_range' 'retweeted_status.source'\n",
      " 'retweeted_status.truncated' 'retweeted_status.in_reply_to_status_id'\n",
      " 'retweeted_status.in_reply_to_status_id_str'\n",
      " 'retweeted_status.in_reply_to_user_id'\n",
      " 'retweeted_status.in_reply_to_user_id_str'\n",
      " 'retweeted_status.in_reply_to_screen_name' 'retweeted_status.user.id'\n",
      " 'retweeted_status.user.id_str' 'retweeted_status.user.name'\n",
      " 'retweeted_status.user.screen_name' 'retweeted_status.user.location'\n",
      " 'retweeted_status.user.url' 'retweeted_status.user.description'\n",
      " 'retweeted_status.user.translator_type' 'retweeted_status.user.protected'\n",
      " 'retweeted_status.user.verified' 'retweeted_status.user.followers_count'\n",
      " 'retweeted_status.user.friends_count'\n",
      " 'retweeted_status.user.listed_count'\n",
      " 'retweeted_status.user.favourites_count'\n",
      " 'retweeted_status.user.statuses_count' 'retweeted_status.user.created_at'\n",
      " 'retweeted_status.user.utc_offset' 'retweeted_status.user.time_zone'\n",
      " 'retweeted_status.user.geo_enabled' 'retweeted_status.user.lang'\n",
      " 'retweeted_status.user.contributors_enabled'\n",
      " 'retweeted_status.user.is_translator'\n",
      " 'retweeted_status.user.profile_background_color'\n",
      " 'retweeted_status.user.profile_background_image_url'\n",
      " 'retweeted_status.user.profile_background_image_url_https'\n",
      " 'retweeted_status.user.profile_background_tile'\n",
      " 'retweeted_status.user.profile_link_color'\n",
      " 'retweeted_status.user.profile_sidebar_border_color'\n",
      " 'retweeted_status.user.profile_sidebar_fill_color'\n",
      " 'retweeted_status.user.profile_text_color'\n",
      " 'retweeted_status.user.profile_use_background_image'\n",
      " 'retweeted_status.user.profile_image_url'\n",
      " 'retweeted_status.user.profile_image_url_https'\n",
      " 'retweeted_status.user.profile_banner_url'\n",
      " 'retweeted_status.user.default_profile'\n",
      " 'retweeted_status.user.default_profile_image'\n",
      " 'retweeted_status.user.following'\n",
      " 'retweeted_status.user.follow_request_sent'\n",
      " 'retweeted_status.user.notifications' 'retweeted_status.geo'\n",
      " 'retweeted_status.coordinates' 'retweeted_status.place'\n",
      " 'retweeted_status.contributors' 'retweeted_status.is_quote_status'\n",
      " 'retweeted_status.extended_tweet.full_text'\n",
      " 'retweeted_status.extended_tweet.display_text_range'\n",
      " 'retweeted_status.extended_tweet.entities.hashtags'\n",
      " 'retweeted_status.extended_tweet.entities.urls'\n",
      " 'retweeted_status.extended_tweet.entities.user_mentions'\n",
      " 'retweeted_status.extended_tweet.entities.symbols'\n",
      " 'retweeted_status.extended_tweet.entities.media'\n",
      " 'retweeted_status.extended_tweet.extended_entities.media'\n",
      " 'retweeted_status.quote_count' 'retweeted_status.reply_count'\n",
      " 'retweeted_status.retweet_count' 'retweeted_status.favorite_count'\n",
      " 'retweeted_status.entities.hashtags' 'retweeted_status.entities.urls'\n",
      " 'retweeted_status.entities.user_mentions'\n",
      " 'retweeted_status.entities.symbols' 'retweeted_status.favorited'\n",
      " 'retweeted_status.retweeted' 'retweeted_status.possibly_sensitive'\n",
      " 'retweeted_status.filter_level' 'retweeted_status.lang'\n",
      " 'user.derived.locations' 'possibly_sensitive'\n",
      " 'retweeted_status.entities.media'\n",
      " 'retweeted_status.extended_entities.media' 'entities.media'\n",
      " 'extended_entities.media' 'display_text_range' 'extended_tweet.full_text'\n",
      " 'extended_tweet.display_text_range' 'extended_tweet.entities.hashtags'\n",
      " 'extended_tweet.entities.urls' 'extended_tweet.entities.user_mentions'\n",
      " 'extended_tweet.entities.symbols' 'quoted_status_id'\n",
      " 'quoted_status_id_str' 'quoted_status.created_at' 'quoted_status.id'\n",
      " 'quoted_status.id_str' 'quoted_status.text'\n",
      " 'quoted_status.display_text_range' 'quoted_status.source'\n",
      " 'quoted_status.truncated' 'quoted_status.in_reply_to_status_id'\n",
      " 'quoted_status.in_reply_to_status_id_str'\n",
      " 'quoted_status.in_reply_to_user_id'\n",
      " 'quoted_status.in_reply_to_user_id_str'\n",
      " 'quoted_status.in_reply_to_screen_name' 'quoted_status.user.id'\n",
      " 'quoted_status.user.id_str' 'quoted_status.user.name'\n",
      " 'quoted_status.user.screen_name' 'quoted_status.user.location'\n",
      " 'quoted_status.user.url' 'quoted_status.user.description'\n",
      " 'quoted_status.user.translator_type' 'quoted_status.user.protected'\n",
      " 'quoted_status.user.verified' 'quoted_status.user.followers_count'\n",
      " 'quoted_status.user.friends_count' 'quoted_status.user.listed_count'\n",
      " 'quoted_status.user.favourites_count' 'quoted_status.user.statuses_count'\n",
      " 'quoted_status.user.created_at' 'quoted_status.user.utc_offset'\n",
      " 'quoted_status.user.time_zone' 'quoted_status.user.geo_enabled'\n",
      " 'quoted_status.user.lang' 'quoted_status.user.contributors_enabled'\n",
      " 'quoted_status.user.is_translator'\n",
      " 'quoted_status.user.profile_background_color'\n",
      " 'quoted_status.user.profile_background_image_url'\n",
      " 'quoted_status.user.profile_background_image_url_https'\n",
      " 'quoted_status.user.profile_background_tile'\n",
      " 'quoted_status.user.profile_link_color'\n",
      " 'quoted_status.user.profile_sidebar_border_color'\n",
      " 'quoted_status.user.profile_sidebar_fill_color'\n",
      " 'quoted_status.user.profile_text_color'\n",
      " 'quoted_status.user.profile_use_background_image'\n",
      " 'quoted_status.user.profile_image_url'\n",
      " 'quoted_status.user.profile_image_url_https'\n",
      " 'quoted_status.user.profile_banner_url'\n",
      " 'quoted_status.user.default_profile'\n",
      " 'quoted_status.user.default_profile_image' 'quoted_status.user.following'\n",
      " 'quoted_status.user.follow_request_sent'\n",
      " 'quoted_status.user.notifications' 'quoted_status.geo'\n",
      " 'quoted_status.coordinates' 'quoted_status.place'\n",
      " 'quoted_status.contributors' 'quoted_status.is_quote_status'\n",
      " 'quoted_status.quote_count' 'quoted_status.reply_count'\n",
      " 'quoted_status.retweet_count' 'quoted_status.favorite_count'\n",
      " 'quoted_status.entities.hashtags' 'quoted_status.entities.urls'\n",
      " 'quoted_status.entities.user_mentions' 'quoted_status.entities.symbols'\n",
      " 'quoted_status.entities.media' 'quoted_status.extended_entities.media'\n",
      " 'quoted_status.favorited' 'quoted_status.retweeted'\n",
      " 'quoted_status.possibly_sensitive' 'quoted_status.filter_level'\n",
      " 'quoted_status.lang' 'quoted_status_permalink.url'\n",
      " 'quoted_status_permalink.expanded' 'quoted_status_permalink.display'\n",
      " 'retweeted_status.quoted_status_id'\n",
      " 'retweeted_status.quoted_status_id_str'\n",
      " 'retweeted_status.quoted_status.created_at'\n",
      " 'retweeted_status.quoted_status.id'\n",
      " 'retweeted_status.quoted_status.id_str'\n",
      " 'retweeted_status.quoted_status.text'\n",
      " 'retweeted_status.quoted_status.display_text_range'\n",
      " 'retweeted_status.quoted_status.source'\n",
      " 'retweeted_status.quoted_status.truncated'\n",
      " 'retweeted_status.quoted_status.in_reply_to_status_id'\n",
      " 'retweeted_status.quoted_status.in_reply_to_status_id_str'\n",
      " 'retweeted_status.quoted_status.in_reply_to_user_id'\n",
      " 'retweeted_status.quoted_status.in_reply_to_user_id_str'\n",
      " 'retweeted_status.quoted_status.in_reply_to_screen_name'\n",
      " 'retweeted_status.quoted_status.user.id'\n",
      " 'retweeted_status.quoted_status.user.id_str'\n",
      " 'retweeted_status.quoted_status.user.name'\n",
      " 'retweeted_status.quoted_status.user.screen_name'\n",
      " 'retweeted_status.quoted_status.user.location'\n",
      " 'retweeted_status.quoted_status.user.url'\n",
      " 'retweeted_status.quoted_status.user.description'\n",
      " 'retweeted_status.quoted_status.user.translator_type'\n",
      " 'retweeted_status.quoted_status.user.protected'\n",
      " 'retweeted_status.quoted_status.user.verified'\n",
      " 'retweeted_status.quoted_status.user.followers_count'\n",
      " 'retweeted_status.quoted_status.user.friends_count'\n",
      " 'retweeted_status.quoted_status.user.listed_count'\n",
      " 'retweeted_status.quoted_status.user.favourites_count'\n",
      " 'retweeted_status.quoted_status.user.statuses_count'\n",
      " 'retweeted_status.quoted_status.user.created_at'\n",
      " 'retweeted_status.quoted_status.user.utc_offset'\n",
      " 'retweeted_status.quoted_status.user.time_zone'\n",
      " 'retweeted_status.quoted_status.user.geo_enabled'\n",
      " 'retweeted_status.quoted_status.user.lang'\n",
      " 'retweeted_status.quoted_status.user.contributors_enabled'\n",
      " 'retweeted_status.quoted_status.user.is_translator'\n",
      " 'retweeted_status.quoted_status.user.profile_background_color'\n",
      " 'retweeted_status.quoted_status.user.profile_background_image_url'\n",
      " 'retweeted_status.quoted_status.user.profile_background_image_url_https'\n",
      " 'retweeted_status.quoted_status.user.profile_background_tile'\n",
      " 'retweeted_status.quoted_status.user.profile_link_color'\n",
      " 'retweeted_status.quoted_status.user.profile_sidebar_border_color'\n",
      " 'retweeted_status.quoted_status.user.profile_sidebar_fill_color'\n",
      " 'retweeted_status.quoted_status.user.profile_text_color'\n",
      " 'retweeted_status.quoted_status.user.profile_use_background_image'\n",
      " 'retweeted_status.quoted_status.user.profile_image_url'\n",
      " 'retweeted_status.quoted_status.user.profile_image_url_https'\n",
      " 'retweeted_status.quoted_status.user.profile_banner_url'\n",
      " 'retweeted_status.quoted_status.user.default_profile'\n",
      " 'retweeted_status.quoted_status.user.default_profile_image'\n",
      " 'retweeted_status.quoted_status.user.following'\n",
      " 'retweeted_status.quoted_status.user.follow_request_sent'\n",
      " 'retweeted_status.quoted_status.user.notifications'\n",
      " 'retweeted_status.quoted_status.geo'\n",
      " 'retweeted_status.quoted_status.coordinates'\n",
      " 'retweeted_status.quoted_status.place'\n",
      " 'retweeted_status.quoted_status.contributors'\n",
      " 'retweeted_status.quoted_status.is_quote_status'\n",
      " 'retweeted_status.quoted_status.quote_count'\n",
      " 'retweeted_status.quoted_status.reply_count'\n",
      " 'retweeted_status.quoted_status.retweet_count'\n",
      " 'retweeted_status.quoted_status.favorite_count'\n",
      " 'retweeted_status.quoted_status.entities.hashtags'\n",
      " 'retweeted_status.quoted_status.entities.urls'\n",
      " 'retweeted_status.quoted_status.entities.user_mentions'\n",
      " 'retweeted_status.quoted_status.entities.symbols'\n",
      " 'retweeted_status.quoted_status.entities.media'\n",
      " 'retweeted_status.quoted_status.extended_entities.media'\n",
      " 'retweeted_status.quoted_status.favorited'\n",
      " 'retweeted_status.quoted_status.retweeted'\n",
      " 'retweeted_status.quoted_status.possibly_sensitive'\n",
      " 'retweeted_status.quoted_status.filter_level'\n",
      " 'retweeted_status.quoted_status.lang'\n",
      " 'retweeted_status.quoted_status_permalink.url'\n",
      " 'retweeted_status.quoted_status_permalink.expanded'\n",
      " 'retweeted_status.quoted_status_permalink.display' 'place.id' 'place.url'\n",
      " 'place.place_type' 'place.name' 'place.full_name' 'place.country_code'\n",
      " 'place.country' 'place.bounding_box.type'\n",
      " 'place.bounding_box.coordinates' 'extended_tweet.entities.media'\n",
      " 'extended_tweet.extended_entities.media' 'retweeted_status.place.id'\n",
      " 'retweeted_status.place.url' 'retweeted_status.place.place_type'\n",
      " 'retweeted_status.place.name' 'retweeted_status.place.full_name'\n",
      " 'retweeted_status.place.country_code' 'retweeted_status.place.country'\n",
      " 'retweeted_status.place.bounding_box.type'\n",
      " 'retweeted_status.place.bounding_box.coordinates'\n",
      " 'retweeted_status.quoted_status.quoted_status_id'\n",
      " 'retweeted_status.quoted_status.quoted_status_id_str'\n",
      " 'retweeted_status.quoted_status.extended_tweet.full_text'\n",
      " 'retweeted_status.quoted_status.extended_tweet.display_text_range'\n",
      " 'retweeted_status.quoted_status.extended_tweet.entities.hashtags'\n",
      " 'retweeted_status.quoted_status.extended_tweet.entities.urls'\n",
      " 'retweeted_status.quoted_status.extended_tweet.entities.user_mentions'\n",
      " 'retweeted_status.quoted_status.extended_tweet.entities.symbols'\n",
      " 'quoted_status.quoted_status_id' 'quoted_status.quoted_status_id_str'\n",
      " 'quoted_status.extended_tweet.full_text'\n",
      " 'quoted_status.extended_tweet.display_text_range'\n",
      " 'quoted_status.extended_tweet.entities.hashtags'\n",
      " 'quoted_status.extended_tweet.entities.urls'\n",
      " 'quoted_status.extended_tweet.entities.user_mentions'\n",
      " 'quoted_status.extended_tweet.entities.symbols'\n",
      " 'quoted_status.extended_tweet.entities.media'\n",
      " 'quoted_status.extended_tweet.extended_entities.media'\n",
      " 'quoted_status.place.id' 'quoted_status.place.url'\n",
      " 'quoted_status.place.place_type' 'quoted_status.place.name'\n",
      " 'quoted_status.place.full_name' 'quoted_status.place.country_code'\n",
      " 'quoted_status.place.country' 'quoted_status.place.bounding_box.type'\n",
      " 'quoted_status.place.bounding_box.coordinates'\n",
      " 'retweeted_status.quoted_status.extended_tweet.entities.media'\n",
      " 'retweeted_status.quoted_status.extended_tweet.extended_entities.media'\n",
      " 'scopes.followers' 'retweeted_status.geo.type'\n",
      " 'retweeted_status.geo.coordinates' 'retweeted_status.coordinates.type'\n",
      " 'retweeted_status.coordinates.coordinates' 'entities.polls'\n",
      " 'retweeted_status.quoted_status.place.id'\n",
      " 'retweeted_status.quoted_status.place.url'\n",
      " 'retweeted_status.quoted_status.place.place_type'\n",
      " 'retweeted_status.quoted_status.place.name'\n",
      " 'retweeted_status.quoted_status.place.full_name'\n",
      " 'retweeted_status.quoted_status.place.country_code'\n",
      " 'retweeted_status.quoted_status.place.country'\n",
      " 'retweeted_status.quoted_status.place.bounding_box.type'\n",
      " 'retweeted_status.quoted_status.place.bounding_box.coordinates'\n",
      " 'retweeted_status.entities.polls' 'geo.type' 'geo.coordinates'\n",
      " 'coordinates.type' 'coordinates.coordinates'\n",
      " 'extended_tweet.entities.polls'\n",
      " 'retweeted_status.quoted_status.scopes.followers'\n",
      " 'quoted_status.scopes.followers'\n",
      " 'retweeted_status.extended_tweet.entities.polls'\n",
      " 'retweeted_status.scopes.followers' 'quoted_status.entities.polls'\n",
      " 'retweeted_status.quoted_status.extended_tweet.entities.polls'\n",
      " 'retweeted_status.quoted_status.entities.polls'\n",
      " 'quoted_status.extended_tweet.entities.polls'\n",
      " 'retweeted_status.quoted_status.user.withheld_in_countries'\n",
      " 'retweeted_status.quoted_status.withheld_in_countries'\n",
      " 'quoted_status.user.withheld_in_countries'\n",
      " 'quoted_status.withheld_in_countries']\n"
     ]
    }
   ],
   "source": [
    "# All features\n",
    "print(df.columns.values)"
   ]
  },
  {
   "cell_type": "markdown",
   "metadata": {},
   "source": [
    "### New dataframe"
   ]
  },
  {
   "cell_type": "code",
   "execution_count": 7,
   "metadata": {},
   "outputs": [],
   "source": [
    "# Select useful features ( initiation )\n",
    "Tweet = df[['timestamp','text','Brand','favorite_count','reply_count','sentiment','period','AdTitle','user.description','user.followers_count','user.location','retweet_count']]"
   ]
  },
  {
   "cell_type": "code",
   "execution_count": 8,
   "metadata": {},
   "outputs": [
    {
     "name": "stdout",
     "output_type": "stream",
     "text": [
      "<class 'pandas.core.frame.DataFrame'>\n",
      "RangeIndex: 494079 entries, 0 to 494078\n",
      "Data columns (total 12 columns):\n",
      "timestamp               494079 non-null float64\n",
      "text                    494079 non-null object\n",
      "Brand                   494079 non-null object\n",
      "favorite_count          494079 non-null int64\n",
      "reply_count             494079 non-null int64\n",
      "sentiment               494079 non-null object\n",
      "period                  494079 non-null object\n",
      "AdTitle                 494079 non-null object\n",
      "user.description        413893 non-null object\n",
      "user.followers_count    494079 non-null int64\n",
      "user.location           350830 non-null object\n",
      "retweet_count           494079 non-null int64\n",
      "dtypes: float64(1), int64(4), object(7)\n",
      "memory usage: 45.2+ MB\n"
     ]
    }
   ],
   "source": [
    "Tweet.info()"
   ]
  },
  {
   "cell_type": "code",
   "execution_count": 9,
   "metadata": {},
   "outputs": [
    {
     "data": {
      "text/html": [
       "<div>\n",
       "<style scoped>\n",
       "    .dataframe tbody tr th:only-of-type {\n",
       "        vertical-align: middle;\n",
       "    }\n",
       "\n",
       "    .dataframe tbody tr th {\n",
       "        vertical-align: top;\n",
       "    }\n",
       "\n",
       "    .dataframe thead th {\n",
       "        text-align: right;\n",
       "    }\n",
       "</style>\n",
       "<table border=\"1\" class=\"dataframe\">\n",
       "  <thead>\n",
       "    <tr style=\"text-align: right;\">\n",
       "      <th></th>\n",
       "      <th>timestamp</th>\n",
       "      <th>text</th>\n",
       "      <th>Brand</th>\n",
       "      <th>favorite_count</th>\n",
       "      <th>reply_count</th>\n",
       "      <th>sentiment</th>\n",
       "      <th>period</th>\n",
       "      <th>AdTitle</th>\n",
       "      <th>user.description</th>\n",
       "      <th>user.followers_count</th>\n",
       "      <th>user.location</th>\n",
       "      <th>retweet_count</th>\n",
       "    </tr>\n",
       "  </thead>\n",
       "  <tbody>\n",
       "    <tr>\n",
       "      <td>0</td>\n",
       "      <td>1.580701e+09</td>\n",
       "      <td>RT @theBaeSensei: I’ll drink bleach before i p...</td>\n",
       "      <td>NFL</td>\n",
       "      <td>0</td>\n",
       "      <td>0</td>\n",
       "      <td>negative</td>\n",
       "      <td>4</td>\n",
       "      <td>Next 100</td>\n",
       "      <td>3 cans short of a 6 pack ... #TeamOnBullshit</td>\n",
       "      <td>244</td>\n",
       "      <td>NaN</td>\n",
       "      <td>0</td>\n",
       "    </tr>\n",
       "    <tr>\n",
       "      <td>1</td>\n",
       "      <td>1.580701e+09</td>\n",
       "      <td>RT @theBaeSensei: I’ll drink bleach before i p...</td>\n",
       "      <td>NFL</td>\n",
       "      <td>0</td>\n",
       "      <td>0</td>\n",
       "      <td>negative</td>\n",
       "      <td>4</td>\n",
       "      <td>Next 100</td>\n",
       "      <td>boy momma. 28. 🤞🏽🐻💙 insta @chanelisamazing</td>\n",
       "      <td>1236</td>\n",
       "      <td>NaN</td>\n",
       "      <td>0</td>\n",
       "    </tr>\n",
       "    <tr>\n",
       "      <td>2</td>\n",
       "      <td>1.580701e+09</td>\n",
       "      <td>RT @BleachImmortal: \"My name is Ichigo Kurosak...</td>\n",
       "      <td>NFL</td>\n",
       "      <td>0</td>\n",
       "      <td>0</td>\n",
       "      <td>positive</td>\n",
       "      <td>4</td>\n",
       "      <td>Next 100</td>\n",
       "      <td>Hey everyone! I'm RallyHitzZ | 17 | #Anime | E...</td>\n",
       "      <td>159</td>\n",
       "      <td>Soul Society</td>\n",
       "      <td>0</td>\n",
       "    </tr>\n",
       "    <tr>\n",
       "      <td>3</td>\n",
       "      <td>1.580701e+09</td>\n",
       "      <td>RT @ZBrag101: My Next Video, hav't started yet...</td>\n",
       "      <td>NFL</td>\n",
       "      <td>0</td>\n",
       "      <td>0</td>\n",
       "      <td>negative</td>\n",
       "      <td>4</td>\n",
       "      <td>Next 100</td>\n",
       "      <td>My advice to the world: Normalcy is overrated....</td>\n",
       "      <td>561</td>\n",
       "      <td>Fort Wayne, IN</td>\n",
       "      <td>0</td>\n",
       "    </tr>\n",
       "    <tr>\n",
       "      <td>4</td>\n",
       "      <td>1.580701e+09</td>\n",
       "      <td>@AubreyNexus @LaudenRolly When I bleach my hai...</td>\n",
       "      <td>NFL</td>\n",
       "      <td>2</td>\n",
       "      <td>2</td>\n",
       "      <td>neutral</td>\n",
       "      <td>4</td>\n",
       "      <td>Next 100</td>\n",
       "      <td>20 | TN | Cosplayer | Hero Enthusiast\\n\\nNext ...</td>\n",
       "      <td>11</td>\n",
       "      <td>Murfreesboro, TN</td>\n",
       "      <td>1</td>\n",
       "    </tr>\n",
       "  </tbody>\n",
       "</table>\n",
       "</div>"
      ],
      "text/plain": [
       "      timestamp                                               text Brand  \\\n",
       "0  1.580701e+09  RT @theBaeSensei: I’ll drink bleach before i p...   NFL   \n",
       "1  1.580701e+09  RT @theBaeSensei: I’ll drink bleach before i p...   NFL   \n",
       "2  1.580701e+09  RT @BleachImmortal: \"My name is Ichigo Kurosak...   NFL   \n",
       "3  1.580701e+09  RT @ZBrag101: My Next Video, hav't started yet...   NFL   \n",
       "4  1.580701e+09  @AubreyNexus @LaudenRolly When I bleach my hai...   NFL   \n",
       "\n",
       "   favorite_count  reply_count sentiment period   AdTitle  \\\n",
       "0               0            0  negative      4  Next 100   \n",
       "1               0            0  negative      4  Next 100   \n",
       "2               0            0  positive      4  Next 100   \n",
       "3               0            0  negative      4  Next 100   \n",
       "4               2            2   neutral      4  Next 100   \n",
       "\n",
       "                                    user.description  user.followers_count  \\\n",
       "0       3 cans short of a 6 pack ... #TeamOnBullshit                   244   \n",
       "1         boy momma. 28. 🤞🏽🐻💙 insta @chanelisamazing                  1236   \n",
       "2  Hey everyone! I'm RallyHitzZ | 17 | #Anime | E...                   159   \n",
       "3  My advice to the world: Normalcy is overrated....                   561   \n",
       "4  20 | TN | Cosplayer | Hero Enthusiast\\n\\nNext ...                    11   \n",
       "\n",
       "      user.location  retweet_count  \n",
       "0               NaN              0  \n",
       "1               NaN              0  \n",
       "2      Soul Society              0  \n",
       "3    Fort Wayne, IN              0  \n",
       "4  Murfreesboro, TN              1  "
      ]
     },
     "execution_count": 9,
     "metadata": {},
     "output_type": "execute_result"
    }
   ],
   "source": [
    "Tweet.head()"
   ]
  },
  {
   "cell_type": "code",
   "execution_count": 10,
   "metadata": {},
   "outputs": [
    {
     "data": {
      "text/html": [
       "<div>\n",
       "<style scoped>\n",
       "    .dataframe tbody tr th:only-of-type {\n",
       "        vertical-align: middle;\n",
       "    }\n",
       "\n",
       "    .dataframe tbody tr th {\n",
       "        vertical-align: top;\n",
       "    }\n",
       "\n",
       "    .dataframe thead th {\n",
       "        text-align: right;\n",
       "    }\n",
       "</style>\n",
       "<table border=\"1\" class=\"dataframe\">\n",
       "  <thead>\n",
       "    <tr style=\"text-align: right;\">\n",
       "      <th></th>\n",
       "      <th>timestamp</th>\n",
       "      <th>text</th>\n",
       "      <th>Brand</th>\n",
       "      <th>favorite_count</th>\n",
       "      <th>reply_count</th>\n",
       "      <th>sentiment</th>\n",
       "      <th>period</th>\n",
       "      <th>AdTitle</th>\n",
       "      <th>user.description</th>\n",
       "      <th>user.followers_count</th>\n",
       "      <th>user.location</th>\n",
       "      <th>retweet_count</th>\n",
       "    </tr>\n",
       "  </thead>\n",
       "  <tbody>\n",
       "    <tr>\n",
       "      <td>5921</td>\n",
       "      <td>1.580686e+09</td>\n",
       "      <td>@backstreetboys @chancetherapper @Doritos Haha...</td>\n",
       "      <td>Doritos</td>\n",
       "      <td>0</td>\n",
       "      <td>0</td>\n",
       "      <td>positive</td>\n",
       "      <td>1</td>\n",
       "      <td>The Cool Ranch</td>\n",
       "      <td>Artesã, designer de interiores, echelon e aman...</td>\n",
       "      <td>357</td>\n",
       "      <td>Brazil</td>\n",
       "      <td>0</td>\n",
       "    </tr>\n",
       "    <tr>\n",
       "      <td>5940</td>\n",
       "      <td>1.580686e+09</td>\n",
       "      <td>RT @backstreetboys: Throwback to last year’s #...</td>\n",
       "      <td>Doritos</td>\n",
       "      <td>0</td>\n",
       "      <td>0</td>\n",
       "      <td>positive</td>\n",
       "      <td>1</td>\n",
       "      <td>The Cool Ranch</td>\n",
       "      <td>Artesã, designer de interiores, echelon e aman...</td>\n",
       "      <td>357</td>\n",
       "      <td>Brazil</td>\n",
       "      <td>0</td>\n",
       "    </tr>\n",
       "    <tr>\n",
       "      <td>6077</td>\n",
       "      <td>1.580700e+09</td>\n",
       "      <td>RT @tide: Saving the world (again) &amp;gt; laundr...</td>\n",
       "      <td>Tide</td>\n",
       "      <td>0</td>\n",
       "      <td>0</td>\n",
       "      <td>neutral</td>\n",
       "      <td>4</td>\n",
       "      <td>Finally Later</td>\n",
       "      <td>I love meeting new worlds reading books and pl...</td>\n",
       "      <td>956</td>\n",
       "      <td>Brazil</td>\n",
       "      <td>0</td>\n",
       "    </tr>\n",
       "    <tr>\n",
       "      <td>6660</td>\n",
       "      <td>1.580696e+09</td>\n",
       "      <td>RT @tide: Saving the world (again) &amp;gt; laundr...</td>\n",
       "      <td>Tide</td>\n",
       "      <td>0</td>\n",
       "      <td>0</td>\n",
       "      <td>neutral</td>\n",
       "      <td>3</td>\n",
       "      <td>Finally Later</td>\n",
       "      <td>NaN</td>\n",
       "      <td>483</td>\n",
       "      <td>Brazil</td>\n",
       "      <td>0</td>\n",
       "    </tr>\n",
       "    <tr>\n",
       "      <td>9096</td>\n",
       "      <td>1.580700e+09</td>\n",
       "      <td>RT @tide: Saving the world (again) &amp;gt; laundr...</td>\n",
       "      <td>Tide</td>\n",
       "      <td>0</td>\n",
       "      <td>0</td>\n",
       "      <td>neutral</td>\n",
       "      <td>4</td>\n",
       "      <td>Finally Later</td>\n",
       "      <td>I love meeting new worlds reading books and pl...</td>\n",
       "      <td>956</td>\n",
       "      <td>Brazil</td>\n",
       "      <td>0</td>\n",
       "    </tr>\n",
       "    <tr>\n",
       "      <td>...</td>\n",
       "      <td>...</td>\n",
       "      <td>...</td>\n",
       "      <td>...</td>\n",
       "      <td>...</td>\n",
       "      <td>...</td>\n",
       "      <td>...</td>\n",
       "      <td>...</td>\n",
       "      <td>...</td>\n",
       "      <td>...</td>\n",
       "      <td>...</td>\n",
       "      <td>...</td>\n",
       "      <td>...</td>\n",
       "    </tr>\n",
       "    <tr>\n",
       "      <td>434458</td>\n",
       "      <td>1.580689e+09</td>\n",
       "      <td>RT @ComicBook: Chris Evans in this Hyundai Son...</td>\n",
       "      <td>Cheetos</td>\n",
       "      <td>0</td>\n",
       "      <td>0</td>\n",
       "      <td>positive</td>\n",
       "      <td>2</td>\n",
       "      <td>Can't Touch This</td>\n",
       "      <td>🎶Been through some bad shit, I should be a sad...</td>\n",
       "      <td>153</td>\n",
       "      <td>Brazil</td>\n",
       "      <td>0</td>\n",
       "    </tr>\n",
       "    <tr>\n",
       "      <td>464434</td>\n",
       "      <td>1.580694e+09</td>\n",
       "      <td>RT @007: The 25th Bond film will change everyt...</td>\n",
       "      <td>Metro Goldwyn Mayer</td>\n",
       "      <td>0</td>\n",
       "      <td>0</td>\n",
       "      <td>neutral</td>\n",
       "      <td>half-time</td>\n",
       "      <td>Trailer: No Time To Die</td>\n",
       "      <td>\"My demons though quiet, are never quite silen...</td>\n",
       "      <td>629</td>\n",
       "      <td>Brazil</td>\n",
       "      <td>0</td>\n",
       "    </tr>\n",
       "    <tr>\n",
       "      <td>466117</td>\n",
       "      <td>1.580691e+09</td>\n",
       "      <td>RT @007: The 25th Bond film will change everyt...</td>\n",
       "      <td>Metro Goldwyn Mayer</td>\n",
       "      <td>0</td>\n",
       "      <td>0</td>\n",
       "      <td>neutral</td>\n",
       "      <td>2</td>\n",
       "      <td>Trailer: No Time To Die</td>\n",
       "      <td>🎶Been through some bad shit, I should be a sad...</td>\n",
       "      <td>153</td>\n",
       "      <td>Brazil</td>\n",
       "      <td>0</td>\n",
       "    </tr>\n",
       "    <tr>\n",
       "      <td>487904</td>\n",
       "      <td>1.580694e+09</td>\n",
       "      <td>RT @007: The 25th Bond film will change everyt...</td>\n",
       "      <td>Metro Goldwyn Mayer</td>\n",
       "      <td>0</td>\n",
       "      <td>0</td>\n",
       "      <td>neutral</td>\n",
       "      <td>half-time</td>\n",
       "      <td>Trailer: No Time To Die</td>\n",
       "      <td>\"My demons though quiet, are never quite silen...</td>\n",
       "      <td>629</td>\n",
       "      <td>Brazil</td>\n",
       "      <td>0</td>\n",
       "    </tr>\n",
       "    <tr>\n",
       "      <td>489587</td>\n",
       "      <td>1.580691e+09</td>\n",
       "      <td>RT @007: The 25th Bond film will change everyt...</td>\n",
       "      <td>Metro Goldwyn Mayer</td>\n",
       "      <td>0</td>\n",
       "      <td>0</td>\n",
       "      <td>neutral</td>\n",
       "      <td>2</td>\n",
       "      <td>Trailer: No Time To Die</td>\n",
       "      <td>🎶Been through some bad shit, I should be a sad...</td>\n",
       "      <td>153</td>\n",
       "      <td>Brazil</td>\n",
       "      <td>0</td>\n",
       "    </tr>\n",
       "  </tbody>\n",
       "</table>\n",
       "<p>84 rows × 12 columns</p>\n",
       "</div>"
      ],
      "text/plain": [
       "           timestamp                                               text  \\\n",
       "5921    1.580686e+09  @backstreetboys @chancetherapper @Doritos Haha...   \n",
       "5940    1.580686e+09  RT @backstreetboys: Throwback to last year’s #...   \n",
       "6077    1.580700e+09  RT @tide: Saving the world (again) &gt; laundr...   \n",
       "6660    1.580696e+09  RT @tide: Saving the world (again) &gt; laundr...   \n",
       "9096    1.580700e+09  RT @tide: Saving the world (again) &gt; laundr...   \n",
       "...              ...                                                ...   \n",
       "434458  1.580689e+09  RT @ComicBook: Chris Evans in this Hyundai Son...   \n",
       "464434  1.580694e+09  RT @007: The 25th Bond film will change everyt...   \n",
       "466117  1.580691e+09  RT @007: The 25th Bond film will change everyt...   \n",
       "487904  1.580694e+09  RT @007: The 25th Bond film will change everyt...   \n",
       "489587  1.580691e+09  RT @007: The 25th Bond film will change everyt...   \n",
       "\n",
       "                      Brand  favorite_count  reply_count sentiment     period  \\\n",
       "5921                Doritos               0            0  positive          1   \n",
       "5940                Doritos               0            0  positive          1   \n",
       "6077                   Tide               0            0   neutral          4   \n",
       "6660                   Tide               0            0   neutral          3   \n",
       "9096                   Tide               0            0   neutral          4   \n",
       "...                     ...             ...          ...       ...        ...   \n",
       "434458              Cheetos               0            0  positive          2   \n",
       "464434  Metro Goldwyn Mayer               0            0   neutral  half-time   \n",
       "466117  Metro Goldwyn Mayer               0            0   neutral          2   \n",
       "487904  Metro Goldwyn Mayer               0            0   neutral  half-time   \n",
       "489587  Metro Goldwyn Mayer               0            0   neutral          2   \n",
       "\n",
       "                        AdTitle  \\\n",
       "5921             The Cool Ranch   \n",
       "5940             The Cool Ranch   \n",
       "6077              Finally Later   \n",
       "6660              Finally Later   \n",
       "9096              Finally Later   \n",
       "...                         ...   \n",
       "434458         Can't Touch This   \n",
       "464434  Trailer: No Time To Die   \n",
       "466117  Trailer: No Time To Die   \n",
       "487904  Trailer: No Time To Die   \n",
       "489587  Trailer: No Time To Die   \n",
       "\n",
       "                                         user.description  \\\n",
       "5921    Artesã, designer de interiores, echelon e aman...   \n",
       "5940    Artesã, designer de interiores, echelon e aman...   \n",
       "6077    I love meeting new worlds reading books and pl...   \n",
       "6660                                                  NaN   \n",
       "9096    I love meeting new worlds reading books and pl...   \n",
       "...                                                   ...   \n",
       "434458  🎶Been through some bad shit, I should be a sad...   \n",
       "464434  \"My demons though quiet, are never quite silen...   \n",
       "466117  🎶Been through some bad shit, I should be a sad...   \n",
       "487904  \"My demons though quiet, are never quite silen...   \n",
       "489587  🎶Been through some bad shit, I should be a sad...   \n",
       "\n",
       "        user.followers_count user.location  retweet_count  \n",
       "5921                     357        Brazil              0  \n",
       "5940                     357        Brazil              0  \n",
       "6077                     956        Brazil              0  \n",
       "6660                     483        Brazil              0  \n",
       "9096                     956        Brazil              0  \n",
       "...                      ...           ...            ...  \n",
       "434458                   153        Brazil              0  \n",
       "464434                   629        Brazil              0  \n",
       "466117                   153        Brazil              0  \n",
       "487904                   629        Brazil              0  \n",
       "489587                   153        Brazil              0  \n",
       "\n",
       "[84 rows x 12 columns]"
      ]
     },
     "execution_count": 10,
     "metadata": {},
     "output_type": "execute_result"
    }
   ],
   "source": [
    "Tweet[Tweet['user.location']=='Brazil']"
   ]
  },
  {
   "cell_type": "markdown",
   "metadata": {},
   "source": [
    "## Data Preprocessing"
   ]
  },
  {
   "cell_type": "code",
   "execution_count": 15,
   "metadata": {},
   "outputs": [],
   "source": [
    "Tweet.timestamp=pd.to_datetime(Tweet.timestamp,unit ='s')"
   ]
  },
  {
   "cell_type": "code",
   "execution_count": 22,
   "metadata": {},
   "outputs": [],
   "source": [
    "Tweet['engage']=Tweet['retweet_count']+Tweet['reply_count']+Tweet['favorite_count']"
   ]
  },
  {
   "cell_type": "code",
   "execution_count": 23,
   "metadata": {},
   "outputs": [],
   "source": [
    "Tw_cost = Tweet.groupby('Brand').sum()\n"
   ]
  },
  {
   "cell_type": "code",
   "execution_count": 24,
   "metadata": {},
   "outputs": [
    {
     "data": {
      "text/html": [
       "<div>\n",
       "<style scoped>\n",
       "    .dataframe tbody tr th:only-of-type {\n",
       "        vertical-align: middle;\n",
       "    }\n",
       "\n",
       "    .dataframe tbody tr th {\n",
       "        vertical-align: top;\n",
       "    }\n",
       "\n",
       "    .dataframe thead th {\n",
       "        text-align: right;\n",
       "    }\n",
       "</style>\n",
       "<table border=\"1\" class=\"dataframe\">\n",
       "  <thead>\n",
       "    <tr style=\"text-align: right;\">\n",
       "      <th></th>\n",
       "      <th>favorite_count</th>\n",
       "      <th>reply_count</th>\n",
       "      <th>user.followers_count</th>\n",
       "      <th>retweet_count</th>\n",
       "      <th>engage</th>\n",
       "    </tr>\n",
       "    <tr>\n",
       "      <th>Brand</th>\n",
       "      <th></th>\n",
       "      <th></th>\n",
       "      <th></th>\n",
       "      <th></th>\n",
       "      <th></th>\n",
       "    </tr>\n",
       "  </thead>\n",
       "  <tbody>\n",
       "    <tr>\n",
       "      <td>Amazon Prime</td>\n",
       "      <td>28631</td>\n",
       "      <td>2609</td>\n",
       "      <td>76433706</td>\n",
       "      <td>5832</td>\n",
       "      <td>37072</td>\n",
       "    </tr>\n",
       "    <tr>\n",
       "      <td>Audi</td>\n",
       "      <td>52060</td>\n",
       "      <td>4079</td>\n",
       "      <td>337185165</td>\n",
       "      <td>6682</td>\n",
       "      <td>62821</td>\n",
       "    </tr>\n",
       "    <tr>\n",
       "      <td>Avacados From Mexico</td>\n",
       "      <td>13903</td>\n",
       "      <td>1759</td>\n",
       "      <td>28593427</td>\n",
       "      <td>2587</td>\n",
       "      <td>18249</td>\n",
       "    </tr>\n",
       "    <tr>\n",
       "      <td>Bloomberg</td>\n",
       "      <td>7205</td>\n",
       "      <td>338</td>\n",
       "      <td>14795189</td>\n",
       "      <td>1398</td>\n",
       "      <td>8941</td>\n",
       "    </tr>\n",
       "    <tr>\n",
       "      <td>Bud Light X Tide</td>\n",
       "      <td>139194</td>\n",
       "      <td>2909</td>\n",
       "      <td>27737828</td>\n",
       "      <td>18480</td>\n",
       "      <td>160583</td>\n",
       "    </tr>\n",
       "  </tbody>\n",
       "</table>\n",
       "</div>"
      ],
      "text/plain": [
       "                      favorite_count  reply_count  user.followers_count  \\\n",
       "Brand                                                                     \n",
       "Amazon Prime                   28631         2609              76433706   \n",
       "Audi                           52060         4079             337185165   \n",
       "Avacados From Mexico           13903         1759              28593427   \n",
       "Bloomberg                       7205          338              14795189   \n",
       "Bud Light X Tide              139194         2909              27737828   \n",
       "\n",
       "                      retweet_count  engage  \n",
       "Brand                                        \n",
       "Amazon Prime                   5832   37072  \n",
       "Audi                           6682   62821  \n",
       "Avacados From Mexico           2587   18249  \n",
       "Bloomberg                      1398    8941  \n",
       "Bud Light X Tide              18480  160583  "
      ]
     },
     "execution_count": 24,
     "metadata": {},
     "output_type": "execute_result"
    }
   ],
   "source": [
    "Tw_cost.head()"
   ]
  },
  {
   "cell_type": "code",
   "execution_count": 26,
   "metadata": {},
   "outputs": [
    {
     "data": {
      "text/html": [
       "<div>\n",
       "<style scoped>\n",
       "    .dataframe tbody tr th:only-of-type {\n",
       "        vertical-align: middle;\n",
       "    }\n",
       "\n",
       "    .dataframe tbody tr th {\n",
       "        vertical-align: top;\n",
       "    }\n",
       "\n",
       "    .dataframe thead th {\n",
       "        text-align: right;\n",
       "    }\n",
       "</style>\n",
       "<table border=\"1\" class=\"dataframe\">\n",
       "  <thead>\n",
       "    <tr style=\"text-align: right;\">\n",
       "      <th></th>\n",
       "      <th>Brand</th>\n",
       "      <th>favorite_count</th>\n",
       "      <th>reply_count</th>\n",
       "      <th>user.followers_count</th>\n",
       "      <th>retweet_count</th>\n",
       "      <th>engage</th>\n",
       "      <th>User Count</th>\n",
       "      <th>time(seconds)</th>\n",
       "      <th>rating</th>\n",
       "      <th>youtube views</th>\n",
       "      <th>Cost</th>\n",
       "      <th>engage_per_second</th>\n",
       "      <th>Follower_per_second</th>\n",
       "    </tr>\n",
       "  </thead>\n",
       "  <tbody>\n",
       "    <tr>\n",
       "      <td>23</td>\n",
       "      <td>Metro Goldwyn Mayer</td>\n",
       "      <td>110923</td>\n",
       "      <td>3166</td>\n",
       "      <td>175960045</td>\n",
       "      <td>30005</td>\n",
       "      <td>144094</td>\n",
       "      <td>12786.0</td>\n",
       "      <td>30.0</td>\n",
       "      <td>4.98</td>\n",
       "      <td>2097814.0</td>\n",
       "      <td>560000.0</td>\n",
       "      <td>4803.133333</td>\n",
       "      <td>5.865335e+06</td>\n",
       "    </tr>\n",
       "    <tr>\n",
       "      <td>33</td>\n",
       "      <td>Pringles</td>\n",
       "      <td>112788</td>\n",
       "      <td>9553</td>\n",
       "      <td>118818328</td>\n",
       "      <td>16844</td>\n",
       "      <td>139185</td>\n",
       "      <td>29975.0</td>\n",
       "      <td>30.0</td>\n",
       "      <td>4.85</td>\n",
       "      <td>673842.0</td>\n",
       "      <td>560000.0</td>\n",
       "      <td>4639.500000</td>\n",
       "      <td>3.960611e+06</td>\n",
       "    </tr>\n",
       "    <tr>\n",
       "      <td>42</td>\n",
       "      <td>T-Mobile</td>\n",
       "      <td>63747</td>\n",
       "      <td>101965</td>\n",
       "      <td>2412803243</td>\n",
       "      <td>37684</td>\n",
       "      <td>203396</td>\n",
       "      <td>29633.0</td>\n",
       "      <td>60.0</td>\n",
       "      <td>5.64</td>\n",
       "      <td>16020333.0</td>\n",
       "      <td>1120000.0</td>\n",
       "      <td>3389.933333</td>\n",
       "      <td>4.021339e+07</td>\n",
       "    </tr>\n",
       "    <tr>\n",
       "      <td>4</td>\n",
       "      <td>Bud Light X Tide</td>\n",
       "      <td>139194</td>\n",
       "      <td>2909</td>\n",
       "      <td>27737828</td>\n",
       "      <td>18480</td>\n",
       "      <td>160583</td>\n",
       "      <td>378.0</td>\n",
       "      <td>60.0</td>\n",
       "      <td>5.28</td>\n",
       "      <td>591500.0</td>\n",
       "      <td>1120000.0</td>\n",
       "      <td>2676.383333</td>\n",
       "      <td>4.622971e+05</td>\n",
       "    </tr>\n",
       "    <tr>\n",
       "      <td>7</td>\n",
       "      <td>Cheetos</td>\n",
       "      <td>60295</td>\n",
       "      <td>4704</td>\n",
       "      <td>298310633</td>\n",
       "      <td>9033</td>\n",
       "      <td>74032</td>\n",
       "      <td>18786.0</td>\n",
       "      <td>30.0</td>\n",
       "      <td>6.07</td>\n",
       "      <td>12936279.0</td>\n",
       "      <td>560000.0</td>\n",
       "      <td>2467.733333</td>\n",
       "      <td>9.943688e+06</td>\n",
       "    </tr>\n",
       "  </tbody>\n",
       "</table>\n",
       "</div>"
      ],
      "text/plain": [
       "                  Brand  favorite_count  reply_count  user.followers_count  \\\n",
       "23  Metro Goldwyn Mayer          110923         3166             175960045   \n",
       "33             Pringles          112788         9553             118818328   \n",
       "42             T-Mobile           63747       101965            2412803243   \n",
       "4      Bud Light X Tide          139194         2909              27737828   \n",
       "7               Cheetos           60295         4704             298310633   \n",
       "\n",
       "    retweet_count  engage  User Count  time(seconds)  rating  youtube views  \\\n",
       "23          30005  144094     12786.0           30.0    4.98      2097814.0   \n",
       "33          16844  139185     29975.0           30.0    4.85       673842.0   \n",
       "42          37684  203396     29633.0           60.0    5.64     16020333.0   \n",
       "4           18480  160583       378.0           60.0    5.28       591500.0   \n",
       "7            9033   74032     18786.0           30.0    6.07     12936279.0   \n",
       "\n",
       "         Cost  engage_per_second  Follower_per_second  \n",
       "23   560000.0        4803.133333         5.865335e+06  \n",
       "33   560000.0        4639.500000         3.960611e+06  \n",
       "42  1120000.0        3389.933333         4.021339e+07  \n",
       "4   1120000.0        2676.383333         4.622971e+05  \n",
       "7    560000.0        2467.733333         9.943688e+06  "
      ]
     },
     "execution_count": 26,
     "metadata": {},
     "output_type": "execute_result"
    }
   ],
   "source": [
    "new_df = pd.merge(Tw_cost,ads_df,how='inner', on = 'Brand')\n",
    "new_df['engage_per_second'] = new_df['engage']/new_df['time(seconds)']\n",
    "new_df['Follower_per_second'] = new_df['user.followers_count']/new_df['time(seconds)']\n",
    "new_df = new_df.sort_values('engage_per_second',ascending=False)\n",
    "new_df.head()"
   ]
  },
  {
   "cell_type": "code",
   "execution_count": 27,
   "metadata": {},
   "outputs": [
    {
     "data": {
      "application/vnd.plotly.v1+json": {
       "config": {
        "plotlyServerURL": "https://plot.ly"
       },
       "data": [
        {
         "type": "bar",
         "x": [
          "Metro Goldwyn Mayer",
          "Pringles",
          "T-Mobile",
          "Bud Light X Tide",
          "Cheetos",
          "BudLight",
          "Planters",
          "Discover Card",
          "Hulu",
          "Olay",
          "Google",
          "TurboTax",
          "Audi",
          "General Motors",
          "Jeep",
          "Tide",
          "Kellog",
          "Amazon Prime",
          "Avacados From Mexico",
          "Pepsi",
          "Snickers",
          "Squarespace",
          "WeatherTech",
          "Budwieser",
          "Trump",
          "Marvel",
          "New York Life",
          "Quibi",
          "Miscrosoft",
          "Verizon",
          "Heinz",
          "Rocket Mortgage",
          "Bloomberg",
          "KIA",
          "Toyota",
          "Mountain Dew",
          "Hyundai",
          "Reeses",
          "Michelob Ultra",
          "Turkish Airlines",
          "Porsche",
          "Tide x DC",
          "Soda Stream",
          "Sabra",
          "Coca Cola",
          "Doritos",
          "NFL",
          "Facebook",
          "Little Ceasars",
          "HardRockHotel",
          "Proctor and Gamble"
         ],
         "y": [
          4803.133333333333,
          4639.5,
          3389.9333333333334,
          2676.383333333333,
          2467.733333333333,
          2067.616666666667,
          1719.9,
          1522.4333333333334,
          1479.0333333333333,
          1377.6,
          1127.8333333333333,
          1115.6222222222223,
          1047.0166666666667,
          928.6333333333333,
          913.7833333333333,
          695.6333333333333,
          619,
          617.8666666666667,
          608.3,
          580.2666666666667,
          426.4,
          395.03333333333336,
          390.4,
          351.85,
          340.26666666666665,
          298.23333333333335,
          284.1333333333333,
          217.43333333333334,
          212.83333333333334,
          211.93333333333334,
          196.83333333333334,
          149.23333333333332,
          149.01666666666668,
          129.4,
          116.76666666666667,
          108.76666666666667,
          102.53333333333333,
          101.06666666666666,
          91.76666666666667,
          61.56,
          53.9,
          44.46666666666667,
          44.2,
          40.06,
          22.866666666666667,
          17.366666666666667,
          17.152941176470588,
          16.283333333333335,
          14.666666666666666,
          12.42962962962963,
          0.2833333333333333
         ]
        }
       ],
       "layout": {
        "font": {
         "size": 13
        },
        "plot_bgcolor": "rgb(255,255,255)",
        "template": {
         "data": {
          "bar": [
           {
            "error_x": {
             "color": "#2a3f5f"
            },
            "error_y": {
             "color": "#2a3f5f"
            },
            "marker": {
             "line": {
              "color": "#E5ECF6",
              "width": 0.5
             }
            },
            "type": "bar"
           }
          ],
          "barpolar": [
           {
            "marker": {
             "line": {
              "color": "#E5ECF6",
              "width": 0.5
             }
            },
            "type": "barpolar"
           }
          ],
          "carpet": [
           {
            "aaxis": {
             "endlinecolor": "#2a3f5f",
             "gridcolor": "white",
             "linecolor": "white",
             "minorgridcolor": "white",
             "startlinecolor": "#2a3f5f"
            },
            "baxis": {
             "endlinecolor": "#2a3f5f",
             "gridcolor": "white",
             "linecolor": "white",
             "minorgridcolor": "white",
             "startlinecolor": "#2a3f5f"
            },
            "type": "carpet"
           }
          ],
          "choropleth": [
           {
            "colorbar": {
             "outlinewidth": 0,
             "ticks": ""
            },
            "type": "choropleth"
           }
          ],
          "contour": [
           {
            "colorbar": {
             "outlinewidth": 0,
             "ticks": ""
            },
            "colorscale": [
             [
              0,
              "#0d0887"
             ],
             [
              0.1111111111111111,
              "#46039f"
             ],
             [
              0.2222222222222222,
              "#7201a8"
             ],
             [
              0.3333333333333333,
              "#9c179e"
             ],
             [
              0.4444444444444444,
              "#bd3786"
             ],
             [
              0.5555555555555556,
              "#d8576b"
             ],
             [
              0.6666666666666666,
              "#ed7953"
             ],
             [
              0.7777777777777778,
              "#fb9f3a"
             ],
             [
              0.8888888888888888,
              "#fdca26"
             ],
             [
              1,
              "#f0f921"
             ]
            ],
            "type": "contour"
           }
          ],
          "contourcarpet": [
           {
            "colorbar": {
             "outlinewidth": 0,
             "ticks": ""
            },
            "type": "contourcarpet"
           }
          ],
          "heatmap": [
           {
            "colorbar": {
             "outlinewidth": 0,
             "ticks": ""
            },
            "colorscale": [
             [
              0,
              "#0d0887"
             ],
             [
              0.1111111111111111,
              "#46039f"
             ],
             [
              0.2222222222222222,
              "#7201a8"
             ],
             [
              0.3333333333333333,
              "#9c179e"
             ],
             [
              0.4444444444444444,
              "#bd3786"
             ],
             [
              0.5555555555555556,
              "#d8576b"
             ],
             [
              0.6666666666666666,
              "#ed7953"
             ],
             [
              0.7777777777777778,
              "#fb9f3a"
             ],
             [
              0.8888888888888888,
              "#fdca26"
             ],
             [
              1,
              "#f0f921"
             ]
            ],
            "type": "heatmap"
           }
          ],
          "heatmapgl": [
           {
            "colorbar": {
             "outlinewidth": 0,
             "ticks": ""
            },
            "colorscale": [
             [
              0,
              "#0d0887"
             ],
             [
              0.1111111111111111,
              "#46039f"
             ],
             [
              0.2222222222222222,
              "#7201a8"
             ],
             [
              0.3333333333333333,
              "#9c179e"
             ],
             [
              0.4444444444444444,
              "#bd3786"
             ],
             [
              0.5555555555555556,
              "#d8576b"
             ],
             [
              0.6666666666666666,
              "#ed7953"
             ],
             [
              0.7777777777777778,
              "#fb9f3a"
             ],
             [
              0.8888888888888888,
              "#fdca26"
             ],
             [
              1,
              "#f0f921"
             ]
            ],
            "type": "heatmapgl"
           }
          ],
          "histogram": [
           {
            "marker": {
             "colorbar": {
              "outlinewidth": 0,
              "ticks": ""
             }
            },
            "type": "histogram"
           }
          ],
          "histogram2d": [
           {
            "colorbar": {
             "outlinewidth": 0,
             "ticks": ""
            },
            "colorscale": [
             [
              0,
              "#0d0887"
             ],
             [
              0.1111111111111111,
              "#46039f"
             ],
             [
              0.2222222222222222,
              "#7201a8"
             ],
             [
              0.3333333333333333,
              "#9c179e"
             ],
             [
              0.4444444444444444,
              "#bd3786"
             ],
             [
              0.5555555555555556,
              "#d8576b"
             ],
             [
              0.6666666666666666,
              "#ed7953"
             ],
             [
              0.7777777777777778,
              "#fb9f3a"
             ],
             [
              0.8888888888888888,
              "#fdca26"
             ],
             [
              1,
              "#f0f921"
             ]
            ],
            "type": "histogram2d"
           }
          ],
          "histogram2dcontour": [
           {
            "colorbar": {
             "outlinewidth": 0,
             "ticks": ""
            },
            "colorscale": [
             [
              0,
              "#0d0887"
             ],
             [
              0.1111111111111111,
              "#46039f"
             ],
             [
              0.2222222222222222,
              "#7201a8"
             ],
             [
              0.3333333333333333,
              "#9c179e"
             ],
             [
              0.4444444444444444,
              "#bd3786"
             ],
             [
              0.5555555555555556,
              "#d8576b"
             ],
             [
              0.6666666666666666,
              "#ed7953"
             ],
             [
              0.7777777777777778,
              "#fb9f3a"
             ],
             [
              0.8888888888888888,
              "#fdca26"
             ],
             [
              1,
              "#f0f921"
             ]
            ],
            "type": "histogram2dcontour"
           }
          ],
          "mesh3d": [
           {
            "colorbar": {
             "outlinewidth": 0,
             "ticks": ""
            },
            "type": "mesh3d"
           }
          ],
          "parcoords": [
           {
            "line": {
             "colorbar": {
              "outlinewidth": 0,
              "ticks": ""
             }
            },
            "type": "parcoords"
           }
          ],
          "pie": [
           {
            "automargin": true,
            "type": "pie"
           }
          ],
          "scatter": [
           {
            "marker": {
             "colorbar": {
              "outlinewidth": 0,
              "ticks": ""
             }
            },
            "type": "scatter"
           }
          ],
          "scatter3d": [
           {
            "line": {
             "colorbar": {
              "outlinewidth": 0,
              "ticks": ""
             }
            },
            "marker": {
             "colorbar": {
              "outlinewidth": 0,
              "ticks": ""
             }
            },
            "type": "scatter3d"
           }
          ],
          "scattercarpet": [
           {
            "marker": {
             "colorbar": {
              "outlinewidth": 0,
              "ticks": ""
             }
            },
            "type": "scattercarpet"
           }
          ],
          "scattergeo": [
           {
            "marker": {
             "colorbar": {
              "outlinewidth": 0,
              "ticks": ""
             }
            },
            "type": "scattergeo"
           }
          ],
          "scattergl": [
           {
            "marker": {
             "colorbar": {
              "outlinewidth": 0,
              "ticks": ""
             }
            },
            "type": "scattergl"
           }
          ],
          "scattermapbox": [
           {
            "marker": {
             "colorbar": {
              "outlinewidth": 0,
              "ticks": ""
             }
            },
            "type": "scattermapbox"
           }
          ],
          "scatterpolar": [
           {
            "marker": {
             "colorbar": {
              "outlinewidth": 0,
              "ticks": ""
             }
            },
            "type": "scatterpolar"
           }
          ],
          "scatterpolargl": [
           {
            "marker": {
             "colorbar": {
              "outlinewidth": 0,
              "ticks": ""
             }
            },
            "type": "scatterpolargl"
           }
          ],
          "scatterternary": [
           {
            "marker": {
             "colorbar": {
              "outlinewidth": 0,
              "ticks": ""
             }
            },
            "type": "scatterternary"
           }
          ],
          "surface": [
           {
            "colorbar": {
             "outlinewidth": 0,
             "ticks": ""
            },
            "colorscale": [
             [
              0,
              "#0d0887"
             ],
             [
              0.1111111111111111,
              "#46039f"
             ],
             [
              0.2222222222222222,
              "#7201a8"
             ],
             [
              0.3333333333333333,
              "#9c179e"
             ],
             [
              0.4444444444444444,
              "#bd3786"
             ],
             [
              0.5555555555555556,
              "#d8576b"
             ],
             [
              0.6666666666666666,
              "#ed7953"
             ],
             [
              0.7777777777777778,
              "#fb9f3a"
             ],
             [
              0.8888888888888888,
              "#fdca26"
             ],
             [
              1,
              "#f0f921"
             ]
            ],
            "type": "surface"
           }
          ],
          "table": [
           {
            "cells": {
             "fill": {
              "color": "#EBF0F8"
             },
             "line": {
              "color": "white"
             }
            },
            "header": {
             "fill": {
              "color": "#C8D4E3"
             },
             "line": {
              "color": "white"
             }
            },
            "type": "table"
           }
          ]
         },
         "layout": {
          "annotationdefaults": {
           "arrowcolor": "#2a3f5f",
           "arrowhead": 0,
           "arrowwidth": 1
          },
          "coloraxis": {
           "colorbar": {
            "outlinewidth": 0,
            "ticks": ""
           }
          },
          "colorscale": {
           "diverging": [
            [
             0,
             "#8e0152"
            ],
            [
             0.1,
             "#c51b7d"
            ],
            [
             0.2,
             "#de77ae"
            ],
            [
             0.3,
             "#f1b6da"
            ],
            [
             0.4,
             "#fde0ef"
            ],
            [
             0.5,
             "#f7f7f7"
            ],
            [
             0.6,
             "#e6f5d0"
            ],
            [
             0.7,
             "#b8e186"
            ],
            [
             0.8,
             "#7fbc41"
            ],
            [
             0.9,
             "#4d9221"
            ],
            [
             1,
             "#276419"
            ]
           ],
           "sequential": [
            [
             0,
             "#0d0887"
            ],
            [
             0.1111111111111111,
             "#46039f"
            ],
            [
             0.2222222222222222,
             "#7201a8"
            ],
            [
             0.3333333333333333,
             "#9c179e"
            ],
            [
             0.4444444444444444,
             "#bd3786"
            ],
            [
             0.5555555555555556,
             "#d8576b"
            ],
            [
             0.6666666666666666,
             "#ed7953"
            ],
            [
             0.7777777777777778,
             "#fb9f3a"
            ],
            [
             0.8888888888888888,
             "#fdca26"
            ],
            [
             1,
             "#f0f921"
            ]
           ],
           "sequentialminus": [
            [
             0,
             "#0d0887"
            ],
            [
             0.1111111111111111,
             "#46039f"
            ],
            [
             0.2222222222222222,
             "#7201a8"
            ],
            [
             0.3333333333333333,
             "#9c179e"
            ],
            [
             0.4444444444444444,
             "#bd3786"
            ],
            [
             0.5555555555555556,
             "#d8576b"
            ],
            [
             0.6666666666666666,
             "#ed7953"
            ],
            [
             0.7777777777777778,
             "#fb9f3a"
            ],
            [
             0.8888888888888888,
             "#fdca26"
            ],
            [
             1,
             "#f0f921"
            ]
           ]
          },
          "colorway": [
           "#636efa",
           "#EF553B",
           "#00cc96",
           "#ab63fa",
           "#FFA15A",
           "#19d3f3",
           "#FF6692",
           "#B6E880",
           "#FF97FF",
           "#FECB52"
          ],
          "font": {
           "color": "#2a3f5f"
          },
          "geo": {
           "bgcolor": "white",
           "lakecolor": "white",
           "landcolor": "#E5ECF6",
           "showlakes": true,
           "showland": true,
           "subunitcolor": "white"
          },
          "hoverlabel": {
           "align": "left"
          },
          "hovermode": "closest",
          "mapbox": {
           "style": "light"
          },
          "paper_bgcolor": "white",
          "plot_bgcolor": "#E5ECF6",
          "polar": {
           "angularaxis": {
            "gridcolor": "white",
            "linecolor": "white",
            "ticks": ""
           },
           "bgcolor": "#E5ECF6",
           "radialaxis": {
            "gridcolor": "white",
            "linecolor": "white",
            "ticks": ""
           }
          },
          "scene": {
           "xaxis": {
            "backgroundcolor": "#E5ECF6",
            "gridcolor": "white",
            "gridwidth": 2,
            "linecolor": "white",
            "showbackground": true,
            "ticks": "",
            "zerolinecolor": "white"
           },
           "yaxis": {
            "backgroundcolor": "#E5ECF6",
            "gridcolor": "white",
            "gridwidth": 2,
            "linecolor": "white",
            "showbackground": true,
            "ticks": "",
            "zerolinecolor": "white"
           },
           "zaxis": {
            "backgroundcolor": "#E5ECF6",
            "gridcolor": "white",
            "gridwidth": 2,
            "linecolor": "white",
            "showbackground": true,
            "ticks": "",
            "zerolinecolor": "white"
           }
          },
          "shapedefaults": {
           "line": {
            "color": "#2a3f5f"
           }
          },
          "ternary": {
           "aaxis": {
            "gridcolor": "white",
            "linecolor": "white",
            "ticks": ""
           },
           "baxis": {
            "gridcolor": "white",
            "linecolor": "white",
            "ticks": ""
           },
           "bgcolor": "#E5ECF6",
           "caxis": {
            "gridcolor": "white",
            "linecolor": "white",
            "ticks": ""
           }
          },
          "title": {
           "x": 0.05
          },
          "xaxis": {
           "automargin": true,
           "gridcolor": "white",
           "linecolor": "white",
           "ticks": "",
           "title": {
            "standoff": 15
           },
           "zerolinecolor": "white",
           "zerolinewidth": 2
          },
          "yaxis": {
           "automargin": true,
           "gridcolor": "white",
           "linecolor": "white",
           "ticks": "",
           "title": {
            "standoff": 15
           },
           "zerolinecolor": "white",
           "zerolinewidth": 2
          }
         }
        },
        "title": {
         "text": "<b>Top 5 Performers on engagement volume <b> "
        },
        "yaxis": {
         "title": {
          "text": "<b>Number of Engagement per second of ad<b>"
         }
        }
       }
      },
      "text/html": [
       "<div>\n",
       "        \n",
       "        \n",
       "            <div id=\"081ae0f8-53ee-4a3f-ad38-6cea3e53e6da\" class=\"plotly-graph-div\" style=\"height:525px; width:100%;\"></div>\n",
       "            <script type=\"text/javascript\">\n",
       "                require([\"plotly\"], function(Plotly) {\n",
       "                    window.PLOTLYENV=window.PLOTLYENV || {};\n",
       "                    \n",
       "                if (document.getElementById(\"081ae0f8-53ee-4a3f-ad38-6cea3e53e6da\")) {\n",
       "                    Plotly.newPlot(\n",
       "                        '081ae0f8-53ee-4a3f-ad38-6cea3e53e6da',\n",
       "                        [{\"type\": \"bar\", \"x\": [\"Metro Goldwyn Mayer\", \"Pringles\", \"T-Mobile\", \"Bud Light X Tide\", \"Cheetos\", \"BudLight\", \"Planters\", \"Discover Card\", \"Hulu\", \"Olay\", \"Google\", \"TurboTax\", \"Audi\", \"General Motors\", \"Jeep\", \"Tide\", \"Kellog\", \"Amazon Prime\", \"Avacados From Mexico\", \"Pepsi\", \"Snickers\", \"Squarespace\", \"WeatherTech\", \"Budwieser\", \"Trump\", \"Marvel\", \"New York Life\", \"Quibi\", \"Miscrosoft\", \"Verizon\", \"Heinz\", \"Rocket Mortgage\", \"Bloomberg\", \"KIA\", \"Toyota\", \"Mountain Dew\", \"Hyundai\", \"Reeses\", \"Michelob Ultra\", \"Turkish Airlines\", \"Porsche\", \"Tide x DC\", \"Soda Stream\", \"Sabra\", \"Coca Cola\", \"Doritos\", \"NFL\", \"Facebook\", \"Little Ceasars\", \"HardRockHotel\", \"Proctor and Gamble\"], \"y\": [4803.133333333333, 4639.5, 3389.9333333333334, 2676.383333333333, 2467.733333333333, 2067.616666666667, 1719.9, 1522.4333333333334, 1479.0333333333333, 1377.6, 1127.8333333333333, 1115.6222222222223, 1047.0166666666667, 928.6333333333333, 913.7833333333333, 695.6333333333333, 619.0, 617.8666666666667, 608.3, 580.2666666666667, 426.4, 395.03333333333336, 390.4, 351.85, 340.26666666666665, 298.23333333333335, 284.1333333333333, 217.43333333333334, 212.83333333333334, 211.93333333333334, 196.83333333333334, 149.23333333333332, 149.01666666666668, 129.4, 116.76666666666667, 108.76666666666667, 102.53333333333333, 101.06666666666666, 91.76666666666667, 61.56, 53.9, 44.46666666666667, 44.2, 40.06, 22.866666666666667, 17.366666666666667, 17.152941176470588, 16.283333333333335, 14.666666666666666, 12.42962962962963, 0.2833333333333333]}],\n",
       "                        {\"font\": {\"size\": 13}, \"plot_bgcolor\": \"rgb(255,255,255)\", \"template\": {\"data\": {\"bar\": [{\"error_x\": {\"color\": \"#2a3f5f\"}, \"error_y\": {\"color\": \"#2a3f5f\"}, \"marker\": {\"line\": {\"color\": \"#E5ECF6\", \"width\": 0.5}}, \"type\": \"bar\"}], \"barpolar\": [{\"marker\": {\"line\": {\"color\": \"#E5ECF6\", \"width\": 0.5}}, \"type\": \"barpolar\"}], \"carpet\": [{\"aaxis\": {\"endlinecolor\": \"#2a3f5f\", \"gridcolor\": \"white\", \"linecolor\": \"white\", \"minorgridcolor\": \"white\", \"startlinecolor\": \"#2a3f5f\"}, \"baxis\": {\"endlinecolor\": \"#2a3f5f\", \"gridcolor\": \"white\", \"linecolor\": \"white\", \"minorgridcolor\": \"white\", \"startlinecolor\": \"#2a3f5f\"}, \"type\": \"carpet\"}], \"choropleth\": [{\"colorbar\": {\"outlinewidth\": 0, \"ticks\": \"\"}, \"type\": \"choropleth\"}], \"contour\": [{\"colorbar\": {\"outlinewidth\": 0, \"ticks\": \"\"}, \"colorscale\": [[0.0, \"#0d0887\"], [0.1111111111111111, \"#46039f\"], [0.2222222222222222, \"#7201a8\"], [0.3333333333333333, \"#9c179e\"], [0.4444444444444444, \"#bd3786\"], [0.5555555555555556, \"#d8576b\"], [0.6666666666666666, \"#ed7953\"], [0.7777777777777778, \"#fb9f3a\"], [0.8888888888888888, \"#fdca26\"], [1.0, \"#f0f921\"]], \"type\": \"contour\"}], \"contourcarpet\": [{\"colorbar\": {\"outlinewidth\": 0, \"ticks\": \"\"}, \"type\": \"contourcarpet\"}], \"heatmap\": [{\"colorbar\": {\"outlinewidth\": 0, \"ticks\": \"\"}, \"colorscale\": [[0.0, \"#0d0887\"], [0.1111111111111111, \"#46039f\"], [0.2222222222222222, \"#7201a8\"], [0.3333333333333333, \"#9c179e\"], [0.4444444444444444, \"#bd3786\"], [0.5555555555555556, \"#d8576b\"], [0.6666666666666666, \"#ed7953\"], [0.7777777777777778, \"#fb9f3a\"], [0.8888888888888888, \"#fdca26\"], [1.0, \"#f0f921\"]], \"type\": \"heatmap\"}], \"heatmapgl\": [{\"colorbar\": {\"outlinewidth\": 0, \"ticks\": \"\"}, \"colorscale\": [[0.0, \"#0d0887\"], [0.1111111111111111, \"#46039f\"], [0.2222222222222222, \"#7201a8\"], [0.3333333333333333, \"#9c179e\"], [0.4444444444444444, \"#bd3786\"], [0.5555555555555556, \"#d8576b\"], [0.6666666666666666, \"#ed7953\"], [0.7777777777777778, \"#fb9f3a\"], [0.8888888888888888, \"#fdca26\"], [1.0, \"#f0f921\"]], \"type\": \"heatmapgl\"}], \"histogram\": [{\"marker\": {\"colorbar\": {\"outlinewidth\": 0, \"ticks\": \"\"}}, \"type\": \"histogram\"}], \"histogram2d\": [{\"colorbar\": {\"outlinewidth\": 0, \"ticks\": \"\"}, \"colorscale\": [[0.0, \"#0d0887\"], [0.1111111111111111, \"#46039f\"], [0.2222222222222222, \"#7201a8\"], [0.3333333333333333, \"#9c179e\"], [0.4444444444444444, \"#bd3786\"], [0.5555555555555556, \"#d8576b\"], [0.6666666666666666, \"#ed7953\"], [0.7777777777777778, \"#fb9f3a\"], [0.8888888888888888, \"#fdca26\"], [1.0, \"#f0f921\"]], \"type\": \"histogram2d\"}], \"histogram2dcontour\": [{\"colorbar\": {\"outlinewidth\": 0, \"ticks\": \"\"}, \"colorscale\": [[0.0, \"#0d0887\"], [0.1111111111111111, \"#46039f\"], [0.2222222222222222, \"#7201a8\"], [0.3333333333333333, \"#9c179e\"], [0.4444444444444444, \"#bd3786\"], [0.5555555555555556, \"#d8576b\"], [0.6666666666666666, \"#ed7953\"], [0.7777777777777778, \"#fb9f3a\"], [0.8888888888888888, \"#fdca26\"], [1.0, \"#f0f921\"]], \"type\": \"histogram2dcontour\"}], \"mesh3d\": [{\"colorbar\": {\"outlinewidth\": 0, \"ticks\": \"\"}, \"type\": \"mesh3d\"}], \"parcoords\": [{\"line\": {\"colorbar\": {\"outlinewidth\": 0, \"ticks\": \"\"}}, \"type\": \"parcoords\"}], \"pie\": [{\"automargin\": true, \"type\": \"pie\"}], \"scatter\": [{\"marker\": {\"colorbar\": {\"outlinewidth\": 0, \"ticks\": \"\"}}, \"type\": \"scatter\"}], \"scatter3d\": [{\"line\": {\"colorbar\": {\"outlinewidth\": 0, \"ticks\": \"\"}}, \"marker\": {\"colorbar\": {\"outlinewidth\": 0, \"ticks\": \"\"}}, \"type\": \"scatter3d\"}], \"scattercarpet\": [{\"marker\": {\"colorbar\": {\"outlinewidth\": 0, \"ticks\": \"\"}}, \"type\": \"scattercarpet\"}], \"scattergeo\": [{\"marker\": {\"colorbar\": {\"outlinewidth\": 0, \"ticks\": \"\"}}, \"type\": \"scattergeo\"}], \"scattergl\": [{\"marker\": {\"colorbar\": {\"outlinewidth\": 0, \"ticks\": \"\"}}, \"type\": \"scattergl\"}], \"scattermapbox\": [{\"marker\": {\"colorbar\": {\"outlinewidth\": 0, \"ticks\": \"\"}}, \"type\": \"scattermapbox\"}], \"scatterpolar\": [{\"marker\": {\"colorbar\": {\"outlinewidth\": 0, \"ticks\": \"\"}}, \"type\": \"scatterpolar\"}], \"scatterpolargl\": [{\"marker\": {\"colorbar\": {\"outlinewidth\": 0, \"ticks\": \"\"}}, \"type\": \"scatterpolargl\"}], \"scatterternary\": [{\"marker\": {\"colorbar\": {\"outlinewidth\": 0, \"ticks\": \"\"}}, \"type\": \"scatterternary\"}], \"surface\": [{\"colorbar\": {\"outlinewidth\": 0, \"ticks\": \"\"}, \"colorscale\": [[0.0, \"#0d0887\"], [0.1111111111111111, \"#46039f\"], [0.2222222222222222, \"#7201a8\"], [0.3333333333333333, \"#9c179e\"], [0.4444444444444444, \"#bd3786\"], [0.5555555555555556, \"#d8576b\"], [0.6666666666666666, \"#ed7953\"], [0.7777777777777778, \"#fb9f3a\"], [0.8888888888888888, \"#fdca26\"], [1.0, \"#f0f921\"]], \"type\": \"surface\"}], \"table\": [{\"cells\": {\"fill\": {\"color\": \"#EBF0F8\"}, \"line\": {\"color\": \"white\"}}, \"header\": {\"fill\": {\"color\": \"#C8D4E3\"}, \"line\": {\"color\": \"white\"}}, \"type\": \"table\"}]}, \"layout\": {\"annotationdefaults\": {\"arrowcolor\": \"#2a3f5f\", \"arrowhead\": 0, \"arrowwidth\": 1}, \"coloraxis\": {\"colorbar\": {\"outlinewidth\": 0, \"ticks\": \"\"}}, \"colorscale\": {\"diverging\": [[0, \"#8e0152\"], [0.1, \"#c51b7d\"], [0.2, \"#de77ae\"], [0.3, \"#f1b6da\"], [0.4, \"#fde0ef\"], [0.5, \"#f7f7f7\"], [0.6, \"#e6f5d0\"], [0.7, \"#b8e186\"], [0.8, \"#7fbc41\"], [0.9, \"#4d9221\"], [1, \"#276419\"]], \"sequential\": [[0.0, \"#0d0887\"], [0.1111111111111111, \"#46039f\"], [0.2222222222222222, \"#7201a8\"], [0.3333333333333333, \"#9c179e\"], [0.4444444444444444, \"#bd3786\"], [0.5555555555555556, \"#d8576b\"], [0.6666666666666666, \"#ed7953\"], [0.7777777777777778, \"#fb9f3a\"], [0.8888888888888888, \"#fdca26\"], [1.0, \"#f0f921\"]], \"sequentialminus\": [[0.0, \"#0d0887\"], [0.1111111111111111, \"#46039f\"], [0.2222222222222222, \"#7201a8\"], [0.3333333333333333, \"#9c179e\"], [0.4444444444444444, \"#bd3786\"], [0.5555555555555556, \"#d8576b\"], [0.6666666666666666, \"#ed7953\"], [0.7777777777777778, \"#fb9f3a\"], [0.8888888888888888, \"#fdca26\"], [1.0, \"#f0f921\"]]}, \"colorway\": [\"#636efa\", \"#EF553B\", \"#00cc96\", \"#ab63fa\", \"#FFA15A\", \"#19d3f3\", \"#FF6692\", \"#B6E880\", \"#FF97FF\", \"#FECB52\"], \"font\": {\"color\": \"#2a3f5f\"}, \"geo\": {\"bgcolor\": \"white\", \"lakecolor\": \"white\", \"landcolor\": \"#E5ECF6\", \"showlakes\": true, \"showland\": true, \"subunitcolor\": \"white\"}, \"hoverlabel\": {\"align\": \"left\"}, \"hovermode\": \"closest\", \"mapbox\": {\"style\": \"light\"}, \"paper_bgcolor\": \"white\", \"plot_bgcolor\": \"#E5ECF6\", \"polar\": {\"angularaxis\": {\"gridcolor\": \"white\", \"linecolor\": \"white\", \"ticks\": \"\"}, \"bgcolor\": \"#E5ECF6\", \"radialaxis\": {\"gridcolor\": \"white\", \"linecolor\": \"white\", \"ticks\": \"\"}}, \"scene\": {\"xaxis\": {\"backgroundcolor\": \"#E5ECF6\", \"gridcolor\": \"white\", \"gridwidth\": 2, \"linecolor\": \"white\", \"showbackground\": true, \"ticks\": \"\", \"zerolinecolor\": \"white\"}, \"yaxis\": {\"backgroundcolor\": \"#E5ECF6\", \"gridcolor\": \"white\", \"gridwidth\": 2, \"linecolor\": \"white\", \"showbackground\": true, \"ticks\": \"\", \"zerolinecolor\": \"white\"}, \"zaxis\": {\"backgroundcolor\": \"#E5ECF6\", \"gridcolor\": \"white\", \"gridwidth\": 2, \"linecolor\": \"white\", \"showbackground\": true, \"ticks\": \"\", \"zerolinecolor\": \"white\"}}, \"shapedefaults\": {\"line\": {\"color\": \"#2a3f5f\"}}, \"ternary\": {\"aaxis\": {\"gridcolor\": \"white\", \"linecolor\": \"white\", \"ticks\": \"\"}, \"baxis\": {\"gridcolor\": \"white\", \"linecolor\": \"white\", \"ticks\": \"\"}, \"bgcolor\": \"#E5ECF6\", \"caxis\": {\"gridcolor\": \"white\", \"linecolor\": \"white\", \"ticks\": \"\"}}, \"title\": {\"x\": 0.05}, \"xaxis\": {\"automargin\": true, \"gridcolor\": \"white\", \"linecolor\": \"white\", \"ticks\": \"\", \"title\": {\"standoff\": 15}, \"zerolinecolor\": \"white\", \"zerolinewidth\": 2}, \"yaxis\": {\"automargin\": true, \"gridcolor\": \"white\", \"linecolor\": \"white\", \"ticks\": \"\", \"title\": {\"standoff\": 15}, \"zerolinecolor\": \"white\", \"zerolinewidth\": 2}}}, \"title\": {\"text\": \"<b>Top 5 Performers on engagement volume <b> \"}, \"yaxis\": {\"title\": {\"text\": \"<b>Number of Engagement per second of ad<b>\"}}},\n",
       "                        {\"responsive\": true}\n",
       "                    ).then(function(){\n",
       "                            \n",
       "var gd = document.getElementById('081ae0f8-53ee-4a3f-ad38-6cea3e53e6da');\n",
       "var x = new MutationObserver(function (mutations, observer) {{\n",
       "        var display = window.getComputedStyle(gd).display;\n",
       "        if (!display || display === 'none') {{\n",
       "            console.log([gd, 'removed!']);\n",
       "            Plotly.purge(gd);\n",
       "            observer.disconnect();\n",
       "        }}\n",
       "}});\n",
       "\n",
       "// Listen for the removal of the full notebook cells\n",
       "var notebookContainer = gd.closest('#notebook-container');\n",
       "if (notebookContainer) {{\n",
       "    x.observe(notebookContainer, {childList: true});\n",
       "}}\n",
       "\n",
       "// Listen for the clearing of the current output cell\n",
       "var outputEl = gd.closest('.output');\n",
       "if (outputEl) {{\n",
       "    x.observe(outputEl, {childList: true});\n",
       "}}\n",
       "\n",
       "                        })\n",
       "                };\n",
       "                });\n",
       "            </script>\n",
       "        </div>"
      ]
     },
     "metadata": {},
     "output_type": "display_data"
    }
   ],
   "source": [
    "fig = go.Figure()\n",
    "fig.add_trace(go.Bar(x=new_df['Brand'].unique(), y=new_df['engage_per_second']))\n",
    "fig.update_layout(\n",
    "    title=\"<b>Top 5 Performers on engagement volume <b> \",\n",
    "    yaxis_title=\"<b>Number of Engagement per second of ad<b>\",plot_bgcolor='rgb(255,255,255)',\n",
    "    font=dict(\n",
    "        size=13,\n",
    "        \n",
    "))\n"
   ]
  },
  {
   "cell_type": "code",
   "execution_count": 28,
   "metadata": {},
   "outputs": [],
   "source": [
    "sentiment_tweet_positive= Tweet[(Tweet['sentiment']=='positive')].groupby(['Brand']).count()['timestamp']\n",
    "sentiment_tweet_total = Tweet.groupby(['Brand']).count()['timestamp']\n",
    "positive_prop_sentiment = sentiment_tweet_positive/sentiment_tweet_total\n",
    "positive_prop_sentiment\n",
    "new_df_2 = pd.merge(positive_prop_sentiment,ads_df,how='inner', on = 'Brand')\n",
    "new_df_2.rename(columns={'timestamp':'proportion_positive'},inplace=True)\n",
    "new_df_2= new_df_2.sort_values('proportion_positive',ascending=False)"
   ]
  },
  {
   "cell_type": "code",
   "execution_count": 29,
   "metadata": {},
   "outputs": [
    {
     "data": {
      "application/vnd.plotly.v1+json": {
       "config": {
        "plotlyServerURL": "https://plot.ly"
       },
       "data": [
        {
         "type": "bar",
         "x": [
          "Mountain Dew",
          "New York Life",
          "Proctor and Gamble",
          "Rocket Mortgage",
          "Doritos",
          "T-Mobile",
          "Pepsi",
          "Little Ceasars",
          "Miscrosoft",
          "BudLight",
          "Verizon",
          "Jeep",
          "Cheetos",
          "Kellog",
          "Facebook",
          "Avacados From Mexico",
          "Coca Cola",
          "Trump",
          "General Motors",
          "Squarespace",
          "Planters",
          "Marvel",
          "Reeses",
          "WeatherTech",
          "KIA",
          "Snickers",
          "Tide x DC",
          "Porsche",
          "Budwieser",
          "Pringles",
          "TurboTax",
          "Heinz",
          "Tide",
          "Amazon Prime",
          "Discover Card",
          "Audi",
          "Sabra",
          "NFL",
          "Toyota",
          "Quibi",
          "Hyundai",
          "Turkish Airlines",
          "Google",
          "Bud Light X Tide",
          "Olay",
          "Michelob Ultra",
          "Soda Stream",
          "Metro Goldwyn Mayer",
          "Hulu",
          "HardRockHotel",
          "Bloomberg"
         ],
         "y": [
          0.8577651927684601,
          0.8561347233360064,
          0.8461538461538461,
          0.806814018805715,
          0.7275574112734864,
          0.7116340952713314,
          0.6968810916179338,
          0.6451612903225806,
          0.628124059018368,
          0.6277499642397368,
          0.6217548471902727,
          0.60852608929532,
          0.5695971511239706,
          0.5508879781420765,
          0.535377358490566,
          0.5328940261423787,
          0.5284629981024668,
          0.5197221533118332,
          0.5173496859108585,
          0.5059111292295149,
          0.5013599274705349,
          0.495018115942029,
          0.47761194029850745,
          0.47246503496503495,
          0.46233839235525576,
          0.4598436389481166,
          0.45714285714285713,
          0.4461181923522596,
          0.43738095238095237,
          0.4354199573253526,
          0.43004801280341426,
          0.4286553141514974,
          0.4268461965574681,
          0.4211245401996847,
          0.4202330913259457,
          0.4057816795246963,
          0.39365671641791045,
          0.3877049180327869,
          0.38705234159779617,
          0.3674928503336511,
          0.36554208974778907,
          0.3477088948787062,
          0.33556901774123754,
          0.3222049689440994,
          0.31971314209472984,
          0.28991130820399114,
          0.27923844061650044,
          0.23024398035379148,
          0.22466216216216217,
          0.2072072072072072,
          0.2020770229337949
         ]
        }
       ],
       "layout": {
        "font": {
         "size": 13
        },
        "template": {
         "data": {
          "bar": [
           {
            "error_x": {
             "color": "#2a3f5f"
            },
            "error_y": {
             "color": "#2a3f5f"
            },
            "marker": {
             "line": {
              "color": "#E5ECF6",
              "width": 0.5
             }
            },
            "type": "bar"
           }
          ],
          "barpolar": [
           {
            "marker": {
             "line": {
              "color": "#E5ECF6",
              "width": 0.5
             }
            },
            "type": "barpolar"
           }
          ],
          "carpet": [
           {
            "aaxis": {
             "endlinecolor": "#2a3f5f",
             "gridcolor": "white",
             "linecolor": "white",
             "minorgridcolor": "white",
             "startlinecolor": "#2a3f5f"
            },
            "baxis": {
             "endlinecolor": "#2a3f5f",
             "gridcolor": "white",
             "linecolor": "white",
             "minorgridcolor": "white",
             "startlinecolor": "#2a3f5f"
            },
            "type": "carpet"
           }
          ],
          "choropleth": [
           {
            "colorbar": {
             "outlinewidth": 0,
             "ticks": ""
            },
            "type": "choropleth"
           }
          ],
          "contour": [
           {
            "colorbar": {
             "outlinewidth": 0,
             "ticks": ""
            },
            "colorscale": [
             [
              0,
              "#0d0887"
             ],
             [
              0.1111111111111111,
              "#46039f"
             ],
             [
              0.2222222222222222,
              "#7201a8"
             ],
             [
              0.3333333333333333,
              "#9c179e"
             ],
             [
              0.4444444444444444,
              "#bd3786"
             ],
             [
              0.5555555555555556,
              "#d8576b"
             ],
             [
              0.6666666666666666,
              "#ed7953"
             ],
             [
              0.7777777777777778,
              "#fb9f3a"
             ],
             [
              0.8888888888888888,
              "#fdca26"
             ],
             [
              1,
              "#f0f921"
             ]
            ],
            "type": "contour"
           }
          ],
          "contourcarpet": [
           {
            "colorbar": {
             "outlinewidth": 0,
             "ticks": ""
            },
            "type": "contourcarpet"
           }
          ],
          "heatmap": [
           {
            "colorbar": {
             "outlinewidth": 0,
             "ticks": ""
            },
            "colorscale": [
             [
              0,
              "#0d0887"
             ],
             [
              0.1111111111111111,
              "#46039f"
             ],
             [
              0.2222222222222222,
              "#7201a8"
             ],
             [
              0.3333333333333333,
              "#9c179e"
             ],
             [
              0.4444444444444444,
              "#bd3786"
             ],
             [
              0.5555555555555556,
              "#d8576b"
             ],
             [
              0.6666666666666666,
              "#ed7953"
             ],
             [
              0.7777777777777778,
              "#fb9f3a"
             ],
             [
              0.8888888888888888,
              "#fdca26"
             ],
             [
              1,
              "#f0f921"
             ]
            ],
            "type": "heatmap"
           }
          ],
          "heatmapgl": [
           {
            "colorbar": {
             "outlinewidth": 0,
             "ticks": ""
            },
            "colorscale": [
             [
              0,
              "#0d0887"
             ],
             [
              0.1111111111111111,
              "#46039f"
             ],
             [
              0.2222222222222222,
              "#7201a8"
             ],
             [
              0.3333333333333333,
              "#9c179e"
             ],
             [
              0.4444444444444444,
              "#bd3786"
             ],
             [
              0.5555555555555556,
              "#d8576b"
             ],
             [
              0.6666666666666666,
              "#ed7953"
             ],
             [
              0.7777777777777778,
              "#fb9f3a"
             ],
             [
              0.8888888888888888,
              "#fdca26"
             ],
             [
              1,
              "#f0f921"
             ]
            ],
            "type": "heatmapgl"
           }
          ],
          "histogram": [
           {
            "marker": {
             "colorbar": {
              "outlinewidth": 0,
              "ticks": ""
             }
            },
            "type": "histogram"
           }
          ],
          "histogram2d": [
           {
            "colorbar": {
             "outlinewidth": 0,
             "ticks": ""
            },
            "colorscale": [
             [
              0,
              "#0d0887"
             ],
             [
              0.1111111111111111,
              "#46039f"
             ],
             [
              0.2222222222222222,
              "#7201a8"
             ],
             [
              0.3333333333333333,
              "#9c179e"
             ],
             [
              0.4444444444444444,
              "#bd3786"
             ],
             [
              0.5555555555555556,
              "#d8576b"
             ],
             [
              0.6666666666666666,
              "#ed7953"
             ],
             [
              0.7777777777777778,
              "#fb9f3a"
             ],
             [
              0.8888888888888888,
              "#fdca26"
             ],
             [
              1,
              "#f0f921"
             ]
            ],
            "type": "histogram2d"
           }
          ],
          "histogram2dcontour": [
           {
            "colorbar": {
             "outlinewidth": 0,
             "ticks": ""
            },
            "colorscale": [
             [
              0,
              "#0d0887"
             ],
             [
              0.1111111111111111,
              "#46039f"
             ],
             [
              0.2222222222222222,
              "#7201a8"
             ],
             [
              0.3333333333333333,
              "#9c179e"
             ],
             [
              0.4444444444444444,
              "#bd3786"
             ],
             [
              0.5555555555555556,
              "#d8576b"
             ],
             [
              0.6666666666666666,
              "#ed7953"
             ],
             [
              0.7777777777777778,
              "#fb9f3a"
             ],
             [
              0.8888888888888888,
              "#fdca26"
             ],
             [
              1,
              "#f0f921"
             ]
            ],
            "type": "histogram2dcontour"
           }
          ],
          "mesh3d": [
           {
            "colorbar": {
             "outlinewidth": 0,
             "ticks": ""
            },
            "type": "mesh3d"
           }
          ],
          "parcoords": [
           {
            "line": {
             "colorbar": {
              "outlinewidth": 0,
              "ticks": ""
             }
            },
            "type": "parcoords"
           }
          ],
          "pie": [
           {
            "automargin": true,
            "type": "pie"
           }
          ],
          "scatter": [
           {
            "marker": {
             "colorbar": {
              "outlinewidth": 0,
              "ticks": ""
             }
            },
            "type": "scatter"
           }
          ],
          "scatter3d": [
           {
            "line": {
             "colorbar": {
              "outlinewidth": 0,
              "ticks": ""
             }
            },
            "marker": {
             "colorbar": {
              "outlinewidth": 0,
              "ticks": ""
             }
            },
            "type": "scatter3d"
           }
          ],
          "scattercarpet": [
           {
            "marker": {
             "colorbar": {
              "outlinewidth": 0,
              "ticks": ""
             }
            },
            "type": "scattercarpet"
           }
          ],
          "scattergeo": [
           {
            "marker": {
             "colorbar": {
              "outlinewidth": 0,
              "ticks": ""
             }
            },
            "type": "scattergeo"
           }
          ],
          "scattergl": [
           {
            "marker": {
             "colorbar": {
              "outlinewidth": 0,
              "ticks": ""
             }
            },
            "type": "scattergl"
           }
          ],
          "scattermapbox": [
           {
            "marker": {
             "colorbar": {
              "outlinewidth": 0,
              "ticks": ""
             }
            },
            "type": "scattermapbox"
           }
          ],
          "scatterpolar": [
           {
            "marker": {
             "colorbar": {
              "outlinewidth": 0,
              "ticks": ""
             }
            },
            "type": "scatterpolar"
           }
          ],
          "scatterpolargl": [
           {
            "marker": {
             "colorbar": {
              "outlinewidth": 0,
              "ticks": ""
             }
            },
            "type": "scatterpolargl"
           }
          ],
          "scatterternary": [
           {
            "marker": {
             "colorbar": {
              "outlinewidth": 0,
              "ticks": ""
             }
            },
            "type": "scatterternary"
           }
          ],
          "surface": [
           {
            "colorbar": {
             "outlinewidth": 0,
             "ticks": ""
            },
            "colorscale": [
             [
              0,
              "#0d0887"
             ],
             [
              0.1111111111111111,
              "#46039f"
             ],
             [
              0.2222222222222222,
              "#7201a8"
             ],
             [
              0.3333333333333333,
              "#9c179e"
             ],
             [
              0.4444444444444444,
              "#bd3786"
             ],
             [
              0.5555555555555556,
              "#d8576b"
             ],
             [
              0.6666666666666666,
              "#ed7953"
             ],
             [
              0.7777777777777778,
              "#fb9f3a"
             ],
             [
              0.8888888888888888,
              "#fdca26"
             ],
             [
              1,
              "#f0f921"
             ]
            ],
            "type": "surface"
           }
          ],
          "table": [
           {
            "cells": {
             "fill": {
              "color": "#EBF0F8"
             },
             "line": {
              "color": "white"
             }
            },
            "header": {
             "fill": {
              "color": "#C8D4E3"
             },
             "line": {
              "color": "white"
             }
            },
            "type": "table"
           }
          ]
         },
         "layout": {
          "annotationdefaults": {
           "arrowcolor": "#2a3f5f",
           "arrowhead": 0,
           "arrowwidth": 1
          },
          "coloraxis": {
           "colorbar": {
            "outlinewidth": 0,
            "ticks": ""
           }
          },
          "colorscale": {
           "diverging": [
            [
             0,
             "#8e0152"
            ],
            [
             0.1,
             "#c51b7d"
            ],
            [
             0.2,
             "#de77ae"
            ],
            [
             0.3,
             "#f1b6da"
            ],
            [
             0.4,
             "#fde0ef"
            ],
            [
             0.5,
             "#f7f7f7"
            ],
            [
             0.6,
             "#e6f5d0"
            ],
            [
             0.7,
             "#b8e186"
            ],
            [
             0.8,
             "#7fbc41"
            ],
            [
             0.9,
             "#4d9221"
            ],
            [
             1,
             "#276419"
            ]
           ],
           "sequential": [
            [
             0,
             "#0d0887"
            ],
            [
             0.1111111111111111,
             "#46039f"
            ],
            [
             0.2222222222222222,
             "#7201a8"
            ],
            [
             0.3333333333333333,
             "#9c179e"
            ],
            [
             0.4444444444444444,
             "#bd3786"
            ],
            [
             0.5555555555555556,
             "#d8576b"
            ],
            [
             0.6666666666666666,
             "#ed7953"
            ],
            [
             0.7777777777777778,
             "#fb9f3a"
            ],
            [
             0.8888888888888888,
             "#fdca26"
            ],
            [
             1,
             "#f0f921"
            ]
           ],
           "sequentialminus": [
            [
             0,
             "#0d0887"
            ],
            [
             0.1111111111111111,
             "#46039f"
            ],
            [
             0.2222222222222222,
             "#7201a8"
            ],
            [
             0.3333333333333333,
             "#9c179e"
            ],
            [
             0.4444444444444444,
             "#bd3786"
            ],
            [
             0.5555555555555556,
             "#d8576b"
            ],
            [
             0.6666666666666666,
             "#ed7953"
            ],
            [
             0.7777777777777778,
             "#fb9f3a"
            ],
            [
             0.8888888888888888,
             "#fdca26"
            ],
            [
             1,
             "#f0f921"
            ]
           ]
          },
          "colorway": [
           "#636efa",
           "#EF553B",
           "#00cc96",
           "#ab63fa",
           "#FFA15A",
           "#19d3f3",
           "#FF6692",
           "#B6E880",
           "#FF97FF",
           "#FECB52"
          ],
          "font": {
           "color": "#2a3f5f"
          },
          "geo": {
           "bgcolor": "white",
           "lakecolor": "white",
           "landcolor": "#E5ECF6",
           "showlakes": true,
           "showland": true,
           "subunitcolor": "white"
          },
          "hoverlabel": {
           "align": "left"
          },
          "hovermode": "closest",
          "mapbox": {
           "style": "light"
          },
          "paper_bgcolor": "white",
          "plot_bgcolor": "#E5ECF6",
          "polar": {
           "angularaxis": {
            "gridcolor": "white",
            "linecolor": "white",
            "ticks": ""
           },
           "bgcolor": "#E5ECF6",
           "radialaxis": {
            "gridcolor": "white",
            "linecolor": "white",
            "ticks": ""
           }
          },
          "scene": {
           "xaxis": {
            "backgroundcolor": "#E5ECF6",
            "gridcolor": "white",
            "gridwidth": 2,
            "linecolor": "white",
            "showbackground": true,
            "ticks": "",
            "zerolinecolor": "white"
           },
           "yaxis": {
            "backgroundcolor": "#E5ECF6",
            "gridcolor": "white",
            "gridwidth": 2,
            "linecolor": "white",
            "showbackground": true,
            "ticks": "",
            "zerolinecolor": "white"
           },
           "zaxis": {
            "backgroundcolor": "#E5ECF6",
            "gridcolor": "white",
            "gridwidth": 2,
            "linecolor": "white",
            "showbackground": true,
            "ticks": "",
            "zerolinecolor": "white"
           }
          },
          "shapedefaults": {
           "line": {
            "color": "#2a3f5f"
           }
          },
          "ternary": {
           "aaxis": {
            "gridcolor": "white",
            "linecolor": "white",
            "ticks": ""
           },
           "baxis": {
            "gridcolor": "white",
            "linecolor": "white",
            "ticks": ""
           },
           "bgcolor": "#E5ECF6",
           "caxis": {
            "gridcolor": "white",
            "linecolor": "white",
            "ticks": ""
           }
          },
          "title": {
           "x": 0.05
          },
          "xaxis": {
           "automargin": true,
           "gridcolor": "white",
           "linecolor": "white",
           "ticks": "",
           "title": {
            "standoff": 15
           },
           "zerolinecolor": "white",
           "zerolinewidth": 2
          },
          "yaxis": {
           "automargin": true,
           "gridcolor": "white",
           "linecolor": "white",
           "ticks": "",
           "title": {
            "standoff": 15
           },
           "zerolinecolor": "white",
           "zerolinewidth": 2
          }
         }
        },
        "title": {
         "text": "Top 10 Brands that generate largest proportion of positive tweets "
        },
        "yaxis": {
         "title": {
          "text": "# Proportion of positivity in tweets"
         }
        }
       }
      },
      "text/html": [
       "<div>\n",
       "        \n",
       "        \n",
       "            <div id=\"4ccc60f9-1b77-4873-81c6-8906b546cd47\" class=\"plotly-graph-div\" style=\"height:525px; width:100%;\"></div>\n",
       "            <script type=\"text/javascript\">\n",
       "                require([\"plotly\"], function(Plotly) {\n",
       "                    window.PLOTLYENV=window.PLOTLYENV || {};\n",
       "                    \n",
       "                if (document.getElementById(\"4ccc60f9-1b77-4873-81c6-8906b546cd47\")) {\n",
       "                    Plotly.newPlot(\n",
       "                        '4ccc60f9-1b77-4873-81c6-8906b546cd47',\n",
       "                        [{\"type\": \"bar\", \"x\": [\"Mountain Dew\", \"New York Life\", \"Proctor and Gamble\", \"Rocket Mortgage\", \"Doritos\", \"T-Mobile\", \"Pepsi\", \"Little Ceasars\", \"Miscrosoft\", \"BudLight\", \"Verizon\", \"Jeep\", \"Cheetos\", \"Kellog\", \"Facebook\", \"Avacados From Mexico\", \"Coca Cola\", \"Trump\", \"General Motors\", \"Squarespace\", \"Planters\", \"Marvel\", \"Reeses\", \"WeatherTech\", \"KIA\", \"Snickers\", \"Tide x DC\", \"Porsche\", \"Budwieser\", \"Pringles\", \"TurboTax\", \"Heinz\", \"Tide\", \"Amazon Prime\", \"Discover Card\", \"Audi\", \"Sabra\", \"NFL\", \"Toyota\", \"Quibi\", \"Hyundai\", \"Turkish Airlines\", \"Google\", \"Bud Light X Tide\", \"Olay\", \"Michelob Ultra\", \"Soda Stream\", \"Metro Goldwyn Mayer\", \"Hulu\", \"HardRockHotel\", \"Bloomberg\"], \"y\": [0.8577651927684601, 0.8561347233360064, 0.8461538461538461, 0.806814018805715, 0.7275574112734864, 0.7116340952713314, 0.6968810916179338, 0.6451612903225806, 0.628124059018368, 0.6277499642397368, 0.6217548471902727, 0.60852608929532, 0.5695971511239706, 0.5508879781420765, 0.535377358490566, 0.5328940261423787, 0.5284629981024668, 0.5197221533118332, 0.5173496859108585, 0.5059111292295149, 0.5013599274705349, 0.495018115942029, 0.47761194029850745, 0.47246503496503495, 0.46233839235525576, 0.4598436389481166, 0.45714285714285713, 0.4461181923522596, 0.43738095238095237, 0.4354199573253526, 0.43004801280341426, 0.4286553141514974, 0.4268461965574681, 0.4211245401996847, 0.4202330913259457, 0.4057816795246963, 0.39365671641791045, 0.3877049180327869, 0.38705234159779617, 0.3674928503336511, 0.36554208974778907, 0.3477088948787062, 0.33556901774123754, 0.3222049689440994, 0.31971314209472984, 0.28991130820399114, 0.27923844061650044, 0.23024398035379148, 0.22466216216216217, 0.2072072072072072, 0.2020770229337949]}],\n",
       "                        {\"font\": {\"size\": 13}, \"template\": {\"data\": {\"bar\": [{\"error_x\": {\"color\": \"#2a3f5f\"}, \"error_y\": {\"color\": \"#2a3f5f\"}, \"marker\": {\"line\": {\"color\": \"#E5ECF6\", \"width\": 0.5}}, \"type\": \"bar\"}], \"barpolar\": [{\"marker\": {\"line\": {\"color\": \"#E5ECF6\", \"width\": 0.5}}, \"type\": \"barpolar\"}], \"carpet\": [{\"aaxis\": {\"endlinecolor\": \"#2a3f5f\", \"gridcolor\": \"white\", \"linecolor\": \"white\", \"minorgridcolor\": \"white\", \"startlinecolor\": \"#2a3f5f\"}, \"baxis\": {\"endlinecolor\": \"#2a3f5f\", \"gridcolor\": \"white\", \"linecolor\": \"white\", \"minorgridcolor\": \"white\", \"startlinecolor\": \"#2a3f5f\"}, \"type\": \"carpet\"}], \"choropleth\": [{\"colorbar\": {\"outlinewidth\": 0, \"ticks\": \"\"}, \"type\": \"choropleth\"}], \"contour\": [{\"colorbar\": {\"outlinewidth\": 0, \"ticks\": \"\"}, \"colorscale\": [[0.0, \"#0d0887\"], [0.1111111111111111, \"#46039f\"], [0.2222222222222222, \"#7201a8\"], [0.3333333333333333, \"#9c179e\"], [0.4444444444444444, \"#bd3786\"], [0.5555555555555556, \"#d8576b\"], [0.6666666666666666, \"#ed7953\"], [0.7777777777777778, \"#fb9f3a\"], [0.8888888888888888, \"#fdca26\"], [1.0, \"#f0f921\"]], \"type\": \"contour\"}], \"contourcarpet\": [{\"colorbar\": {\"outlinewidth\": 0, \"ticks\": \"\"}, \"type\": \"contourcarpet\"}], \"heatmap\": [{\"colorbar\": {\"outlinewidth\": 0, \"ticks\": \"\"}, \"colorscale\": [[0.0, \"#0d0887\"], [0.1111111111111111, \"#46039f\"], [0.2222222222222222, \"#7201a8\"], [0.3333333333333333, \"#9c179e\"], [0.4444444444444444, \"#bd3786\"], [0.5555555555555556, \"#d8576b\"], [0.6666666666666666, \"#ed7953\"], [0.7777777777777778, \"#fb9f3a\"], [0.8888888888888888, \"#fdca26\"], [1.0, \"#f0f921\"]], \"type\": \"heatmap\"}], \"heatmapgl\": [{\"colorbar\": {\"outlinewidth\": 0, \"ticks\": \"\"}, \"colorscale\": [[0.0, \"#0d0887\"], [0.1111111111111111, \"#46039f\"], [0.2222222222222222, \"#7201a8\"], [0.3333333333333333, \"#9c179e\"], [0.4444444444444444, \"#bd3786\"], [0.5555555555555556, \"#d8576b\"], [0.6666666666666666, \"#ed7953\"], [0.7777777777777778, \"#fb9f3a\"], [0.8888888888888888, \"#fdca26\"], [1.0, \"#f0f921\"]], \"type\": \"heatmapgl\"}], \"histogram\": [{\"marker\": {\"colorbar\": {\"outlinewidth\": 0, \"ticks\": \"\"}}, \"type\": \"histogram\"}], \"histogram2d\": [{\"colorbar\": {\"outlinewidth\": 0, \"ticks\": \"\"}, \"colorscale\": [[0.0, \"#0d0887\"], [0.1111111111111111, \"#46039f\"], [0.2222222222222222, \"#7201a8\"], [0.3333333333333333, \"#9c179e\"], [0.4444444444444444, \"#bd3786\"], [0.5555555555555556, \"#d8576b\"], [0.6666666666666666, \"#ed7953\"], [0.7777777777777778, \"#fb9f3a\"], [0.8888888888888888, \"#fdca26\"], [1.0, \"#f0f921\"]], \"type\": \"histogram2d\"}], \"histogram2dcontour\": [{\"colorbar\": {\"outlinewidth\": 0, \"ticks\": \"\"}, \"colorscale\": [[0.0, \"#0d0887\"], [0.1111111111111111, \"#46039f\"], [0.2222222222222222, \"#7201a8\"], [0.3333333333333333, \"#9c179e\"], [0.4444444444444444, \"#bd3786\"], [0.5555555555555556, \"#d8576b\"], [0.6666666666666666, \"#ed7953\"], [0.7777777777777778, \"#fb9f3a\"], [0.8888888888888888, \"#fdca26\"], [1.0, \"#f0f921\"]], \"type\": \"histogram2dcontour\"}], \"mesh3d\": [{\"colorbar\": {\"outlinewidth\": 0, \"ticks\": \"\"}, \"type\": \"mesh3d\"}], \"parcoords\": [{\"line\": {\"colorbar\": {\"outlinewidth\": 0, \"ticks\": \"\"}}, \"type\": \"parcoords\"}], \"pie\": [{\"automargin\": true, \"type\": \"pie\"}], \"scatter\": [{\"marker\": {\"colorbar\": {\"outlinewidth\": 0, \"ticks\": \"\"}}, \"type\": \"scatter\"}], \"scatter3d\": [{\"line\": {\"colorbar\": {\"outlinewidth\": 0, \"ticks\": \"\"}}, \"marker\": {\"colorbar\": {\"outlinewidth\": 0, \"ticks\": \"\"}}, \"type\": \"scatter3d\"}], \"scattercarpet\": [{\"marker\": {\"colorbar\": {\"outlinewidth\": 0, \"ticks\": \"\"}}, \"type\": \"scattercarpet\"}], \"scattergeo\": [{\"marker\": {\"colorbar\": {\"outlinewidth\": 0, \"ticks\": \"\"}}, \"type\": \"scattergeo\"}], \"scattergl\": [{\"marker\": {\"colorbar\": {\"outlinewidth\": 0, \"ticks\": \"\"}}, \"type\": \"scattergl\"}], \"scattermapbox\": [{\"marker\": {\"colorbar\": {\"outlinewidth\": 0, \"ticks\": \"\"}}, \"type\": \"scattermapbox\"}], \"scatterpolar\": [{\"marker\": {\"colorbar\": {\"outlinewidth\": 0, \"ticks\": \"\"}}, \"type\": \"scatterpolar\"}], \"scatterpolargl\": [{\"marker\": {\"colorbar\": {\"outlinewidth\": 0, \"ticks\": \"\"}}, \"type\": \"scatterpolargl\"}], \"scatterternary\": [{\"marker\": {\"colorbar\": {\"outlinewidth\": 0, \"ticks\": \"\"}}, \"type\": \"scatterternary\"}], \"surface\": [{\"colorbar\": {\"outlinewidth\": 0, \"ticks\": \"\"}, \"colorscale\": [[0.0, \"#0d0887\"], [0.1111111111111111, \"#46039f\"], [0.2222222222222222, \"#7201a8\"], [0.3333333333333333, \"#9c179e\"], [0.4444444444444444, \"#bd3786\"], [0.5555555555555556, \"#d8576b\"], [0.6666666666666666, \"#ed7953\"], [0.7777777777777778, \"#fb9f3a\"], [0.8888888888888888, \"#fdca26\"], [1.0, \"#f0f921\"]], \"type\": \"surface\"}], \"table\": [{\"cells\": {\"fill\": {\"color\": \"#EBF0F8\"}, \"line\": {\"color\": \"white\"}}, \"header\": {\"fill\": {\"color\": \"#C8D4E3\"}, \"line\": {\"color\": \"white\"}}, \"type\": \"table\"}]}, \"layout\": {\"annotationdefaults\": {\"arrowcolor\": \"#2a3f5f\", \"arrowhead\": 0, \"arrowwidth\": 1}, \"coloraxis\": {\"colorbar\": {\"outlinewidth\": 0, \"ticks\": \"\"}}, \"colorscale\": {\"diverging\": [[0, \"#8e0152\"], [0.1, \"#c51b7d\"], [0.2, \"#de77ae\"], [0.3, \"#f1b6da\"], [0.4, \"#fde0ef\"], [0.5, \"#f7f7f7\"], [0.6, \"#e6f5d0\"], [0.7, \"#b8e186\"], [0.8, \"#7fbc41\"], [0.9, \"#4d9221\"], [1, \"#276419\"]], \"sequential\": [[0.0, \"#0d0887\"], [0.1111111111111111, \"#46039f\"], [0.2222222222222222, \"#7201a8\"], [0.3333333333333333, \"#9c179e\"], [0.4444444444444444, \"#bd3786\"], [0.5555555555555556, \"#d8576b\"], [0.6666666666666666, \"#ed7953\"], [0.7777777777777778, \"#fb9f3a\"], [0.8888888888888888, \"#fdca26\"], [1.0, \"#f0f921\"]], \"sequentialminus\": [[0.0, \"#0d0887\"], [0.1111111111111111, \"#46039f\"], [0.2222222222222222, \"#7201a8\"], [0.3333333333333333, \"#9c179e\"], [0.4444444444444444, \"#bd3786\"], [0.5555555555555556, \"#d8576b\"], [0.6666666666666666, \"#ed7953\"], [0.7777777777777778, \"#fb9f3a\"], [0.8888888888888888, \"#fdca26\"], [1.0, \"#f0f921\"]]}, \"colorway\": [\"#636efa\", \"#EF553B\", \"#00cc96\", \"#ab63fa\", \"#FFA15A\", \"#19d3f3\", \"#FF6692\", \"#B6E880\", \"#FF97FF\", \"#FECB52\"], \"font\": {\"color\": \"#2a3f5f\"}, \"geo\": {\"bgcolor\": \"white\", \"lakecolor\": \"white\", \"landcolor\": \"#E5ECF6\", \"showlakes\": true, \"showland\": true, \"subunitcolor\": \"white\"}, \"hoverlabel\": {\"align\": \"left\"}, \"hovermode\": \"closest\", \"mapbox\": {\"style\": \"light\"}, \"paper_bgcolor\": \"white\", \"plot_bgcolor\": \"#E5ECF6\", \"polar\": {\"angularaxis\": {\"gridcolor\": \"white\", \"linecolor\": \"white\", \"ticks\": \"\"}, \"bgcolor\": \"#E5ECF6\", \"radialaxis\": {\"gridcolor\": \"white\", \"linecolor\": \"white\", \"ticks\": \"\"}}, \"scene\": {\"xaxis\": {\"backgroundcolor\": \"#E5ECF6\", \"gridcolor\": \"white\", \"gridwidth\": 2, \"linecolor\": \"white\", \"showbackground\": true, \"ticks\": \"\", \"zerolinecolor\": \"white\"}, \"yaxis\": {\"backgroundcolor\": \"#E5ECF6\", \"gridcolor\": \"white\", \"gridwidth\": 2, \"linecolor\": \"white\", \"showbackground\": true, \"ticks\": \"\", \"zerolinecolor\": \"white\"}, \"zaxis\": {\"backgroundcolor\": \"#E5ECF6\", \"gridcolor\": \"white\", \"gridwidth\": 2, \"linecolor\": \"white\", \"showbackground\": true, \"ticks\": \"\", \"zerolinecolor\": \"white\"}}, \"shapedefaults\": {\"line\": {\"color\": \"#2a3f5f\"}}, \"ternary\": {\"aaxis\": {\"gridcolor\": \"white\", \"linecolor\": \"white\", \"ticks\": \"\"}, \"baxis\": {\"gridcolor\": \"white\", \"linecolor\": \"white\", \"ticks\": \"\"}, \"bgcolor\": \"#E5ECF6\", \"caxis\": {\"gridcolor\": \"white\", \"linecolor\": \"white\", \"ticks\": \"\"}}, \"title\": {\"x\": 0.05}, \"xaxis\": {\"automargin\": true, \"gridcolor\": \"white\", \"linecolor\": \"white\", \"ticks\": \"\", \"title\": {\"standoff\": 15}, \"zerolinecolor\": \"white\", \"zerolinewidth\": 2}, \"yaxis\": {\"automargin\": true, \"gridcolor\": \"white\", \"linecolor\": \"white\", \"ticks\": \"\", \"title\": {\"standoff\": 15}, \"zerolinecolor\": \"white\", \"zerolinewidth\": 2}}}, \"title\": {\"text\": \"Top 10 Brands that generate largest proportion of positive tweets \"}, \"yaxis\": {\"title\": {\"text\": \"# Proportion of positivity in tweets\"}}},\n",
       "                        {\"responsive\": true}\n",
       "                    ).then(function(){\n",
       "                            \n",
       "var gd = document.getElementById('4ccc60f9-1b77-4873-81c6-8906b546cd47');\n",
       "var x = new MutationObserver(function (mutations, observer) {{\n",
       "        var display = window.getComputedStyle(gd).display;\n",
       "        if (!display || display === 'none') {{\n",
       "            console.log([gd, 'removed!']);\n",
       "            Plotly.purge(gd);\n",
       "            observer.disconnect();\n",
       "        }}\n",
       "}});\n",
       "\n",
       "// Listen for the removal of the full notebook cells\n",
       "var notebookContainer = gd.closest('#notebook-container');\n",
       "if (notebookContainer) {{\n",
       "    x.observe(notebookContainer, {childList: true});\n",
       "}}\n",
       "\n",
       "// Listen for the clearing of the current output cell\n",
       "var outputEl = gd.closest('.output');\n",
       "if (outputEl) {{\n",
       "    x.observe(outputEl, {childList: true});\n",
       "}}\n",
       "\n",
       "                        })\n",
       "                };\n",
       "                });\n",
       "            </script>\n",
       "        </div>"
      ]
     },
     "metadata": {},
     "output_type": "display_data"
    }
   ],
   "source": [
    "fig = go.Figure()\n",
    "fig.add_trace(go.Bar(x=new_df_2['Brand'].unique(), y=new_df_2['proportion_positive']))\n",
    "fig.update_layout(\n",
    "    title=\"Top 10 Brands that generate largest proportion of positive tweets \",\n",
    "    yaxis_title=\"# Proportion of positivity in tweets\",\n",
    "    font=dict(\n",
    "        size=13\n",
    "))\n"
   ]
  },
  {
   "cell_type": "code",
   "execution_count": 30,
   "metadata": {},
   "outputs": [],
   "source": [
    "sentiment_tweet_negative= Tweet[(Tweet['sentiment']=='negative')].groupby(['Brand']).count()['timestamp']\n",
    "sentiment_tweet_total = Tweet.groupby(['Brand']).count()['timestamp']\n",
    "negative_prop_sentiment = sentiment_tweet_negative/sentiment_tweet_total\n",
    "\n"
   ]
  },
  {
   "cell_type": "code",
   "execution_count": 31,
   "metadata": {},
   "outputs": [],
   "source": [
    "new_df_3 = pd.merge(negative_prop_sentiment,ads_df,how='inner', on = 'Brand')\n"
   ]
  },
  {
   "cell_type": "code",
   "execution_count": 32,
   "metadata": {},
   "outputs": [],
   "source": [
    "new_df_3.rename(columns={'timestamp':'proportion_negative'},inplace=True)\n",
    "new_df_3 =new_df_3.sort_values('proportion_negative',ascending=False)"
   ]
  },
  {
   "cell_type": "code",
   "execution_count": 33,
   "metadata": {},
   "outputs": [
    {
     "data": {
      "application/vnd.plotly.v1+json": {
       "config": {
        "plotlyServerURL": "https://plot.ly"
       },
       "data": [
        {
         "type": "bar",
         "x": [
          "Soda Stream",
          "HardRockHotel",
          "Quibi",
          "Audi",
          "Turkish Airlines",
          "Budwieser",
          "Google",
          "NFL",
          "Jeep",
          "Toyota",
          "Planters",
          "Porsche",
          "KIA",
          "Cheetos",
          "Discover Card",
          "Kellog",
          "Amazon Prime",
          "Coca Cola",
          "Hyundai",
          "Heinz",
          "TurboTax",
          "Avacados From Mexico",
          "Pringles",
          "Marvel",
          "Snickers",
          "Hulu",
          "Squarespace",
          "Verizon",
          "Tide",
          "General Motors",
          "Metro Goldwyn Mayer",
          "Miscrosoft",
          "WeatherTech",
          "Michelob Ultra",
          "Facebook",
          "Reeses",
          "Proctor and Gamble",
          "Bud Light X Tide",
          "Sabra",
          "Doritos",
          "Bloomberg",
          "Pepsi",
          "Trump",
          "Little Ceasars",
          "T-Mobile",
          "Tide x DC",
          "Mountain Dew",
          "Rocket Mortgage",
          "New York Life",
          "BudLight",
          "Olay"
         ],
         "y": [
          0.5557570262919311,
          0.5285285285285285,
          0.392278360343184,
          0.2567172120244746,
          0.25134770889487873,
          0.24285714285714285,
          0.17697966248377325,
          0.16639344262295083,
          0.16581495427649273,
          0.16391184573002754,
          0.1613780598368087,
          0.1556585554268057,
          0.15542439572793704,
          0.1533496550189183,
          0.15284677111196027,
          0.15095628415300547,
          0.15028901734104047,
          0.14990512333965844,
          0.1467409105797576,
          0.1426893716970053,
          0.1397706054947986,
          0.12271794317813546,
          0.12231551528251171,
          0.12228260869565218,
          0.11940298507462686,
          0.11843814968814968,
          0.10843864655523848,
          0.10778836674334538,
          0.10723209328151027,
          0.10708944062219564,
          0.09471708661102902,
          0.09093646492020475,
          0.0895979020979021,
          0.08628972653362897,
          0.08254716981132075,
          0.08022388059701492,
          0.07692307692307693,
          0.07608695652173914,
          0.07462686567164178,
          0.06993736951983298,
          0.05755084379056685,
          0.050682261208576995,
          0.04887124782932275,
          0.04838709677419355,
          0.04783196649799337,
          0.047619047619047616,
          0.046612938357656286,
          0.04249603126144828,
          0.03881315156375301,
          0.030839650979831212,
          0.0266844563042028
         ]
        }
       ],
       "layout": {
        "font": {
         "size": 13
        },
        "plot_bgcolor": "rgb(255,255,255)",
        "template": {
         "data": {
          "bar": [
           {
            "error_x": {
             "color": "#2a3f5f"
            },
            "error_y": {
             "color": "#2a3f5f"
            },
            "marker": {
             "line": {
              "color": "#E5ECF6",
              "width": 0.5
             }
            },
            "type": "bar"
           }
          ],
          "barpolar": [
           {
            "marker": {
             "line": {
              "color": "#E5ECF6",
              "width": 0.5
             }
            },
            "type": "barpolar"
           }
          ],
          "carpet": [
           {
            "aaxis": {
             "endlinecolor": "#2a3f5f",
             "gridcolor": "white",
             "linecolor": "white",
             "minorgridcolor": "white",
             "startlinecolor": "#2a3f5f"
            },
            "baxis": {
             "endlinecolor": "#2a3f5f",
             "gridcolor": "white",
             "linecolor": "white",
             "minorgridcolor": "white",
             "startlinecolor": "#2a3f5f"
            },
            "type": "carpet"
           }
          ],
          "choropleth": [
           {
            "colorbar": {
             "outlinewidth": 0,
             "ticks": ""
            },
            "type": "choropleth"
           }
          ],
          "contour": [
           {
            "colorbar": {
             "outlinewidth": 0,
             "ticks": ""
            },
            "colorscale": [
             [
              0,
              "#0d0887"
             ],
             [
              0.1111111111111111,
              "#46039f"
             ],
             [
              0.2222222222222222,
              "#7201a8"
             ],
             [
              0.3333333333333333,
              "#9c179e"
             ],
             [
              0.4444444444444444,
              "#bd3786"
             ],
             [
              0.5555555555555556,
              "#d8576b"
             ],
             [
              0.6666666666666666,
              "#ed7953"
             ],
             [
              0.7777777777777778,
              "#fb9f3a"
             ],
             [
              0.8888888888888888,
              "#fdca26"
             ],
             [
              1,
              "#f0f921"
             ]
            ],
            "type": "contour"
           }
          ],
          "contourcarpet": [
           {
            "colorbar": {
             "outlinewidth": 0,
             "ticks": ""
            },
            "type": "contourcarpet"
           }
          ],
          "heatmap": [
           {
            "colorbar": {
             "outlinewidth": 0,
             "ticks": ""
            },
            "colorscale": [
             [
              0,
              "#0d0887"
             ],
             [
              0.1111111111111111,
              "#46039f"
             ],
             [
              0.2222222222222222,
              "#7201a8"
             ],
             [
              0.3333333333333333,
              "#9c179e"
             ],
             [
              0.4444444444444444,
              "#bd3786"
             ],
             [
              0.5555555555555556,
              "#d8576b"
             ],
             [
              0.6666666666666666,
              "#ed7953"
             ],
             [
              0.7777777777777778,
              "#fb9f3a"
             ],
             [
              0.8888888888888888,
              "#fdca26"
             ],
             [
              1,
              "#f0f921"
             ]
            ],
            "type": "heatmap"
           }
          ],
          "heatmapgl": [
           {
            "colorbar": {
             "outlinewidth": 0,
             "ticks": ""
            },
            "colorscale": [
             [
              0,
              "#0d0887"
             ],
             [
              0.1111111111111111,
              "#46039f"
             ],
             [
              0.2222222222222222,
              "#7201a8"
             ],
             [
              0.3333333333333333,
              "#9c179e"
             ],
             [
              0.4444444444444444,
              "#bd3786"
             ],
             [
              0.5555555555555556,
              "#d8576b"
             ],
             [
              0.6666666666666666,
              "#ed7953"
             ],
             [
              0.7777777777777778,
              "#fb9f3a"
             ],
             [
              0.8888888888888888,
              "#fdca26"
             ],
             [
              1,
              "#f0f921"
             ]
            ],
            "type": "heatmapgl"
           }
          ],
          "histogram": [
           {
            "marker": {
             "colorbar": {
              "outlinewidth": 0,
              "ticks": ""
             }
            },
            "type": "histogram"
           }
          ],
          "histogram2d": [
           {
            "colorbar": {
             "outlinewidth": 0,
             "ticks": ""
            },
            "colorscale": [
             [
              0,
              "#0d0887"
             ],
             [
              0.1111111111111111,
              "#46039f"
             ],
             [
              0.2222222222222222,
              "#7201a8"
             ],
             [
              0.3333333333333333,
              "#9c179e"
             ],
             [
              0.4444444444444444,
              "#bd3786"
             ],
             [
              0.5555555555555556,
              "#d8576b"
             ],
             [
              0.6666666666666666,
              "#ed7953"
             ],
             [
              0.7777777777777778,
              "#fb9f3a"
             ],
             [
              0.8888888888888888,
              "#fdca26"
             ],
             [
              1,
              "#f0f921"
             ]
            ],
            "type": "histogram2d"
           }
          ],
          "histogram2dcontour": [
           {
            "colorbar": {
             "outlinewidth": 0,
             "ticks": ""
            },
            "colorscale": [
             [
              0,
              "#0d0887"
             ],
             [
              0.1111111111111111,
              "#46039f"
             ],
             [
              0.2222222222222222,
              "#7201a8"
             ],
             [
              0.3333333333333333,
              "#9c179e"
             ],
             [
              0.4444444444444444,
              "#bd3786"
             ],
             [
              0.5555555555555556,
              "#d8576b"
             ],
             [
              0.6666666666666666,
              "#ed7953"
             ],
             [
              0.7777777777777778,
              "#fb9f3a"
             ],
             [
              0.8888888888888888,
              "#fdca26"
             ],
             [
              1,
              "#f0f921"
             ]
            ],
            "type": "histogram2dcontour"
           }
          ],
          "mesh3d": [
           {
            "colorbar": {
             "outlinewidth": 0,
             "ticks": ""
            },
            "type": "mesh3d"
           }
          ],
          "parcoords": [
           {
            "line": {
             "colorbar": {
              "outlinewidth": 0,
              "ticks": ""
             }
            },
            "type": "parcoords"
           }
          ],
          "pie": [
           {
            "automargin": true,
            "type": "pie"
           }
          ],
          "scatter": [
           {
            "marker": {
             "colorbar": {
              "outlinewidth": 0,
              "ticks": ""
             }
            },
            "type": "scatter"
           }
          ],
          "scatter3d": [
           {
            "line": {
             "colorbar": {
              "outlinewidth": 0,
              "ticks": ""
             }
            },
            "marker": {
             "colorbar": {
              "outlinewidth": 0,
              "ticks": ""
             }
            },
            "type": "scatter3d"
           }
          ],
          "scattercarpet": [
           {
            "marker": {
             "colorbar": {
              "outlinewidth": 0,
              "ticks": ""
             }
            },
            "type": "scattercarpet"
           }
          ],
          "scattergeo": [
           {
            "marker": {
             "colorbar": {
              "outlinewidth": 0,
              "ticks": ""
             }
            },
            "type": "scattergeo"
           }
          ],
          "scattergl": [
           {
            "marker": {
             "colorbar": {
              "outlinewidth": 0,
              "ticks": ""
             }
            },
            "type": "scattergl"
           }
          ],
          "scattermapbox": [
           {
            "marker": {
             "colorbar": {
              "outlinewidth": 0,
              "ticks": ""
             }
            },
            "type": "scattermapbox"
           }
          ],
          "scatterpolar": [
           {
            "marker": {
             "colorbar": {
              "outlinewidth": 0,
              "ticks": ""
             }
            },
            "type": "scatterpolar"
           }
          ],
          "scatterpolargl": [
           {
            "marker": {
             "colorbar": {
              "outlinewidth": 0,
              "ticks": ""
             }
            },
            "type": "scatterpolargl"
           }
          ],
          "scatterternary": [
           {
            "marker": {
             "colorbar": {
              "outlinewidth": 0,
              "ticks": ""
             }
            },
            "type": "scatterternary"
           }
          ],
          "surface": [
           {
            "colorbar": {
             "outlinewidth": 0,
             "ticks": ""
            },
            "colorscale": [
             [
              0,
              "#0d0887"
             ],
             [
              0.1111111111111111,
              "#46039f"
             ],
             [
              0.2222222222222222,
              "#7201a8"
             ],
             [
              0.3333333333333333,
              "#9c179e"
             ],
             [
              0.4444444444444444,
              "#bd3786"
             ],
             [
              0.5555555555555556,
              "#d8576b"
             ],
             [
              0.6666666666666666,
              "#ed7953"
             ],
             [
              0.7777777777777778,
              "#fb9f3a"
             ],
             [
              0.8888888888888888,
              "#fdca26"
             ],
             [
              1,
              "#f0f921"
             ]
            ],
            "type": "surface"
           }
          ],
          "table": [
           {
            "cells": {
             "fill": {
              "color": "#EBF0F8"
             },
             "line": {
              "color": "white"
             }
            },
            "header": {
             "fill": {
              "color": "#C8D4E3"
             },
             "line": {
              "color": "white"
             }
            },
            "type": "table"
           }
          ]
         },
         "layout": {
          "annotationdefaults": {
           "arrowcolor": "#2a3f5f",
           "arrowhead": 0,
           "arrowwidth": 1
          },
          "coloraxis": {
           "colorbar": {
            "outlinewidth": 0,
            "ticks": ""
           }
          },
          "colorscale": {
           "diverging": [
            [
             0,
             "#8e0152"
            ],
            [
             0.1,
             "#c51b7d"
            ],
            [
             0.2,
             "#de77ae"
            ],
            [
             0.3,
             "#f1b6da"
            ],
            [
             0.4,
             "#fde0ef"
            ],
            [
             0.5,
             "#f7f7f7"
            ],
            [
             0.6,
             "#e6f5d0"
            ],
            [
             0.7,
             "#b8e186"
            ],
            [
             0.8,
             "#7fbc41"
            ],
            [
             0.9,
             "#4d9221"
            ],
            [
             1,
             "#276419"
            ]
           ],
           "sequential": [
            [
             0,
             "#0d0887"
            ],
            [
             0.1111111111111111,
             "#46039f"
            ],
            [
             0.2222222222222222,
             "#7201a8"
            ],
            [
             0.3333333333333333,
             "#9c179e"
            ],
            [
             0.4444444444444444,
             "#bd3786"
            ],
            [
             0.5555555555555556,
             "#d8576b"
            ],
            [
             0.6666666666666666,
             "#ed7953"
            ],
            [
             0.7777777777777778,
             "#fb9f3a"
            ],
            [
             0.8888888888888888,
             "#fdca26"
            ],
            [
             1,
             "#f0f921"
            ]
           ],
           "sequentialminus": [
            [
             0,
             "#0d0887"
            ],
            [
             0.1111111111111111,
             "#46039f"
            ],
            [
             0.2222222222222222,
             "#7201a8"
            ],
            [
             0.3333333333333333,
             "#9c179e"
            ],
            [
             0.4444444444444444,
             "#bd3786"
            ],
            [
             0.5555555555555556,
             "#d8576b"
            ],
            [
             0.6666666666666666,
             "#ed7953"
            ],
            [
             0.7777777777777778,
             "#fb9f3a"
            ],
            [
             0.8888888888888888,
             "#fdca26"
            ],
            [
             1,
             "#f0f921"
            ]
           ]
          },
          "colorway": [
           "#636efa",
           "#EF553B",
           "#00cc96",
           "#ab63fa",
           "#FFA15A",
           "#19d3f3",
           "#FF6692",
           "#B6E880",
           "#FF97FF",
           "#FECB52"
          ],
          "font": {
           "color": "#2a3f5f"
          },
          "geo": {
           "bgcolor": "white",
           "lakecolor": "white",
           "landcolor": "#E5ECF6",
           "showlakes": true,
           "showland": true,
           "subunitcolor": "white"
          },
          "hoverlabel": {
           "align": "left"
          },
          "hovermode": "closest",
          "mapbox": {
           "style": "light"
          },
          "paper_bgcolor": "white",
          "plot_bgcolor": "#E5ECF6",
          "polar": {
           "angularaxis": {
            "gridcolor": "white",
            "linecolor": "white",
            "ticks": ""
           },
           "bgcolor": "#E5ECF6",
           "radialaxis": {
            "gridcolor": "white",
            "linecolor": "white",
            "ticks": ""
           }
          },
          "scene": {
           "xaxis": {
            "backgroundcolor": "#E5ECF6",
            "gridcolor": "white",
            "gridwidth": 2,
            "linecolor": "white",
            "showbackground": true,
            "ticks": "",
            "zerolinecolor": "white"
           },
           "yaxis": {
            "backgroundcolor": "#E5ECF6",
            "gridcolor": "white",
            "gridwidth": 2,
            "linecolor": "white",
            "showbackground": true,
            "ticks": "",
            "zerolinecolor": "white"
           },
           "zaxis": {
            "backgroundcolor": "#E5ECF6",
            "gridcolor": "white",
            "gridwidth": 2,
            "linecolor": "white",
            "showbackground": true,
            "ticks": "",
            "zerolinecolor": "white"
           }
          },
          "shapedefaults": {
           "line": {
            "color": "#2a3f5f"
           }
          },
          "ternary": {
           "aaxis": {
            "gridcolor": "white",
            "linecolor": "white",
            "ticks": ""
           },
           "baxis": {
            "gridcolor": "white",
            "linecolor": "white",
            "ticks": ""
           },
           "bgcolor": "#E5ECF6",
           "caxis": {
            "gridcolor": "white",
            "linecolor": "white",
            "ticks": ""
           }
          },
          "title": {
           "x": 0.05
          },
          "xaxis": {
           "automargin": true,
           "gridcolor": "white",
           "linecolor": "white",
           "ticks": "",
           "title": {
            "standoff": 15
           },
           "zerolinecolor": "white",
           "zerolinewidth": 2
          },
          "yaxis": {
           "automargin": true,
           "gridcolor": "white",
           "linecolor": "white",
           "ticks": "",
           "title": {
            "standoff": 15
           },
           "zerolinecolor": "white",
           "zerolinewidth": 2
          }
         }
        },
        "title": {
         "text": "Top 10 Brands that generate largest proportion of negative tweets "
        },
        "yaxis": {
         "title": {
          "text": "# Proportion of positivity in tweets"
         }
        }
       }
      },
      "text/html": [
       "<div>\n",
       "        \n",
       "        \n",
       "            <div id=\"d54d2328-740f-450e-bb01-63f1ecab7250\" class=\"plotly-graph-div\" style=\"height:525px; width:100%;\"></div>\n",
       "            <script type=\"text/javascript\">\n",
       "                require([\"plotly\"], function(Plotly) {\n",
       "                    window.PLOTLYENV=window.PLOTLYENV || {};\n",
       "                    \n",
       "                if (document.getElementById(\"d54d2328-740f-450e-bb01-63f1ecab7250\")) {\n",
       "                    Plotly.newPlot(\n",
       "                        'd54d2328-740f-450e-bb01-63f1ecab7250',\n",
       "                        [{\"type\": \"bar\", \"x\": [\"Soda Stream\", \"HardRockHotel\", \"Quibi\", \"Audi\", \"Turkish Airlines\", \"Budwieser\", \"Google\", \"NFL\", \"Jeep\", \"Toyota\", \"Planters\", \"Porsche\", \"KIA\", \"Cheetos\", \"Discover Card\", \"Kellog\", \"Amazon Prime\", \"Coca Cola\", \"Hyundai\", \"Heinz\", \"TurboTax\", \"Avacados From Mexico\", \"Pringles\", \"Marvel\", \"Snickers\", \"Hulu\", \"Squarespace\", \"Verizon\", \"Tide\", \"General Motors\", \"Metro Goldwyn Mayer\", \"Miscrosoft\", \"WeatherTech\", \"Michelob Ultra\", \"Facebook\", \"Reeses\", \"Proctor and Gamble\", \"Bud Light X Tide\", \"Sabra\", \"Doritos\", \"Bloomberg\", \"Pepsi\", \"Trump\", \"Little Ceasars\", \"T-Mobile\", \"Tide x DC\", \"Mountain Dew\", \"Rocket Mortgage\", \"New York Life\", \"BudLight\", \"Olay\"], \"y\": [0.5557570262919311, 0.5285285285285285, 0.392278360343184, 0.2567172120244746, 0.25134770889487873, 0.24285714285714285, 0.17697966248377325, 0.16639344262295083, 0.16581495427649273, 0.16391184573002754, 0.1613780598368087, 0.1556585554268057, 0.15542439572793704, 0.1533496550189183, 0.15284677111196027, 0.15095628415300547, 0.15028901734104047, 0.14990512333965844, 0.1467409105797576, 0.1426893716970053, 0.1397706054947986, 0.12271794317813546, 0.12231551528251171, 0.12228260869565218, 0.11940298507462686, 0.11843814968814968, 0.10843864655523848, 0.10778836674334538, 0.10723209328151027, 0.10708944062219564, 0.09471708661102902, 0.09093646492020475, 0.0895979020979021, 0.08628972653362897, 0.08254716981132075, 0.08022388059701492, 0.07692307692307693, 0.07608695652173914, 0.07462686567164178, 0.06993736951983298, 0.05755084379056685, 0.050682261208576995, 0.04887124782932275, 0.04838709677419355, 0.04783196649799337, 0.047619047619047616, 0.046612938357656286, 0.04249603126144828, 0.03881315156375301, 0.030839650979831212, 0.0266844563042028]}],\n",
       "                        {\"font\": {\"size\": 13}, \"plot_bgcolor\": \"rgb(255,255,255)\", \"template\": {\"data\": {\"bar\": [{\"error_x\": {\"color\": \"#2a3f5f\"}, \"error_y\": {\"color\": \"#2a3f5f\"}, \"marker\": {\"line\": {\"color\": \"#E5ECF6\", \"width\": 0.5}}, \"type\": \"bar\"}], \"barpolar\": [{\"marker\": {\"line\": {\"color\": \"#E5ECF6\", \"width\": 0.5}}, \"type\": \"barpolar\"}], \"carpet\": [{\"aaxis\": {\"endlinecolor\": \"#2a3f5f\", \"gridcolor\": \"white\", \"linecolor\": \"white\", \"minorgridcolor\": \"white\", \"startlinecolor\": \"#2a3f5f\"}, \"baxis\": {\"endlinecolor\": \"#2a3f5f\", \"gridcolor\": \"white\", \"linecolor\": \"white\", \"minorgridcolor\": \"white\", \"startlinecolor\": \"#2a3f5f\"}, \"type\": \"carpet\"}], \"choropleth\": [{\"colorbar\": {\"outlinewidth\": 0, \"ticks\": \"\"}, \"type\": \"choropleth\"}], \"contour\": [{\"colorbar\": {\"outlinewidth\": 0, \"ticks\": \"\"}, \"colorscale\": [[0.0, \"#0d0887\"], [0.1111111111111111, \"#46039f\"], [0.2222222222222222, \"#7201a8\"], [0.3333333333333333, \"#9c179e\"], [0.4444444444444444, \"#bd3786\"], [0.5555555555555556, \"#d8576b\"], [0.6666666666666666, \"#ed7953\"], [0.7777777777777778, \"#fb9f3a\"], [0.8888888888888888, \"#fdca26\"], [1.0, \"#f0f921\"]], \"type\": \"contour\"}], \"contourcarpet\": [{\"colorbar\": {\"outlinewidth\": 0, \"ticks\": \"\"}, \"type\": \"contourcarpet\"}], \"heatmap\": [{\"colorbar\": {\"outlinewidth\": 0, \"ticks\": \"\"}, \"colorscale\": [[0.0, \"#0d0887\"], [0.1111111111111111, \"#46039f\"], [0.2222222222222222, \"#7201a8\"], [0.3333333333333333, \"#9c179e\"], [0.4444444444444444, \"#bd3786\"], [0.5555555555555556, \"#d8576b\"], [0.6666666666666666, \"#ed7953\"], [0.7777777777777778, \"#fb9f3a\"], [0.8888888888888888, \"#fdca26\"], [1.0, \"#f0f921\"]], \"type\": \"heatmap\"}], \"heatmapgl\": [{\"colorbar\": {\"outlinewidth\": 0, \"ticks\": \"\"}, \"colorscale\": [[0.0, \"#0d0887\"], [0.1111111111111111, \"#46039f\"], [0.2222222222222222, \"#7201a8\"], [0.3333333333333333, \"#9c179e\"], [0.4444444444444444, \"#bd3786\"], [0.5555555555555556, \"#d8576b\"], [0.6666666666666666, \"#ed7953\"], [0.7777777777777778, \"#fb9f3a\"], [0.8888888888888888, \"#fdca26\"], [1.0, \"#f0f921\"]], \"type\": \"heatmapgl\"}], \"histogram\": [{\"marker\": {\"colorbar\": {\"outlinewidth\": 0, \"ticks\": \"\"}}, \"type\": \"histogram\"}], \"histogram2d\": [{\"colorbar\": {\"outlinewidth\": 0, \"ticks\": \"\"}, \"colorscale\": [[0.0, \"#0d0887\"], [0.1111111111111111, \"#46039f\"], [0.2222222222222222, \"#7201a8\"], [0.3333333333333333, \"#9c179e\"], [0.4444444444444444, \"#bd3786\"], [0.5555555555555556, \"#d8576b\"], [0.6666666666666666, \"#ed7953\"], [0.7777777777777778, \"#fb9f3a\"], [0.8888888888888888, \"#fdca26\"], [1.0, \"#f0f921\"]], \"type\": \"histogram2d\"}], \"histogram2dcontour\": [{\"colorbar\": {\"outlinewidth\": 0, \"ticks\": \"\"}, \"colorscale\": [[0.0, \"#0d0887\"], [0.1111111111111111, \"#46039f\"], [0.2222222222222222, \"#7201a8\"], [0.3333333333333333, \"#9c179e\"], [0.4444444444444444, \"#bd3786\"], [0.5555555555555556, \"#d8576b\"], [0.6666666666666666, \"#ed7953\"], [0.7777777777777778, \"#fb9f3a\"], [0.8888888888888888, \"#fdca26\"], [1.0, \"#f0f921\"]], \"type\": \"histogram2dcontour\"}], \"mesh3d\": [{\"colorbar\": {\"outlinewidth\": 0, \"ticks\": \"\"}, \"type\": \"mesh3d\"}], \"parcoords\": [{\"line\": {\"colorbar\": {\"outlinewidth\": 0, \"ticks\": \"\"}}, \"type\": \"parcoords\"}], \"pie\": [{\"automargin\": true, \"type\": \"pie\"}], \"scatter\": [{\"marker\": {\"colorbar\": {\"outlinewidth\": 0, \"ticks\": \"\"}}, \"type\": \"scatter\"}], \"scatter3d\": [{\"line\": {\"colorbar\": {\"outlinewidth\": 0, \"ticks\": \"\"}}, \"marker\": {\"colorbar\": {\"outlinewidth\": 0, \"ticks\": \"\"}}, \"type\": \"scatter3d\"}], \"scattercarpet\": [{\"marker\": {\"colorbar\": {\"outlinewidth\": 0, \"ticks\": \"\"}}, \"type\": \"scattercarpet\"}], \"scattergeo\": [{\"marker\": {\"colorbar\": {\"outlinewidth\": 0, \"ticks\": \"\"}}, \"type\": \"scattergeo\"}], \"scattergl\": [{\"marker\": {\"colorbar\": {\"outlinewidth\": 0, \"ticks\": \"\"}}, \"type\": \"scattergl\"}], \"scattermapbox\": [{\"marker\": {\"colorbar\": {\"outlinewidth\": 0, \"ticks\": \"\"}}, \"type\": \"scattermapbox\"}], \"scatterpolar\": [{\"marker\": {\"colorbar\": {\"outlinewidth\": 0, \"ticks\": \"\"}}, \"type\": \"scatterpolar\"}], \"scatterpolargl\": [{\"marker\": {\"colorbar\": {\"outlinewidth\": 0, \"ticks\": \"\"}}, \"type\": \"scatterpolargl\"}], \"scatterternary\": [{\"marker\": {\"colorbar\": {\"outlinewidth\": 0, \"ticks\": \"\"}}, \"type\": \"scatterternary\"}], \"surface\": [{\"colorbar\": {\"outlinewidth\": 0, \"ticks\": \"\"}, \"colorscale\": [[0.0, \"#0d0887\"], [0.1111111111111111, \"#46039f\"], [0.2222222222222222, \"#7201a8\"], [0.3333333333333333, \"#9c179e\"], [0.4444444444444444, \"#bd3786\"], [0.5555555555555556, \"#d8576b\"], [0.6666666666666666, \"#ed7953\"], [0.7777777777777778, \"#fb9f3a\"], [0.8888888888888888, \"#fdca26\"], [1.0, \"#f0f921\"]], \"type\": \"surface\"}], \"table\": [{\"cells\": {\"fill\": {\"color\": \"#EBF0F8\"}, \"line\": {\"color\": \"white\"}}, \"header\": {\"fill\": {\"color\": \"#C8D4E3\"}, \"line\": {\"color\": \"white\"}}, \"type\": \"table\"}]}, \"layout\": {\"annotationdefaults\": {\"arrowcolor\": \"#2a3f5f\", \"arrowhead\": 0, \"arrowwidth\": 1}, \"coloraxis\": {\"colorbar\": {\"outlinewidth\": 0, \"ticks\": \"\"}}, \"colorscale\": {\"diverging\": [[0, \"#8e0152\"], [0.1, \"#c51b7d\"], [0.2, \"#de77ae\"], [0.3, \"#f1b6da\"], [0.4, \"#fde0ef\"], [0.5, \"#f7f7f7\"], [0.6, \"#e6f5d0\"], [0.7, \"#b8e186\"], [0.8, \"#7fbc41\"], [0.9, \"#4d9221\"], [1, \"#276419\"]], \"sequential\": [[0.0, \"#0d0887\"], [0.1111111111111111, \"#46039f\"], [0.2222222222222222, \"#7201a8\"], [0.3333333333333333, \"#9c179e\"], [0.4444444444444444, \"#bd3786\"], [0.5555555555555556, \"#d8576b\"], [0.6666666666666666, \"#ed7953\"], [0.7777777777777778, \"#fb9f3a\"], [0.8888888888888888, \"#fdca26\"], [1.0, \"#f0f921\"]], \"sequentialminus\": [[0.0, \"#0d0887\"], [0.1111111111111111, \"#46039f\"], [0.2222222222222222, \"#7201a8\"], [0.3333333333333333, \"#9c179e\"], [0.4444444444444444, \"#bd3786\"], [0.5555555555555556, \"#d8576b\"], [0.6666666666666666, \"#ed7953\"], [0.7777777777777778, \"#fb9f3a\"], [0.8888888888888888, \"#fdca26\"], [1.0, \"#f0f921\"]]}, \"colorway\": [\"#636efa\", \"#EF553B\", \"#00cc96\", \"#ab63fa\", \"#FFA15A\", \"#19d3f3\", \"#FF6692\", \"#B6E880\", \"#FF97FF\", \"#FECB52\"], \"font\": {\"color\": \"#2a3f5f\"}, \"geo\": {\"bgcolor\": \"white\", \"lakecolor\": \"white\", \"landcolor\": \"#E5ECF6\", \"showlakes\": true, \"showland\": true, \"subunitcolor\": \"white\"}, \"hoverlabel\": {\"align\": \"left\"}, \"hovermode\": \"closest\", \"mapbox\": {\"style\": \"light\"}, \"paper_bgcolor\": \"white\", \"plot_bgcolor\": \"#E5ECF6\", \"polar\": {\"angularaxis\": {\"gridcolor\": \"white\", \"linecolor\": \"white\", \"ticks\": \"\"}, \"bgcolor\": \"#E5ECF6\", \"radialaxis\": {\"gridcolor\": \"white\", \"linecolor\": \"white\", \"ticks\": \"\"}}, \"scene\": {\"xaxis\": {\"backgroundcolor\": \"#E5ECF6\", \"gridcolor\": \"white\", \"gridwidth\": 2, \"linecolor\": \"white\", \"showbackground\": true, \"ticks\": \"\", \"zerolinecolor\": \"white\"}, \"yaxis\": {\"backgroundcolor\": \"#E5ECF6\", \"gridcolor\": \"white\", \"gridwidth\": 2, \"linecolor\": \"white\", \"showbackground\": true, \"ticks\": \"\", \"zerolinecolor\": \"white\"}, \"zaxis\": {\"backgroundcolor\": \"#E5ECF6\", \"gridcolor\": \"white\", \"gridwidth\": 2, \"linecolor\": \"white\", \"showbackground\": true, \"ticks\": \"\", \"zerolinecolor\": \"white\"}}, \"shapedefaults\": {\"line\": {\"color\": \"#2a3f5f\"}}, \"ternary\": {\"aaxis\": {\"gridcolor\": \"white\", \"linecolor\": \"white\", \"ticks\": \"\"}, \"baxis\": {\"gridcolor\": \"white\", \"linecolor\": \"white\", \"ticks\": \"\"}, \"bgcolor\": \"#E5ECF6\", \"caxis\": {\"gridcolor\": \"white\", \"linecolor\": \"white\", \"ticks\": \"\"}}, \"title\": {\"x\": 0.05}, \"xaxis\": {\"automargin\": true, \"gridcolor\": \"white\", \"linecolor\": \"white\", \"ticks\": \"\", \"title\": {\"standoff\": 15}, \"zerolinecolor\": \"white\", \"zerolinewidth\": 2}, \"yaxis\": {\"automargin\": true, \"gridcolor\": \"white\", \"linecolor\": \"white\", \"ticks\": \"\", \"title\": {\"standoff\": 15}, \"zerolinecolor\": \"white\", \"zerolinewidth\": 2}}}, \"title\": {\"text\": \"Top 10 Brands that generate largest proportion of negative tweets \"}, \"yaxis\": {\"title\": {\"text\": \"# Proportion of positivity in tweets\"}}},\n",
       "                        {\"responsive\": true}\n",
       "                    ).then(function(){\n",
       "                            \n",
       "var gd = document.getElementById('d54d2328-740f-450e-bb01-63f1ecab7250');\n",
       "var x = new MutationObserver(function (mutations, observer) {{\n",
       "        var display = window.getComputedStyle(gd).display;\n",
       "        if (!display || display === 'none') {{\n",
       "            console.log([gd, 'removed!']);\n",
       "            Plotly.purge(gd);\n",
       "            observer.disconnect();\n",
       "        }}\n",
       "}});\n",
       "\n",
       "// Listen for the removal of the full notebook cells\n",
       "var notebookContainer = gd.closest('#notebook-container');\n",
       "if (notebookContainer) {{\n",
       "    x.observe(notebookContainer, {childList: true});\n",
       "}}\n",
       "\n",
       "// Listen for the clearing of the current output cell\n",
       "var outputEl = gd.closest('.output');\n",
       "if (outputEl) {{\n",
       "    x.observe(outputEl, {childList: true});\n",
       "}}\n",
       "\n",
       "                        })\n",
       "                };\n",
       "                });\n",
       "            </script>\n",
       "        </div>"
      ]
     },
     "metadata": {},
     "output_type": "display_data"
    }
   ],
   "source": [
    "\n",
    "fig = go.Figure()\n",
    "fig.add_trace(go.Bar(x=new_df_3['Brand'].unique(), y=new_df_3['proportion_negative']))\n",
    "fig.update_layout(\n",
    "    title=\"Top 10 Brands that generate largest proportion of negative tweets \",\n",
    "    yaxis_title=\"# Proportion of positivity in tweets\",plot_bgcolor='rgb(255,255,255)',\n",
    "    font=dict(\n",
    "        size=13\n",
    "))\n",
    "fig.show()"
   ]
  },
  {
   "cell_type": "code",
   "execution_count": 247,
   "metadata": {},
   "outputs": [
    {
     "data": {
      "application/vnd.plotly.v1+json": {
       "config": {
        "plotlyServerURL": "https://plot.ly"
       },
       "data": [
        {
         "marker": {
          "size": 10
         },
         "mode": "markers",
         "text": [
          "Amazon Prime",
          "Audi",
          "Avacados From Mexico",
          "Bloomberg",
          "Bud Light X Tide",
          "BudLight",
          "Budwieser",
          "Cheetos",
          "Coca Cola",
          "Discover Card",
          "Doritos",
          "Facebook",
          "General Motors",
          "Google",
          "HardRockHotel",
          "Heinz",
          "Hulu",
          "Hyundai",
          "Jeep",
          "KIA",
          "Kellog",
          "Little Ceasars",
          "Marvel",
          "Metro Goldwyn Mayer",
          "Michelob Ultra",
          "Miscrosoft",
          "Mountain Dew",
          "NFL",
          "New York Life",
          "Olay",
          "Pepsi",
          "Planters",
          "Porsche",
          "Pringles",
          "Proctor and Gamble",
          "Quibi",
          "Reeses",
          "Rocket Mortgage",
          "Sabra",
          "Snickers",
          "Soda Stream",
          "Squarespace",
          "T-Mobile",
          "Tide",
          "Tide x DC",
          "Toyota",
          "Trump",
          "TurboTax",
          "Turkish Airlines",
          "Verizon",
          "WeatherTech"
         ],
         "type": "scatter",
         "x": [
          617.8666666666667,
          1047.0166666666667,
          608.3,
          149.01666666666668,
          2676.383333333333,
          2067.616666666667,
          351.85,
          2467.733333333333,
          22.866666666666667,
          1522.4333333333334,
          17.366666666666667,
          16.283333333333335,
          928.6333333333333,
          1127.8333333333333,
          12.42962962962963,
          196.83333333333334,
          1479.0333333333333,
          102.53333333333333,
          913.7833333333333,
          129.4,
          619,
          14.666666666666666,
          298.23333333333335,
          4803.133333333333,
          91.76666666666667,
          212.83333333333334,
          108.76666666666667,
          17.152941176470588,
          284.1333333333333,
          1377.6,
          580.2666666666667,
          1719.9,
          53.9,
          4639.5,
          0.2833333333333333,
          217.43333333333334,
          101.06666666666666,
          149.23333333333332,
          40.06,
          426.4,
          44.2,
          395.03333333333336,
          3389.9333333333334,
          695.6333333333333,
          44.46666666666667,
          116.76666666666667,
          340.26666666666665,
          1115.6222222222223,
          61.56,
          211.93333333333334,
          390.4
         ],
         "y": [
          2.802097902097902,
          1.5806563039723662,
          4.342429577464789,
          3.511278195488722,
          4.23469387755102,
          20.355287569573285,
          1.8009803921568628,
          3.7143686502177067,
          3.5253164556962027,
          2.749375,
          10.402985074626866,
          6.485714285714286,
          4.831005586592179,
          1.8960880195599021,
          0.39204545454545453,
          3.0041152263374484,
          1.8968732857926496,
          2.4910714285714284,
          3.669910786699108,
          2.9746835443037973,
          3.6493212669683257,
          13.333333333333334,
          4.048148148148148,
          2.430860033726813,
          3.359743040685225,
          6.9072847682119205,
          18.401869158878505,
          2.3300492610837438,
          22.05785123966942,
          11.98125,
          13.75,
          3.106741573033708,
          2.866004962779156,
          3.5598096964204804,
          11,
          0.93681652490887,
          5.953488372093023,
          18.985632183908045,
          5.275,
          3.8511904761904763,
          0.5024469820554649,
          4.665413533834586,
          14.87779297765618,
          3.9805825242718447,
          9.6,
          2.361344537815126,
          10.634517766497462,
          3.0768129770992365,
          1.383378016085791,
          5.7682926829268295,
          5.273170731707317
         ]
        }
       ],
       "layout": {
        "plot_bgcolor": "rgb(255,255,255)",
        "template": {
         "data": {
          "bar": [
           {
            "error_x": {
             "color": "#2a3f5f"
            },
            "error_y": {
             "color": "#2a3f5f"
            },
            "marker": {
             "line": {
              "color": "#E5ECF6",
              "width": 0.5
             }
            },
            "type": "bar"
           }
          ],
          "barpolar": [
           {
            "marker": {
             "line": {
              "color": "#E5ECF6",
              "width": 0.5
             }
            },
            "type": "barpolar"
           }
          ],
          "carpet": [
           {
            "aaxis": {
             "endlinecolor": "#2a3f5f",
             "gridcolor": "white",
             "linecolor": "white",
             "minorgridcolor": "white",
             "startlinecolor": "#2a3f5f"
            },
            "baxis": {
             "endlinecolor": "#2a3f5f",
             "gridcolor": "white",
             "linecolor": "white",
             "minorgridcolor": "white",
             "startlinecolor": "#2a3f5f"
            },
            "type": "carpet"
           }
          ],
          "choropleth": [
           {
            "colorbar": {
             "outlinewidth": 0,
             "ticks": ""
            },
            "type": "choropleth"
           }
          ],
          "contour": [
           {
            "colorbar": {
             "outlinewidth": 0,
             "ticks": ""
            },
            "colorscale": [
             [
              0,
              "#0d0887"
             ],
             [
              0.1111111111111111,
              "#46039f"
             ],
             [
              0.2222222222222222,
              "#7201a8"
             ],
             [
              0.3333333333333333,
              "#9c179e"
             ],
             [
              0.4444444444444444,
              "#bd3786"
             ],
             [
              0.5555555555555556,
              "#d8576b"
             ],
             [
              0.6666666666666666,
              "#ed7953"
             ],
             [
              0.7777777777777778,
              "#fb9f3a"
             ],
             [
              0.8888888888888888,
              "#fdca26"
             ],
             [
              1,
              "#f0f921"
             ]
            ],
            "type": "contour"
           }
          ],
          "contourcarpet": [
           {
            "colorbar": {
             "outlinewidth": 0,
             "ticks": ""
            },
            "type": "contourcarpet"
           }
          ],
          "heatmap": [
           {
            "colorbar": {
             "outlinewidth": 0,
             "ticks": ""
            },
            "colorscale": [
             [
              0,
              "#0d0887"
             ],
             [
              0.1111111111111111,
              "#46039f"
             ],
             [
              0.2222222222222222,
              "#7201a8"
             ],
             [
              0.3333333333333333,
              "#9c179e"
             ],
             [
              0.4444444444444444,
              "#bd3786"
             ],
             [
              0.5555555555555556,
              "#d8576b"
             ],
             [
              0.6666666666666666,
              "#ed7953"
             ],
             [
              0.7777777777777778,
              "#fb9f3a"
             ],
             [
              0.8888888888888888,
              "#fdca26"
             ],
             [
              1,
              "#f0f921"
             ]
            ],
            "type": "heatmap"
           }
          ],
          "heatmapgl": [
           {
            "colorbar": {
             "outlinewidth": 0,
             "ticks": ""
            },
            "colorscale": [
             [
              0,
              "#0d0887"
             ],
             [
              0.1111111111111111,
              "#46039f"
             ],
             [
              0.2222222222222222,
              "#7201a8"
             ],
             [
              0.3333333333333333,
              "#9c179e"
             ],
             [
              0.4444444444444444,
              "#bd3786"
             ],
             [
              0.5555555555555556,
              "#d8576b"
             ],
             [
              0.6666666666666666,
              "#ed7953"
             ],
             [
              0.7777777777777778,
              "#fb9f3a"
             ],
             [
              0.8888888888888888,
              "#fdca26"
             ],
             [
              1,
              "#f0f921"
             ]
            ],
            "type": "heatmapgl"
           }
          ],
          "histogram": [
           {
            "marker": {
             "colorbar": {
              "outlinewidth": 0,
              "ticks": ""
             }
            },
            "type": "histogram"
           }
          ],
          "histogram2d": [
           {
            "colorbar": {
             "outlinewidth": 0,
             "ticks": ""
            },
            "colorscale": [
             [
              0,
              "#0d0887"
             ],
             [
              0.1111111111111111,
              "#46039f"
             ],
             [
              0.2222222222222222,
              "#7201a8"
             ],
             [
              0.3333333333333333,
              "#9c179e"
             ],
             [
              0.4444444444444444,
              "#bd3786"
             ],
             [
              0.5555555555555556,
              "#d8576b"
             ],
             [
              0.6666666666666666,
              "#ed7953"
             ],
             [
              0.7777777777777778,
              "#fb9f3a"
             ],
             [
              0.8888888888888888,
              "#fdca26"
             ],
             [
              1,
              "#f0f921"
             ]
            ],
            "type": "histogram2d"
           }
          ],
          "histogram2dcontour": [
           {
            "colorbar": {
             "outlinewidth": 0,
             "ticks": ""
            },
            "colorscale": [
             [
              0,
              "#0d0887"
             ],
             [
              0.1111111111111111,
              "#46039f"
             ],
             [
              0.2222222222222222,
              "#7201a8"
             ],
             [
              0.3333333333333333,
              "#9c179e"
             ],
             [
              0.4444444444444444,
              "#bd3786"
             ],
             [
              0.5555555555555556,
              "#d8576b"
             ],
             [
              0.6666666666666666,
              "#ed7953"
             ],
             [
              0.7777777777777778,
              "#fb9f3a"
             ],
             [
              0.8888888888888888,
              "#fdca26"
             ],
             [
              1,
              "#f0f921"
             ]
            ],
            "type": "histogram2dcontour"
           }
          ],
          "mesh3d": [
           {
            "colorbar": {
             "outlinewidth": 0,
             "ticks": ""
            },
            "type": "mesh3d"
           }
          ],
          "parcoords": [
           {
            "line": {
             "colorbar": {
              "outlinewidth": 0,
              "ticks": ""
             }
            },
            "type": "parcoords"
           }
          ],
          "pie": [
           {
            "automargin": true,
            "type": "pie"
           }
          ],
          "scatter": [
           {
            "marker": {
             "colorbar": {
              "outlinewidth": 0,
              "ticks": ""
             }
            },
            "type": "scatter"
           }
          ],
          "scatter3d": [
           {
            "line": {
             "colorbar": {
              "outlinewidth": 0,
              "ticks": ""
             }
            },
            "marker": {
             "colorbar": {
              "outlinewidth": 0,
              "ticks": ""
             }
            },
            "type": "scatter3d"
           }
          ],
          "scattercarpet": [
           {
            "marker": {
             "colorbar": {
              "outlinewidth": 0,
              "ticks": ""
             }
            },
            "type": "scattercarpet"
           }
          ],
          "scattergeo": [
           {
            "marker": {
             "colorbar": {
              "outlinewidth": 0,
              "ticks": ""
             }
            },
            "type": "scattergeo"
           }
          ],
          "scattergl": [
           {
            "marker": {
             "colorbar": {
              "outlinewidth": 0,
              "ticks": ""
             }
            },
            "type": "scattergl"
           }
          ],
          "scattermapbox": [
           {
            "marker": {
             "colorbar": {
              "outlinewidth": 0,
              "ticks": ""
             }
            },
            "type": "scattermapbox"
           }
          ],
          "scatterpolar": [
           {
            "marker": {
             "colorbar": {
              "outlinewidth": 0,
              "ticks": ""
             }
            },
            "type": "scatterpolar"
           }
          ],
          "scatterpolargl": [
           {
            "marker": {
             "colorbar": {
              "outlinewidth": 0,
              "ticks": ""
             }
            },
            "type": "scatterpolargl"
           }
          ],
          "scatterternary": [
           {
            "marker": {
             "colorbar": {
              "outlinewidth": 0,
              "ticks": ""
             }
            },
            "type": "scatterternary"
           }
          ],
          "surface": [
           {
            "colorbar": {
             "outlinewidth": 0,
             "ticks": ""
            },
            "colorscale": [
             [
              0,
              "#0d0887"
             ],
             [
              0.1111111111111111,
              "#46039f"
             ],
             [
              0.2222222222222222,
              "#7201a8"
             ],
             [
              0.3333333333333333,
              "#9c179e"
             ],
             [
              0.4444444444444444,
              "#bd3786"
             ],
             [
              0.5555555555555556,
              "#d8576b"
             ],
             [
              0.6666666666666666,
              "#ed7953"
             ],
             [
              0.7777777777777778,
              "#fb9f3a"
             ],
             [
              0.8888888888888888,
              "#fdca26"
             ],
             [
              1,
              "#f0f921"
             ]
            ],
            "type": "surface"
           }
          ],
          "table": [
           {
            "cells": {
             "fill": {
              "color": "#EBF0F8"
             },
             "line": {
              "color": "white"
             }
            },
            "header": {
             "fill": {
              "color": "#C8D4E3"
             },
             "line": {
              "color": "white"
             }
            },
            "type": "table"
           }
          ]
         },
         "layout": {
          "annotationdefaults": {
           "arrowcolor": "#2a3f5f",
           "arrowhead": 0,
           "arrowwidth": 1
          },
          "coloraxis": {
           "colorbar": {
            "outlinewidth": 0,
            "ticks": ""
           }
          },
          "colorscale": {
           "diverging": [
            [
             0,
             "#8e0152"
            ],
            [
             0.1,
             "#c51b7d"
            ],
            [
             0.2,
             "#de77ae"
            ],
            [
             0.3,
             "#f1b6da"
            ],
            [
             0.4,
             "#fde0ef"
            ],
            [
             0.5,
             "#f7f7f7"
            ],
            [
             0.6,
             "#e6f5d0"
            ],
            [
             0.7,
             "#b8e186"
            ],
            [
             0.8,
             "#7fbc41"
            ],
            [
             0.9,
             "#4d9221"
            ],
            [
             1,
             "#276419"
            ]
           ],
           "sequential": [
            [
             0,
             "#0d0887"
            ],
            [
             0.1111111111111111,
             "#46039f"
            ],
            [
             0.2222222222222222,
             "#7201a8"
            ],
            [
             0.3333333333333333,
             "#9c179e"
            ],
            [
             0.4444444444444444,
             "#bd3786"
            ],
            [
             0.5555555555555556,
             "#d8576b"
            ],
            [
             0.6666666666666666,
             "#ed7953"
            ],
            [
             0.7777777777777778,
             "#fb9f3a"
            ],
            [
             0.8888888888888888,
             "#fdca26"
            ],
            [
             1,
             "#f0f921"
            ]
           ],
           "sequentialminus": [
            [
             0,
             "#0d0887"
            ],
            [
             0.1111111111111111,
             "#46039f"
            ],
            [
             0.2222222222222222,
             "#7201a8"
            ],
            [
             0.3333333333333333,
             "#9c179e"
            ],
            [
             0.4444444444444444,
             "#bd3786"
            ],
            [
             0.5555555555555556,
             "#d8576b"
            ],
            [
             0.6666666666666666,
             "#ed7953"
            ],
            [
             0.7777777777777778,
             "#fb9f3a"
            ],
            [
             0.8888888888888888,
             "#fdca26"
            ],
            [
             1,
             "#f0f921"
            ]
           ]
          },
          "colorway": [
           "#636efa",
           "#EF553B",
           "#00cc96",
           "#ab63fa",
           "#FFA15A",
           "#19d3f3",
           "#FF6692",
           "#B6E880",
           "#FF97FF",
           "#FECB52"
          ],
          "font": {
           "color": "#2a3f5f"
          },
          "geo": {
           "bgcolor": "white",
           "lakecolor": "white",
           "landcolor": "#E5ECF6",
           "showlakes": true,
           "showland": true,
           "subunitcolor": "white"
          },
          "hoverlabel": {
           "align": "left"
          },
          "hovermode": "closest",
          "mapbox": {
           "style": "light"
          },
          "paper_bgcolor": "white",
          "plot_bgcolor": "#E5ECF6",
          "polar": {
           "angularaxis": {
            "gridcolor": "white",
            "linecolor": "white",
            "ticks": ""
           },
           "bgcolor": "#E5ECF6",
           "radialaxis": {
            "gridcolor": "white",
            "linecolor": "white",
            "ticks": ""
           }
          },
          "scene": {
           "xaxis": {
            "backgroundcolor": "#E5ECF6",
            "gridcolor": "white",
            "gridwidth": 2,
            "linecolor": "white",
            "showbackground": true,
            "ticks": "",
            "zerolinecolor": "white"
           },
           "yaxis": {
            "backgroundcolor": "#E5ECF6",
            "gridcolor": "white",
            "gridwidth": 2,
            "linecolor": "white",
            "showbackground": true,
            "ticks": "",
            "zerolinecolor": "white"
           },
           "zaxis": {
            "backgroundcolor": "#E5ECF6",
            "gridcolor": "white",
            "gridwidth": 2,
            "linecolor": "white",
            "showbackground": true,
            "ticks": "",
            "zerolinecolor": "white"
           }
          },
          "shapedefaults": {
           "line": {
            "color": "#2a3f5f"
           }
          },
          "ternary": {
           "aaxis": {
            "gridcolor": "white",
            "linecolor": "white",
            "ticks": ""
           },
           "baxis": {
            "gridcolor": "white",
            "linecolor": "white",
            "ticks": ""
           },
           "bgcolor": "#E5ECF6",
           "caxis": {
            "gridcolor": "white",
            "linecolor": "white",
            "ticks": ""
           }
          },
          "title": {
           "x": 0.05
          },
          "xaxis": {
           "automargin": true,
           "gridcolor": "white",
           "linecolor": "white",
           "ticks": "",
           "title": {
            "standoff": 15
           },
           "zerolinecolor": "white",
           "zerolinewidth": 2
          },
          "yaxis": {
           "automargin": true,
           "gridcolor": "white",
           "linecolor": "white",
           "ticks": "",
           "title": {
            "standoff": 15
           },
           "zerolinecolor": "white",
           "zerolinewidth": 2
          }
         }
        },
        "title": {
         "text": "<b>Positive/ Negative vs Engagement Volume<b>"
        },
        "xaxis": {
         "title": {
          "text": "<b>Engagement per Second of Ad<b>"
         }
        },
        "yaxis": {
         "title": {
          "text": "<b>Positive : negative<b>"
         }
        }
       }
      },
      "text/html": [
       "<div>\n",
       "        \n",
       "        \n",
       "            <div id=\"af92d532-ff73-4581-afbd-f4d8b00f0cc0\" class=\"plotly-graph-div\" style=\"height:525px; width:100%;\"></div>\n",
       "            <script type=\"text/javascript\">\n",
       "                require([\"plotly\"], function(Plotly) {\n",
       "                    window.PLOTLYENV=window.PLOTLYENV || {};\n",
       "                    \n",
       "                if (document.getElementById(\"af92d532-ff73-4581-afbd-f4d8b00f0cc0\")) {\n",
       "                    Plotly.newPlot(\n",
       "                        'af92d532-ff73-4581-afbd-f4d8b00f0cc0',\n",
       "                        [{\"marker\": {\"size\": 10}, \"mode\": \"markers\", \"text\": [\"Amazon Prime\", \"Audi\", \"Avacados From Mexico\", \"Bloomberg\", \"Bud Light X Tide\", \"BudLight\", \"Budwieser\", \"Cheetos\", \"Coca Cola\", \"Discover Card\", \"Doritos\", \"Facebook\", \"General Motors\", \"Google\", \"HardRockHotel\", \"Heinz\", \"Hulu\", \"Hyundai\", \"Jeep\", \"KIA\", \"Kellog\", \"Little Ceasars\", \"Marvel\", \"Metro Goldwyn Mayer\", \"Michelob Ultra\", \"Miscrosoft\", \"Mountain Dew\", \"NFL\", \"New York Life\", \"Olay\", \"Pepsi\", \"Planters\", \"Porsche\", \"Pringles\", \"Proctor and Gamble\", \"Quibi\", \"Reeses\", \"Rocket Mortgage\", \"Sabra\", \"Snickers\", \"Soda Stream\", \"Squarespace\", \"T-Mobile\", \"Tide\", \"Tide x DC\", \"Toyota\", \"Trump\", \"TurboTax\", \"Turkish Airlines\", \"Verizon\", \"WeatherTech\"], \"type\": \"scatter\", \"x\": [617.8666666666667, 1047.0166666666667, 608.3, 149.01666666666668, 2676.383333333333, 2067.616666666667, 351.85, 2467.733333333333, 22.866666666666667, 1522.4333333333334, 17.366666666666667, 16.283333333333335, 928.6333333333333, 1127.8333333333333, 12.42962962962963, 196.83333333333334, 1479.0333333333333, 102.53333333333333, 913.7833333333333, 129.4, 619.0, 14.666666666666666, 298.23333333333335, 4803.133333333333, 91.76666666666667, 212.83333333333334, 108.76666666666667, 17.152941176470588, 284.1333333333333, 1377.6, 580.2666666666667, 1719.9, 53.9, 4639.5, 0.2833333333333333, 217.43333333333334, 101.06666666666666, 149.23333333333332, 40.06, 426.4, 44.2, 395.03333333333336, 3389.9333333333334, 695.6333333333333, 44.46666666666667, 116.76666666666667, 340.26666666666665, 1115.6222222222223, 61.56, 211.93333333333334, 390.4], \"y\": [2.802097902097902, 1.5806563039723662, 4.342429577464789, 3.511278195488722, 4.23469387755102, 20.355287569573285, 1.8009803921568628, 3.7143686502177067, 3.5253164556962027, 2.749375, 10.402985074626866, 6.485714285714286, 4.831005586592179, 1.8960880195599021, 0.39204545454545453, 3.0041152263374484, 1.8968732857926496, 2.4910714285714284, 3.669910786699108, 2.9746835443037973, 3.6493212669683257, 13.333333333333334, 4.048148148148148, 2.430860033726813, 3.359743040685225, 6.9072847682119205, 18.401869158878505, 2.3300492610837438, 22.05785123966942, 11.98125, 13.75, 3.106741573033708, 2.866004962779156, 3.5598096964204804, 11.0, 0.93681652490887, 5.953488372093023, 18.985632183908045, 5.275, 3.8511904761904763, 0.5024469820554649, 4.665413533834586, 14.87779297765618, 3.9805825242718447, 9.6, 2.361344537815126, 10.634517766497462, 3.0768129770992365, 1.383378016085791, 5.7682926829268295, 5.273170731707317]}],\n",
       "                        {\"plot_bgcolor\": \"rgb(255,255,255)\", \"template\": {\"data\": {\"bar\": [{\"error_x\": {\"color\": \"#2a3f5f\"}, \"error_y\": {\"color\": \"#2a3f5f\"}, \"marker\": {\"line\": {\"color\": \"#E5ECF6\", \"width\": 0.5}}, \"type\": \"bar\"}], \"barpolar\": [{\"marker\": {\"line\": {\"color\": \"#E5ECF6\", \"width\": 0.5}}, \"type\": \"barpolar\"}], \"carpet\": [{\"aaxis\": {\"endlinecolor\": \"#2a3f5f\", \"gridcolor\": \"white\", \"linecolor\": \"white\", \"minorgridcolor\": \"white\", \"startlinecolor\": \"#2a3f5f\"}, \"baxis\": {\"endlinecolor\": \"#2a3f5f\", \"gridcolor\": \"white\", \"linecolor\": \"white\", \"minorgridcolor\": \"white\", \"startlinecolor\": \"#2a3f5f\"}, \"type\": \"carpet\"}], \"choropleth\": [{\"colorbar\": {\"outlinewidth\": 0, \"ticks\": \"\"}, \"type\": \"choropleth\"}], \"contour\": [{\"colorbar\": {\"outlinewidth\": 0, \"ticks\": \"\"}, \"colorscale\": [[0.0, \"#0d0887\"], [0.1111111111111111, \"#46039f\"], [0.2222222222222222, \"#7201a8\"], [0.3333333333333333, \"#9c179e\"], [0.4444444444444444, \"#bd3786\"], [0.5555555555555556, \"#d8576b\"], [0.6666666666666666, \"#ed7953\"], [0.7777777777777778, \"#fb9f3a\"], [0.8888888888888888, \"#fdca26\"], [1.0, \"#f0f921\"]], \"type\": \"contour\"}], \"contourcarpet\": [{\"colorbar\": {\"outlinewidth\": 0, \"ticks\": \"\"}, \"type\": \"contourcarpet\"}], \"heatmap\": [{\"colorbar\": {\"outlinewidth\": 0, \"ticks\": \"\"}, \"colorscale\": [[0.0, \"#0d0887\"], [0.1111111111111111, \"#46039f\"], [0.2222222222222222, \"#7201a8\"], [0.3333333333333333, \"#9c179e\"], [0.4444444444444444, \"#bd3786\"], [0.5555555555555556, \"#d8576b\"], [0.6666666666666666, \"#ed7953\"], [0.7777777777777778, \"#fb9f3a\"], [0.8888888888888888, \"#fdca26\"], [1.0, \"#f0f921\"]], \"type\": \"heatmap\"}], \"heatmapgl\": [{\"colorbar\": {\"outlinewidth\": 0, \"ticks\": \"\"}, \"colorscale\": [[0.0, \"#0d0887\"], [0.1111111111111111, \"#46039f\"], [0.2222222222222222, \"#7201a8\"], [0.3333333333333333, \"#9c179e\"], [0.4444444444444444, \"#bd3786\"], [0.5555555555555556, \"#d8576b\"], [0.6666666666666666, \"#ed7953\"], [0.7777777777777778, \"#fb9f3a\"], [0.8888888888888888, \"#fdca26\"], [1.0, \"#f0f921\"]], \"type\": \"heatmapgl\"}], \"histogram\": [{\"marker\": {\"colorbar\": {\"outlinewidth\": 0, \"ticks\": \"\"}}, \"type\": \"histogram\"}], \"histogram2d\": [{\"colorbar\": {\"outlinewidth\": 0, \"ticks\": \"\"}, \"colorscale\": [[0.0, \"#0d0887\"], [0.1111111111111111, \"#46039f\"], [0.2222222222222222, \"#7201a8\"], [0.3333333333333333, \"#9c179e\"], [0.4444444444444444, \"#bd3786\"], [0.5555555555555556, \"#d8576b\"], [0.6666666666666666, \"#ed7953\"], [0.7777777777777778, \"#fb9f3a\"], [0.8888888888888888, \"#fdca26\"], [1.0, \"#f0f921\"]], \"type\": \"histogram2d\"}], \"histogram2dcontour\": [{\"colorbar\": {\"outlinewidth\": 0, \"ticks\": \"\"}, \"colorscale\": [[0.0, \"#0d0887\"], [0.1111111111111111, \"#46039f\"], [0.2222222222222222, \"#7201a8\"], [0.3333333333333333, \"#9c179e\"], [0.4444444444444444, \"#bd3786\"], [0.5555555555555556, \"#d8576b\"], [0.6666666666666666, \"#ed7953\"], [0.7777777777777778, \"#fb9f3a\"], [0.8888888888888888, \"#fdca26\"], [1.0, \"#f0f921\"]], \"type\": \"histogram2dcontour\"}], \"mesh3d\": [{\"colorbar\": {\"outlinewidth\": 0, \"ticks\": \"\"}, \"type\": \"mesh3d\"}], \"parcoords\": [{\"line\": {\"colorbar\": {\"outlinewidth\": 0, \"ticks\": \"\"}}, \"type\": \"parcoords\"}], \"pie\": [{\"automargin\": true, \"type\": \"pie\"}], \"scatter\": [{\"marker\": {\"colorbar\": {\"outlinewidth\": 0, \"ticks\": \"\"}}, \"type\": \"scatter\"}], \"scatter3d\": [{\"line\": {\"colorbar\": {\"outlinewidth\": 0, \"ticks\": \"\"}}, \"marker\": {\"colorbar\": {\"outlinewidth\": 0, \"ticks\": \"\"}}, \"type\": \"scatter3d\"}], \"scattercarpet\": [{\"marker\": {\"colorbar\": {\"outlinewidth\": 0, \"ticks\": \"\"}}, \"type\": \"scattercarpet\"}], \"scattergeo\": [{\"marker\": {\"colorbar\": {\"outlinewidth\": 0, \"ticks\": \"\"}}, \"type\": \"scattergeo\"}], \"scattergl\": [{\"marker\": {\"colorbar\": {\"outlinewidth\": 0, \"ticks\": \"\"}}, \"type\": \"scattergl\"}], \"scattermapbox\": [{\"marker\": {\"colorbar\": {\"outlinewidth\": 0, \"ticks\": \"\"}}, \"type\": \"scattermapbox\"}], \"scatterpolar\": [{\"marker\": {\"colorbar\": {\"outlinewidth\": 0, \"ticks\": \"\"}}, \"type\": \"scatterpolar\"}], \"scatterpolargl\": [{\"marker\": {\"colorbar\": {\"outlinewidth\": 0, \"ticks\": \"\"}}, \"type\": \"scatterpolargl\"}], \"scatterternary\": [{\"marker\": {\"colorbar\": {\"outlinewidth\": 0, \"ticks\": \"\"}}, \"type\": \"scatterternary\"}], \"surface\": [{\"colorbar\": {\"outlinewidth\": 0, \"ticks\": \"\"}, \"colorscale\": [[0.0, \"#0d0887\"], [0.1111111111111111, \"#46039f\"], [0.2222222222222222, \"#7201a8\"], [0.3333333333333333, \"#9c179e\"], [0.4444444444444444, \"#bd3786\"], [0.5555555555555556, \"#d8576b\"], [0.6666666666666666, \"#ed7953\"], [0.7777777777777778, \"#fb9f3a\"], [0.8888888888888888, \"#fdca26\"], [1.0, \"#f0f921\"]], \"type\": \"surface\"}], \"table\": [{\"cells\": {\"fill\": {\"color\": \"#EBF0F8\"}, \"line\": {\"color\": \"white\"}}, \"header\": {\"fill\": {\"color\": \"#C8D4E3\"}, \"line\": {\"color\": \"white\"}}, \"type\": \"table\"}]}, \"layout\": {\"annotationdefaults\": {\"arrowcolor\": \"#2a3f5f\", \"arrowhead\": 0, \"arrowwidth\": 1}, \"coloraxis\": {\"colorbar\": {\"outlinewidth\": 0, \"ticks\": \"\"}}, \"colorscale\": {\"diverging\": [[0, \"#8e0152\"], [0.1, \"#c51b7d\"], [0.2, \"#de77ae\"], [0.3, \"#f1b6da\"], [0.4, \"#fde0ef\"], [0.5, \"#f7f7f7\"], [0.6, \"#e6f5d0\"], [0.7, \"#b8e186\"], [0.8, \"#7fbc41\"], [0.9, \"#4d9221\"], [1, \"#276419\"]], \"sequential\": [[0.0, \"#0d0887\"], [0.1111111111111111, \"#46039f\"], [0.2222222222222222, \"#7201a8\"], [0.3333333333333333, \"#9c179e\"], [0.4444444444444444, \"#bd3786\"], [0.5555555555555556, \"#d8576b\"], [0.6666666666666666, \"#ed7953\"], [0.7777777777777778, \"#fb9f3a\"], [0.8888888888888888, \"#fdca26\"], [1.0, \"#f0f921\"]], \"sequentialminus\": [[0.0, \"#0d0887\"], [0.1111111111111111, \"#46039f\"], [0.2222222222222222, \"#7201a8\"], [0.3333333333333333, \"#9c179e\"], [0.4444444444444444, \"#bd3786\"], [0.5555555555555556, \"#d8576b\"], [0.6666666666666666, \"#ed7953\"], [0.7777777777777778, \"#fb9f3a\"], [0.8888888888888888, \"#fdca26\"], [1.0, \"#f0f921\"]]}, \"colorway\": [\"#636efa\", \"#EF553B\", \"#00cc96\", \"#ab63fa\", \"#FFA15A\", \"#19d3f3\", \"#FF6692\", \"#B6E880\", \"#FF97FF\", \"#FECB52\"], \"font\": {\"color\": \"#2a3f5f\"}, \"geo\": {\"bgcolor\": \"white\", \"lakecolor\": \"white\", \"landcolor\": \"#E5ECF6\", \"showlakes\": true, \"showland\": true, \"subunitcolor\": \"white\"}, \"hoverlabel\": {\"align\": \"left\"}, \"hovermode\": \"closest\", \"mapbox\": {\"style\": \"light\"}, \"paper_bgcolor\": \"white\", \"plot_bgcolor\": \"#E5ECF6\", \"polar\": {\"angularaxis\": {\"gridcolor\": \"white\", \"linecolor\": \"white\", \"ticks\": \"\"}, \"bgcolor\": \"#E5ECF6\", \"radialaxis\": {\"gridcolor\": \"white\", \"linecolor\": \"white\", \"ticks\": \"\"}}, \"scene\": {\"xaxis\": {\"backgroundcolor\": \"#E5ECF6\", \"gridcolor\": \"white\", \"gridwidth\": 2, \"linecolor\": \"white\", \"showbackground\": true, \"ticks\": \"\", \"zerolinecolor\": \"white\"}, \"yaxis\": {\"backgroundcolor\": \"#E5ECF6\", \"gridcolor\": \"white\", \"gridwidth\": 2, \"linecolor\": \"white\", \"showbackground\": true, \"ticks\": \"\", \"zerolinecolor\": \"white\"}, \"zaxis\": {\"backgroundcolor\": \"#E5ECF6\", \"gridcolor\": \"white\", \"gridwidth\": 2, \"linecolor\": \"white\", \"showbackground\": true, \"ticks\": \"\", \"zerolinecolor\": \"white\"}}, \"shapedefaults\": {\"line\": {\"color\": \"#2a3f5f\"}}, \"ternary\": {\"aaxis\": {\"gridcolor\": \"white\", \"linecolor\": \"white\", \"ticks\": \"\"}, \"baxis\": {\"gridcolor\": \"white\", \"linecolor\": \"white\", \"ticks\": \"\"}, \"bgcolor\": \"#E5ECF6\", \"caxis\": {\"gridcolor\": \"white\", \"linecolor\": \"white\", \"ticks\": \"\"}}, \"title\": {\"x\": 0.05}, \"xaxis\": {\"automargin\": true, \"gridcolor\": \"white\", \"linecolor\": \"white\", \"ticks\": \"\", \"title\": {\"standoff\": 15}, \"zerolinecolor\": \"white\", \"zerolinewidth\": 2}, \"yaxis\": {\"automargin\": true, \"gridcolor\": \"white\", \"linecolor\": \"white\", \"ticks\": \"\", \"title\": {\"standoff\": 15}, \"zerolinecolor\": \"white\", \"zerolinewidth\": 2}}}, \"title\": {\"text\": \"<b>Positive/ Negative vs Engagement Volume<b>\"}, \"xaxis\": {\"title\": {\"text\": \"<b>Engagement per Second of Ad<b>\"}}, \"yaxis\": {\"title\": {\"text\": \"<b>Positive : negative<b>\"}}},\n",
       "                        {\"responsive\": true}\n",
       "                    ).then(function(){\n",
       "                            \n",
       "var gd = document.getElementById('af92d532-ff73-4581-afbd-f4d8b00f0cc0');\n",
       "var x = new MutationObserver(function (mutations, observer) {{\n",
       "        var display = window.getComputedStyle(gd).display;\n",
       "        if (!display || display === 'none') {{\n",
       "            console.log([gd, 'removed!']);\n",
       "            Plotly.purge(gd);\n",
       "            observer.disconnect();\n",
       "        }}\n",
       "}});\n",
       "\n",
       "// Listen for the removal of the full notebook cells\n",
       "var notebookContainer = gd.closest('#notebook-container');\n",
       "if (notebookContainer) {{\n",
       "    x.observe(notebookContainer, {childList: true});\n",
       "}}\n",
       "\n",
       "// Listen for the clearing of the current output cell\n",
       "var outputEl = gd.closest('.output');\n",
       "if (outputEl) {{\n",
       "    x.observe(outputEl, {childList: true});\n",
       "}}\n",
       "\n",
       "                        })\n",
       "                };\n",
       "                });\n",
       "            </script>\n",
       "        </div>"
      ]
     },
     "metadata": {},
     "output_type": "display_data"
    }
   ],
   "source": [
    "pos_neg= sentiment_tweet_positive/sentiment_tweet_negative\n",
    "sent_eng = pd.merge(pos_neg,new_df, on ='Brand',how ='inner')\n",
    "fig = go.Figure(data=go.Scatter(y=sent_eng['timestamp'],\n",
    "                                x=sent_eng['engage_per_second'],\n",
    "                                mode='markers',\n",
    "                                text=sent_eng['Brand'].values,\n",
    "                                marker=dict(\n",
    "        size=10)\n",
    "                               ))\n",
    "\n",
    "fig.update_layout(title='<b>Positive/ Negative vs Engagement Volume<b>',\n",
    "                  xaxis_title=\"<b>Engagement per Second of Ad<b>\",\n",
    "                  yaxis_title=\"<b>Positive : negative<b>\",\n",
    "                  plot_bgcolor='rgb(255,255,255)'\n",
    "                 \n",
    "                 )\n",
    "fig.show()"
   ]
  },
  {
   "cell_type": "markdown",
   "metadata": {},
   "source": [
    "## Sentiment "
   ]
  },
  {
   "cell_type": "code",
   "execution_count": 88,
   "metadata": {},
   "outputs": [
    {
     "data": {
      "text/plain": [
       "<matplotlib.axes._subplots.AxesSubplot at 0x26f2bdac408>"
      ]
     },
     "execution_count": 88,
     "metadata": {},
     "output_type": "execute_result"
    },
    {
     "data": {
      "image/png": "[encoded data removed]",
      "text/plain": [
       "<Figure size 432x288 with 1 Axes>"
      ]
     },
     "metadata": {
      "needs_background": "light"
     },
     "output_type": "display_data"
    }
   ],
   "source": [
    "sns.countplot('sentiment',data= Tweet)"
   ]
  },
  {
   "cell_type": "markdown",
   "metadata": {},
   "source": [
    "## Brand Count"
   ]
  },
  {
   "cell_type": "code",
   "execution_count": 89,
   "metadata": {},
   "outputs": [
    {
     "data": {
      "image/png": "[encoded data removed]",
      "text/plain": [
       "<Figure size 1440x1080 with 1 Axes>"
      ]
     },
     "metadata": {
      "needs_background": "light"
     },
     "output_type": "display_data"
    }
   ],
   "source": [
    "Brand_count=Tweet['Brand'].value_counts()\n",
    "fig, ax = plt.subplots(figsize=(20,15))\n",
    "bar = sns.barplot(Brand_count.index,Brand_count.values)\n",
    "\n",
    "plt.xticks(rotation=45)\n",
    "plt.ylabel('Number of Tweets',fontsize=15)\n",
    "plt.show()"
   ]
  },
  {
   "cell_type": "markdown",
   "metadata": {},
   "source": [
    "## word cloud"
   ]
  },
  {
   "cell_type": "code",
   "execution_count": 90,
   "metadata": {},
   "outputs": [],
   "source": [
    "# pip install wordcloud\n",
    "from wordcloud import WordCloud,STOPWORDS\n",
    "negat_tw=Tweet[Tweet['sentiment']=='negative']\n",
    "words = ' '.join(negat_tw['text'])\n",
    "cleaned_word = \" \".join([word for word in words.split()\n",
    "                            if 'http' not in word\n",
    "                                and not word.startswith('@')\n",
    "                                and word != 'RT'\n",
    "                            ])"
   ]
  },
  {
   "cell_type": "code",
   "execution_count": 91,
   "metadata": {},
   "outputs": [],
   "source": [
    "wordcloud = WordCloud(stopwords=STOPWORDS,\n",
    "                      background_color='black',\n",
    "                      width=3000,\n",
    "                      height=2500\n",
    "                     ).generate(cleaned_word)"
   ]
  },
  {
   "cell_type": "code",
   "execution_count": 92,
   "metadata": {},
   "outputs": [
    {
     "data": {
      "image/png": "[encoded data removed]",
      "text/plain": [
       "<Figure size 864x864 with 1 Axes>"
      ]
     },
     "metadata": {
      "needs_background": "light"
     },
     "output_type": "display_data"
    }
   ],
   "source": [
    "plt.figure(1,figsize=(12, 12))\n",
    "plt.imshow(wordcloud)\n",
    "plt.axis('off')\n",
    "plt.title('Negative word cloud',fontsize=25)\n",
    "plt.show()"
   ]
  },
  {
   "cell_type": "code",
   "execution_count": 93,
   "metadata": {},
   "outputs": [
    {
     "data": {
      "image/png": "[encoded data removed]",
      "text/plain": [
       "<Figure size 864x864 with 1 Axes>"
      ]
     },
     "metadata": {
      "needs_background": "light"
     },
     "output_type": "display_data"
    }
   ],
   "source": [
    "\n",
    "pos_tw=Tweet[Tweet['sentiment']=='positive']\n",
    "pos_words = ' '.join(pos_tw['text'])\n",
    "cleaned_word = \" \".join([word for word in pos_words.split()\n",
    "                            if 'http' not in word\n",
    "                                and not word.startswith('@')\n",
    "                                and word != 'RT'\n",
    "                            ])\n",
    "wordcloud_positive = WordCloud(stopwords=STOPWORDS,\n",
    "                      background_color='white',\n",
    "                      width=3000,\n",
    "                      height=2500\n",
    "                     ).generate(cleaned_word)\n",
    "plt.figure(1,figsize=(12, 12))\n",
    "plt.imshow(wordcloud_positive)\n",
    "plt.title('Positive word cloud',fontsize=25)\n",
    "plt.axis('off')\n",
    "plt.show()"
   ]
  },
  {
   "cell_type": "markdown",
   "metadata": {},
   "source": [
    "# Analysis"
   ]
  },
  {
   "cell_type": "code",
   "execution_count": 104,
   "metadata": {},
   "outputs": [
    {
     "data": {
      "text/html": [
       "<div>\n",
       "<style scoped>\n",
       "    .dataframe tbody tr th:only-of-type {\n",
       "        vertical-align: middle;\n",
       "    }\n",
       "\n",
       "    .dataframe tbody tr th {\n",
       "        vertical-align: top;\n",
       "    }\n",
       "\n",
       "    .dataframe thead th {\n",
       "        text-align: right;\n",
       "    }\n",
       "</style>\n",
       "<table border=\"1\" class=\"dataframe\">\n",
       "  <thead>\n",
       "    <tr style=\"text-align: right;\">\n",
       "      <th></th>\n",
       "      <th>Brand</th>\n",
       "      <th>time(seconds)</th>\n",
       "      <th>Cost/ 30 Sec</th>\n",
       "      <th>moral value vs funny</th>\n",
       "      <th>tv drama celebraty related/ with out star</th>\n",
       "    </tr>\n",
       "  </thead>\n",
       "  <tbody>\n",
       "    <tr>\n",
       "      <td>0</td>\n",
       "      <td>Amazon Alexa</td>\n",
       "      <td>90</td>\n",
       "      <td>1680000.0</td>\n",
       "      <td>F</td>\n",
       "      <td>Y</td>\n",
       "    </tr>\n",
       "    <tr>\n",
       "      <td>1</td>\n",
       "      <td>Amazon Prime</td>\n",
       "      <td>60</td>\n",
       "      <td>1120000.0</td>\n",
       "      <td>N</td>\n",
       "      <td>Y</td>\n",
       "    </tr>\n",
       "    <tr>\n",
       "      <td>2</td>\n",
       "      <td>Audi</td>\n",
       "      <td>60</td>\n",
       "      <td>1120000.0</td>\n",
       "      <td>N</td>\n",
       "      <td>Y</td>\n",
       "    </tr>\n",
       "    <tr>\n",
       "      <td>3</td>\n",
       "      <td>Avacados From Mexico</td>\n",
       "      <td>30</td>\n",
       "      <td>560000.0</td>\n",
       "      <td>F</td>\n",
       "      <td>N</td>\n",
       "    </tr>\n",
       "    <tr>\n",
       "      <td>4</td>\n",
       "      <td>Bloomberg</td>\n",
       "      <td>60</td>\n",
       "      <td>1120000.0</td>\n",
       "      <td>M</td>\n",
       "      <td>Y</td>\n",
       "    </tr>\n",
       "  </tbody>\n",
       "</table>\n",
       "</div>"
      ],
      "text/plain": [
       "                  Brand  time(seconds)  Cost/ 30 Sec moral value vs funny  \\\n",
       "0          Amazon Alexa             90     1680000.0                    F   \n",
       "1          Amazon Prime             60     1120000.0                    N   \n",
       "2                  Audi             60     1120000.0                    N   \n",
       "3  Avacados From Mexico             30      560000.0                    F   \n",
       "4             Bloomberg             60     1120000.0                    M   \n",
       "\n",
       "  tv drama celebraty related/ with out star  \n",
       "0                                         Y  \n",
       "1                                         Y  \n",
       "2                                         Y  \n",
       "3                                         N  \n",
       "4                                         Y  "
      ]
     },
     "execution_count": 104,
     "metadata": {},
     "output_type": "execute_result"
    }
   ],
   "source": [
    "ads_info = pd.read_excel('renew ver2.xlsx')\n",
    "ads_info.rename(columns={'Brand_Cleaned':'Brand'},inplace=True)\n",
    "ads_info.head()"
   ]
  },
  {
   "cell_type": "code",
   "execution_count": 105,
   "metadata": {},
   "outputs": [
    {
     "data": {
      "text/html": [
       "<div>\n",
       "<style scoped>\n",
       "    .dataframe tbody tr th:only-of-type {\n",
       "        vertical-align: middle;\n",
       "    }\n",
       "\n",
       "    .dataframe tbody tr th {\n",
       "        vertical-align: top;\n",
       "    }\n",
       "\n",
       "    .dataframe thead th {\n",
       "        text-align: right;\n",
       "    }\n",
       "</style>\n",
       "<table border=\"1\" class=\"dataframe\">\n",
       "  <thead>\n",
       "    <tr style=\"text-align: right;\">\n",
       "      <th></th>\n",
       "      <th>favorite_count</th>\n",
       "      <th>reply_count</th>\n",
       "      <th>user.followers_count</th>\n",
       "      <th>retweet_count</th>\n",
       "      <th>engage</th>\n",
       "    </tr>\n",
       "    <tr>\n",
       "      <th>Brand</th>\n",
       "      <th></th>\n",
       "      <th></th>\n",
       "      <th></th>\n",
       "      <th></th>\n",
       "      <th></th>\n",
       "    </tr>\n",
       "  </thead>\n",
       "  <tbody>\n",
       "    <tr>\n",
       "      <td>Amazon Prime</td>\n",
       "      <td>28631</td>\n",
       "      <td>2609</td>\n",
       "      <td>76433706</td>\n",
       "      <td>5832</td>\n",
       "      <td>37072</td>\n",
       "    </tr>\n",
       "    <tr>\n",
       "      <td>Audi</td>\n",
       "      <td>52060</td>\n",
       "      <td>4079</td>\n",
       "      <td>337185165</td>\n",
       "      <td>6682</td>\n",
       "      <td>62821</td>\n",
       "    </tr>\n",
       "    <tr>\n",
       "      <td>Avacados From Mexico</td>\n",
       "      <td>13903</td>\n",
       "      <td>1759</td>\n",
       "      <td>28593427</td>\n",
       "      <td>2587</td>\n",
       "      <td>18249</td>\n",
       "    </tr>\n",
       "    <tr>\n",
       "      <td>Bloomberg</td>\n",
       "      <td>7205</td>\n",
       "      <td>338</td>\n",
       "      <td>14795189</td>\n",
       "      <td>1398</td>\n",
       "      <td>8941</td>\n",
       "    </tr>\n",
       "    <tr>\n",
       "      <td>Bud Light X Tide</td>\n",
       "      <td>139194</td>\n",
       "      <td>2909</td>\n",
       "      <td>27737828</td>\n",
       "      <td>18480</td>\n",
       "      <td>160583</td>\n",
       "    </tr>\n",
       "  </tbody>\n",
       "</table>\n",
       "</div>"
      ],
      "text/plain": [
       "                      favorite_count  reply_count  user.followers_count  \\\n",
       "Brand                                                                     \n",
       "Amazon Prime                   28631         2609              76433706   \n",
       "Audi                           52060         4079             337185165   \n",
       "Avacados From Mexico           13903         1759              28593427   \n",
       "Bloomberg                       7205          338              14795189   \n",
       "Bud Light X Tide              139194         2909              27737828   \n",
       "\n",
       "                      retweet_count  engage  \n",
       "Brand                                        \n",
       "Amazon Prime                   5832   37072  \n",
       "Audi                           6682   62821  \n",
       "Avacados From Mexico           2587   18249  \n",
       "Bloomberg                      1398    8941  \n",
       "Bud Light X Tide              18480  160583  "
      ]
     },
     "execution_count": 105,
     "metadata": {},
     "output_type": "execute_result"
    }
   ],
   "source": [
    "Tw_cost.head()"
   ]
  },
  {
   "cell_type": "code",
   "execution_count": 120,
   "metadata": {},
   "outputs": [
    {
     "data": {
      "text/html": [
       "<div>\n",
       "<style scoped>\n",
       "    .dataframe tbody tr th:only-of-type {\n",
       "        vertical-align: middle;\n",
       "    }\n",
       "\n",
       "    .dataframe tbody tr th {\n",
       "        vertical-align: top;\n",
       "    }\n",
       "\n",
       "    .dataframe thead th {\n",
       "        text-align: right;\n",
       "    }\n",
       "</style>\n",
       "<table border=\"1\" class=\"dataframe\">\n",
       "  <thead>\n",
       "    <tr style=\"text-align: right;\">\n",
       "      <th></th>\n",
       "      <th>Brand</th>\n",
       "      <th>favorite_count</th>\n",
       "      <th>reply_count</th>\n",
       "      <th>user.followers_count</th>\n",
       "      <th>retweet_count</th>\n",
       "      <th>engage</th>\n",
       "      <th>time(seconds)</th>\n",
       "      <th>Cost/ 30 Sec</th>\n",
       "      <th>moral value vs funny</th>\n",
       "      <th>tv drama celebraty related/ with out star</th>\n",
       "      <th>pos_neg</th>\n",
       "      <th>eng_per_sec</th>\n",
       "    </tr>\n",
       "  </thead>\n",
       "  <tbody>\n",
       "    <tr>\n",
       "      <td>0</td>\n",
       "      <td>Amazon Prime</td>\n",
       "      <td>28631</td>\n",
       "      <td>2609</td>\n",
       "      <td>76433706</td>\n",
       "      <td>5832</td>\n",
       "      <td>37072</td>\n",
       "      <td>60</td>\n",
       "      <td>1120000.0</td>\n",
       "      <td>N</td>\n",
       "      <td>Y</td>\n",
       "      <td>2.802098</td>\n",
       "      <td>617.866667</td>\n",
       "    </tr>\n",
       "    <tr>\n",
       "      <td>1</td>\n",
       "      <td>Audi</td>\n",
       "      <td>52060</td>\n",
       "      <td>4079</td>\n",
       "      <td>337185165</td>\n",
       "      <td>6682</td>\n",
       "      <td>62821</td>\n",
       "      <td>60</td>\n",
       "      <td>1120000.0</td>\n",
       "      <td>N</td>\n",
       "      <td>Y</td>\n",
       "      <td>1.580656</td>\n",
       "      <td>1047.016667</td>\n",
       "    </tr>\n",
       "    <tr>\n",
       "      <td>2</td>\n",
       "      <td>Avacados From Mexico</td>\n",
       "      <td>13903</td>\n",
       "      <td>1759</td>\n",
       "      <td>28593427</td>\n",
       "      <td>2587</td>\n",
       "      <td>18249</td>\n",
       "      <td>30</td>\n",
       "      <td>560000.0</td>\n",
       "      <td>F</td>\n",
       "      <td>N</td>\n",
       "      <td>4.342430</td>\n",
       "      <td>608.300000</td>\n",
       "    </tr>\n",
       "    <tr>\n",
       "      <td>3</td>\n",
       "      <td>Bloomberg</td>\n",
       "      <td>7205</td>\n",
       "      <td>338</td>\n",
       "      <td>14795189</td>\n",
       "      <td>1398</td>\n",
       "      <td>8941</td>\n",
       "      <td>60</td>\n",
       "      <td>1120000.0</td>\n",
       "      <td>M</td>\n",
       "      <td>Y</td>\n",
       "      <td>3.511278</td>\n",
       "      <td>149.016667</td>\n",
       "    </tr>\n",
       "    <tr>\n",
       "      <td>4</td>\n",
       "      <td>Bud Light X Tide</td>\n",
       "      <td>139194</td>\n",
       "      <td>2909</td>\n",
       "      <td>27737828</td>\n",
       "      <td>18480</td>\n",
       "      <td>160583</td>\n",
       "      <td>15</td>\n",
       "      <td>280000.0</td>\n",
       "      <td>F</td>\n",
       "      <td>N</td>\n",
       "      <td>4.234694</td>\n",
       "      <td>10705.533333</td>\n",
       "    </tr>\n",
       "  </tbody>\n",
       "</table>\n",
       "</div>"
      ],
      "text/plain": [
       "                  Brand  favorite_count  reply_count  user.followers_count  \\\n",
       "0          Amazon Prime           28631         2609              76433706   \n",
       "1                  Audi           52060         4079             337185165   \n",
       "2  Avacados From Mexico           13903         1759              28593427   \n",
       "3             Bloomberg            7205          338              14795189   \n",
       "4      Bud Light X Tide          139194         2909              27737828   \n",
       "\n",
       "   retweet_count  engage  time(seconds)  Cost/ 30 Sec moral value vs funny  \\\n",
       "0           5832   37072             60     1120000.0                    N   \n",
       "1           6682   62821             60     1120000.0                    N   \n",
       "2           2587   18249             30      560000.0                    F   \n",
       "3           1398    8941             60     1120000.0                    M   \n",
       "4          18480  160583             15      280000.0                    F   \n",
       "\n",
       "  tv drama celebraty related/ with out star   pos_neg   eng_per_sec  \n",
       "0                                         Y  2.802098    617.866667  \n",
       "1                                         Y  1.580656   1047.016667  \n",
       "2                                         N  4.342430    608.300000  \n",
       "3                                         Y  3.511278    149.016667  \n",
       "4                                         N  4.234694  10705.533333  "
      ]
     },
     "execution_count": 120,
     "metadata": {},
     "output_type": "execute_result"
    }
   ],
   "source": [
    "analy_tw = pd.merge(pd.merge(Tw_cost,ads_info, on ='Brand',how='inner'),pos_neg,on ='Brand',how='inner')\n",
    "analy_tw.rename(columns={'timestamp':'pos_neg'},inplace=True)\n",
    "analy_tw['eng_per_sec'] = analy_tw['engage']/analy_tw['time(seconds)']\n",
    "analy_tw.head()"
   ]
  },
  {
   "cell_type": "markdown",
   "metadata": {},
   "source": [
    "Here I want to know per second of ads invested how likely we generate positive engagement per second relative to negative enagement per second\n",
    ".I simply multiply the two and it gives me a new feature that capture those information"
   ]
  },
  {
   "cell_type": "code",
   "execution_count": 121,
   "metadata": {},
   "outputs": [],
   "source": [
    "\n",
    "analy_tw['magnitude per second'] = analy_tw['pos_neg'] * analy_tw['eng_per_sec']"
   ]
  },
  {
   "cell_type": "code",
   "execution_count": 181,
   "metadata": {},
   "outputs": [
    {
     "data": {
      "text/plain": [
       "moral value vs funny\n",
       "F    1241.307659\n",
       "M     443.178782\n",
       "N     928.955623\n",
       "Name: eng_per_sec, dtype: float64"
      ]
     },
     "execution_count": 181,
     "metadata": {},
     "output_type": "execute_result"
    }
   ],
   "source": [
    "analy_tw.groupby('moral value vs funny').mean()['eng_per_sec']"
   ]
  },
  {
   "cell_type": "code",
   "execution_count": 182,
   "metadata": {},
   "outputs": [
    {
     "data": {
      "text/plain": [
       "moral value vs funny\n",
       "F    6481.344130\n",
       "M    2717.835939\n",
       "N    3172.904740\n",
       "Name: magnitude per second, dtype: float64"
      ]
     },
     "execution_count": 182,
     "metadata": {},
     "output_type": "execute_result"
    }
   ],
   "source": [
    "analy_tw.groupby('moral value vs funny').mean()['magnitude per second']\n"
   ]
  },
  {
   "cell_type": "code",
   "execution_count": 190,
   "metadata": {},
   "outputs": [
    {
     "data": {
      "text/plain": [
       "tv drama celebraty related/ with out star\n",
       "N    1028.765367\n",
       "Y     878.940211\n",
       "Name: eng_per_sec, dtype: float64"
      ]
     },
     "execution_count": 190,
     "metadata": {},
     "output_type": "execute_result"
    }
   ],
   "source": [
    "analy_tw.groupby('tv drama celebraty related/ with out star').mean()['eng_per_sec']"
   ]
  },
  {
   "cell_type": "code",
   "execution_count": 184,
   "metadata": {},
   "outputs": [
    {
     "data": {
      "text/plain": [
       "tv drama celebraty related/ with out star\n",
       "N    4842.319613\n",
       "Y    4529.114376\n",
       "Name: magnitude per second, dtype: float64"
      ]
     },
     "execution_count": 184,
     "metadata": {},
     "output_type": "execute_result"
    }
   ],
   "source": [
    "analy_tw.groupby('tv drama celebraty related/ with out star').mean()['magnitude per second']"
   ]
  },
  {
   "cell_type": "markdown",
   "metadata": {},
   "source": [
    "### Hypothesis testing on Funny ads vs Series ads\n",
    "Null hypothesis: the mean of magnitude per second is no difference between funny ads and series ads  \n",
    "\n",
    "Alternative hypothesis : the mean of magnitude per second is higher for funny ads than series ads \n",
    "\n",
    "This is a one way two sample t-test and we assume independence. That means that the mean of each ads won't affect one another\n",
    "Now we will test on a 5% significant level"
   ]
  },
  {
   "cell_type": "code",
   "execution_count": 162,
   "metadata": {},
   "outputs": [
    {
     "data": {
      "text/plain": [
       "0.10413735739996066"
      ]
     },
     "execution_count": 162,
     "metadata": {},
     "output_type": "execute_result"
    }
   ],
   "source": [
    "# Hypothesis testing on Funny ads vs Series ads\n",
    "import numpy as np\n",
    "from scipy import stats\n",
    "\n",
    "mean_f = analy_tw[(analy_tw['moral value vs funny']=='F')].mean()['magnitude per second']\n",
    "mean_m = analy_tw[(analy_tw['moral value vs funny']=='M')].mean()['magnitude per second']\n",
    "\n",
    "std_f = analy_tw[(analy_tw['moral value vs funny']=='F')].std()['magnitude per second']\n",
    "std_m = analy_tw[(analy_tw['moral value vs funny']=='M')].std()['magnitude per second']\n",
    "\n",
    "n_f= len(analy_tw[(analy_tw['moral value vs funny']=='F')])\n",
    "n_m = len(analy_tw[(analy_tw['moral value vs funny']=='M')])\n",
    "\n",
    "# Test statistics\n",
    "\n",
    "t_test_type = (mean_f-mean_m)/np.sqrt((std_f**2/n_f)+(std_m**2/n_m))\n",
    "# degrees of freedom\n",
    "df_2 = n_f + n_m - 2\n",
    "# p value\n",
    "pval = stats.t.sf(t_test_type, df)\n",
    "pval"
   ]
  },
  {
   "cell_type": "markdown",
   "metadata": {},
   "source": [
    "Since the p value is 0.105 >0.05, we failed to reject the null hypothesis and we conclude that there is not enough evidence to show the funny ads is more effective at the 5% significant level."
   ]
  },
  {
   "cell_type": "code",
   "execution_count": 191,
   "metadata": {},
   "outputs": [
    {
     "data": {
      "text/plain": [
       "0.05712070715548174"
      ]
     },
     "execution_count": 191,
     "metadata": {},
     "output_type": "execute_result"
    }
   ],
   "source": [
    "mean_f = analy_tw[(analy_tw['moral value vs funny']=='F')].mean()['eng_per_sec']\n",
    "mean_m = analy_tw[(analy_tw['moral value vs funny']=='M')].mean()['eng_per_sec']\n",
    "\n",
    "std_f = analy_tw[(analy_tw['moral value vs funny']=='F')].std()['eng_per_sec']\n",
    "std_m = analy_tw[(analy_tw['moral value vs funny']=='M')].std()['eng_per_sec']\n",
    "\n",
    "n_f= len(analy_tw[(analy_tw['moral value vs funny']=='F')])\n",
    "n_m = len(analy_tw[(analy_tw['moral value vs funny']=='M')])\n",
    "\n",
    "# Test statistics\n",
    "\n",
    "t_test_type = (mean_f-mean_m)/np.sqrt((std_f**2/n_f)+(std_m**2/n_m))\n",
    "# degrees of freedom\n",
    "df_2 = n_f + n_m - 2\n",
    "# p value\n",
    "pval = stats.t.sf(t_test_type, df)\n",
    "pval"
   ]
  },
  {
   "cell_type": "markdown",
   "metadata": {},
   "source": [
    "### Hypothesis testing on tv drama celebraty related/ without star"
   ]
  },
  {
   "cell_type": "code",
   "execution_count": 163,
   "metadata": {},
   "outputs": [
    {
     "data": {
      "text/plain": [
       "0.5433371545024289"
      ]
     },
     "execution_count": 163,
     "metadata": {},
     "output_type": "execute_result"
    }
   ],
   "source": [
    "mean_y = analy_tw[(analy_tw['tv drama celebraty related/ with out star']=='Y')].mean()['magnitude per second']\n",
    "mean_n = analy_tw[(analy_tw['tv drama celebraty related/ with out star']=='N')].mean()['magnitude per second']\n",
    "\n",
    "std_y = analy_tw[(analy_tw['tv drama celebraty related/ with out star']=='Y')].std()['magnitude per second']\n",
    "std_n = analy_tw[(analy_tw['tv drama celebraty related/ with out star']=='N')].std()['magnitude per second']\n",
    "\n",
    "n_y= len(analy_tw[(analy_tw['tv drama celebraty related/ with out star']=='Y')])\n",
    "n_n = len(analy_tw[(analy_tw['tv drama celebraty related/ with out star']=='N')])\n",
    "\n",
    "# Test statistics\n",
    "\n",
    "t_test_cele = (mean_y-mean_n)/np.sqrt((std_y**2/n_y)+(std_n**2/n_n))\n",
    "# degrees of freedom\n",
    "df_2 = n_y + n_n - 2\n",
    "# p value\n",
    "pval = stats.t.sf(t_test_cele, df)\n",
    "pval"
   ]
  },
  {
   "cell_type": "code",
   "execution_count": 168,
   "metadata": {},
   "outputs": [
    {
     "data": {
      "text/plain": [
       "0.605328626101722"
      ]
     },
     "execution_count": 168,
     "metadata": {},
     "output_type": "execute_result"
    }
   ],
   "source": [
    "mean_y = analy_tw[(analy_tw['tv drama celebraty related/ with out star']=='Y')].mean()['eng_per_sec']\n",
    "mean_n = analy_tw[(analy_tw['tv drama celebraty related/ with out star']=='N')].mean()['eng_per_sec']\n",
    "\n",
    "std_y = analy_tw[(analy_tw['tv drama celebraty related/ with out star']=='Y')].std()['eng_per_sec']\n",
    "std_n = analy_tw[(analy_tw['tv drama celebraty related/ with out star']=='N')].std()['eng_per_sec']\n",
    "\n",
    "n_y= len(analy_tw[(analy_tw['tv drama celebraty related/ with out star']=='Y')])\n",
    "n_n = len(analy_tw[(analy_tw['tv drama celebraty related/ with out star']=='N')])\n",
    "\n",
    "# Test statistics\n",
    "\n",
    "t_test_cele = (mean_y-mean_n)/np.sqrt((std_y**2/n_y)+(std_n**2/n_n))\n",
    "# degrees of freedom\n",
    "df_2 = n_y + n_n - 2\n",
    "# p value\n",
    "pval = stats.t.sf(t_test_cele, df)\n",
    "pval"
   ]
  },
  {
   "cell_type": "markdown",
   "metadata": {},
   "source": [
    "### Hypothesis testing on duration"
   ]
  },
  {
   "cell_type": "code",
   "execution_count": 238,
   "metadata": {},
   "outputs": [
    {
     "data": {
      "image/png": "[encoded data removed]",
      "text/plain": [
       "<Figure size 432x288 with 1 Axes>"
      ]
     },
     "metadata": {
      "needs_background": "light"
     },
     "output_type": "display_data"
    }
   ],
   "source": [
    "a=dict()\n",
    "for duration in sorted(list(analy_tw['time(seconds)'].unique())): \n",
    "    a[duration]=(analy_tw[(analy_tw['time(seconds)']==duration)].mean()['eng_per_sec'])\n",
    "\n",
    "lists = sorted(a.items())    \n",
    "x, y = zip(*lists) # unpack a list of pairs into two tuples\n",
    "plt.figure()\n",
    "plt.plot(x, y)\n",
    "plt.xlabel('duration of commerical')\n",
    "plt.ylabel('eng_per_sec')\n",
    "plt.show()"
   ]
  },
  {
   "cell_type": "code",
   "execution_count": 239,
   "metadata": {},
   "outputs": [
    {
     "data": {
      "image/png": "[encoded data removed]",
      "text/plain": [
       "<Figure size 432x288 with 1 Axes>"
      ]
     },
     "metadata": {
      "needs_background": "light"
     },
     "output_type": "display_data"
    }
   ],
   "source": [
    "a=dict()\n",
    "for duration in sorted(list(analy_tw['time(seconds)'].unique())): \n",
    "    a[duration]=(analy_tw[(analy_tw['time(seconds)']==duration)].mean()['magnitude per second'])\n",
    "\n",
    "lists = sorted(a.items())    \n",
    "x, y = zip(*lists) # unpack a list of pairs into two tuples\n",
    "plt.figure()\n",
    "plt.plot(x, y)\n",
    "plt.xlabel('duration of commerical')\n",
    "plt.ylabel('magnitude per second')\n",
    "plt.show()"
   ]
  },
  {
   "cell_type": "markdown",
   "metadata": {},
   "source": [
    "From the above graph, it seems like 15 seconds generate most engagement per second, it declines significantly after the 15 second threshold\n",
    "\n",
    "Now we want to test if the engagement from 15 second is actually significant different from other duration"
   ]
  },
  {
   "cell_type": "code",
   "execution_count": 175,
   "metadata": {},
   "outputs": [
    {
     "data": {
      "text/plain": [
       "1028.765366591081"
      ]
     },
     "execution_count": 175,
     "metadata": {},
     "output_type": "execute_result"
    }
   ],
   "source": [
    "mean_y = analy_tw[(analy_tw['time(seconds)']=='Y')].mean()['magnitude per second']\n",
    "mean_n = analy_tw[(analy_tw['tv drama celebraty related/ with out star']=='N')].mean()['magnitude per second']\n",
    "\n",
    "std_y = analy_tw[(analy_tw['tv drama celebraty related/ with out star']=='Y')].std()['magnitude per second']\n",
    "std_n = analy_tw[(analy_tw['tv drama celebraty related/ with out star']=='N')].std()['magnitude per second']\n",
    "\n",
    "n_y= len(analy_tw[(analy_tw['tv drama celebraty related/ with out star']=='Y')])\n",
    "n_n = len(analy_tw[(analy_tw['tv drama celebraty related/ with out star']=='N')])\n",
    "\n",
    "# Test statistics\n",
    "\n",
    "t_test_cele = (mean_y-mean_n)/np.sqrt((std_y**2/n_y)+(std_n**2/n_n))\n",
    "# degrees of freedom\n",
    "df_2 = n_y + n_n - 2\n",
    "# p value\n",
    "pval = stats.t.sf(t_test_cele, df)\n",
    "pval"
   ]
  },
  {
   "cell_type": "code",
   "execution_count": null,
   "metadata": {},
   "outputs": [],
   "source": []
  }
 ],
 "metadata": {
  "kernelspec": {
   "display_name": "Python 3",
   "language": "python",
   "name": "python3"
  },
  "language_info": {
   "codemirror_mode": {
    "name": "ipython",
    "version": 3
   },
   "file_extension": ".py",
   "mimetype": "text/x-python",
   "name": "python",
   "nbconvert_exporter": "python",
   "pygments_lexer": "ipython3",
   "version": "3.7.4"
  }
 },
 "nbformat": 4,
 "nbformat_minor": 2
}
