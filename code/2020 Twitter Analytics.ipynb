{
 "cells": [
  {
   "cell_type": "code",
   "execution_count": 1,
   "metadata": {},
   "outputs": [
    {
     "data": {
      "text/html": [
       "        <script type=\"text/javascript\">\n",
       "        window.PlotlyConfig = {MathJaxConfig: 'local'};\n",
       "        if (window.MathJax) {MathJax.Hub.Config({SVG: {font: \"STIX-Web\"}});}\n",
       "        if (typeof require !== 'undefined') {\n",
       "        require.undef(\"plotly\");\n",
       "        requirejs.config({\n",
       "            paths: {\n",
       "                'plotly': ['https://cdn.plot.ly/plotly-latest.min']\n",
       "            }\n",
       "        });\n",
       "        require(['plotly'], function(Plotly) {\n",
       "            window._Plotly = Plotly;\n",
       "        });\n",
       "        }\n",
       "        </script>\n",
       "        "
      ]
     },
     "metadata": {},
     "output_type": "display_data"
    }
   ],
   "source": [
    "import pandas as pd\n",
    "import numpy as np\n",
    "import seaborn as sns\n",
    "import multiprocessing as mp\n",
    "import matplotlib.pyplot as plt\n",
    "import matplotlib as matplot\n",
    "\n",
    "from scipy import stats\n",
    "from scipy.stats import norm, skew #for some statistics\n",
    "\n",
    "from plotly.offline import init_notebook_mode, iplot\n",
    "import plotly.figure_factory as ff # create_table for categorical variables\n",
    "import cufflinks\n",
    "cufflinks.go_offline()  \n",
    "cufflinks.set_config_file(world_readable=True, theme='pearl')\n",
    "\n",
    "import plotly.graph_objs as go # graphs on objects\n",
    "import chart_studio.plotly as py # plotly library\n",
    "\n",
    "import datetime\n",
    "import plotly.graph_objects as go"
   ]
  },
  {
   "cell_type": "markdown",
   "metadata": {},
   "source": [
    "## Data Exploratory and Understanding"
   ]
  },
  {
   "cell_type": "markdown",
   "metadata": {},
   "source": [
    "### Import the original data"
   ]
  },
  {
   "cell_type": "code",
   "execution_count": 2,
   "metadata": {},
   "outputs": [],
   "source": [
    "df = pd.read_csv('flat_sb_2020.csv',lineterminator='\\n',low_memory=False)"
   ]
  },
  {
   "cell_type": "code",
   "execution_count": 3,
   "metadata": {},
   "outputs": [],
   "source": [
    "ads_df = pd.read_excel('ads_info.xlsx')"
   ]
  },
  {
   "cell_type": "code",
   "execution_count": 4,
   "metadata": {},
   "outputs": [
    {
     "data": {
      "text/html": [
       "<div>\n",
       "<style scoped>\n",
       "    .dataframe tbody tr th:only-of-type {\n",
       "        vertical-align: middle;\n",
       "    }\n",
       "\n",
       "    .dataframe tbody tr th {\n",
       "        vertical-align: top;\n",
       "    }\n",
       "\n",
       "    .dataframe thead th {\n",
       "        text-align: right;\n",
       "    }\n",
       "</style>\n",
       "<table border=\"1\" class=\"dataframe\">\n",
       "  <thead>\n",
       "    <tr style=\"text-align: right;\">\n",
       "      <th></th>\n",
       "      <th>Unnamed: 0</th>\n",
       "      <th>id</th>\n",
       "      <th>id_str</th>\n",
       "      <th>in_reply_to_status_id</th>\n",
       "      <th>in_reply_to_status_id_str</th>\n",
       "      <th>in_reply_to_user_id</th>\n",
       "      <th>in_reply_to_user_id_str</th>\n",
       "      <th>geo</th>\n",
       "      <th>coordinates</th>\n",
       "      <th>place</th>\n",
       "      <th>...</th>\n",
       "      <th>retweeted_status.quoted_status.place</th>\n",
       "      <th>retweeted_status.quoted_status.contributors</th>\n",
       "      <th>retweeted_status.quoted_status.quote_count</th>\n",
       "      <th>retweeted_status.quoted_status.reply_count</th>\n",
       "      <th>retweeted_status.quoted_status.retweet_count</th>\n",
       "      <th>retweeted_status.quoted_status.favorite_count</th>\n",
       "      <th>retweeted_status.quoted_status.quoted_status_id</th>\n",
       "      <th>retweeted_status.quoted_status.quoted_status_id_str</th>\n",
       "      <th>quoted_status.quoted_status_id</th>\n",
       "      <th>quoted_status.quoted_status_id_str</th>\n",
       "    </tr>\n",
       "  </thead>\n",
       "  <tbody>\n",
       "    <tr>\n",
       "      <td>count</td>\n",
       "      <td>494079.000000</td>\n",
       "      <td>4.940790e+05</td>\n",
       "      <td>4.940790e+05</td>\n",
       "      <td>5.818000e+04</td>\n",
       "      <td>5.818000e+04</td>\n",
       "      <td>8.136000e+04</td>\n",
       "      <td>8.136000e+04</td>\n",
       "      <td>0.0</td>\n",
       "      <td>0.0</td>\n",
       "      <td>0.0</td>\n",
       "      <td>...</td>\n",
       "      <td>0.0</td>\n",
       "      <td>0.0</td>\n",
       "      <td>23715.000000</td>\n",
       "      <td>23715.000000</td>\n",
       "      <td>23715.000000</td>\n",
       "      <td>23715.000000</td>\n",
       "      <td>7.670000e+02</td>\n",
       "      <td>7.670000e+02</td>\n",
       "      <td>1.863000e+03</td>\n",
       "      <td>1.863000e+03</td>\n",
       "    </tr>\n",
       "    <tr>\n",
       "      <td>mean</td>\n",
       "      <td>281522.611263</td>\n",
       "      <td>1.224143e+18</td>\n",
       "      <td>1.224143e+18</td>\n",
       "      <td>1.223834e+18</td>\n",
       "      <td>1.223834e+18</td>\n",
       "      <td>2.181581e+17</td>\n",
       "      <td>2.181581e+17</td>\n",
       "      <td>NaN</td>\n",
       "      <td>NaN</td>\n",
       "      <td>NaN</td>\n",
       "      <td>...</td>\n",
       "      <td>NaN</td>\n",
       "      <td>NaN</td>\n",
       "      <td>1010.453637</td>\n",
       "      <td>498.526544</td>\n",
       "      <td>3493.584651</td>\n",
       "      <td>16623.151001</td>\n",
       "      <td>1.211414e+18</td>\n",
       "      <td>1.211414e+18</td>\n",
       "      <td>1.215874e+18</td>\n",
       "      <td>1.215874e+18</td>\n",
       "    </tr>\n",
       "    <tr>\n",
       "      <td>std</td>\n",
       "      <td>163585.252349</td>\n",
       "      <td>1.602256e+13</td>\n",
       "      <td>1.602256e+13</td>\n",
       "      <td>7.242075e+15</td>\n",
       "      <td>7.242075e+15</td>\n",
       "      <td>4.124439e+17</td>\n",
       "      <td>4.124439e+17</td>\n",
       "      <td>NaN</td>\n",
       "      <td>NaN</td>\n",
       "      <td>NaN</td>\n",
       "      <td>...</td>\n",
       "      <td>NaN</td>\n",
       "      <td>NaN</td>\n",
       "      <td>2390.237861</td>\n",
       "      <td>1983.446716</td>\n",
       "      <td>5839.301197</td>\n",
       "      <td>25671.982581</td>\n",
       "      <td>9.586781e+16</td>\n",
       "      <td>9.586781e+16</td>\n",
       "      <td>7.856791e+16</td>\n",
       "      <td>7.856791e+16</td>\n",
       "    </tr>\n",
       "    <tr>\n",
       "      <td>min</td>\n",
       "      <td>2.000000</td>\n",
       "      <td>1.224113e+18</td>\n",
       "      <td>1.224113e+18</td>\n",
       "      <td>2.627492e+17</td>\n",
       "      <td>2.627492e+17</td>\n",
       "      <td>1.200000e+01</td>\n",
       "      <td>1.200000e+01</td>\n",
       "      <td>NaN</td>\n",
       "      <td>NaN</td>\n",
       "      <td>NaN</td>\n",
       "      <td>...</td>\n",
       "      <td>NaN</td>\n",
       "      <td>NaN</td>\n",
       "      <td>0.000000</td>\n",
       "      <td>0.000000</td>\n",
       "      <td>0.000000</td>\n",
       "      <td>0.000000</td>\n",
       "      <td>2.409060e+17</td>\n",
       "      <td>2.409060e+17</td>\n",
       "      <td>8.783073e+09</td>\n",
       "      <td>8.783073e+09</td>\n",
       "    </tr>\n",
       "    <tr>\n",
       "      <td>25%</td>\n",
       "      <td>140303.500000</td>\n",
       "      <td>1.224130e+18</td>\n",
       "      <td>1.224130e+18</td>\n",
       "      <td>1.224123e+18</td>\n",
       "      <td>1.224123e+18</td>\n",
       "      <td>5.689803e+07</td>\n",
       "      <td>5.689803e+07</td>\n",
       "      <td>NaN</td>\n",
       "      <td>NaN</td>\n",
       "      <td>NaN</td>\n",
       "      <td>...</td>\n",
       "      <td>NaN</td>\n",
       "      <td>NaN</td>\n",
       "      <td>37.000000</td>\n",
       "      <td>30.000000</td>\n",
       "      <td>164.000000</td>\n",
       "      <td>509.000000</td>\n",
       "      <td>1.223816e+18</td>\n",
       "      <td>1.223816e+18</td>\n",
       "      <td>1.223962e+18</td>\n",
       "      <td>1.223962e+18</td>\n",
       "    </tr>\n",
       "    <tr>\n",
       "      <td>50%</td>\n",
       "      <td>275841.000000</td>\n",
       "      <td>1.224142e+18</td>\n",
       "      <td>1.224142e+18</td>\n",
       "      <td>1.224134e+18</td>\n",
       "      <td>1.224134e+18</td>\n",
       "      <td>4.744472e+08</td>\n",
       "      <td>4.744472e+08</td>\n",
       "      <td>NaN</td>\n",
       "      <td>NaN</td>\n",
       "      <td>NaN</td>\n",
       "      <td>...</td>\n",
       "      <td>NaN</td>\n",
       "      <td>NaN</td>\n",
       "      <td>620.000000</td>\n",
       "      <td>188.000000</td>\n",
       "      <td>2199.000000</td>\n",
       "      <td>9539.000000</td>\n",
       "      <td>1.224046e+18</td>\n",
       "      <td>1.224046e+18</td>\n",
       "      <td>1.224115e+18</td>\n",
       "      <td>1.224115e+18</td>\n",
       "    </tr>\n",
       "    <tr>\n",
       "      <td>75%</td>\n",
       "      <td>423165.500000</td>\n",
       "      <td>1.224156e+18</td>\n",
       "      <td>1.224156e+18</td>\n",
       "      <td>1.224149e+18</td>\n",
       "      <td>1.224149e+18</td>\n",
       "      <td>3.901788e+09</td>\n",
       "      <td>3.901788e+09</td>\n",
       "      <td>NaN</td>\n",
       "      <td>NaN</td>\n",
       "      <td>NaN</td>\n",
       "      <td>...</td>\n",
       "      <td>NaN</td>\n",
       "      <td>NaN</td>\n",
       "      <td>620.000000</td>\n",
       "      <td>188.000000</td>\n",
       "      <td>4077.000000</td>\n",
       "      <td>22234.000000</td>\n",
       "      <td>1.224115e+18</td>\n",
       "      <td>1.224115e+18</td>\n",
       "      <td>1.224146e+18</td>\n",
       "      <td>1.224146e+18</td>\n",
       "    </tr>\n",
       "    <tr>\n",
       "      <td>max</td>\n",
       "      <td>563274.000000</td>\n",
       "      <td>1.224173e+18</td>\n",
       "      <td>1.224173e+18</td>\n",
       "      <td>1.224173e+18</td>\n",
       "      <td>1.224173e+18</td>\n",
       "      <td>1.224170e+18</td>\n",
       "      <td>1.224170e+18</td>\n",
       "      <td>NaN</td>\n",
       "      <td>NaN</td>\n",
       "      <td>NaN</td>\n",
       "      <td>...</td>\n",
       "      <td>NaN</td>\n",
       "      <td>NaN</td>\n",
       "      <td>109403.000000</td>\n",
       "      <td>36402.000000</td>\n",
       "      <td>139513.000000</td>\n",
       "      <td>547929.000000</td>\n",
       "      <td>1.224168e+18</td>\n",
       "      <td>1.224168e+18</td>\n",
       "      <td>1.224171e+18</td>\n",
       "      <td>1.224171e+18</td>\n",
       "    </tr>\n",
       "  </tbody>\n",
       "</table>\n",
       "<p>8 rows × 118 columns</p>\n",
       "</div>"
      ],
      "text/plain": [
       "          Unnamed: 0            id        id_str  in_reply_to_status_id  \\\n",
       "count  494079.000000  4.940790e+05  4.940790e+05           5.818000e+04   \n",
       "mean   281522.611263  1.224143e+18  1.224143e+18           1.223834e+18   \n",
       "std    163585.252349  1.602256e+13  1.602256e+13           7.242075e+15   \n",
       "min         2.000000  1.224113e+18  1.224113e+18           2.627492e+17   \n",
       "25%    140303.500000  1.224130e+18  1.224130e+18           1.224123e+18   \n",
       "50%    275841.000000  1.224142e+18  1.224142e+18           1.224134e+18   \n",
       "75%    423165.500000  1.224156e+18  1.224156e+18           1.224149e+18   \n",
       "max    563274.000000  1.224173e+18  1.224173e+18           1.224173e+18   \n",
       "\n",
       "       in_reply_to_status_id_str  in_reply_to_user_id  \\\n",
       "count               5.818000e+04         8.136000e+04   \n",
       "mean                1.223834e+18         2.181581e+17   \n",
       "std                 7.242075e+15         4.124439e+17   \n",
       "min                 2.627492e+17         1.200000e+01   \n",
       "25%                 1.224123e+18         5.689803e+07   \n",
       "50%                 1.224134e+18         4.744472e+08   \n",
       "75%                 1.224149e+18         3.901788e+09   \n",
       "max                 1.224173e+18         1.224170e+18   \n",
       "\n",
       "       in_reply_to_user_id_str  geo  coordinates  place  ...  \\\n",
       "count             8.136000e+04  0.0          0.0    0.0  ...   \n",
       "mean              2.181581e+17  NaN          NaN    NaN  ...   \n",
       "std               4.124439e+17  NaN          NaN    NaN  ...   \n",
       "min               1.200000e+01  NaN          NaN    NaN  ...   \n",
       "25%               5.689803e+07  NaN          NaN    NaN  ...   \n",
       "50%               4.744472e+08  NaN          NaN    NaN  ...   \n",
       "75%               3.901788e+09  NaN          NaN    NaN  ...   \n",
       "max               1.224170e+18  NaN          NaN    NaN  ...   \n",
       "\n",
       "       retweeted_status.quoted_status.place  \\\n",
       "count                                   0.0   \n",
       "mean                                    NaN   \n",
       "std                                     NaN   \n",
       "min                                     NaN   \n",
       "25%                                     NaN   \n",
       "50%                                     NaN   \n",
       "75%                                     NaN   \n",
       "max                                     NaN   \n",
       "\n",
       "       retweeted_status.quoted_status.contributors  \\\n",
       "count                                          0.0   \n",
       "mean                                           NaN   \n",
       "std                                            NaN   \n",
       "min                                            NaN   \n",
       "25%                                            NaN   \n",
       "50%                                            NaN   \n",
       "75%                                            NaN   \n",
       "max                                            NaN   \n",
       "\n",
       "       retweeted_status.quoted_status.quote_count  \\\n",
       "count                                23715.000000   \n",
       "mean                                  1010.453637   \n",
       "std                                   2390.237861   \n",
       "min                                      0.000000   \n",
       "25%                                     37.000000   \n",
       "50%                                    620.000000   \n",
       "75%                                    620.000000   \n",
       "max                                 109403.000000   \n",
       "\n",
       "       retweeted_status.quoted_status.reply_count  \\\n",
       "count                                23715.000000   \n",
       "mean                                   498.526544   \n",
       "std                                   1983.446716   \n",
       "min                                      0.000000   \n",
       "25%                                     30.000000   \n",
       "50%                                    188.000000   \n",
       "75%                                    188.000000   \n",
       "max                                  36402.000000   \n",
       "\n",
       "       retweeted_status.quoted_status.retweet_count  \\\n",
       "count                                  23715.000000   \n",
       "mean                                    3493.584651   \n",
       "std                                     5839.301197   \n",
       "min                                        0.000000   \n",
       "25%                                      164.000000   \n",
       "50%                                     2199.000000   \n",
       "75%                                     4077.000000   \n",
       "max                                   139513.000000   \n",
       "\n",
       "       retweeted_status.quoted_status.favorite_count  \\\n",
       "count                                   23715.000000   \n",
       "mean                                    16623.151001   \n",
       "std                                     25671.982581   \n",
       "min                                         0.000000   \n",
       "25%                                       509.000000   \n",
       "50%                                      9539.000000   \n",
       "75%                                     22234.000000   \n",
       "max                                    547929.000000   \n",
       "\n",
       "       retweeted_status.quoted_status.quoted_status_id  \\\n",
       "count                                     7.670000e+02   \n",
       "mean                                      1.211414e+18   \n",
       "std                                       9.586781e+16   \n",
       "min                                       2.409060e+17   \n",
       "25%                                       1.223816e+18   \n",
       "50%                                       1.224046e+18   \n",
       "75%                                       1.224115e+18   \n",
       "max                                       1.224168e+18   \n",
       "\n",
       "       retweeted_status.quoted_status.quoted_status_id_str  \\\n",
       "count                                       7.670000e+02     \n",
       "mean                                        1.211414e+18     \n",
       "std                                         9.586781e+16     \n",
       "min                                         2.409060e+17     \n",
       "25%                                         1.223816e+18     \n",
       "50%                                         1.224046e+18     \n",
       "75%                                         1.224115e+18     \n",
       "max                                         1.224168e+18     \n",
       "\n",
       "       quoted_status.quoted_status_id  quoted_status.quoted_status_id_str  \n",
       "count                    1.863000e+03                        1.863000e+03  \n",
       "mean                     1.215874e+18                        1.215874e+18  \n",
       "std                      7.856791e+16                        7.856791e+16  \n",
       "min                      8.783073e+09                        8.783073e+09  \n",
       "25%                      1.223962e+18                        1.223962e+18  \n",
       "50%                      1.224115e+18                        1.224115e+18  \n",
       "75%                      1.224146e+18                        1.224146e+18  \n",
       "max                      1.224171e+18                        1.224171e+18  \n",
       "\n",
       "[8 rows x 118 columns]"
      ]
     },
     "execution_count": 4,
     "metadata": {},
     "output_type": "execute_result"
    }
   ],
   "source": [
    "df.describe()"
   ]
  },
  {
   "cell_type": "code",
   "execution_count": 5,
   "metadata": {},
   "outputs": [
    {
     "data": {
      "text/html": [
       "<div>\n",
       "<style scoped>\n",
       "    .dataframe tbody tr th:only-of-type {\n",
       "        vertical-align: middle;\n",
       "    }\n",
       "\n",
       "    .dataframe tbody tr th {\n",
       "        vertical-align: top;\n",
       "    }\n",
       "\n",
       "    .dataframe thead th {\n",
       "        text-align: right;\n",
       "    }\n",
       "</style>\n",
       "<table border=\"1\" class=\"dataframe\">\n",
       "  <thead>\n",
       "    <tr style=\"text-align: right;\">\n",
       "      <th></th>\n",
       "      <th>Unnamed: 0</th>\n",
       "      <th>_id</th>\n",
       "      <th>created_at</th>\n",
       "      <th>id</th>\n",
       "      <th>id_str</th>\n",
       "      <th>text</th>\n",
       "      <th>source</th>\n",
       "      <th>truncated</th>\n",
       "      <th>in_reply_to_status_id</th>\n",
       "      <th>in_reply_to_status_id_str</th>\n",
       "      <th>...</th>\n",
       "      <th>retweeted_status.extended_tweet.entities.polls</th>\n",
       "      <th>retweeted_status.scopes.followers</th>\n",
       "      <th>quoted_status.entities.polls</th>\n",
       "      <th>retweeted_status.quoted_status.extended_tweet.entities.polls</th>\n",
       "      <th>retweeted_status.quoted_status.entities.polls</th>\n",
       "      <th>quoted_status.extended_tweet.entities.polls</th>\n",
       "      <th>retweeted_status.quoted_status.user.withheld_in_countries</th>\n",
       "      <th>retweeted_status.quoted_status.withheld_in_countries</th>\n",
       "      <th>quoted_status.user.withheld_in_countries</th>\n",
       "      <th>quoted_status.withheld_in_countries</th>\n",
       "    </tr>\n",
       "  </thead>\n",
       "  <tbody>\n",
       "    <tr>\n",
       "      <td>0</td>\n",
       "      <td>2</td>\n",
       "      <td>5e37c79ad45e79dd671e47ed</td>\n",
       "      <td>Mon Feb 03 03:28:35 +0000 2020</td>\n",
       "      <td>1224172804100194304</td>\n",
       "      <td>1224172804100194304</td>\n",
       "      <td>RT @theBaeSensei: I’ll drink bleach before i p...</td>\n",
       "      <td>&lt;a href=\"http://twitter.com/download/iphone\" r...</td>\n",
       "      <td>False</td>\n",
       "      <td>NaN</td>\n",
       "      <td>NaN</td>\n",
       "      <td>...</td>\n",
       "      <td>NaN</td>\n",
       "      <td>NaN</td>\n",
       "      <td>NaN</td>\n",
       "      <td>NaN</td>\n",
       "      <td>NaN</td>\n",
       "      <td>NaN</td>\n",
       "      <td>NaN</td>\n",
       "      <td>NaN</td>\n",
       "      <td>NaN</td>\n",
       "      <td>NaN</td>\n",
       "    </tr>\n",
       "    <tr>\n",
       "      <td>1</td>\n",
       "      <td>3</td>\n",
       "      <td>5e37c79ad45e79dd671e47ec</td>\n",
       "      <td>Mon Feb 03 03:28:44 +0000 2020</td>\n",
       "      <td>1224172844097179654</td>\n",
       "      <td>1224172844097179654</td>\n",
       "      <td>RT @theBaeSensei: I’ll drink bleach before i p...</td>\n",
       "      <td>&lt;a href=\"http://twitter.com/download/iphone\" r...</td>\n",
       "      <td>False</td>\n",
       "      <td>NaN</td>\n",
       "      <td>NaN</td>\n",
       "      <td>...</td>\n",
       "      <td>NaN</td>\n",
       "      <td>NaN</td>\n",
       "      <td>NaN</td>\n",
       "      <td>NaN</td>\n",
       "      <td>NaN</td>\n",
       "      <td>NaN</td>\n",
       "      <td>NaN</td>\n",
       "      <td>NaN</td>\n",
       "      <td>NaN</td>\n",
       "      <td>NaN</td>\n",
       "    </tr>\n",
       "    <tr>\n",
       "      <td>2</td>\n",
       "      <td>4</td>\n",
       "      <td>5e37c79ad45e79dd671e47e8</td>\n",
       "      <td>Mon Feb 03 03:29:44 +0000 2020</td>\n",
       "      <td>1224173095369486338</td>\n",
       "      <td>1224173095369486338</td>\n",
       "      <td>RT @BleachImmortal: \"My name is Ichigo Kurosak...</td>\n",
       "      <td>&lt;a href=\"http://twitter.com/download/android\" ...</td>\n",
       "      <td>False</td>\n",
       "      <td>NaN</td>\n",
       "      <td>NaN</td>\n",
       "      <td>...</td>\n",
       "      <td>NaN</td>\n",
       "      <td>NaN</td>\n",
       "      <td>NaN</td>\n",
       "      <td>NaN</td>\n",
       "      <td>NaN</td>\n",
       "      <td>NaN</td>\n",
       "      <td>NaN</td>\n",
       "      <td>NaN</td>\n",
       "      <td>NaN</td>\n",
       "      <td>NaN</td>\n",
       "    </tr>\n",
       "    <tr>\n",
       "      <td>3</td>\n",
       "      <td>5</td>\n",
       "      <td>5e37c79ad45e79dd671e47e6</td>\n",
       "      <td>Mon Feb 03 03:29:54 +0000 2020</td>\n",
       "      <td>1224173137698467842</td>\n",
       "      <td>1224173137698467842</td>\n",
       "      <td>RT @ZBrag101: My Next Video, hav't started yet...</td>\n",
       "      <td>&lt;a href=\"http://twitter.com/download/android\" ...</td>\n",
       "      <td>False</td>\n",
       "      <td>NaN</td>\n",
       "      <td>NaN</td>\n",
       "      <td>...</td>\n",
       "      <td>NaN</td>\n",
       "      <td>NaN</td>\n",
       "      <td>NaN</td>\n",
       "      <td>NaN</td>\n",
       "      <td>NaN</td>\n",
       "      <td>NaN</td>\n",
       "      <td>NaN</td>\n",
       "      <td>NaN</td>\n",
       "      <td>NaN</td>\n",
       "      <td>NaN</td>\n",
       "    </tr>\n",
       "    <tr>\n",
       "      <td>4</td>\n",
       "      <td>6</td>\n",
       "      <td>5e37c79ad45e79dd671e47f0</td>\n",
       "      <td>Mon Feb 03 03:28:29 +0000 2020</td>\n",
       "      <td>1224172779559321600</td>\n",
       "      <td>1224172779559321600</td>\n",
       "      <td>@AubreyNexus @LaudenRolly When I bleach my hai...</td>\n",
       "      <td>&lt;a href=\"http://twitter.com/download/android\" ...</td>\n",
       "      <td>False</td>\n",
       "      <td>NaN</td>\n",
       "      <td>NaN</td>\n",
       "      <td>...</td>\n",
       "      <td>NaN</td>\n",
       "      <td>NaN</td>\n",
       "      <td>NaN</td>\n",
       "      <td>NaN</td>\n",
       "      <td>NaN</td>\n",
       "      <td>NaN</td>\n",
       "      <td>NaN</td>\n",
       "      <td>NaN</td>\n",
       "      <td>NaN</td>\n",
       "      <td>NaN</td>\n",
       "    </tr>\n",
       "  </tbody>\n",
       "</table>\n",
       "<p>5 rows × 400 columns</p>\n",
       "</div>"
      ],
      "text/plain": [
       "   Unnamed: 0                       _id                      created_at  \\\n",
       "0           2  5e37c79ad45e79dd671e47ed  Mon Feb 03 03:28:35 +0000 2020   \n",
       "1           3  5e37c79ad45e79dd671e47ec  Mon Feb 03 03:28:44 +0000 2020   \n",
       "2           4  5e37c79ad45e79dd671e47e8  Mon Feb 03 03:29:44 +0000 2020   \n",
       "3           5  5e37c79ad45e79dd671e47e6  Mon Feb 03 03:29:54 +0000 2020   \n",
       "4           6  5e37c79ad45e79dd671e47f0  Mon Feb 03 03:28:29 +0000 2020   \n",
       "\n",
       "                    id               id_str  \\\n",
       "0  1224172804100194304  1224172804100194304   \n",
       "1  1224172844097179654  1224172844097179654   \n",
       "2  1224173095369486338  1224173095369486338   \n",
       "3  1224173137698467842  1224173137698467842   \n",
       "4  1224172779559321600  1224172779559321600   \n",
       "\n",
       "                                                text  \\\n",
       "0  RT @theBaeSensei: I’ll drink bleach before i p...   \n",
       "1  RT @theBaeSensei: I’ll drink bleach before i p...   \n",
       "2  RT @BleachImmortal: \"My name is Ichigo Kurosak...   \n",
       "3  RT @ZBrag101: My Next Video, hav't started yet...   \n",
       "4  @AubreyNexus @LaudenRolly When I bleach my hai...   \n",
       "\n",
       "                                              source  truncated  \\\n",
       "0  <a href=\"http://twitter.com/download/iphone\" r...      False   \n",
       "1  <a href=\"http://twitter.com/download/iphone\" r...      False   \n",
       "2  <a href=\"http://twitter.com/download/android\" ...      False   \n",
       "3  <a href=\"http://twitter.com/download/android\" ...      False   \n",
       "4  <a href=\"http://twitter.com/download/android\" ...      False   \n",
       "\n",
       "   in_reply_to_status_id  in_reply_to_status_id_str  ...  \\\n",
       "0                    NaN                        NaN  ...   \n",
       "1                    NaN                        NaN  ...   \n",
       "2                    NaN                        NaN  ...   \n",
       "3                    NaN                        NaN  ...   \n",
       "4                    NaN                        NaN  ...   \n",
       "\n",
       "   retweeted_status.extended_tweet.entities.polls  \\\n",
       "0                                             NaN   \n",
       "1                                             NaN   \n",
       "2                                             NaN   \n",
       "3                                             NaN   \n",
       "4                                             NaN   \n",
       "\n",
       "   retweeted_status.scopes.followers quoted_status.entities.polls  \\\n",
       "0                                NaN                          NaN   \n",
       "1                                NaN                          NaN   \n",
       "2                                NaN                          NaN   \n",
       "3                                NaN                          NaN   \n",
       "4                                NaN                          NaN   \n",
       "\n",
       "   retweeted_status.quoted_status.extended_tweet.entities.polls  \\\n",
       "0                                                NaN              \n",
       "1                                                NaN              \n",
       "2                                                NaN              \n",
       "3                                                NaN              \n",
       "4                                                NaN              \n",
       "\n",
       "   retweeted_status.quoted_status.entities.polls  \\\n",
       "0                                            NaN   \n",
       "1                                            NaN   \n",
       "2                                            NaN   \n",
       "3                                            NaN   \n",
       "4                                            NaN   \n",
       "\n",
       "   quoted_status.extended_tweet.entities.polls  \\\n",
       "0                                          NaN   \n",
       "1                                          NaN   \n",
       "2                                          NaN   \n",
       "3                                          NaN   \n",
       "4                                          NaN   \n",
       "\n",
       "   retweeted_status.quoted_status.user.withheld_in_countries  \\\n",
       "0                                                NaN           \n",
       "1                                                NaN           \n",
       "2                                                NaN           \n",
       "3                                                NaN           \n",
       "4                                                NaN           \n",
       "\n",
       "   retweeted_status.quoted_status.withheld_in_countries  \\\n",
       "0                                                NaN      \n",
       "1                                                NaN      \n",
       "2                                                NaN      \n",
       "3                                                NaN      \n",
       "4                                                NaN      \n",
       "\n",
       "   quoted_status.user.withheld_in_countries  \\\n",
       "0                                       NaN   \n",
       "1                                       NaN   \n",
       "2                                       NaN   \n",
       "3                                       NaN   \n",
       "4                                       NaN   \n",
       "\n",
       "   quoted_status.withheld_in_countries  \n",
       "0                                  NaN  \n",
       "1                                  NaN  \n",
       "2                                  NaN  \n",
       "3                                  NaN  \n",
       "4                                  NaN  \n",
       "\n",
       "[5 rows x 400 columns]"
      ]
     },
     "execution_count": 5,
     "metadata": {},
     "output_type": "execute_result"
    }
   ],
   "source": [
    "df.head()"
   ]
  },
  {
   "cell_type": "code",
   "execution_count": 6,
   "metadata": {},
   "outputs": [
    {
     "name": "stdout",
     "output_type": "stream",
     "text": [
      "['Unnamed: 0' '_id' 'created_at' 'id' 'id_str' 'text' 'source' 'truncated'\n",
      " 'in_reply_to_status_id' 'in_reply_to_status_id_str' 'in_reply_to_user_id'\n",
      " 'in_reply_to_user_id_str' 'in_reply_to_screen_name' 'geo' 'coordinates'\n",
      " 'place' 'contributors' 'is_quote_status' 'quote_count' 'reply_count'\n",
      " 'retweet_count' 'favorite_count' 'favorited' 'retweeted' 'filter_level'\n",
      " 'lang' 'matching_rules' 'timestamp' 'valid_time' 'period' 'AdTitle'\n",
      " 'Brand' 'sentiment' 'user.id' 'user.id_str' 'user.name'\n",
      " 'user.screen_name' 'user.location' 'user.url' 'user.description'\n",
      " 'user.translator_type' 'user.protected' 'user.verified'\n",
      " 'user.followers_count' 'user.friends_count' 'user.listed_count'\n",
      " 'user.favourites_count' 'user.statuses_count' 'user.created_at'\n",
      " 'user.utc_offset' 'user.time_zone' 'user.geo_enabled' 'user.lang'\n",
      " 'user.contributors_enabled' 'user.is_translator'\n",
      " 'user.profile_background_color' 'user.profile_background_image_url'\n",
      " 'user.profile_background_image_url_https' 'user.profile_background_tile'\n",
      " 'user.profile_link_color' 'user.profile_sidebar_border_color'\n",
      " 'user.profile_sidebar_fill_color' 'user.profile_text_color'\n",
      " 'user.profile_use_background_image' 'user.profile_image_url'\n",
      " 'user.profile_image_url_https' 'user.profile_banner_url'\n",
      " 'user.default_profile' 'user.default_profile_image' 'user.following'\n",
      " 'user.follow_request_sent' 'user.notifications' 'entities.hashtags'\n",
      " 'entities.urls' 'entities.user_mentions' 'entities.symbols'\n",
      " 'retweeted_status.created_at' 'retweeted_status.id'\n",
      " 'retweeted_status.id_str' 'retweeted_status.text'\n",
      " 'retweeted_status.display_text_range' 'retweeted_status.source'\n",
      " 'retweeted_status.truncated' 'retweeted_status.in_reply_to_status_id'\n",
      " 'retweeted_status.in_reply_to_status_id_str'\n",
      " 'retweeted_status.in_reply_to_user_id'\n",
      " 'retweeted_status.in_reply_to_user_id_str'\n",
      " 'retweeted_status.in_reply_to_screen_name' 'retweeted_status.user.id'\n",
      " 'retweeted_status.user.id_str' 'retweeted_status.user.name'\n",
      " 'retweeted_status.user.screen_name' 'retweeted_status.user.location'\n",
      " 'retweeted_status.user.url' 'retweeted_status.user.description'\n",
      " 'retweeted_status.user.translator_type' 'retweeted_status.user.protected'\n",
      " 'retweeted_status.user.verified' 'retweeted_status.user.followers_count'\n",
      " 'retweeted_status.user.friends_count'\n",
      " 'retweeted_status.user.listed_count'\n",
      " 'retweeted_status.user.favourites_count'\n",
      " 'retweeted_status.user.statuses_count' 'retweeted_status.user.created_at'\n",
      " 'retweeted_status.user.utc_offset' 'retweeted_status.user.time_zone'\n",
      " 'retweeted_status.user.geo_enabled' 'retweeted_status.user.lang'\n",
      " 'retweeted_status.user.contributors_enabled'\n",
      " 'retweeted_status.user.is_translator'\n",
      " 'retweeted_status.user.profile_background_color'\n",
      " 'retweeted_status.user.profile_background_image_url'\n",
      " 'retweeted_status.user.profile_background_image_url_https'\n",
      " 'retweeted_status.user.profile_background_tile'\n",
      " 'retweeted_status.user.profile_link_color'\n",
      " 'retweeted_status.user.profile_sidebar_border_color'\n",
      " 'retweeted_status.user.profile_sidebar_fill_color'\n",
      " 'retweeted_status.user.profile_text_color'\n",
      " 'retweeted_status.user.profile_use_background_image'\n",
      " 'retweeted_status.user.profile_image_url'\n",
      " 'retweeted_status.user.profile_image_url_https'\n",
      " 'retweeted_status.user.profile_banner_url'\n",
      " 'retweeted_status.user.default_profile'\n",
      " 'retweeted_status.user.default_profile_image'\n",
      " 'retweeted_status.user.following'\n",
      " 'retweeted_status.user.follow_request_sent'\n",
      " 'retweeted_status.user.notifications' 'retweeted_status.geo'\n",
      " 'retweeted_status.coordinates' 'retweeted_status.place'\n",
      " 'retweeted_status.contributors' 'retweeted_status.is_quote_status'\n",
      " 'retweeted_status.extended_tweet.full_text'\n",
      " 'retweeted_status.extended_tweet.display_text_range'\n",
      " 'retweeted_status.extended_tweet.entities.hashtags'\n",
      " 'retweeted_status.extended_tweet.entities.urls'\n",
      " 'retweeted_status.extended_tweet.entities.user_mentions'\n",
      " 'retweeted_status.extended_tweet.entities.symbols'\n",
      " 'retweeted_status.extended_tweet.entities.media'\n",
      " 'retweeted_status.extended_tweet.extended_entities.media'\n",
      " 'retweeted_status.quote_count' 'retweeted_status.reply_count'\n",
      " 'retweeted_status.retweet_count' 'retweeted_status.favorite_count'\n",
      " 'retweeted_status.entities.hashtags' 'retweeted_status.entities.urls'\n",
      " 'retweeted_status.entities.user_mentions'\n",
      " 'retweeted_status.entities.symbols' 'retweeted_status.favorited'\n",
      " 'retweeted_status.retweeted' 'retweeted_status.possibly_sensitive'\n",
      " 'retweeted_status.filter_level' 'retweeted_status.lang'\n",
      " 'user.derived.locations' 'possibly_sensitive'\n",
      " 'retweeted_status.entities.media'\n",
      " 'retweeted_status.extended_entities.media' 'entities.media'\n",
      " 'extended_entities.media' 'display_text_range' 'extended_tweet.full_text'\n",
      " 'extended_tweet.display_text_range' 'extended_tweet.entities.hashtags'\n",
      " 'extended_tweet.entities.urls' 'extended_tweet.entities.user_mentions'\n",
      " 'extended_tweet.entities.symbols' 'quoted_status_id'\n",
      " 'quoted_status_id_str' 'quoted_status.created_at' 'quoted_status.id'\n",
      " 'quoted_status.id_str' 'quoted_status.text'\n",
      " 'quoted_status.display_text_range' 'quoted_status.source'\n",
      " 'quoted_status.truncated' 'quoted_status.in_reply_to_status_id'\n",
      " 'quoted_status.in_reply_to_status_id_str'\n",
      " 'quoted_status.in_reply_to_user_id'\n",
      " 'quoted_status.in_reply_to_user_id_str'\n",
      " 'quoted_status.in_reply_to_screen_name' 'quoted_status.user.id'\n",
      " 'quoted_status.user.id_str' 'quoted_status.user.name'\n",
      " 'quoted_status.user.screen_name' 'quoted_status.user.location'\n",
      " 'quoted_status.user.url' 'quoted_status.user.description'\n",
      " 'quoted_status.user.translator_type' 'quoted_status.user.protected'\n",
      " 'quoted_status.user.verified' 'quoted_status.user.followers_count'\n",
      " 'quoted_status.user.friends_count' 'quoted_status.user.listed_count'\n",
      " 'quoted_status.user.favourites_count' 'quoted_status.user.statuses_count'\n",
      " 'quoted_status.user.created_at' 'quoted_status.user.utc_offset'\n",
      " 'quoted_status.user.time_zone' 'quoted_status.user.geo_enabled'\n",
      " 'quoted_status.user.lang' 'quoted_status.user.contributors_enabled'\n",
      " 'quoted_status.user.is_translator'\n",
      " 'quoted_status.user.profile_background_color'\n",
      " 'quoted_status.user.profile_background_image_url'\n",
      " 'quoted_status.user.profile_background_image_url_https'\n",
      " 'quoted_status.user.profile_background_tile'\n",
      " 'quoted_status.user.profile_link_color'\n",
      " 'quoted_status.user.profile_sidebar_border_color'\n",
      " 'quoted_status.user.profile_sidebar_fill_color'\n",
      " 'quoted_status.user.profile_text_color'\n",
      " 'quoted_status.user.profile_use_background_image'\n",
      " 'quoted_status.user.profile_image_url'\n",
      " 'quoted_status.user.profile_image_url_https'\n",
      " 'quoted_status.user.profile_banner_url'\n",
      " 'quoted_status.user.default_profile'\n",
      " 'quoted_status.user.default_profile_image' 'quoted_status.user.following'\n",
      " 'quoted_status.user.follow_request_sent'\n",
      " 'quoted_status.user.notifications' 'quoted_status.geo'\n",
      " 'quoted_status.coordinates' 'quoted_status.place'\n",
      " 'quoted_status.contributors' 'quoted_status.is_quote_status'\n",
      " 'quoted_status.quote_count' 'quoted_status.reply_count'\n",
      " 'quoted_status.retweet_count' 'quoted_status.favorite_count'\n",
      " 'quoted_status.entities.hashtags' 'quoted_status.entities.urls'\n",
      " 'quoted_status.entities.user_mentions' 'quoted_status.entities.symbols'\n",
      " 'quoted_status.entities.media' 'quoted_status.extended_entities.media'\n",
      " 'quoted_status.favorited' 'quoted_status.retweeted'\n",
      " 'quoted_status.possibly_sensitive' 'quoted_status.filter_level'\n",
      " 'quoted_status.lang' 'quoted_status_permalink.url'\n",
      " 'quoted_status_permalink.expanded' 'quoted_status_permalink.display'\n",
      " 'retweeted_status.quoted_status_id'\n",
      " 'retweeted_status.quoted_status_id_str'\n",
      " 'retweeted_status.quoted_status.created_at'\n",
      " 'retweeted_status.quoted_status.id'\n",
      " 'retweeted_status.quoted_status.id_str'\n",
      " 'retweeted_status.quoted_status.text'\n",
      " 'retweeted_status.quoted_status.display_text_range'\n",
      " 'retweeted_status.quoted_status.source'\n",
      " 'retweeted_status.quoted_status.truncated'\n",
      " 'retweeted_status.quoted_status.in_reply_to_status_id'\n",
      " 'retweeted_status.quoted_status.in_reply_to_status_id_str'\n",
      " 'retweeted_status.quoted_status.in_reply_to_user_id'\n",
      " 'retweeted_status.quoted_status.in_reply_to_user_id_str'\n",
      " 'retweeted_status.quoted_status.in_reply_to_screen_name'\n",
      " 'retweeted_status.quoted_status.user.id'\n",
      " 'retweeted_status.quoted_status.user.id_str'\n",
      " 'retweeted_status.quoted_status.user.name'\n",
      " 'retweeted_status.quoted_status.user.screen_name'\n",
      " 'retweeted_status.quoted_status.user.location'\n",
      " 'retweeted_status.quoted_status.user.url'\n",
      " 'retweeted_status.quoted_status.user.description'\n",
      " 'retweeted_status.quoted_status.user.translator_type'\n",
      " 'retweeted_status.quoted_status.user.protected'\n",
      " 'retweeted_status.quoted_status.user.verified'\n",
      " 'retweeted_status.quoted_status.user.followers_count'\n",
      " 'retweeted_status.quoted_status.user.friends_count'\n",
      " 'retweeted_status.quoted_status.user.listed_count'\n",
      " 'retweeted_status.quoted_status.user.favourites_count'\n",
      " 'retweeted_status.quoted_status.user.statuses_count'\n",
      " 'retweeted_status.quoted_status.user.created_at'\n",
      " 'retweeted_status.quoted_status.user.utc_offset'\n",
      " 'retweeted_status.quoted_status.user.time_zone'\n",
      " 'retweeted_status.quoted_status.user.geo_enabled'\n",
      " 'retweeted_status.quoted_status.user.lang'\n",
      " 'retweeted_status.quoted_status.user.contributors_enabled'\n",
      " 'retweeted_status.quoted_status.user.is_translator'\n",
      " 'retweeted_status.quoted_status.user.profile_background_color'\n",
      " 'retweeted_status.quoted_status.user.profile_background_image_url'\n",
      " 'retweeted_status.quoted_status.user.profile_background_image_url_https'\n",
      " 'retweeted_status.quoted_status.user.profile_background_tile'\n",
      " 'retweeted_status.quoted_status.user.profile_link_color'\n",
      " 'retweeted_status.quoted_status.user.profile_sidebar_border_color'\n",
      " 'retweeted_status.quoted_status.user.profile_sidebar_fill_color'\n",
      " 'retweeted_status.quoted_status.user.profile_text_color'\n",
      " 'retweeted_status.quoted_status.user.profile_use_background_image'\n",
      " 'retweeted_status.quoted_status.user.profile_image_url'\n",
      " 'retweeted_status.quoted_status.user.profile_image_url_https'\n",
      " 'retweeted_status.quoted_status.user.profile_banner_url'\n",
      " 'retweeted_status.quoted_status.user.default_profile'\n",
      " 'retweeted_status.quoted_status.user.default_profile_image'\n",
      " 'retweeted_status.quoted_status.user.following'\n",
      " 'retweeted_status.quoted_status.user.follow_request_sent'\n",
      " 'retweeted_status.quoted_status.user.notifications'\n",
      " 'retweeted_status.quoted_status.geo'\n",
      " 'retweeted_status.quoted_status.coordinates'\n",
      " 'retweeted_status.quoted_status.place'\n",
      " 'retweeted_status.quoted_status.contributors'\n",
      " 'retweeted_status.quoted_status.is_quote_status'\n",
      " 'retweeted_status.quoted_status.quote_count'\n",
      " 'retweeted_status.quoted_status.reply_count'\n",
      " 'retweeted_status.quoted_status.retweet_count'\n",
      " 'retweeted_status.quoted_status.favorite_count'\n",
      " 'retweeted_status.quoted_status.entities.hashtags'\n",
      " 'retweeted_status.quoted_status.entities.urls'\n",
      " 'retweeted_status.quoted_status.entities.user_mentions'\n",
      " 'retweeted_status.quoted_status.entities.symbols'\n",
      " 'retweeted_status.quoted_status.entities.media'\n",
      " 'retweeted_status.quoted_status.extended_entities.media'\n",
      " 'retweeted_status.quoted_status.favorited'\n",
      " 'retweeted_status.quoted_status.retweeted'\n",
      " 'retweeted_status.quoted_status.possibly_sensitive'\n",
      " 'retweeted_status.quoted_status.filter_level'\n",
      " 'retweeted_status.quoted_status.lang'\n",
      " 'retweeted_status.quoted_status_permalink.url'\n",
      " 'retweeted_status.quoted_status_permalink.expanded'\n",
      " 'retweeted_status.quoted_status_permalink.display' 'place.id' 'place.url'\n",
      " 'place.place_type' 'place.name' 'place.full_name' 'place.country_code'\n",
      " 'place.country' 'place.bounding_box.type'\n",
      " 'place.bounding_box.coordinates' 'extended_tweet.entities.media'\n",
      " 'extended_tweet.extended_entities.media' 'retweeted_status.place.id'\n",
      " 'retweeted_status.place.url' 'retweeted_status.place.place_type'\n",
      " 'retweeted_status.place.name' 'retweeted_status.place.full_name'\n",
      " 'retweeted_status.place.country_code' 'retweeted_status.place.country'\n",
      " 'retweeted_status.place.bounding_box.type'\n",
      " 'retweeted_status.place.bounding_box.coordinates'\n",
      " 'retweeted_status.quoted_status.quoted_status_id'\n",
      " 'retweeted_status.quoted_status.quoted_status_id_str'\n",
      " 'retweeted_status.quoted_status.extended_tweet.full_text'\n",
      " 'retweeted_status.quoted_status.extended_tweet.display_text_range'\n",
      " 'retweeted_status.quoted_status.extended_tweet.entities.hashtags'\n",
      " 'retweeted_status.quoted_status.extended_tweet.entities.urls'\n",
      " 'retweeted_status.quoted_status.extended_tweet.entities.user_mentions'\n",
      " 'retweeted_status.quoted_status.extended_tweet.entities.symbols'\n",
      " 'quoted_status.quoted_status_id' 'quoted_status.quoted_status_id_str'\n",
      " 'quoted_status.extended_tweet.full_text'\n",
      " 'quoted_status.extended_tweet.display_text_range'\n",
      " 'quoted_status.extended_tweet.entities.hashtags'\n",
      " 'quoted_status.extended_tweet.entities.urls'\n",
      " 'quoted_status.extended_tweet.entities.user_mentions'\n",
      " 'quoted_status.extended_tweet.entities.symbols'\n",
      " 'quoted_status.extended_tweet.entities.media'\n",
      " 'quoted_status.extended_tweet.extended_entities.media'\n",
      " 'quoted_status.place.id' 'quoted_status.place.url'\n",
      " 'quoted_status.place.place_type' 'quoted_status.place.name'\n",
      " 'quoted_status.place.full_name' 'quoted_status.place.country_code'\n",
      " 'quoted_status.place.country' 'quoted_status.place.bounding_box.type'\n",
      " 'quoted_status.place.bounding_box.coordinates'\n",
      " 'retweeted_status.quoted_status.extended_tweet.entities.media'\n",
      " 'retweeted_status.quoted_status.extended_tweet.extended_entities.media'\n",
      " 'scopes.followers' 'retweeted_status.geo.type'\n",
      " 'retweeted_status.geo.coordinates' 'retweeted_status.coordinates.type'\n",
      " 'retweeted_status.coordinates.coordinates' 'entities.polls'\n",
      " 'retweeted_status.quoted_status.place.id'\n",
      " 'retweeted_status.quoted_status.place.url'\n",
      " 'retweeted_status.quoted_status.place.place_type'\n",
      " 'retweeted_status.quoted_status.place.name'\n",
      " 'retweeted_status.quoted_status.place.full_name'\n",
      " 'retweeted_status.quoted_status.place.country_code'\n",
      " 'retweeted_status.quoted_status.place.country'\n",
      " 'retweeted_status.quoted_status.place.bounding_box.type'\n",
      " 'retweeted_status.quoted_status.place.bounding_box.coordinates'\n",
      " 'retweeted_status.entities.polls' 'geo.type' 'geo.coordinates'\n",
      " 'coordinates.type' 'coordinates.coordinates'\n",
      " 'extended_tweet.entities.polls'\n",
      " 'retweeted_status.quoted_status.scopes.followers'\n",
      " 'quoted_status.scopes.followers'\n",
      " 'retweeted_status.extended_tweet.entities.polls'\n",
      " 'retweeted_status.scopes.followers' 'quoted_status.entities.polls'\n",
      " 'retweeted_status.quoted_status.extended_tweet.entities.polls'\n",
      " 'retweeted_status.quoted_status.entities.polls'\n",
      " 'quoted_status.extended_tweet.entities.polls'\n",
      " 'retweeted_status.quoted_status.user.withheld_in_countries'\n",
      " 'retweeted_status.quoted_status.withheld_in_countries'\n",
      " 'quoted_status.user.withheld_in_countries'\n",
      " 'quoted_status.withheld_in_countries']\n"
     ]
    }
   ],
   "source": [
    "# All features\n",
    "print(df.columns.values)"
   ]
  },
  {
   "cell_type": "markdown",
   "metadata": {},
   "source": [
    "### New dataframe"
   ]
  },
  {
   "cell_type": "code",
   "execution_count": 7,
   "metadata": {},
   "outputs": [],
   "source": [
    "# Select useful features ( initiation )\n",
    "Tweet = df[['timestamp','text','Brand','favorite_count','reply_count','sentiment','period','AdTitle','user.description','user.followers_count','user.location','retweet_count']]"
   ]
  },
  {
   "cell_type": "code",
   "execution_count": 8,
   "metadata": {},
   "outputs": [
    {
     "name": "stdout",
     "output_type": "stream",
     "text": [
      "<class 'pandas.core.frame.DataFrame'>\n",
      "RangeIndex: 494079 entries, 0 to 494078\n",
      "Data columns (total 12 columns):\n",
      "timestamp               494079 non-null float64\n",
      "text                    494079 non-null object\n",
      "Brand                   494079 non-null object\n",
      "favorite_count          494079 non-null int64\n",
      "reply_count             494079 non-null int64\n",
      "sentiment               494079 non-null object\n",
      "period                  494079 non-null object\n",
      "AdTitle                 494079 non-null object\n",
      "user.description        413893 non-null object\n",
      "user.followers_count    494079 non-null int64\n",
      "user.location           350830 non-null object\n",
      "retweet_count           494079 non-null int64\n",
      "dtypes: float64(1), int64(4), object(7)\n",
      "memory usage: 45.2+ MB\n"
     ]
    }
   ],
   "source": [
    "Tweet.info()"
   ]
  },
  {
   "cell_type": "code",
   "execution_count": 9,
   "metadata": {},
   "outputs": [
    {
     "data": {
      "text/html": [
       "<div>\n",
       "<style scoped>\n",
       "    .dataframe tbody tr th:only-of-type {\n",
       "        vertical-align: middle;\n",
       "    }\n",
       "\n",
       "    .dataframe tbody tr th {\n",
       "        vertical-align: top;\n",
       "    }\n",
       "\n",
       "    .dataframe thead th {\n",
       "        text-align: right;\n",
       "    }\n",
       "</style>\n",
       "<table border=\"1\" class=\"dataframe\">\n",
       "  <thead>\n",
       "    <tr style=\"text-align: right;\">\n",
       "      <th></th>\n",
       "      <th>timestamp</th>\n",
       "      <th>text</th>\n",
       "      <th>Brand</th>\n",
       "      <th>favorite_count</th>\n",
       "      <th>reply_count</th>\n",
       "      <th>sentiment</th>\n",
       "      <th>period</th>\n",
       "      <th>AdTitle</th>\n",
       "      <th>user.description</th>\n",
       "      <th>user.followers_count</th>\n",
       "      <th>user.location</th>\n",
       "      <th>retweet_count</th>\n",
       "    </tr>\n",
       "  </thead>\n",
       "  <tbody>\n",
       "    <tr>\n",
       "      <td>0</td>\n",
       "      <td>1.580701e+09</td>\n",
       "      <td>RT @theBaeSensei: I’ll drink bleach before i p...</td>\n",
       "      <td>NFL</td>\n",
       "      <td>0</td>\n",
       "      <td>0</td>\n",
       "      <td>negative</td>\n",
       "      <td>4</td>\n",
       "      <td>Next 100</td>\n",
       "      <td>3 cans short of a 6 pack ... #TeamOnBullshit</td>\n",
       "      <td>244</td>\n",
       "      <td>NaN</td>\n",
       "      <td>0</td>\n",
       "    </tr>\n",
       "    <tr>\n",
       "      <td>1</td>\n",
       "      <td>1.580701e+09</td>\n",
       "      <td>RT @theBaeSensei: I’ll drink bleach before i p...</td>\n",
       "      <td>NFL</td>\n",
       "      <td>0</td>\n",
       "      <td>0</td>\n",
       "      <td>negative</td>\n",
       "      <td>4</td>\n",
       "      <td>Next 100</td>\n",
       "      <td>boy momma. 28. 🤞🏽🐻💙 insta @chanelisamazing</td>\n",
       "      <td>1236</td>\n",
       "      <td>NaN</td>\n",
       "      <td>0</td>\n",
       "    </tr>\n",
       "    <tr>\n",
       "      <td>2</td>\n",
       "      <td>1.580701e+09</td>\n",
       "      <td>RT @BleachImmortal: \"My name is Ichigo Kurosak...</td>\n",
       "      <td>NFL</td>\n",
       "      <td>0</td>\n",
       "      <td>0</td>\n",
       "      <td>positive</td>\n",
       "      <td>4</td>\n",
       "      <td>Next 100</td>\n",
       "      <td>Hey everyone! I'm RallyHitzZ | 17 | #Anime | E...</td>\n",
       "      <td>159</td>\n",
       "      <td>Soul Society</td>\n",
       "      <td>0</td>\n",
       "    </tr>\n",
       "    <tr>\n",
       "      <td>3</td>\n",
       "      <td>1.580701e+09</td>\n",
       "      <td>RT @ZBrag101: My Next Video, hav't started yet...</td>\n",
       "      <td>NFL</td>\n",
       "      <td>0</td>\n",
       "      <td>0</td>\n",
       "      <td>negative</td>\n",
       "      <td>4</td>\n",
       "      <td>Next 100</td>\n",
       "      <td>My advice to the world: Normalcy is overrated....</td>\n",
       "      <td>561</td>\n",
       "      <td>Fort Wayne, IN</td>\n",
       "      <td>0</td>\n",
       "    </tr>\n",
       "    <tr>\n",
       "      <td>4</td>\n",
       "      <td>1.580701e+09</td>\n",
       "      <td>@AubreyNexus @LaudenRolly When I bleach my hai...</td>\n",
       "      <td>NFL</td>\n",
       "      <td>2</td>\n",
       "      <td>2</td>\n",
       "      <td>neutral</td>\n",
       "      <td>4</td>\n",
       "      <td>Next 100</td>\n",
       "      <td>20 | TN | Cosplayer | Hero Enthusiast\\n\\nNext ...</td>\n",
       "      <td>11</td>\n",
       "      <td>Murfreesboro, TN</td>\n",
       "      <td>1</td>\n",
       "    </tr>\n",
       "  </tbody>\n",
       "</table>\n",
       "</div>"
      ],
      "text/plain": [
       "      timestamp                                               text Brand  \\\n",
       "0  1.580701e+09  RT @theBaeSensei: I’ll drink bleach before i p...   NFL   \n",
       "1  1.580701e+09  RT @theBaeSensei: I’ll drink bleach before i p...   NFL   \n",
       "2  1.580701e+09  RT @BleachImmortal: \"My name is Ichigo Kurosak...   NFL   \n",
       "3  1.580701e+09  RT @ZBrag101: My Next Video, hav't started yet...   NFL   \n",
       "4  1.580701e+09  @AubreyNexus @LaudenRolly When I bleach my hai...   NFL   \n",
       "\n",
       "   favorite_count  reply_count sentiment period   AdTitle  \\\n",
       "0               0            0  negative      4  Next 100   \n",
       "1               0            0  negative      4  Next 100   \n",
       "2               0            0  positive      4  Next 100   \n",
       "3               0            0  negative      4  Next 100   \n",
       "4               2            2   neutral      4  Next 100   \n",
       "\n",
       "                                    user.description  user.followers_count  \\\n",
       "0       3 cans short of a 6 pack ... #TeamOnBullshit                   244   \n",
       "1         boy momma. 28. 🤞🏽🐻💙 insta @chanelisamazing                  1236   \n",
       "2  Hey everyone! I'm RallyHitzZ | 17 | #Anime | E...                   159   \n",
       "3  My advice to the world: Normalcy is overrated....                   561   \n",
       "4  20 | TN | Cosplayer | Hero Enthusiast\\n\\nNext ...                    11   \n",
       "\n",
       "      user.location  retweet_count  \n",
       "0               NaN              0  \n",
       "1               NaN              0  \n",
       "2      Soul Society              0  \n",
       "3    Fort Wayne, IN              0  \n",
       "4  Murfreesboro, TN              1  "
      ]
     },
     "execution_count": 9,
     "metadata": {},
     "output_type": "execute_result"
    }
   ],
   "source": [
    "Tweet.head()"
   ]
  },
  {
   "cell_type": "code",
   "execution_count": 10,
   "metadata": {},
   "outputs": [
    {
     "data": {
      "text/html": [
       "<div>\n",
       "<style scoped>\n",
       "    .dataframe tbody tr th:only-of-type {\n",
       "        vertical-align: middle;\n",
       "    }\n",
       "\n",
       "    .dataframe tbody tr th {\n",
       "        vertical-align: top;\n",
       "    }\n",
       "\n",
       "    .dataframe thead th {\n",
       "        text-align: right;\n",
       "    }\n",
       "</style>\n",
       "<table border=\"1\" class=\"dataframe\">\n",
       "  <thead>\n",
       "    <tr style=\"text-align: right;\">\n",
       "      <th></th>\n",
       "      <th>timestamp</th>\n",
       "      <th>text</th>\n",
       "      <th>Brand</th>\n",
       "      <th>favorite_count</th>\n",
       "      <th>reply_count</th>\n",
       "      <th>sentiment</th>\n",
       "      <th>period</th>\n",
       "      <th>AdTitle</th>\n",
       "      <th>user.description</th>\n",
       "      <th>user.followers_count</th>\n",
       "      <th>user.location</th>\n",
       "      <th>retweet_count</th>\n",
       "    </tr>\n",
       "  </thead>\n",
       "  <tbody>\n",
       "    <tr>\n",
       "      <td>5921</td>\n",
       "      <td>1.580686e+09</td>\n",
       "      <td>@backstreetboys @chancetherapper @Doritos Haha...</td>\n",
       "      <td>Doritos</td>\n",
       "      <td>0</td>\n",
       "      <td>0</td>\n",
       "      <td>positive</td>\n",
       "      <td>1</td>\n",
       "      <td>The Cool Ranch</td>\n",
       "      <td>Artesã, designer de interiores, echelon e aman...</td>\n",
       "      <td>357</td>\n",
       "      <td>Brazil</td>\n",
       "      <td>0</td>\n",
       "    </tr>\n",
       "    <tr>\n",
       "      <td>5940</td>\n",
       "      <td>1.580686e+09</td>\n",
       "      <td>RT @backstreetboys: Throwback to last year’s #...</td>\n",
       "      <td>Doritos</td>\n",
       "      <td>0</td>\n",
       "      <td>0</td>\n",
       "      <td>positive</td>\n",
       "      <td>1</td>\n",
       "      <td>The Cool Ranch</td>\n",
       "      <td>Artesã, designer de interiores, echelon e aman...</td>\n",
       "      <td>357</td>\n",
       "      <td>Brazil</td>\n",
       "      <td>0</td>\n",
       "    </tr>\n",
       "    <tr>\n",
       "      <td>6077</td>\n",
       "      <td>1.580700e+09</td>\n",
       "      <td>RT @tide: Saving the world (again) &amp;gt; laundr...</td>\n",
       "      <td>Tide</td>\n",
       "      <td>0</td>\n",
       "      <td>0</td>\n",
       "      <td>neutral</td>\n",
       "      <td>4</td>\n",
       "      <td>Finally Later</td>\n",
       "      <td>I love meeting new worlds reading books and pl...</td>\n",
       "      <td>956</td>\n",
       "      <td>Brazil</td>\n",
       "      <td>0</td>\n",
       "    </tr>\n",
       "    <tr>\n",
       "      <td>6660</td>\n",
       "      <td>1.580696e+09</td>\n",
       "      <td>RT @tide: Saving the world (again) &amp;gt; laundr...</td>\n",
       "      <td>Tide</td>\n",
       "      <td>0</td>\n",
       "      <td>0</td>\n",
       "      <td>neutral</td>\n",
       "      <td>3</td>\n",
       "      <td>Finally Later</td>\n",
       "      <td>NaN</td>\n",
       "      <td>483</td>\n",
       "      <td>Brazil</td>\n",
       "      <td>0</td>\n",
       "    </tr>\n",
       "    <tr>\n",
       "      <td>9096</td>\n",
       "      <td>1.580700e+09</td>\n",
       "      <td>RT @tide: Saving the world (again) &amp;gt; laundr...</td>\n",
       "      <td>Tide</td>\n",
       "      <td>0</td>\n",
       "      <td>0</td>\n",
       "      <td>neutral</td>\n",
       "      <td>4</td>\n",
       "      <td>Finally Later</td>\n",
       "      <td>I love meeting new worlds reading books and pl...</td>\n",
       "      <td>956</td>\n",
       "      <td>Brazil</td>\n",
       "      <td>0</td>\n",
       "    </tr>\n",
       "    <tr>\n",
       "      <td>...</td>\n",
       "      <td>...</td>\n",
       "      <td>...</td>\n",
       "      <td>...</td>\n",
       "      <td>...</td>\n",
       "      <td>...</td>\n",
       "      <td>...</td>\n",
       "      <td>...</td>\n",
       "      <td>...</td>\n",
       "      <td>...</td>\n",
       "      <td>...</td>\n",
       "      <td>...</td>\n",
       "      <td>...</td>\n",
       "    </tr>\n",
       "    <tr>\n",
       "      <td>434458</td>\n",
       "      <td>1.580689e+09</td>\n",
       "      <td>RT @ComicBook: Chris Evans in this Hyundai Son...</td>\n",
       "      <td>Cheetos</td>\n",
       "      <td>0</td>\n",
       "      <td>0</td>\n",
       "      <td>positive</td>\n",
       "      <td>2</td>\n",
       "      <td>Can't Touch This</td>\n",
       "      <td>🎶Been through some bad shit, I should be a sad...</td>\n",
       "      <td>153</td>\n",
       "      <td>Brazil</td>\n",
       "      <td>0</td>\n",
       "    </tr>\n",
       "    <tr>\n",
       "      <td>464434</td>\n",
       "      <td>1.580694e+09</td>\n",
       "      <td>RT @007: The 25th Bond film will change everyt...</td>\n",
       "      <td>Metro Goldwyn Mayer</td>\n",
       "      <td>0</td>\n",
       "      <td>0</td>\n",
       "      <td>neutral</td>\n",
       "      <td>half-time</td>\n",
       "      <td>Trailer: No Time To Die</td>\n",
       "      <td>\"My demons though quiet, are never quite silen...</td>\n",
       "      <td>629</td>\n",
       "      <td>Brazil</td>\n",
       "      <td>0</td>\n",
       "    </tr>\n",
       "    <tr>\n",
       "      <td>466117</td>\n",
       "      <td>1.580691e+09</td>\n",
       "      <td>RT @007: The 25th Bond film will change everyt...</td>\n",
       "      <td>Metro Goldwyn Mayer</td>\n",
       "      <td>0</td>\n",
       "      <td>0</td>\n",
       "      <td>neutral</td>\n",
       "      <td>2</td>\n",
       "      <td>Trailer: No Time To Die</td>\n",
       "      <td>🎶Been through some bad shit, I should be a sad...</td>\n",
       "      <td>153</td>\n",
       "      <td>Brazil</td>\n",
       "      <td>0</td>\n",
       "    </tr>\n",
       "    <tr>\n",
       "      <td>487904</td>\n",
       "      <td>1.580694e+09</td>\n",
       "      <td>RT @007: The 25th Bond film will change everyt...</td>\n",
       "      <td>Metro Goldwyn Mayer</td>\n",
       "      <td>0</td>\n",
       "      <td>0</td>\n",
       "      <td>neutral</td>\n",
       "      <td>half-time</td>\n",
       "      <td>Trailer: No Time To Die</td>\n",
       "      <td>\"My demons though quiet, are never quite silen...</td>\n",
       "      <td>629</td>\n",
       "      <td>Brazil</td>\n",
       "      <td>0</td>\n",
       "    </tr>\n",
       "    <tr>\n",
       "      <td>489587</td>\n",
       "      <td>1.580691e+09</td>\n",
       "      <td>RT @007: The 25th Bond film will change everyt...</td>\n",
       "      <td>Metro Goldwyn Mayer</td>\n",
       "      <td>0</td>\n",
       "      <td>0</td>\n",
       "      <td>neutral</td>\n",
       "      <td>2</td>\n",
       "      <td>Trailer: No Time To Die</td>\n",
       "      <td>🎶Been through some bad shit, I should be a sad...</td>\n",
       "      <td>153</td>\n",
       "      <td>Brazil</td>\n",
       "      <td>0</td>\n",
       "    </tr>\n",
       "  </tbody>\n",
       "</table>\n",
       "<p>84 rows × 12 columns</p>\n",
       "</div>"
      ],
      "text/plain": [
       "           timestamp                                               text  \\\n",
       "5921    1.580686e+09  @backstreetboys @chancetherapper @Doritos Haha...   \n",
       "5940    1.580686e+09  RT @backstreetboys: Throwback to last year’s #...   \n",
       "6077    1.580700e+09  RT @tide: Saving the world (again) &gt; laundr...   \n",
       "6660    1.580696e+09  RT @tide: Saving the world (again) &gt; laundr...   \n",
       "9096    1.580700e+09  RT @tide: Saving the world (again) &gt; laundr...   \n",
       "...              ...                                                ...   \n",
       "434458  1.580689e+09  RT @ComicBook: Chris Evans in this Hyundai Son...   \n",
       "464434  1.580694e+09  RT @007: The 25th Bond film will change everyt...   \n",
       "466117  1.580691e+09  RT @007: The 25th Bond film will change everyt...   \n",
       "487904  1.580694e+09  RT @007: The 25th Bond film will change everyt...   \n",
       "489587  1.580691e+09  RT @007: The 25th Bond film will change everyt...   \n",
       "\n",
       "                      Brand  favorite_count  reply_count sentiment     period  \\\n",
       "5921                Doritos               0            0  positive          1   \n",
       "5940                Doritos               0            0  positive          1   \n",
       "6077                   Tide               0            0   neutral          4   \n",
       "6660                   Tide               0            0   neutral          3   \n",
       "9096                   Tide               0            0   neutral          4   \n",
       "...                     ...             ...          ...       ...        ...   \n",
       "434458              Cheetos               0            0  positive          2   \n",
       "464434  Metro Goldwyn Mayer               0            0   neutral  half-time   \n",
       "466117  Metro Goldwyn Mayer               0            0   neutral          2   \n",
       "487904  Metro Goldwyn Mayer               0            0   neutral  half-time   \n",
       "489587  Metro Goldwyn Mayer               0            0   neutral          2   \n",
       "\n",
       "                        AdTitle  \\\n",
       "5921             The Cool Ranch   \n",
       "5940             The Cool Ranch   \n",
       "6077              Finally Later   \n",
       "6660              Finally Later   \n",
       "9096              Finally Later   \n",
       "...                         ...   \n",
       "434458         Can't Touch This   \n",
       "464434  Trailer: No Time To Die   \n",
       "466117  Trailer: No Time To Die   \n",
       "487904  Trailer: No Time To Die   \n",
       "489587  Trailer: No Time To Die   \n",
       "\n",
       "                                         user.description  \\\n",
       "5921    Artesã, designer de interiores, echelon e aman...   \n",
       "5940    Artesã, designer de interiores, echelon e aman...   \n",
       "6077    I love meeting new worlds reading books and pl...   \n",
       "6660                                                  NaN   \n",
       "9096    I love meeting new worlds reading books and pl...   \n",
       "...                                                   ...   \n",
       "434458  🎶Been through some bad shit, I should be a sad...   \n",
       "464434  \"My demons though quiet, are never quite silen...   \n",
       "466117  🎶Been through some bad shit, I should be a sad...   \n",
       "487904  \"My demons though quiet, are never quite silen...   \n",
       "489587  🎶Been through some bad shit, I should be a sad...   \n",
       "\n",
       "        user.followers_count user.location  retweet_count  \n",
       "5921                     357        Brazil              0  \n",
       "5940                     357        Brazil              0  \n",
       "6077                     956        Brazil              0  \n",
       "6660                     483        Brazil              0  \n",
       "9096                     956        Brazil              0  \n",
       "...                      ...           ...            ...  \n",
       "434458                   153        Brazil              0  \n",
       "464434                   629        Brazil              0  \n",
       "466117                   153        Brazil              0  \n",
       "487904                   629        Brazil              0  \n",
       "489587                   153        Brazil              0  \n",
       "\n",
       "[84 rows x 12 columns]"
      ]
     },
     "execution_count": 10,
     "metadata": {},
     "output_type": "execute_result"
    }
   ],
   "source": [
    "Tweet[Tweet['user.location']=='Brazil']"
   ]
  },
  {
   "cell_type": "markdown",
   "metadata": {},
   "source": [
    "## Data Preprocessing"
   ]
  },
  {
   "cell_type": "code",
   "execution_count": 11,
   "metadata": {},
   "outputs": [],
   "source": [
    "Tweet.timestamp=pd.to_datetime(Tweet.timestamp,unit ='s')"
   ]
  },
  {
   "cell_type": "code",
   "execution_count": 12,
   "metadata": {},
   "outputs": [],
   "source": [
    "Tweet['engage']=Tweet['retweet_count']+Tweet['reply_count']+Tweet['favorite_count']"
   ]
  },
  {
   "cell_type": "code",
   "execution_count": 13,
   "metadata": {},
   "outputs": [],
   "source": [
    "Tw_cost = Tweet.groupby('Brand').sum()\n"
   ]
  },
  {
   "cell_type": "code",
   "execution_count": 14,
   "metadata": {},
   "outputs": [
    {
     "data": {
      "text/html": [
       "<div>\n",
       "<style scoped>\n",
       "    .dataframe tbody tr th:only-of-type {\n",
       "        vertical-align: middle;\n",
       "    }\n",
       "\n",
       "    .dataframe tbody tr th {\n",
       "        vertical-align: top;\n",
       "    }\n",
       "\n",
       "    .dataframe thead th {\n",
       "        text-align: right;\n",
       "    }\n",
       "</style>\n",
       "<table border=\"1\" class=\"dataframe\">\n",
       "  <thead>\n",
       "    <tr style=\"text-align: right;\">\n",
       "      <th></th>\n",
       "      <th>favorite_count</th>\n",
       "      <th>reply_count</th>\n",
       "      <th>user.followers_count</th>\n",
       "      <th>retweet_count</th>\n",
       "      <th>engage</th>\n",
       "    </tr>\n",
       "    <tr>\n",
       "      <th>Brand</th>\n",
       "      <th></th>\n",
       "      <th></th>\n",
       "      <th></th>\n",
       "      <th></th>\n",
       "      <th></th>\n",
       "    </tr>\n",
       "  </thead>\n",
       "  <tbody>\n",
       "    <tr>\n",
       "      <td>Amazon Prime</td>\n",
       "      <td>28631</td>\n",
       "      <td>2609</td>\n",
       "      <td>76433706</td>\n",
       "      <td>5832</td>\n",
       "      <td>37072</td>\n",
       "    </tr>\n",
       "    <tr>\n",
       "      <td>Audi</td>\n",
       "      <td>52060</td>\n",
       "      <td>4079</td>\n",
       "      <td>337185165</td>\n",
       "      <td>6682</td>\n",
       "      <td>62821</td>\n",
       "    </tr>\n",
       "    <tr>\n",
       "      <td>Avacados From Mexico</td>\n",
       "      <td>13903</td>\n",
       "      <td>1759</td>\n",
       "      <td>28593427</td>\n",
       "      <td>2587</td>\n",
       "      <td>18249</td>\n",
       "    </tr>\n",
       "    <tr>\n",
       "      <td>Bloomberg</td>\n",
       "      <td>7205</td>\n",
       "      <td>338</td>\n",
       "      <td>14795189</td>\n",
       "      <td>1398</td>\n",
       "      <td>8941</td>\n",
       "    </tr>\n",
       "    <tr>\n",
       "      <td>Bud Light X Tide</td>\n",
       "      <td>139194</td>\n",
       "      <td>2909</td>\n",
       "      <td>27737828</td>\n",
       "      <td>18480</td>\n",
       "      <td>160583</td>\n",
       "    </tr>\n",
       "  </tbody>\n",
       "</table>\n",
       "</div>"
      ],
      "text/plain": [
       "                      favorite_count  reply_count  user.followers_count  \\\n",
       "Brand                                                                     \n",
       "Amazon Prime                   28631         2609              76433706   \n",
       "Audi                           52060         4079             337185165   \n",
       "Avacados From Mexico           13903         1759              28593427   \n",
       "Bloomberg                       7205          338              14795189   \n",
       "Bud Light X Tide              139194         2909              27737828   \n",
       "\n",
       "                      retweet_count  engage  \n",
       "Brand                                        \n",
       "Amazon Prime                   5832   37072  \n",
       "Audi                           6682   62821  \n",
       "Avacados From Mexico           2587   18249  \n",
       "Bloomberg                      1398    8941  \n",
       "Bud Light X Tide              18480  160583  "
      ]
     },
     "execution_count": 14,
     "metadata": {},
     "output_type": "execute_result"
    }
   ],
   "source": [
    "Tw_cost.head()"
   ]
  },
  {
   "cell_type": "code",
   "execution_count": 15,
   "metadata": {},
   "outputs": [
    {
     "data": {
      "text/html": [
       "<div>\n",
       "<style scoped>\n",
       "    .dataframe tbody tr th:only-of-type {\n",
       "        vertical-align: middle;\n",
       "    }\n",
       "\n",
       "    .dataframe tbody tr th {\n",
       "        vertical-align: top;\n",
       "    }\n",
       "\n",
       "    .dataframe thead th {\n",
       "        text-align: right;\n",
       "    }\n",
       "</style>\n",
       "<table border=\"1\" class=\"dataframe\">\n",
       "  <thead>\n",
       "    <tr style=\"text-align: right;\">\n",
       "      <th></th>\n",
       "      <th>Brand</th>\n",
       "      <th>favorite_count</th>\n",
       "      <th>reply_count</th>\n",
       "      <th>user.followers_count</th>\n",
       "      <th>retweet_count</th>\n",
       "      <th>engage</th>\n",
       "      <th>User Count</th>\n",
       "      <th>time(seconds)</th>\n",
       "      <th>rating</th>\n",
       "      <th>youtube views</th>\n",
       "      <th>Cost</th>\n",
       "      <th>engage_per_second</th>\n",
       "      <th>Follower_per_second</th>\n",
       "    </tr>\n",
       "  </thead>\n",
       "  <tbody>\n",
       "    <tr>\n",
       "      <td>23</td>\n",
       "      <td>Metro Goldwyn Mayer</td>\n",
       "      <td>110923</td>\n",
       "      <td>3166</td>\n",
       "      <td>175960045</td>\n",
       "      <td>30005</td>\n",
       "      <td>144094</td>\n",
       "      <td>12786.0</td>\n",
       "      <td>30.0</td>\n",
       "      <td>4.98</td>\n",
       "      <td>2097814.0</td>\n",
       "      <td>560000.0</td>\n",
       "      <td>4803.133333</td>\n",
       "      <td>5.865335e+06</td>\n",
       "    </tr>\n",
       "    <tr>\n",
       "      <td>33</td>\n",
       "      <td>Pringles</td>\n",
       "      <td>112788</td>\n",
       "      <td>9553</td>\n",
       "      <td>118818328</td>\n",
       "      <td>16844</td>\n",
       "      <td>139185</td>\n",
       "      <td>29975.0</td>\n",
       "      <td>30.0</td>\n",
       "      <td>4.85</td>\n",
       "      <td>673842.0</td>\n",
       "      <td>560000.0</td>\n",
       "      <td>4639.500000</td>\n",
       "      <td>3.960611e+06</td>\n",
       "    </tr>\n",
       "    <tr>\n",
       "      <td>42</td>\n",
       "      <td>T-Mobile</td>\n",
       "      <td>63747</td>\n",
       "      <td>101965</td>\n",
       "      <td>2412803243</td>\n",
       "      <td>37684</td>\n",
       "      <td>203396</td>\n",
       "      <td>29633.0</td>\n",
       "      <td>60.0</td>\n",
       "      <td>5.64</td>\n",
       "      <td>16020333.0</td>\n",
       "      <td>1120000.0</td>\n",
       "      <td>3389.933333</td>\n",
       "      <td>4.021339e+07</td>\n",
       "    </tr>\n",
       "    <tr>\n",
       "      <td>4</td>\n",
       "      <td>Bud Light X Tide</td>\n",
       "      <td>139194</td>\n",
       "      <td>2909</td>\n",
       "      <td>27737828</td>\n",
       "      <td>18480</td>\n",
       "      <td>160583</td>\n",
       "      <td>378.0</td>\n",
       "      <td>60.0</td>\n",
       "      <td>5.28</td>\n",
       "      <td>591500.0</td>\n",
       "      <td>1120000.0</td>\n",
       "      <td>2676.383333</td>\n",
       "      <td>4.622971e+05</td>\n",
       "    </tr>\n",
       "    <tr>\n",
       "      <td>7</td>\n",
       "      <td>Cheetos</td>\n",
       "      <td>60295</td>\n",
       "      <td>4704</td>\n",
       "      <td>298310633</td>\n",
       "      <td>9033</td>\n",
       "      <td>74032</td>\n",
       "      <td>18786.0</td>\n",
       "      <td>30.0</td>\n",
       "      <td>6.07</td>\n",
       "      <td>12936279.0</td>\n",
       "      <td>560000.0</td>\n",
       "      <td>2467.733333</td>\n",
       "      <td>9.943688e+06</td>\n",
       "    </tr>\n",
       "  </tbody>\n",
       "</table>\n",
       "</div>"
      ],
      "text/plain": [
       "                  Brand  favorite_count  reply_count  user.followers_count  \\\n",
       "23  Metro Goldwyn Mayer          110923         3166             175960045   \n",
       "33             Pringles          112788         9553             118818328   \n",
       "42             T-Mobile           63747       101965            2412803243   \n",
       "4      Bud Light X Tide          139194         2909              27737828   \n",
       "7               Cheetos           60295         4704             298310633   \n",
       "\n",
       "    retweet_count  engage  User Count  time(seconds)  rating  youtube views  \\\n",
       "23          30005  144094     12786.0           30.0    4.98      2097814.0   \n",
       "33          16844  139185     29975.0           30.0    4.85       673842.0   \n",
       "42          37684  203396     29633.0           60.0    5.64     16020333.0   \n",
       "4           18480  160583       378.0           60.0    5.28       591500.0   \n",
       "7            9033   74032     18786.0           30.0    6.07     12936279.0   \n",
       "\n",
       "         Cost  engage_per_second  Follower_per_second  \n",
       "23   560000.0        4803.133333         5.865335e+06  \n",
       "33   560000.0        4639.500000         3.960611e+06  \n",
       "42  1120000.0        3389.933333         4.021339e+07  \n",
       "4   1120000.0        2676.383333         4.622971e+05  \n",
       "7    560000.0        2467.733333         9.943688e+06  "
      ]
     },
     "execution_count": 15,
     "metadata": {},
     "output_type": "execute_result"
    }
   ],
   "source": [
    "new_df = pd.merge(Tw_cost,ads_df,how='inner', on = 'Brand')\n",
    "new_df['engage_per_second'] = new_df['engage']/new_df['time(seconds)']\n",
    "new_df['Follower_per_second'] = new_df['user.followers_count']/new_df['time(seconds)']\n",
    "new_df = new_df.sort_values('engage_per_second',ascending=False)\n",
    "new_df.head()"
   ]
  },
  {
   "cell_type": "code",
   "execution_count": 16,
   "metadata": {},
   "outputs": [
    {
     "data": {
      "application/vnd.plotly.v1+json": {
       "config": {
        "plotlyServerURL": "https://plot.ly"
       },
       "data": [
        {
         "type": "bar",
         "x": [
          "Metro Goldwyn Mayer",
          "Pringles",
          "T-Mobile",
          "Bud Light X Tide",
          "Cheetos",
          "BudLight",
          "Planters",
          "Discover Card",
          "Hulu",
          "Olay",
          "Google",
          "TurboTax",
          "Audi",
          "General Motors",
          "Jeep",
          "Tide",
          "Kellog",
          "Amazon Prime",
          "Avacados From Mexico",
          "Pepsi",
          "Snickers",
          "Squarespace",
          "WeatherTech",
          "Budwieser",
          "Trump",
          "Marvel",
          "New York Life",
          "Quibi",
          "Miscrosoft",
          "Verizon",
          "Heinz",
          "Rocket Mortgage",
          "Bloomberg",
          "KIA",
          "Toyota",
          "Mountain Dew",
          "Hyundai",
          "Reeses",
          "Michelob Ultra",
          "Turkish Airlines",
          "Porsche",
          "Tide x DC",
          "Soda Stream",
          "Sabra",
          "Coca Cola",
          "Doritos",
          "NFL",
          "Facebook",
          "Little Ceasars",
          "HardRockHotel",
          "Proctor and Gamble"
         ],
         "y": [
          4803.133333333333,
          4639.5,
          3389.9333333333334,
          2676.383333333333,
          2467.733333333333,
          2067.616666666667,
          1719.9,
          1522.4333333333334,
          1479.0333333333333,
          1377.6,
          1127.8333333333333,
          1115.6222222222223,
          1047.0166666666667,
          928.6333333333333,
          913.7833333333333,
          695.6333333333333,
          619,
          617.8666666666667,
          608.3,
          580.2666666666667,
          426.4,
          395.03333333333336,
          390.4,
          351.85,
          340.26666666666665,
          298.23333333333335,
          284.1333333333333,
          217.43333333333334,
          212.83333333333334,
          211.93333333333334,
          196.83333333333334,
          149.23333333333332,
          149.01666666666668,
          129.4,
          116.76666666666667,
          108.76666666666667,
          102.53333333333333,
          101.06666666666666,
          91.76666666666667,
          61.56,
          53.9,
          44.46666666666667,
          44.2,
          40.06,
          22.866666666666667,
          17.366666666666667,
          17.152941176470588,
          16.283333333333335,
          14.666666666666666,
          12.42962962962963,
          0.2833333333333333
         ]
        }
       ],
       "layout": {
        "font": {
         "size": 13
        },
        "plot_bgcolor": "rgb(255,255,255)",
        "template": {
         "data": {
          "bar": [
           {
            "error_x": {
             "color": "#2a3f5f"
            },
            "error_y": {
             "color": "#2a3f5f"
            },
            "marker": {
             "line": {
              "color": "#E5ECF6",
              "width": 0.5
             }
            },
            "type": "bar"
           }
          ],
          "barpolar": [
           {
            "marker": {
             "line": {
              "color": "#E5ECF6",
              "width": 0.5
             }
            },
            "type": "barpolar"
           }
          ],
          "carpet": [
           {
            "aaxis": {
             "endlinecolor": "#2a3f5f",
             "gridcolor": "white",
             "linecolor": "white",
             "minorgridcolor": "white",
             "startlinecolor": "#2a3f5f"
            },
            "baxis": {
             "endlinecolor": "#2a3f5f",
             "gridcolor": "white",
             "linecolor": "white",
             "minorgridcolor": "white",
             "startlinecolor": "#2a3f5f"
            },
            "type": "carpet"
           }
          ],
          "choropleth": [
           {
            "colorbar": {
             "outlinewidth": 0,
             "ticks": ""
            },
            "type": "choropleth"
           }
          ],
          "contour": [
           {
            "colorbar": {
             "outlinewidth": 0,
             "ticks": ""
            },
            "colorscale": [
             [
              0,
              "#0d0887"
             ],
             [
              0.1111111111111111,
              "#46039f"
             ],
             [
              0.2222222222222222,
              "#7201a8"
             ],
             [
              0.3333333333333333,
              "#9c179e"
             ],
             [
              0.4444444444444444,
              "#bd3786"
             ],
             [
              0.5555555555555556,
              "#d8576b"
             ],
             [
              0.6666666666666666,
              "#ed7953"
             ],
             [
              0.7777777777777778,
              "#fb9f3a"
             ],
             [
              0.8888888888888888,
              "#fdca26"
             ],
             [
              1,
              "#f0f921"
             ]
            ],
            "type": "contour"
           }
          ],
          "contourcarpet": [
           {
            "colorbar": {
             "outlinewidth": 0,
             "ticks": ""
            },
            "type": "contourcarpet"
           }
          ],
          "heatmap": [
           {
            "colorbar": {
             "outlinewidth": 0,
             "ticks": ""
            },
            "colorscale": [
             [
              0,
              "#0d0887"
             ],
             [
              0.1111111111111111,
              "#46039f"
             ],
             [
              0.2222222222222222,
              "#7201a8"
             ],
             [
              0.3333333333333333,
              "#9c179e"
             ],
             [
              0.4444444444444444,
              "#bd3786"
             ],
             [
              0.5555555555555556,
              "#d8576b"
             ],
             [
              0.6666666666666666,
              "#ed7953"
             ],
             [
              0.7777777777777778,
              "#fb9f3a"
             ],
             [
              0.8888888888888888,
              "#fdca26"
             ],
             [
              1,
              "#f0f921"
             ]
            ],
            "type": "heatmap"
           }
          ],
          "heatmapgl": [
           {
            "colorbar": {
             "outlinewidth": 0,
             "ticks": ""
            },
            "colorscale": [
             [
              0,
              "#0d0887"
             ],
             [
              0.1111111111111111,
              "#46039f"
             ],
             [
              0.2222222222222222,
              "#7201a8"
             ],
             [
              0.3333333333333333,
              "#9c179e"
             ],
             [
              0.4444444444444444,
              "#bd3786"
             ],
             [
              0.5555555555555556,
              "#d8576b"
             ],
             [
              0.6666666666666666,
              "#ed7953"
             ],
             [
              0.7777777777777778,
              "#fb9f3a"
             ],
             [
              0.8888888888888888,
              "#fdca26"
             ],
             [
              1,
              "#f0f921"
             ]
            ],
            "type": "heatmapgl"
           }
          ],
          "histogram": [
           {
            "marker": {
             "colorbar": {
              "outlinewidth": 0,
              "ticks": ""
             }
            },
            "type": "histogram"
           }
          ],
          "histogram2d": [
           {
            "colorbar": {
             "outlinewidth": 0,
             "ticks": ""
            },
            "colorscale": [
             [
              0,
              "#0d0887"
             ],
             [
              0.1111111111111111,
              "#46039f"
             ],
             [
              0.2222222222222222,
              "#7201a8"
             ],
             [
              0.3333333333333333,
              "#9c179e"
             ],
             [
              0.4444444444444444,
              "#bd3786"
             ],
             [
              0.5555555555555556,
              "#d8576b"
             ],
             [
              0.6666666666666666,
              "#ed7953"
             ],
             [
              0.7777777777777778,
              "#fb9f3a"
             ],
             [
              0.8888888888888888,
              "#fdca26"
             ],
             [
              1,
              "#f0f921"
             ]
            ],
            "type": "histogram2d"
           }
          ],
          "histogram2dcontour": [
           {
            "colorbar": {
             "outlinewidth": 0,
             "ticks": ""
            },
            "colorscale": [
             [
              0,
              "#0d0887"
             ],
             [
              0.1111111111111111,
              "#46039f"
             ],
             [
              0.2222222222222222,
              "#7201a8"
             ],
             [
              0.3333333333333333,
              "#9c179e"
             ],
             [
              0.4444444444444444,
              "#bd3786"
             ],
             [
              0.5555555555555556,
              "#d8576b"
             ],
             [
              0.6666666666666666,
              "#ed7953"
             ],
             [
              0.7777777777777778,
              "#fb9f3a"
             ],
             [
              0.8888888888888888,
              "#fdca26"
             ],
             [
              1,
              "#f0f921"
             ]
            ],
            "type": "histogram2dcontour"
           }
          ],
          "mesh3d": [
           {
            "colorbar": {
             "outlinewidth": 0,
             "ticks": ""
            },
            "type": "mesh3d"
           }
          ],
          "parcoords": [
           {
            "line": {
             "colorbar": {
              "outlinewidth": 0,
              "ticks": ""
             }
            },
            "type": "parcoords"
           }
          ],
          "pie": [
           {
            "automargin": true,
            "type": "pie"
           }
          ],
          "scatter": [
           {
            "marker": {
             "colorbar": {
              "outlinewidth": 0,
              "ticks": ""
             }
            },
            "type": "scatter"
           }
          ],
          "scatter3d": [
           {
            "line": {
             "colorbar": {
              "outlinewidth": 0,
              "ticks": ""
             }
            },
            "marker": {
             "colorbar": {
              "outlinewidth": 0,
              "ticks": ""
             }
            },
            "type": "scatter3d"
           }
          ],
          "scattercarpet": [
           {
            "marker": {
             "colorbar": {
              "outlinewidth": 0,
              "ticks": ""
             }
            },
            "type": "scattercarpet"
           }
          ],
          "scattergeo": [
           {
            "marker": {
             "colorbar": {
              "outlinewidth": 0,
              "ticks": ""
             }
            },
            "type": "scattergeo"
           }
          ],
          "scattergl": [
           {
            "marker": {
             "colorbar": {
              "outlinewidth": 0,
              "ticks": ""
             }
            },
            "type": "scattergl"
           }
          ],
          "scattermapbox": [
           {
            "marker": {
             "colorbar": {
              "outlinewidth": 0,
              "ticks": ""
             }
            },
            "type": "scattermapbox"
           }
          ],
          "scatterpolar": [
           {
            "marker": {
             "colorbar": {
              "outlinewidth": 0,
              "ticks": ""
             }
            },
            "type": "scatterpolar"
           }
          ],
          "scatterpolargl": [
           {
            "marker": {
             "colorbar": {
              "outlinewidth": 0,
              "ticks": ""
             }
            },
            "type": "scatterpolargl"
           }
          ],
          "scatterternary": [
           {
            "marker": {
             "colorbar": {
              "outlinewidth": 0,
              "ticks": ""
             }
            },
            "type": "scatterternary"
           }
          ],
          "surface": [
           {
            "colorbar": {
             "outlinewidth": 0,
             "ticks": ""
            },
            "colorscale": [
             [
              0,
              "#0d0887"
             ],
             [
              0.1111111111111111,
              "#46039f"
             ],
             [
              0.2222222222222222,
              "#7201a8"
             ],
             [
              0.3333333333333333,
              "#9c179e"
             ],
             [
              0.4444444444444444,
              "#bd3786"
             ],
             [
              0.5555555555555556,
              "#d8576b"
             ],
             [
              0.6666666666666666,
              "#ed7953"
             ],
             [
              0.7777777777777778,
              "#fb9f3a"
             ],
             [
              0.8888888888888888,
              "#fdca26"
             ],
             [
              1,
              "#f0f921"
             ]
            ],
            "type": "surface"
           }
          ],
          "table": [
           {
            "cells": {
             "fill": {
              "color": "#EBF0F8"
             },
             "line": {
              "color": "white"
             }
            },
            "header": {
             "fill": {
              "color": "#C8D4E3"
             },
             "line": {
              "color": "white"
             }
            },
            "type": "table"
           }
          ]
         },
         "layout": {
          "annotationdefaults": {
           "arrowcolor": "#2a3f5f",
           "arrowhead": 0,
           "arrowwidth": 1
          },
          "coloraxis": {
           "colorbar": {
            "outlinewidth": 0,
            "ticks": ""
           }
          },
          "colorscale": {
           "diverging": [
            [
             0,
             "#8e0152"
            ],
            [
             0.1,
             "#c51b7d"
            ],
            [
             0.2,
             "#de77ae"
            ],
            [
             0.3,
             "#f1b6da"
            ],
            [
             0.4,
             "#fde0ef"
            ],
            [
             0.5,
             "#f7f7f7"
            ],
            [
             0.6,
             "#e6f5d0"
            ],
            [
             0.7,
             "#b8e186"
            ],
            [
             0.8,
             "#7fbc41"
            ],
            [
             0.9,
             "#4d9221"
            ],
            [
             1,
             "#276419"
            ]
           ],
           "sequential": [
            [
             0,
             "#0d0887"
            ],
            [
             0.1111111111111111,
             "#46039f"
            ],
            [
             0.2222222222222222,
             "#7201a8"
            ],
            [
             0.3333333333333333,
             "#9c179e"
            ],
            [
             0.4444444444444444,
             "#bd3786"
            ],
            [
             0.5555555555555556,
             "#d8576b"
            ],
            [
             0.6666666666666666,
             "#ed7953"
            ],
            [
             0.7777777777777778,
             "#fb9f3a"
            ],
            [
             0.8888888888888888,
             "#fdca26"
            ],
            [
             1,
             "#f0f921"
            ]
           ],
           "sequentialminus": [
            [
             0,
             "#0d0887"
            ],
            [
             0.1111111111111111,
             "#46039f"
            ],
            [
             0.2222222222222222,
             "#7201a8"
            ],
            [
             0.3333333333333333,
             "#9c179e"
            ],
            [
             0.4444444444444444,
             "#bd3786"
            ],
            [
             0.5555555555555556,
             "#d8576b"
            ],
            [
             0.6666666666666666,
             "#ed7953"
            ],
            [
             0.7777777777777778,
             "#fb9f3a"
            ],
            [
             0.8888888888888888,
             "#fdca26"
            ],
            [
             1,
             "#f0f921"
            ]
           ]
          },
          "colorway": [
           "#636efa",
           "#EF553B",
           "#00cc96",
           "#ab63fa",
           "#FFA15A",
           "#19d3f3",
           "#FF6692",
           "#B6E880",
           "#FF97FF",
           "#FECB52"
          ],
          "font": {
           "color": "#2a3f5f"
          },
          "geo": {
           "bgcolor": "white",
           "lakecolor": "white",
           "landcolor": "#E5ECF6",
           "showlakes": true,
           "showland": true,
           "subunitcolor": "white"
          },
          "hoverlabel": {
           "align": "left"
          },
          "hovermode": "closest",
          "mapbox": {
           "style": "light"
          },
          "paper_bgcolor": "white",
          "plot_bgcolor": "#E5ECF6",
          "polar": {
           "angularaxis": {
            "gridcolor": "white",
            "linecolor": "white",
            "ticks": ""
           },
           "bgcolor": "#E5ECF6",
           "radialaxis": {
            "gridcolor": "white",
            "linecolor": "white",
            "ticks": ""
           }
          },
          "scene": {
           "xaxis": {
            "backgroundcolor": "#E5ECF6",
            "gridcolor": "white",
            "gridwidth": 2,
            "linecolor": "white",
            "showbackground": true,
            "ticks": "",
            "zerolinecolor": "white"
           },
           "yaxis": {
            "backgroundcolor": "#E5ECF6",
            "gridcolor": "white",
            "gridwidth": 2,
            "linecolor": "white",
            "showbackground": true,
            "ticks": "",
            "zerolinecolor": "white"
           },
           "zaxis": {
            "backgroundcolor": "#E5ECF6",
            "gridcolor": "white",
            "gridwidth": 2,
            "linecolor": "white",
            "showbackground": true,
            "ticks": "",
            "zerolinecolor": "white"
           }
          },
          "shapedefaults": {
           "line": {
            "color": "#2a3f5f"
           }
          },
          "ternary": {
           "aaxis": {
            "gridcolor": "white",
            "linecolor": "white",
            "ticks": ""
           },
           "baxis": {
            "gridcolor": "white",
            "linecolor": "white",
            "ticks": ""
           },
           "bgcolor": "#E5ECF6",
           "caxis": {
            "gridcolor": "white",
            "linecolor": "white",
            "ticks": ""
           }
          },
          "title": {
           "x": 0.05
          },
          "xaxis": {
           "automargin": true,
           "gridcolor": "white",
           "linecolor": "white",
           "ticks": "",
           "title": {
            "standoff": 15
           },
           "zerolinecolor": "white",
           "zerolinewidth": 2
          },
          "yaxis": {
           "automargin": true,
           "gridcolor": "white",
           "linecolor": "white",
           "ticks": "",
           "title": {
            "standoff": 15
           },
           "zerolinecolor": "white",
           "zerolinewidth": 2
          }
         }
        },
        "title": {
         "text": "<b>Top 5 Performers on engagement volume <b> "
        },
        "yaxis": {
         "title": {
          "text": "<b>Number of Engagement per second of ad<b>"
         }
        }
       }
      },
      "text/html": [
       "<div>\n",
       "        \n",
       "        \n",
       "            <div id=\"eed7950f-839c-470a-ae5a-b9d39cf2ef7d\" class=\"plotly-graph-div\" style=\"height:525px; width:100%;\"></div>\n",
       "            <script type=\"text/javascript\">\n",
       "                require([\"plotly\"], function(Plotly) {\n",
       "                    window.PLOTLYENV=window.PLOTLYENV || {};\n",
       "                    \n",
       "                if (document.getElementById(\"eed7950f-839c-470a-ae5a-b9d39cf2ef7d\")) {\n",
       "                    Plotly.newPlot(\n",
       "                        'eed7950f-839c-470a-ae5a-b9d39cf2ef7d',\n",
       "                        [{\"type\": \"bar\", \"x\": [\"Metro Goldwyn Mayer\", \"Pringles\", \"T-Mobile\", \"Bud Light X Tide\", \"Cheetos\", \"BudLight\", \"Planters\", \"Discover Card\", \"Hulu\", \"Olay\", \"Google\", \"TurboTax\", \"Audi\", \"General Motors\", \"Jeep\", \"Tide\", \"Kellog\", \"Amazon Prime\", \"Avacados From Mexico\", \"Pepsi\", \"Snickers\", \"Squarespace\", \"WeatherTech\", \"Budwieser\", \"Trump\", \"Marvel\", \"New York Life\", \"Quibi\", \"Miscrosoft\", \"Verizon\", \"Heinz\", \"Rocket Mortgage\", \"Bloomberg\", \"KIA\", \"Toyota\", \"Mountain Dew\", \"Hyundai\", \"Reeses\", \"Michelob Ultra\", \"Turkish Airlines\", \"Porsche\", \"Tide x DC\", \"Soda Stream\", \"Sabra\", \"Coca Cola\", \"Doritos\", \"NFL\", \"Facebook\", \"Little Ceasars\", \"HardRockHotel\", \"Proctor and Gamble\"], \"y\": [4803.133333333333, 4639.5, 3389.9333333333334, 2676.383333333333, 2467.733333333333, 2067.616666666667, 1719.9, 1522.4333333333334, 1479.0333333333333, 1377.6, 1127.8333333333333, 1115.6222222222223, 1047.0166666666667, 928.6333333333333, 913.7833333333333, 695.6333333333333, 619.0, 617.8666666666667, 608.3, 580.2666666666667, 426.4, 395.03333333333336, 390.4, 351.85, 340.26666666666665, 298.23333333333335, 284.1333333333333, 217.43333333333334, 212.83333333333334, 211.93333333333334, 196.83333333333334, 149.23333333333332, 149.01666666666668, 129.4, 116.76666666666667, 108.76666666666667, 102.53333333333333, 101.06666666666666, 91.76666666666667, 61.56, 53.9, 44.46666666666667, 44.2, 40.06, 22.866666666666667, 17.366666666666667, 17.152941176470588, 16.283333333333335, 14.666666666666666, 12.42962962962963, 0.2833333333333333]}],\n",
       "                        {\"font\": {\"size\": 13}, \"plot_bgcolor\": \"rgb(255,255,255)\", \"template\": {\"data\": {\"bar\": [{\"error_x\": {\"color\": \"#2a3f5f\"}, \"error_y\": {\"color\": \"#2a3f5f\"}, \"marker\": {\"line\": {\"color\": \"#E5ECF6\", \"width\": 0.5}}, \"type\": \"bar\"}], \"barpolar\": [{\"marker\": {\"line\": {\"color\": \"#E5ECF6\", \"width\": 0.5}}, \"type\": \"barpolar\"}], \"carpet\": [{\"aaxis\": {\"endlinecolor\": \"#2a3f5f\", \"gridcolor\": \"white\", \"linecolor\": \"white\", \"minorgridcolor\": \"white\", \"startlinecolor\": \"#2a3f5f\"}, \"baxis\": {\"endlinecolor\": \"#2a3f5f\", \"gridcolor\": \"white\", \"linecolor\": \"white\", \"minorgridcolor\": \"white\", \"startlinecolor\": \"#2a3f5f\"}, \"type\": \"carpet\"}], \"choropleth\": [{\"colorbar\": {\"outlinewidth\": 0, \"ticks\": \"\"}, \"type\": \"choropleth\"}], \"contour\": [{\"colorbar\": {\"outlinewidth\": 0, \"ticks\": \"\"}, \"colorscale\": [[0.0, \"#0d0887\"], [0.1111111111111111, \"#46039f\"], [0.2222222222222222, \"#7201a8\"], [0.3333333333333333, \"#9c179e\"], [0.4444444444444444, \"#bd3786\"], [0.5555555555555556, \"#d8576b\"], [0.6666666666666666, \"#ed7953\"], [0.7777777777777778, \"#fb9f3a\"], [0.8888888888888888, \"#fdca26\"], [1.0, \"#f0f921\"]], \"type\": \"contour\"}], \"contourcarpet\": [{\"colorbar\": {\"outlinewidth\": 0, \"ticks\": \"\"}, \"type\": \"contourcarpet\"}], \"heatmap\": [{\"colorbar\": {\"outlinewidth\": 0, \"ticks\": \"\"}, \"colorscale\": [[0.0, \"#0d0887\"], [0.1111111111111111, \"#46039f\"], [0.2222222222222222, \"#7201a8\"], [0.3333333333333333, \"#9c179e\"], [0.4444444444444444, \"#bd3786\"], [0.5555555555555556, \"#d8576b\"], [0.6666666666666666, \"#ed7953\"], [0.7777777777777778, \"#fb9f3a\"], [0.8888888888888888, \"#fdca26\"], [1.0, \"#f0f921\"]], \"type\": \"heatmap\"}], \"heatmapgl\": [{\"colorbar\": {\"outlinewidth\": 0, \"ticks\": \"\"}, \"colorscale\": [[0.0, \"#0d0887\"], [0.1111111111111111, \"#46039f\"], [0.2222222222222222, \"#7201a8\"], [0.3333333333333333, \"#9c179e\"], [0.4444444444444444, \"#bd3786\"], [0.5555555555555556, \"#d8576b\"], [0.6666666666666666, \"#ed7953\"], [0.7777777777777778, \"#fb9f3a\"], [0.8888888888888888, \"#fdca26\"], [1.0, \"#f0f921\"]], \"type\": \"heatmapgl\"}], \"histogram\": [{\"marker\": {\"colorbar\": {\"outlinewidth\": 0, \"ticks\": \"\"}}, \"type\": \"histogram\"}], \"histogram2d\": [{\"colorbar\": {\"outlinewidth\": 0, \"ticks\": \"\"}, \"colorscale\": [[0.0, \"#0d0887\"], [0.1111111111111111, \"#46039f\"], [0.2222222222222222, \"#7201a8\"], [0.3333333333333333, \"#9c179e\"], [0.4444444444444444, \"#bd3786\"], [0.5555555555555556, \"#d8576b\"], [0.6666666666666666, \"#ed7953\"], [0.7777777777777778, \"#fb9f3a\"], [0.8888888888888888, \"#fdca26\"], [1.0, \"#f0f921\"]], \"type\": \"histogram2d\"}], \"histogram2dcontour\": [{\"colorbar\": {\"outlinewidth\": 0, \"ticks\": \"\"}, \"colorscale\": [[0.0, \"#0d0887\"], [0.1111111111111111, \"#46039f\"], [0.2222222222222222, \"#7201a8\"], [0.3333333333333333, \"#9c179e\"], [0.4444444444444444, \"#bd3786\"], [0.5555555555555556, \"#d8576b\"], [0.6666666666666666, \"#ed7953\"], [0.7777777777777778, \"#fb9f3a\"], [0.8888888888888888, \"#fdca26\"], [1.0, \"#f0f921\"]], \"type\": \"histogram2dcontour\"}], \"mesh3d\": [{\"colorbar\": {\"outlinewidth\": 0, \"ticks\": \"\"}, \"type\": \"mesh3d\"}], \"parcoords\": [{\"line\": {\"colorbar\": {\"outlinewidth\": 0, \"ticks\": \"\"}}, \"type\": \"parcoords\"}], \"pie\": [{\"automargin\": true, \"type\": \"pie\"}], \"scatter\": [{\"marker\": {\"colorbar\": {\"outlinewidth\": 0, \"ticks\": \"\"}}, \"type\": \"scatter\"}], \"scatter3d\": [{\"line\": {\"colorbar\": {\"outlinewidth\": 0, \"ticks\": \"\"}}, \"marker\": {\"colorbar\": {\"outlinewidth\": 0, \"ticks\": \"\"}}, \"type\": \"scatter3d\"}], \"scattercarpet\": [{\"marker\": {\"colorbar\": {\"outlinewidth\": 0, \"ticks\": \"\"}}, \"type\": \"scattercarpet\"}], \"scattergeo\": [{\"marker\": {\"colorbar\": {\"outlinewidth\": 0, \"ticks\": \"\"}}, \"type\": \"scattergeo\"}], \"scattergl\": [{\"marker\": {\"colorbar\": {\"outlinewidth\": 0, \"ticks\": \"\"}}, \"type\": \"scattergl\"}], \"scattermapbox\": [{\"marker\": {\"colorbar\": {\"outlinewidth\": 0, \"ticks\": \"\"}}, \"type\": \"scattermapbox\"}], \"scatterpolar\": [{\"marker\": {\"colorbar\": {\"outlinewidth\": 0, \"ticks\": \"\"}}, \"type\": \"scatterpolar\"}], \"scatterpolargl\": [{\"marker\": {\"colorbar\": {\"outlinewidth\": 0, \"ticks\": \"\"}}, \"type\": \"scatterpolargl\"}], \"scatterternary\": [{\"marker\": {\"colorbar\": {\"outlinewidth\": 0, \"ticks\": \"\"}}, \"type\": \"scatterternary\"}], \"surface\": [{\"colorbar\": {\"outlinewidth\": 0, \"ticks\": \"\"}, \"colorscale\": [[0.0, \"#0d0887\"], [0.1111111111111111, \"#46039f\"], [0.2222222222222222, \"#7201a8\"], [0.3333333333333333, \"#9c179e\"], [0.4444444444444444, \"#bd3786\"], [0.5555555555555556, \"#d8576b\"], [0.6666666666666666, \"#ed7953\"], [0.7777777777777778, \"#fb9f3a\"], [0.8888888888888888, \"#fdca26\"], [1.0, \"#f0f921\"]], \"type\": \"surface\"}], \"table\": [{\"cells\": {\"fill\": {\"color\": \"#EBF0F8\"}, \"line\": {\"color\": \"white\"}}, \"header\": {\"fill\": {\"color\": \"#C8D4E3\"}, \"line\": {\"color\": \"white\"}}, \"type\": \"table\"}]}, \"layout\": {\"annotationdefaults\": {\"arrowcolor\": \"#2a3f5f\", \"arrowhead\": 0, \"arrowwidth\": 1}, \"coloraxis\": {\"colorbar\": {\"outlinewidth\": 0, \"ticks\": \"\"}}, \"colorscale\": {\"diverging\": [[0, \"#8e0152\"], [0.1, \"#c51b7d\"], [0.2, \"#de77ae\"], [0.3, \"#f1b6da\"], [0.4, \"#fde0ef\"], [0.5, \"#f7f7f7\"], [0.6, \"#e6f5d0\"], [0.7, \"#b8e186\"], [0.8, \"#7fbc41\"], [0.9, \"#4d9221\"], [1, \"#276419\"]], \"sequential\": [[0.0, \"#0d0887\"], [0.1111111111111111, \"#46039f\"], [0.2222222222222222, \"#7201a8\"], [0.3333333333333333, \"#9c179e\"], [0.4444444444444444, \"#bd3786\"], [0.5555555555555556, \"#d8576b\"], [0.6666666666666666, \"#ed7953\"], [0.7777777777777778, \"#fb9f3a\"], [0.8888888888888888, \"#fdca26\"], [1.0, \"#f0f921\"]], \"sequentialminus\": [[0.0, \"#0d0887\"], [0.1111111111111111, \"#46039f\"], [0.2222222222222222, \"#7201a8\"], [0.3333333333333333, \"#9c179e\"], [0.4444444444444444, \"#bd3786\"], [0.5555555555555556, \"#d8576b\"], [0.6666666666666666, \"#ed7953\"], [0.7777777777777778, \"#fb9f3a\"], [0.8888888888888888, \"#fdca26\"], [1.0, \"#f0f921\"]]}, \"colorway\": [\"#636efa\", \"#EF553B\", \"#00cc96\", \"#ab63fa\", \"#FFA15A\", \"#19d3f3\", \"#FF6692\", \"#B6E880\", \"#FF97FF\", \"#FECB52\"], \"font\": {\"color\": \"#2a3f5f\"}, \"geo\": {\"bgcolor\": \"white\", \"lakecolor\": \"white\", \"landcolor\": \"#E5ECF6\", \"showlakes\": true, \"showland\": true, \"subunitcolor\": \"white\"}, \"hoverlabel\": {\"align\": \"left\"}, \"hovermode\": \"closest\", \"mapbox\": {\"style\": \"light\"}, \"paper_bgcolor\": \"white\", \"plot_bgcolor\": \"#E5ECF6\", \"polar\": {\"angularaxis\": {\"gridcolor\": \"white\", \"linecolor\": \"white\", \"ticks\": \"\"}, \"bgcolor\": \"#E5ECF6\", \"radialaxis\": {\"gridcolor\": \"white\", \"linecolor\": \"white\", \"ticks\": \"\"}}, \"scene\": {\"xaxis\": {\"backgroundcolor\": \"#E5ECF6\", \"gridcolor\": \"white\", \"gridwidth\": 2, \"linecolor\": \"white\", \"showbackground\": true, \"ticks\": \"\", \"zerolinecolor\": \"white\"}, \"yaxis\": {\"backgroundcolor\": \"#E5ECF6\", \"gridcolor\": \"white\", \"gridwidth\": 2, \"linecolor\": \"white\", \"showbackground\": true, \"ticks\": \"\", \"zerolinecolor\": \"white\"}, \"zaxis\": {\"backgroundcolor\": \"#E5ECF6\", \"gridcolor\": \"white\", \"gridwidth\": 2, \"linecolor\": \"white\", \"showbackground\": true, \"ticks\": \"\", \"zerolinecolor\": \"white\"}}, \"shapedefaults\": {\"line\": {\"color\": \"#2a3f5f\"}}, \"ternary\": {\"aaxis\": {\"gridcolor\": \"white\", \"linecolor\": \"white\", \"ticks\": \"\"}, \"baxis\": {\"gridcolor\": \"white\", \"linecolor\": \"white\", \"ticks\": \"\"}, \"bgcolor\": \"#E5ECF6\", \"caxis\": {\"gridcolor\": \"white\", \"linecolor\": \"white\", \"ticks\": \"\"}}, \"title\": {\"x\": 0.05}, \"xaxis\": {\"automargin\": true, \"gridcolor\": \"white\", \"linecolor\": \"white\", \"ticks\": \"\", \"title\": {\"standoff\": 15}, \"zerolinecolor\": \"white\", \"zerolinewidth\": 2}, \"yaxis\": {\"automargin\": true, \"gridcolor\": \"white\", \"linecolor\": \"white\", \"ticks\": \"\", \"title\": {\"standoff\": 15}, \"zerolinecolor\": \"white\", \"zerolinewidth\": 2}}}, \"title\": {\"text\": \"<b>Top 5 Performers on engagement volume <b> \"}, \"yaxis\": {\"title\": {\"text\": \"<b>Number of Engagement per second of ad<b>\"}}},\n",
       "                        {\"responsive\": true}\n",
       "                    ).then(function(){\n",
       "                            \n",
       "var gd = document.getElementById('eed7950f-839c-470a-ae5a-b9d39cf2ef7d');\n",
       "var x = new MutationObserver(function (mutations, observer) {{\n",
       "        var display = window.getComputedStyle(gd).display;\n",
       "        if (!display || display === 'none') {{\n",
       "            console.log([gd, 'removed!']);\n",
       "            Plotly.purge(gd);\n",
       "            observer.disconnect();\n",
       "        }}\n",
       "}});\n",
       "\n",
       "// Listen for the removal of the full notebook cells\n",
       "var notebookContainer = gd.closest('#notebook-container');\n",
       "if (notebookContainer) {{\n",
       "    x.observe(notebookContainer, {childList: true});\n",
       "}}\n",
       "\n",
       "// Listen for the clearing of the current output cell\n",
       "var outputEl = gd.closest('.output');\n",
       "if (outputEl) {{\n",
       "    x.observe(outputEl, {childList: true});\n",
       "}}\n",
       "\n",
       "                        })\n",
       "                };\n",
       "                });\n",
       "            </script>\n",
       "        </div>"
      ]
     },
     "metadata": {},
     "output_type": "display_data"
    }
   ],
   "source": [
    "fig = go.Figure()\n",
    "fig.add_trace(go.Bar(x=new_df['Brand'].unique(), y=new_df['engage_per_second']))\n",
    "fig.update_layout(\n",
    "    title=\"<b>Top 5 Performers on engagement volume <b> \",\n",
    "    yaxis_title=\"<b>Number of Engagement per second of ad<b>\",plot_bgcolor='rgb(255,255,255)',\n",
    "    font=dict(\n",
    "        size=13,\n",
    "        \n",
    "))\n"
   ]
  },
  {
   "cell_type": "code",
   "execution_count": 17,
   "metadata": {},
   "outputs": [],
   "source": [
    "sentiment_tweet_positive= Tweet[(Tweet['sentiment']=='positive')].groupby(['Brand']).count()['timestamp']\n",
    "sentiment_tweet_total = Tweet.groupby(['Brand']).count()['timestamp']\n",
    "positive_prop_sentiment = sentiment_tweet_positive/sentiment_tweet_total\n",
    "positive_prop_sentiment\n",
    "new_df_2 = pd.merge(positive_prop_sentiment,ads_df,how='inner', on = 'Brand')\n",
    "new_df_2.rename(columns={'timestamp':'proportion_positive'},inplace=True)\n",
    "new_df_2= new_df_2.sort_values('proportion_positive',ascending=False)"
   ]
  },
  {
   "cell_type": "code",
   "execution_count": 18,
   "metadata": {},
   "outputs": [
    {
     "data": {
      "application/vnd.plotly.v1+json": {
       "config": {
        "plotlyServerURL": "https://plot.ly"
       },
       "data": [
        {
         "type": "bar",
         "x": [
          "Mountain Dew",
          "New York Life",
          "Proctor and Gamble",
          "Rocket Mortgage",
          "Doritos",
          "T-Mobile",
          "Pepsi",
          "Little Ceasars",
          "Miscrosoft",
          "BudLight",
          "Verizon",
          "Jeep",
          "Cheetos",
          "Kellog",
          "Facebook",
          "Avacados From Mexico",
          "Coca Cola",
          "Trump",
          "General Motors",
          "Squarespace",
          "Planters",
          "Marvel",
          "Reeses",
          "WeatherTech",
          "KIA",
          "Snickers",
          "Tide x DC",
          "Porsche",
          "Budwieser",
          "Pringles",
          "TurboTax",
          "Heinz",
          "Tide",
          "Amazon Prime",
          "Discover Card",
          "Audi",
          "Sabra",
          "NFL",
          "Toyota",
          "Quibi",
          "Hyundai",
          "Turkish Airlines",
          "Google",
          "Bud Light X Tide",
          "Olay",
          "Michelob Ultra",
          "Soda Stream",
          "Metro Goldwyn Mayer",
          "Hulu",
          "HardRockHotel",
          "Bloomberg"
         ],
         "y": [
          0.8577651927684601,
          0.8561347233360064,
          0.8461538461538461,
          0.806814018805715,
          0.7275574112734864,
          0.7116340952713314,
          0.6968810916179338,
          0.6451612903225806,
          0.628124059018368,
          0.6277499642397368,
          0.6217548471902727,
          0.60852608929532,
          0.5695971511239706,
          0.5508879781420765,
          0.535377358490566,
          0.5328940261423787,
          0.5284629981024668,
          0.5197221533118332,
          0.5173496859108585,
          0.5059111292295149,
          0.5013599274705349,
          0.495018115942029,
          0.47761194029850745,
          0.47246503496503495,
          0.46233839235525576,
          0.4598436389481166,
          0.45714285714285713,
          0.4461181923522596,
          0.43738095238095237,
          0.4354199573253526,
          0.43004801280341426,
          0.4286553141514974,
          0.4268461965574681,
          0.4211245401996847,
          0.4202330913259457,
          0.4057816795246963,
          0.39365671641791045,
          0.3877049180327869,
          0.38705234159779617,
          0.3674928503336511,
          0.36554208974778907,
          0.3477088948787062,
          0.33556901774123754,
          0.3222049689440994,
          0.31971314209472984,
          0.28991130820399114,
          0.27923844061650044,
          0.23024398035379148,
          0.22466216216216217,
          0.2072072072072072,
          0.2020770229337949
         ]
        }
       ],
       "layout": {
        "font": {
         "size": 13
        },
        "template": {
         "data": {
          "bar": [
           {
            "error_x": {
             "color": "#2a3f5f"
            },
            "error_y": {
             "color": "#2a3f5f"
            },
            "marker": {
             "line": {
              "color": "#E5ECF6",
              "width": 0.5
             }
            },
            "type": "bar"
           }
          ],
          "barpolar": [
           {
            "marker": {
             "line": {
              "color": "#E5ECF6",
              "width": 0.5
             }
            },
            "type": "barpolar"
           }
          ],
          "carpet": [
           {
            "aaxis": {
             "endlinecolor": "#2a3f5f",
             "gridcolor": "white",
             "linecolor": "white",
             "minorgridcolor": "white",
             "startlinecolor": "#2a3f5f"
            },
            "baxis": {
             "endlinecolor": "#2a3f5f",
             "gridcolor": "white",
             "linecolor": "white",
             "minorgridcolor": "white",
             "startlinecolor": "#2a3f5f"
            },
            "type": "carpet"
           }
          ],
          "choropleth": [
           {
            "colorbar": {
             "outlinewidth": 0,
             "ticks": ""
            },
            "type": "choropleth"
           }
          ],
          "contour": [
           {
            "colorbar": {
             "outlinewidth": 0,
             "ticks": ""
            },
            "colorscale": [
             [
              0,
              "#0d0887"
             ],
             [
              0.1111111111111111,
              "#46039f"
             ],
             [
              0.2222222222222222,
              "#7201a8"
             ],
             [
              0.3333333333333333,
              "#9c179e"
             ],
             [
              0.4444444444444444,
              "#bd3786"
             ],
             [
              0.5555555555555556,
              "#d8576b"
             ],
             [
              0.6666666666666666,
              "#ed7953"
             ],
             [
              0.7777777777777778,
              "#fb9f3a"
             ],
             [
              0.8888888888888888,
              "#fdca26"
             ],
             [
              1,
              "#f0f921"
             ]
            ],
            "type": "contour"
           }
          ],
          "contourcarpet": [
           {
            "colorbar": {
             "outlinewidth": 0,
             "ticks": ""
            },
            "type": "contourcarpet"
           }
          ],
          "heatmap": [
           {
            "colorbar": {
             "outlinewidth": 0,
             "ticks": ""
            },
            "colorscale": [
             [
              0,
              "#0d0887"
             ],
             [
              0.1111111111111111,
              "#46039f"
             ],
             [
              0.2222222222222222,
              "#7201a8"
             ],
             [
              0.3333333333333333,
              "#9c179e"
             ],
             [
              0.4444444444444444,
              "#bd3786"
             ],
             [
              0.5555555555555556,
              "#d8576b"
             ],
             [
              0.6666666666666666,
              "#ed7953"
             ],
             [
              0.7777777777777778,
              "#fb9f3a"
             ],
             [
              0.8888888888888888,
              "#fdca26"
             ],
             [
              1,
              "#f0f921"
             ]
            ],
            "type": "heatmap"
           }
          ],
          "heatmapgl": [
           {
            "colorbar": {
             "outlinewidth": 0,
             "ticks": ""
            },
            "colorscale": [
             [
              0,
              "#0d0887"
             ],
             [
              0.1111111111111111,
              "#46039f"
             ],
             [
              0.2222222222222222,
              "#7201a8"
             ],
             [
              0.3333333333333333,
              "#9c179e"
             ],
             [
              0.4444444444444444,
              "#bd3786"
             ],
             [
              0.5555555555555556,
              "#d8576b"
             ],
             [
              0.6666666666666666,
              "#ed7953"
             ],
             [
              0.7777777777777778,
              "#fb9f3a"
             ],
             [
              0.8888888888888888,
              "#fdca26"
             ],
             [
              1,
              "#f0f921"
             ]
            ],
            "type": "heatmapgl"
           }
          ],
          "histogram": [
           {
            "marker": {
             "colorbar": {
              "outlinewidth": 0,
              "ticks": ""
             }
            },
            "type": "histogram"
           }
          ],
          "histogram2d": [
           {
            "colorbar": {
             "outlinewidth": 0,
             "ticks": ""
            },
            "colorscale": [
             [
              0,
              "#0d0887"
             ],
             [
              0.1111111111111111,
              "#46039f"
             ],
             [
              0.2222222222222222,
              "#7201a8"
             ],
             [
              0.3333333333333333,
              "#9c179e"
             ],
             [
              0.4444444444444444,
              "#bd3786"
             ],
             [
              0.5555555555555556,
              "#d8576b"
             ],
             [
              0.6666666666666666,
              "#ed7953"
             ],
             [
              0.7777777777777778,
              "#fb9f3a"
             ],
             [
              0.8888888888888888,
              "#fdca26"
             ],
             [
              1,
              "#f0f921"
             ]
            ],
            "type": "histogram2d"
           }
          ],
          "histogram2dcontour": [
           {
            "colorbar": {
             "outlinewidth": 0,
             "ticks": ""
            },
            "colorscale": [
             [
              0,
              "#0d0887"
             ],
             [
              0.1111111111111111,
              "#46039f"
             ],
             [
              0.2222222222222222,
              "#7201a8"
             ],
             [
              0.3333333333333333,
              "#9c179e"
             ],
             [
              0.4444444444444444,
              "#bd3786"
             ],
             [
              0.5555555555555556,
              "#d8576b"
             ],
             [
              0.6666666666666666,
              "#ed7953"
             ],
             [
              0.7777777777777778,
              "#fb9f3a"
             ],
             [
              0.8888888888888888,
              "#fdca26"
             ],
             [
              1,
              "#f0f921"
             ]
            ],
            "type": "histogram2dcontour"
           }
          ],
          "mesh3d": [
           {
            "colorbar": {
             "outlinewidth": 0,
             "ticks": ""
            },
            "type": "mesh3d"
           }
          ],
          "parcoords": [
           {
            "line": {
             "colorbar": {
              "outlinewidth": 0,
              "ticks": ""
             }
            },
            "type": "parcoords"
           }
          ],
          "pie": [
           {
            "automargin": true,
            "type": "pie"
           }
          ],
          "scatter": [
           {
            "marker": {
             "colorbar": {
              "outlinewidth": 0,
              "ticks": ""
             }
            },
            "type": "scatter"
           }
          ],
          "scatter3d": [
           {
            "line": {
             "colorbar": {
              "outlinewidth": 0,
              "ticks": ""
             }
            },
            "marker": {
             "colorbar": {
              "outlinewidth": 0,
              "ticks": ""
             }
            },
            "type": "scatter3d"
           }
          ],
          "scattercarpet": [
           {
            "marker": {
             "colorbar": {
              "outlinewidth": 0,
              "ticks": ""
             }
            },
            "type": "scattercarpet"
           }
          ],
          "scattergeo": [
           {
            "marker": {
             "colorbar": {
              "outlinewidth": 0,
              "ticks": ""
             }
            },
            "type": "scattergeo"
           }
          ],
          "scattergl": [
           {
            "marker": {
             "colorbar": {
              "outlinewidth": 0,
              "ticks": ""
             }
            },
            "type": "scattergl"
           }
          ],
          "scattermapbox": [
           {
            "marker": {
             "colorbar": {
              "outlinewidth": 0,
              "ticks": ""
             }
            },
            "type": "scattermapbox"
           }
          ],
          "scatterpolar": [
           {
            "marker": {
             "colorbar": {
              "outlinewidth": 0,
              "ticks": ""
             }
            },
            "type": "scatterpolar"
           }
          ],
          "scatterpolargl": [
           {
            "marker": {
             "colorbar": {
              "outlinewidth": 0,
              "ticks": ""
             }
            },
            "type": "scatterpolargl"
           }
          ],
          "scatterternary": [
           {
            "marker": {
             "colorbar": {
              "outlinewidth": 0,
              "ticks": ""
             }
            },
            "type": "scatterternary"
           }
          ],
          "surface": [
           {
            "colorbar": {
             "outlinewidth": 0,
             "ticks": ""
            },
            "colorscale": [
             [
              0,
              "#0d0887"
             ],
             [
              0.1111111111111111,
              "#46039f"
             ],
             [
              0.2222222222222222,
              "#7201a8"
             ],
             [
              0.3333333333333333,
              "#9c179e"
             ],
             [
              0.4444444444444444,
              "#bd3786"
             ],
             [
              0.5555555555555556,
              "#d8576b"
             ],
             [
              0.6666666666666666,
              "#ed7953"
             ],
             [
              0.7777777777777778,
              "#fb9f3a"
             ],
             [
              0.8888888888888888,
              "#fdca26"
             ],
             [
              1,
              "#f0f921"
             ]
            ],
            "type": "surface"
           }
          ],
          "table": [
           {
            "cells": {
             "fill": {
              "color": "#EBF0F8"
             },
             "line": {
              "color": "white"
             }
            },
            "header": {
             "fill": {
              "color": "#C8D4E3"
             },
             "line": {
              "color": "white"
             }
            },
            "type": "table"
           }
          ]
         },
         "layout": {
          "annotationdefaults": {
           "arrowcolor": "#2a3f5f",
           "arrowhead": 0,
           "arrowwidth": 1
          },
          "coloraxis": {
           "colorbar": {
            "outlinewidth": 0,
            "ticks": ""
           }
          },
          "colorscale": {
           "diverging": [
            [
             0,
             "#8e0152"
            ],
            [
             0.1,
             "#c51b7d"
            ],
            [
             0.2,
             "#de77ae"
            ],
            [
             0.3,
             "#f1b6da"
            ],
            [
             0.4,
             "#fde0ef"
            ],
            [
             0.5,
             "#f7f7f7"
            ],
            [
             0.6,
             "#e6f5d0"
            ],
            [
             0.7,
             "#b8e186"
            ],
            [
             0.8,
             "#7fbc41"
            ],
            [
             0.9,
             "#4d9221"
            ],
            [
             1,
             "#276419"
            ]
           ],
           "sequential": [
            [
             0,
             "#0d0887"
            ],
            [
             0.1111111111111111,
             "#46039f"
            ],
            [
             0.2222222222222222,
             "#7201a8"
            ],
            [
             0.3333333333333333,
             "#9c179e"
            ],
            [
             0.4444444444444444,
             "#bd3786"
            ],
            [
             0.5555555555555556,
             "#d8576b"
            ],
            [
             0.6666666666666666,
             "#ed7953"
            ],
            [
             0.7777777777777778,
             "#fb9f3a"
            ],
            [
             0.8888888888888888,
             "#fdca26"
            ],
            [
             1,
             "#f0f921"
            ]
           ],
           "sequentialminus": [
            [
             0,
             "#0d0887"
            ],
            [
             0.1111111111111111,
             "#46039f"
            ],
            [
             0.2222222222222222,
             "#7201a8"
            ],
            [
             0.3333333333333333,
             "#9c179e"
            ],
            [
             0.4444444444444444,
             "#bd3786"
            ],
            [
             0.5555555555555556,
             "#d8576b"
            ],
            [
             0.6666666666666666,
             "#ed7953"
            ],
            [
             0.7777777777777778,
             "#fb9f3a"
            ],
            [
             0.8888888888888888,
             "#fdca26"
            ],
            [
             1,
             "#f0f921"
            ]
           ]
          },
          "colorway": [
           "#636efa",
           "#EF553B",
           "#00cc96",
           "#ab63fa",
           "#FFA15A",
           "#19d3f3",
           "#FF6692",
           "#B6E880",
           "#FF97FF",
           "#FECB52"
          ],
          "font": {
           "color": "#2a3f5f"
          },
          "geo": {
           "bgcolor": "white",
           "lakecolor": "white",
           "landcolor": "#E5ECF6",
           "showlakes": true,
           "showland": true,
           "subunitcolor": "white"
          },
          "hoverlabel": {
           "align": "left"
          },
          "hovermode": "closest",
          "mapbox": {
           "style": "light"
          },
          "paper_bgcolor": "white",
          "plot_bgcolor": "#E5ECF6",
          "polar": {
           "angularaxis": {
            "gridcolor": "white",
            "linecolor": "white",
            "ticks": ""
           },
           "bgcolor": "#E5ECF6",
           "radialaxis": {
            "gridcolor": "white",
            "linecolor": "white",
            "ticks": ""
           }
          },
          "scene": {
           "xaxis": {
            "backgroundcolor": "#E5ECF6",
            "gridcolor": "white",
            "gridwidth": 2,
            "linecolor": "white",
            "showbackground": true,
            "ticks": "",
            "zerolinecolor": "white"
           },
           "yaxis": {
            "backgroundcolor": "#E5ECF6",
            "gridcolor": "white",
            "gridwidth": 2,
            "linecolor": "white",
            "showbackground": true,
            "ticks": "",
            "zerolinecolor": "white"
           },
           "zaxis": {
            "backgroundcolor": "#E5ECF6",
            "gridcolor": "white",
            "gridwidth": 2,
            "linecolor": "white",
            "showbackground": true,
            "ticks": "",
            "zerolinecolor": "white"
           }
          },
          "shapedefaults": {
           "line": {
            "color": "#2a3f5f"
           }
          },
          "ternary": {
           "aaxis": {
            "gridcolor": "white",
            "linecolor": "white",
            "ticks": ""
           },
           "baxis": {
            "gridcolor": "white",
            "linecolor": "white",
            "ticks": ""
           },
           "bgcolor": "#E5ECF6",
           "caxis": {
            "gridcolor": "white",
            "linecolor": "white",
            "ticks": ""
           }
          },
          "title": {
           "x": 0.05
          },
          "xaxis": {
           "automargin": true,
           "gridcolor": "white",
           "linecolor": "white",
           "ticks": "",
           "title": {
            "standoff": 15
           },
           "zerolinecolor": "white",
           "zerolinewidth": 2
          },
          "yaxis": {
           "automargin": true,
           "gridcolor": "white",
           "linecolor": "white",
           "ticks": "",
           "title": {
            "standoff": 15
           },
           "zerolinecolor": "white",
           "zerolinewidth": 2
          }
         }
        },
        "title": {
         "text": "Top 10 Brands that generate largest proportion of positive tweets "
        },
        "yaxis": {
         "title": {
          "text": "# Proportion of positivity in tweets"
         }
        }
       }
      },
      "text/html": [
       "<div>\n",
       "        \n",
       "        \n",
       "            <div id=\"dd454b26-a76f-434f-beb6-1ba3f77168d8\" class=\"plotly-graph-div\" style=\"height:525px; width:100%;\"></div>\n",
       "            <script type=\"text/javascript\">\n",
       "                require([\"plotly\"], function(Plotly) {\n",
       "                    window.PLOTLYENV=window.PLOTLYENV || {};\n",
       "                    \n",
       "                if (document.getElementById(\"dd454b26-a76f-434f-beb6-1ba3f77168d8\")) {\n",
       "                    Plotly.newPlot(\n",
       "                        'dd454b26-a76f-434f-beb6-1ba3f77168d8',\n",
       "                        [{\"type\": \"bar\", \"x\": [\"Mountain Dew\", \"New York Life\", \"Proctor and Gamble\", \"Rocket Mortgage\", \"Doritos\", \"T-Mobile\", \"Pepsi\", \"Little Ceasars\", \"Miscrosoft\", \"BudLight\", \"Verizon\", \"Jeep\", \"Cheetos\", \"Kellog\", \"Facebook\", \"Avacados From Mexico\", \"Coca Cola\", \"Trump\", \"General Motors\", \"Squarespace\", \"Planters\", \"Marvel\", \"Reeses\", \"WeatherTech\", \"KIA\", \"Snickers\", \"Tide x DC\", \"Porsche\", \"Budwieser\", \"Pringles\", \"TurboTax\", \"Heinz\", \"Tide\", \"Amazon Prime\", \"Discover Card\", \"Audi\", \"Sabra\", \"NFL\", \"Toyota\", \"Quibi\", \"Hyundai\", \"Turkish Airlines\", \"Google\", \"Bud Light X Tide\", \"Olay\", \"Michelob Ultra\", \"Soda Stream\", \"Metro Goldwyn Mayer\", \"Hulu\", \"HardRockHotel\", \"Bloomberg\"], \"y\": [0.8577651927684601, 0.8561347233360064, 0.8461538461538461, 0.806814018805715, 0.7275574112734864, 0.7116340952713314, 0.6968810916179338, 0.6451612903225806, 0.628124059018368, 0.6277499642397368, 0.6217548471902727, 0.60852608929532, 0.5695971511239706, 0.5508879781420765, 0.535377358490566, 0.5328940261423787, 0.5284629981024668, 0.5197221533118332, 0.5173496859108585, 0.5059111292295149, 0.5013599274705349, 0.495018115942029, 0.47761194029850745, 0.47246503496503495, 0.46233839235525576, 0.4598436389481166, 0.45714285714285713, 0.4461181923522596, 0.43738095238095237, 0.4354199573253526, 0.43004801280341426, 0.4286553141514974, 0.4268461965574681, 0.4211245401996847, 0.4202330913259457, 0.4057816795246963, 0.39365671641791045, 0.3877049180327869, 0.38705234159779617, 0.3674928503336511, 0.36554208974778907, 0.3477088948787062, 0.33556901774123754, 0.3222049689440994, 0.31971314209472984, 0.28991130820399114, 0.27923844061650044, 0.23024398035379148, 0.22466216216216217, 0.2072072072072072, 0.2020770229337949]}],\n",
       "                        {\"font\": {\"size\": 13}, \"template\": {\"data\": {\"bar\": [{\"error_x\": {\"color\": \"#2a3f5f\"}, \"error_y\": {\"color\": \"#2a3f5f\"}, \"marker\": {\"line\": {\"color\": \"#E5ECF6\", \"width\": 0.5}}, \"type\": \"bar\"}], \"barpolar\": [{\"marker\": {\"line\": {\"color\": \"#E5ECF6\", \"width\": 0.5}}, \"type\": \"barpolar\"}], \"carpet\": [{\"aaxis\": {\"endlinecolor\": \"#2a3f5f\", \"gridcolor\": \"white\", \"linecolor\": \"white\", \"minorgridcolor\": \"white\", \"startlinecolor\": \"#2a3f5f\"}, \"baxis\": {\"endlinecolor\": \"#2a3f5f\", \"gridcolor\": \"white\", \"linecolor\": \"white\", \"minorgridcolor\": \"white\", \"startlinecolor\": \"#2a3f5f\"}, \"type\": \"carpet\"}], \"choropleth\": [{\"colorbar\": {\"outlinewidth\": 0, \"ticks\": \"\"}, \"type\": \"choropleth\"}], \"contour\": [{\"colorbar\": {\"outlinewidth\": 0, \"ticks\": \"\"}, \"colorscale\": [[0.0, \"#0d0887\"], [0.1111111111111111, \"#46039f\"], [0.2222222222222222, \"#7201a8\"], [0.3333333333333333, \"#9c179e\"], [0.4444444444444444, \"#bd3786\"], [0.5555555555555556, \"#d8576b\"], [0.6666666666666666, \"#ed7953\"], [0.7777777777777778, \"#fb9f3a\"], [0.8888888888888888, \"#fdca26\"], [1.0, \"#f0f921\"]], \"type\": \"contour\"}], \"contourcarpet\": [{\"colorbar\": {\"outlinewidth\": 0, \"ticks\": \"\"}, \"type\": \"contourcarpet\"}], \"heatmap\": [{\"colorbar\": {\"outlinewidth\": 0, \"ticks\": \"\"}, \"colorscale\": [[0.0, \"#0d0887\"], [0.1111111111111111, \"#46039f\"], [0.2222222222222222, \"#7201a8\"], [0.3333333333333333, \"#9c179e\"], [0.4444444444444444, \"#bd3786\"], [0.5555555555555556, \"#d8576b\"], [0.6666666666666666, \"#ed7953\"], [0.7777777777777778, \"#fb9f3a\"], [0.8888888888888888, \"#fdca26\"], [1.0, \"#f0f921\"]], \"type\": \"heatmap\"}], \"heatmapgl\": [{\"colorbar\": {\"outlinewidth\": 0, \"ticks\": \"\"}, \"colorscale\": [[0.0, \"#0d0887\"], [0.1111111111111111, \"#46039f\"], [0.2222222222222222, \"#7201a8\"], [0.3333333333333333, \"#9c179e\"], [0.4444444444444444, \"#bd3786\"], [0.5555555555555556, \"#d8576b\"], [0.6666666666666666, \"#ed7953\"], [0.7777777777777778, \"#fb9f3a\"], [0.8888888888888888, \"#fdca26\"], [1.0, \"#f0f921\"]], \"type\": \"heatmapgl\"}], \"histogram\": [{\"marker\": {\"colorbar\": {\"outlinewidth\": 0, \"ticks\": \"\"}}, \"type\": \"histogram\"}], \"histogram2d\": [{\"colorbar\": {\"outlinewidth\": 0, \"ticks\": \"\"}, \"colorscale\": [[0.0, \"#0d0887\"], [0.1111111111111111, \"#46039f\"], [0.2222222222222222, \"#7201a8\"], [0.3333333333333333, \"#9c179e\"], [0.4444444444444444, \"#bd3786\"], [0.5555555555555556, \"#d8576b\"], [0.6666666666666666, \"#ed7953\"], [0.7777777777777778, \"#fb9f3a\"], [0.8888888888888888, \"#fdca26\"], [1.0, \"#f0f921\"]], \"type\": \"histogram2d\"}], \"histogram2dcontour\": [{\"colorbar\": {\"outlinewidth\": 0, \"ticks\": \"\"}, \"colorscale\": [[0.0, \"#0d0887\"], [0.1111111111111111, \"#46039f\"], [0.2222222222222222, \"#7201a8\"], [0.3333333333333333, \"#9c179e\"], [0.4444444444444444, \"#bd3786\"], [0.5555555555555556, \"#d8576b\"], [0.6666666666666666, \"#ed7953\"], [0.7777777777777778, \"#fb9f3a\"], [0.8888888888888888, \"#fdca26\"], [1.0, \"#f0f921\"]], \"type\": \"histogram2dcontour\"}], \"mesh3d\": [{\"colorbar\": {\"outlinewidth\": 0, \"ticks\": \"\"}, \"type\": \"mesh3d\"}], \"parcoords\": [{\"line\": {\"colorbar\": {\"outlinewidth\": 0, \"ticks\": \"\"}}, \"type\": \"parcoords\"}], \"pie\": [{\"automargin\": true, \"type\": \"pie\"}], \"scatter\": [{\"marker\": {\"colorbar\": {\"outlinewidth\": 0, \"ticks\": \"\"}}, \"type\": \"scatter\"}], \"scatter3d\": [{\"line\": {\"colorbar\": {\"outlinewidth\": 0, \"ticks\": \"\"}}, \"marker\": {\"colorbar\": {\"outlinewidth\": 0, \"ticks\": \"\"}}, \"type\": \"scatter3d\"}], \"scattercarpet\": [{\"marker\": {\"colorbar\": {\"outlinewidth\": 0, \"ticks\": \"\"}}, \"type\": \"scattercarpet\"}], \"scattergeo\": [{\"marker\": {\"colorbar\": {\"outlinewidth\": 0, \"ticks\": \"\"}}, \"type\": \"scattergeo\"}], \"scattergl\": [{\"marker\": {\"colorbar\": {\"outlinewidth\": 0, \"ticks\": \"\"}}, \"type\": \"scattergl\"}], \"scattermapbox\": [{\"marker\": {\"colorbar\": {\"outlinewidth\": 0, \"ticks\": \"\"}}, \"type\": \"scattermapbox\"}], \"scatterpolar\": [{\"marker\": {\"colorbar\": {\"outlinewidth\": 0, \"ticks\": \"\"}}, \"type\": \"scatterpolar\"}], \"scatterpolargl\": [{\"marker\": {\"colorbar\": {\"outlinewidth\": 0, \"ticks\": \"\"}}, \"type\": \"scatterpolargl\"}], \"scatterternary\": [{\"marker\": {\"colorbar\": {\"outlinewidth\": 0, \"ticks\": \"\"}}, \"type\": \"scatterternary\"}], \"surface\": [{\"colorbar\": {\"outlinewidth\": 0, \"ticks\": \"\"}, \"colorscale\": [[0.0, \"#0d0887\"], [0.1111111111111111, \"#46039f\"], [0.2222222222222222, \"#7201a8\"], [0.3333333333333333, \"#9c179e\"], [0.4444444444444444, \"#bd3786\"], [0.5555555555555556, \"#d8576b\"], [0.6666666666666666, \"#ed7953\"], [0.7777777777777778, \"#fb9f3a\"], [0.8888888888888888, \"#fdca26\"], [1.0, \"#f0f921\"]], \"type\": \"surface\"}], \"table\": [{\"cells\": {\"fill\": {\"color\": \"#EBF0F8\"}, \"line\": {\"color\": \"white\"}}, \"header\": {\"fill\": {\"color\": \"#C8D4E3\"}, \"line\": {\"color\": \"white\"}}, \"type\": \"table\"}]}, \"layout\": {\"annotationdefaults\": {\"arrowcolor\": \"#2a3f5f\", \"arrowhead\": 0, \"arrowwidth\": 1}, \"coloraxis\": {\"colorbar\": {\"outlinewidth\": 0, \"ticks\": \"\"}}, \"colorscale\": {\"diverging\": [[0, \"#8e0152\"], [0.1, \"#c51b7d\"], [0.2, \"#de77ae\"], [0.3, \"#f1b6da\"], [0.4, \"#fde0ef\"], [0.5, \"#f7f7f7\"], [0.6, \"#e6f5d0\"], [0.7, \"#b8e186\"], [0.8, \"#7fbc41\"], [0.9, \"#4d9221\"], [1, \"#276419\"]], \"sequential\": [[0.0, \"#0d0887\"], [0.1111111111111111, \"#46039f\"], [0.2222222222222222, \"#7201a8\"], [0.3333333333333333, \"#9c179e\"], [0.4444444444444444, \"#bd3786\"], [0.5555555555555556, \"#d8576b\"], [0.6666666666666666, \"#ed7953\"], [0.7777777777777778, \"#fb9f3a\"], [0.8888888888888888, \"#fdca26\"], [1.0, \"#f0f921\"]], \"sequentialminus\": [[0.0, \"#0d0887\"], [0.1111111111111111, \"#46039f\"], [0.2222222222222222, \"#7201a8\"], [0.3333333333333333, \"#9c179e\"], [0.4444444444444444, \"#bd3786\"], [0.5555555555555556, \"#d8576b\"], [0.6666666666666666, \"#ed7953\"], [0.7777777777777778, \"#fb9f3a\"], [0.8888888888888888, \"#fdca26\"], [1.0, \"#f0f921\"]]}, \"colorway\": [\"#636efa\", \"#EF553B\", \"#00cc96\", \"#ab63fa\", \"#FFA15A\", \"#19d3f3\", \"#FF6692\", \"#B6E880\", \"#FF97FF\", \"#FECB52\"], \"font\": {\"color\": \"#2a3f5f\"}, \"geo\": {\"bgcolor\": \"white\", \"lakecolor\": \"white\", \"landcolor\": \"#E5ECF6\", \"showlakes\": true, \"showland\": true, \"subunitcolor\": \"white\"}, \"hoverlabel\": {\"align\": \"left\"}, \"hovermode\": \"closest\", \"mapbox\": {\"style\": \"light\"}, \"paper_bgcolor\": \"white\", \"plot_bgcolor\": \"#E5ECF6\", \"polar\": {\"angularaxis\": {\"gridcolor\": \"white\", \"linecolor\": \"white\", \"ticks\": \"\"}, \"bgcolor\": \"#E5ECF6\", \"radialaxis\": {\"gridcolor\": \"white\", \"linecolor\": \"white\", \"ticks\": \"\"}}, \"scene\": {\"xaxis\": {\"backgroundcolor\": \"#E5ECF6\", \"gridcolor\": \"white\", \"gridwidth\": 2, \"linecolor\": \"white\", \"showbackground\": true, \"ticks\": \"\", \"zerolinecolor\": \"white\"}, \"yaxis\": {\"backgroundcolor\": \"#E5ECF6\", \"gridcolor\": \"white\", \"gridwidth\": 2, \"linecolor\": \"white\", \"showbackground\": true, \"ticks\": \"\", \"zerolinecolor\": \"white\"}, \"zaxis\": {\"backgroundcolor\": \"#E5ECF6\", \"gridcolor\": \"white\", \"gridwidth\": 2, \"linecolor\": \"white\", \"showbackground\": true, \"ticks\": \"\", \"zerolinecolor\": \"white\"}}, \"shapedefaults\": {\"line\": {\"color\": \"#2a3f5f\"}}, \"ternary\": {\"aaxis\": {\"gridcolor\": \"white\", \"linecolor\": \"white\", \"ticks\": \"\"}, \"baxis\": {\"gridcolor\": \"white\", \"linecolor\": \"white\", \"ticks\": \"\"}, \"bgcolor\": \"#E5ECF6\", \"caxis\": {\"gridcolor\": \"white\", \"linecolor\": \"white\", \"ticks\": \"\"}}, \"title\": {\"x\": 0.05}, \"xaxis\": {\"automargin\": true, \"gridcolor\": \"white\", \"linecolor\": \"white\", \"ticks\": \"\", \"title\": {\"standoff\": 15}, \"zerolinecolor\": \"white\", \"zerolinewidth\": 2}, \"yaxis\": {\"automargin\": true, \"gridcolor\": \"white\", \"linecolor\": \"white\", \"ticks\": \"\", \"title\": {\"standoff\": 15}, \"zerolinecolor\": \"white\", \"zerolinewidth\": 2}}}, \"title\": {\"text\": \"Top 10 Brands that generate largest proportion of positive tweets \"}, \"yaxis\": {\"title\": {\"text\": \"# Proportion of positivity in tweets\"}}},\n",
       "                        {\"responsive\": true}\n",
       "                    ).then(function(){\n",
       "                            \n",
       "var gd = document.getElementById('dd454b26-a76f-434f-beb6-1ba3f77168d8');\n",
       "var x = new MutationObserver(function (mutations, observer) {{\n",
       "        var display = window.getComputedStyle(gd).display;\n",
       "        if (!display || display === 'none') {{\n",
       "            console.log([gd, 'removed!']);\n",
       "            Plotly.purge(gd);\n",
       "            observer.disconnect();\n",
       "        }}\n",
       "}});\n",
       "\n",
       "// Listen for the removal of the full notebook cells\n",
       "var notebookContainer = gd.closest('#notebook-container');\n",
       "if (notebookContainer) {{\n",
       "    x.observe(notebookContainer, {childList: true});\n",
       "}}\n",
       "\n",
       "// Listen for the clearing of the current output cell\n",
       "var outputEl = gd.closest('.output');\n",
       "if (outputEl) {{\n",
       "    x.observe(outputEl, {childList: true});\n",
       "}}\n",
       "\n",
       "                        })\n",
       "                };\n",
       "                });\n",
       "            </script>\n",
       "        </div>"
      ]
     },
     "metadata": {},
     "output_type": "display_data"
    }
   ],
   "source": [
    "fig = go.Figure()\n",
    "fig.add_trace(go.Bar(x=new_df_2['Brand'].unique(), y=new_df_2['proportion_positive']))\n",
    "fig.update_layout(\n",
    "    title=\"Top 10 Brands that generate largest proportion of positive tweets \",\n",
    "    yaxis_title=\"# Proportion of positivity in tweets\",\n",
    "    font=dict(\n",
    "        size=13\n",
    "))\n"
   ]
  },
  {
   "cell_type": "code",
   "execution_count": 19,
   "metadata": {},
   "outputs": [],
   "source": [
    "sentiment_tweet_negative= Tweet[(Tweet['sentiment']=='negative')].groupby(['Brand']).count()['timestamp']\n",
    "sentiment_tweet_total = Tweet.groupby(['Brand']).count()['timestamp']\n",
    "negative_prop_sentiment = sentiment_tweet_negative/sentiment_tweet_total\n",
    "\n"
   ]
  },
  {
   "cell_type": "code",
   "execution_count": 20,
   "metadata": {},
   "outputs": [],
   "source": [
    "new_df_3 = pd.merge(negative_prop_sentiment,ads_df,how='inner', on = 'Brand')\n"
   ]
  },
  {
   "cell_type": "code",
   "execution_count": 21,
   "metadata": {},
   "outputs": [],
   "source": [
    "new_df_3.rename(columns={'timestamp':'proportion_negative'},inplace=True)\n",
    "new_df_3 =new_df_3.sort_values('proportion_negative',ascending=False)"
   ]
  },
  {
   "cell_type": "code",
   "execution_count": 22,
   "metadata": {},
   "outputs": [
    {
     "data": {
      "application/vnd.plotly.v1+json": {
       "config": {
        "plotlyServerURL": "https://plot.ly"
       },
       "data": [
        {
         "type": "bar",
         "x": [
          "Soda Stream",
          "HardRockHotel",
          "Quibi",
          "Audi",
          "Turkish Airlines",
          "Budwieser",
          "Google",
          "NFL",
          "Jeep",
          "Toyota",
          "Planters",
          "Porsche",
          "KIA",
          "Cheetos",
          "Discover Card",
          "Kellog",
          "Amazon Prime",
          "Coca Cola",
          "Hyundai",
          "Heinz",
          "TurboTax",
          "Avacados From Mexico",
          "Pringles",
          "Marvel",
          "Snickers",
          "Hulu",
          "Squarespace",
          "Verizon",
          "Tide",
          "General Motors",
          "Metro Goldwyn Mayer",
          "Miscrosoft",
          "WeatherTech",
          "Michelob Ultra",
          "Facebook",
          "Reeses",
          "Proctor and Gamble",
          "Bud Light X Tide",
          "Sabra",
          "Doritos",
          "Bloomberg",
          "Pepsi",
          "Trump",
          "Little Ceasars",
          "T-Mobile",
          "Tide x DC",
          "Mountain Dew",
          "Rocket Mortgage",
          "New York Life",
          "BudLight",
          "Olay"
         ],
         "y": [
          0.5557570262919311,
          0.5285285285285285,
          0.392278360343184,
          0.2567172120244746,
          0.25134770889487873,
          0.24285714285714285,
          0.17697966248377325,
          0.16639344262295083,
          0.16581495427649273,
          0.16391184573002754,
          0.1613780598368087,
          0.1556585554268057,
          0.15542439572793704,
          0.1533496550189183,
          0.15284677111196027,
          0.15095628415300547,
          0.15028901734104047,
          0.14990512333965844,
          0.1467409105797576,
          0.1426893716970053,
          0.1397706054947986,
          0.12271794317813546,
          0.12231551528251171,
          0.12228260869565218,
          0.11940298507462686,
          0.11843814968814968,
          0.10843864655523848,
          0.10778836674334538,
          0.10723209328151027,
          0.10708944062219564,
          0.09471708661102902,
          0.09093646492020475,
          0.0895979020979021,
          0.08628972653362897,
          0.08254716981132075,
          0.08022388059701492,
          0.07692307692307693,
          0.07608695652173914,
          0.07462686567164178,
          0.06993736951983298,
          0.05755084379056685,
          0.050682261208576995,
          0.04887124782932275,
          0.04838709677419355,
          0.04783196649799337,
          0.047619047619047616,
          0.046612938357656286,
          0.04249603126144828,
          0.03881315156375301,
          0.030839650979831212,
          0.0266844563042028
         ]
        }
       ],
       "layout": {
        "font": {
         "size": 13
        },
        "plot_bgcolor": "rgb(255,255,255)",
        "template": {
         "data": {
          "bar": [
           {
            "error_x": {
             "color": "#2a3f5f"
            },
            "error_y": {
             "color": "#2a3f5f"
            },
            "marker": {
             "line": {
              "color": "#E5ECF6",
              "width": 0.5
             }
            },
            "type": "bar"
           }
          ],
          "barpolar": [
           {
            "marker": {
             "line": {
              "color": "#E5ECF6",
              "width": 0.5
             }
            },
            "type": "barpolar"
           }
          ],
          "carpet": [
           {
            "aaxis": {
             "endlinecolor": "#2a3f5f",
             "gridcolor": "white",
             "linecolor": "white",
             "minorgridcolor": "white",
             "startlinecolor": "#2a3f5f"
            },
            "baxis": {
             "endlinecolor": "#2a3f5f",
             "gridcolor": "white",
             "linecolor": "white",
             "minorgridcolor": "white",
             "startlinecolor": "#2a3f5f"
            },
            "type": "carpet"
           }
          ],
          "choropleth": [
           {
            "colorbar": {
             "outlinewidth": 0,
             "ticks": ""
            },
            "type": "choropleth"
           }
          ],
          "contour": [
           {
            "colorbar": {
             "outlinewidth": 0,
             "ticks": ""
            },
            "colorscale": [
             [
              0,
              "#0d0887"
             ],
             [
              0.1111111111111111,
              "#46039f"
             ],
             [
              0.2222222222222222,
              "#7201a8"
             ],
             [
              0.3333333333333333,
              "#9c179e"
             ],
             [
              0.4444444444444444,
              "#bd3786"
             ],
             [
              0.5555555555555556,
              "#d8576b"
             ],
             [
              0.6666666666666666,
              "#ed7953"
             ],
             [
              0.7777777777777778,
              "#fb9f3a"
             ],
             [
              0.8888888888888888,
              "#fdca26"
             ],
             [
              1,
              "#f0f921"
             ]
            ],
            "type": "contour"
           }
          ],
          "contourcarpet": [
           {
            "colorbar": {
             "outlinewidth": 0,
             "ticks": ""
            },
            "type": "contourcarpet"
           }
          ],
          "heatmap": [
           {
            "colorbar": {
             "outlinewidth": 0,
             "ticks": ""
            },
            "colorscale": [
             [
              0,
              "#0d0887"
             ],
             [
              0.1111111111111111,
              "#46039f"
             ],
             [
              0.2222222222222222,
              "#7201a8"
             ],
             [
              0.3333333333333333,
              "#9c179e"
             ],
             [
              0.4444444444444444,
              "#bd3786"
             ],
             [
              0.5555555555555556,
              "#d8576b"
             ],
             [
              0.6666666666666666,
              "#ed7953"
             ],
             [
              0.7777777777777778,
              "#fb9f3a"
             ],
             [
              0.8888888888888888,
              "#fdca26"
             ],
             [
              1,
              "#f0f921"
             ]
            ],
            "type": "heatmap"
           }
          ],
          "heatmapgl": [
           {
            "colorbar": {
             "outlinewidth": 0,
             "ticks": ""
            },
            "colorscale": [
             [
              0,
              "#0d0887"
             ],
             [
              0.1111111111111111,
              "#46039f"
             ],
             [
              0.2222222222222222,
              "#7201a8"
             ],
             [
              0.3333333333333333,
              "#9c179e"
             ],
             [
              0.4444444444444444,
              "#bd3786"
             ],
             [
              0.5555555555555556,
              "#d8576b"
             ],
             [
              0.6666666666666666,
              "#ed7953"
             ],
             [
              0.7777777777777778,
              "#fb9f3a"
             ],
             [
              0.8888888888888888,
              "#fdca26"
             ],
             [
              1,
              "#f0f921"
             ]
            ],
            "type": "heatmapgl"
           }
          ],
          "histogram": [
           {
            "marker": {
             "colorbar": {
              "outlinewidth": 0,
              "ticks": ""
             }
            },
            "type": "histogram"
           }
          ],
          "histogram2d": [
           {
            "colorbar": {
             "outlinewidth": 0,
             "ticks": ""
            },
            "colorscale": [
             [
              0,
              "#0d0887"
             ],
             [
              0.1111111111111111,
              "#46039f"
             ],
             [
              0.2222222222222222,
              "#7201a8"
             ],
             [
              0.3333333333333333,
              "#9c179e"
             ],
             [
              0.4444444444444444,
              "#bd3786"
             ],
             [
              0.5555555555555556,
              "#d8576b"
             ],
             [
              0.6666666666666666,
              "#ed7953"
             ],
             [
              0.7777777777777778,
              "#fb9f3a"
             ],
             [
              0.8888888888888888,
              "#fdca26"
             ],
             [
              1,
              "#f0f921"
             ]
            ],
            "type": "histogram2d"
           }
          ],
          "histogram2dcontour": [
           {
            "colorbar": {
             "outlinewidth": 0,
             "ticks": ""
            },
            "colorscale": [
             [
              0,
              "#0d0887"
             ],
             [
              0.1111111111111111,
              "#46039f"
             ],
             [
              0.2222222222222222,
              "#7201a8"
             ],
             [
              0.3333333333333333,
              "#9c179e"
             ],
             [
              0.4444444444444444,
              "#bd3786"
             ],
             [
              0.5555555555555556,
              "#d8576b"
             ],
             [
              0.6666666666666666,
              "#ed7953"
             ],
             [
              0.7777777777777778,
              "#fb9f3a"
             ],
             [
              0.8888888888888888,
              "#fdca26"
             ],
             [
              1,
              "#f0f921"
             ]
            ],
            "type": "histogram2dcontour"
           }
          ],
          "mesh3d": [
           {
            "colorbar": {
             "outlinewidth": 0,
             "ticks": ""
            },
            "type": "mesh3d"
           }
          ],
          "parcoords": [
           {
            "line": {
             "colorbar": {
              "outlinewidth": 0,
              "ticks": ""
             }
            },
            "type": "parcoords"
           }
          ],
          "pie": [
           {
            "automargin": true,
            "type": "pie"
           }
          ],
          "scatter": [
           {
            "marker": {
             "colorbar": {
              "outlinewidth": 0,
              "ticks": ""
             }
            },
            "type": "scatter"
           }
          ],
          "scatter3d": [
           {
            "line": {
             "colorbar": {
              "outlinewidth": 0,
              "ticks": ""
             }
            },
            "marker": {
             "colorbar": {
              "outlinewidth": 0,
              "ticks": ""
             }
            },
            "type": "scatter3d"
           }
          ],
          "scattercarpet": [
           {
            "marker": {
             "colorbar": {
              "outlinewidth": 0,
              "ticks": ""
             }
            },
            "type": "scattercarpet"
           }
          ],
          "scattergeo": [
           {
            "marker": {
             "colorbar": {
              "outlinewidth": 0,
              "ticks": ""
             }
            },
            "type": "scattergeo"
           }
          ],
          "scattergl": [
           {
            "marker": {
             "colorbar": {
              "outlinewidth": 0,
              "ticks": ""
             }
            },
            "type": "scattergl"
           }
          ],
          "scattermapbox": [
           {
            "marker": {
             "colorbar": {
              "outlinewidth": 0,
              "ticks": ""
             }
            },
            "type": "scattermapbox"
           }
          ],
          "scatterpolar": [
           {
            "marker": {
             "colorbar": {
              "outlinewidth": 0,
              "ticks": ""
             }
            },
            "type": "scatterpolar"
           }
          ],
          "scatterpolargl": [
           {
            "marker": {
             "colorbar": {
              "outlinewidth": 0,
              "ticks": ""
             }
            },
            "type": "scatterpolargl"
           }
          ],
          "scatterternary": [
           {
            "marker": {
             "colorbar": {
              "outlinewidth": 0,
              "ticks": ""
             }
            },
            "type": "scatterternary"
           }
          ],
          "surface": [
           {
            "colorbar": {
             "outlinewidth": 0,
             "ticks": ""
            },
            "colorscale": [
             [
              0,
              "#0d0887"
             ],
             [
              0.1111111111111111,
              "#46039f"
             ],
             [
              0.2222222222222222,
              "#7201a8"
             ],
             [
              0.3333333333333333,
              "#9c179e"
             ],
             [
              0.4444444444444444,
              "#bd3786"
             ],
             [
              0.5555555555555556,
              "#d8576b"
             ],
             [
              0.6666666666666666,
              "#ed7953"
             ],
             [
              0.7777777777777778,
              "#fb9f3a"
             ],
             [
              0.8888888888888888,
              "#fdca26"
             ],
             [
              1,
              "#f0f921"
             ]
            ],
            "type": "surface"
           }
          ],
          "table": [
           {
            "cells": {
             "fill": {
              "color": "#EBF0F8"
             },
             "line": {
              "color": "white"
             }
            },
            "header": {
             "fill": {
              "color": "#C8D4E3"
             },
             "line": {
              "color": "white"
             }
            },
            "type": "table"
           }
          ]
         },
         "layout": {
          "annotationdefaults": {
           "arrowcolor": "#2a3f5f",
           "arrowhead": 0,
           "arrowwidth": 1
          },
          "coloraxis": {
           "colorbar": {
            "outlinewidth": 0,
            "ticks": ""
           }
          },
          "colorscale": {
           "diverging": [
            [
             0,
             "#8e0152"
            ],
            [
             0.1,
             "#c51b7d"
            ],
            [
             0.2,
             "#de77ae"
            ],
            [
             0.3,
             "#f1b6da"
            ],
            [
             0.4,
             "#fde0ef"
            ],
            [
             0.5,
             "#f7f7f7"
            ],
            [
             0.6,
             "#e6f5d0"
            ],
            [
             0.7,
             "#b8e186"
            ],
            [
             0.8,
             "#7fbc41"
            ],
            [
             0.9,
             "#4d9221"
            ],
            [
             1,
             "#276419"
            ]
           ],
           "sequential": [
            [
             0,
             "#0d0887"
            ],
            [
             0.1111111111111111,
             "#46039f"
            ],
            [
             0.2222222222222222,
             "#7201a8"
            ],
            [
             0.3333333333333333,
             "#9c179e"
            ],
            [
             0.4444444444444444,
             "#bd3786"
            ],
            [
             0.5555555555555556,
             "#d8576b"
            ],
            [
             0.6666666666666666,
             "#ed7953"
            ],
            [
             0.7777777777777778,
             "#fb9f3a"
            ],
            [
             0.8888888888888888,
             "#fdca26"
            ],
            [
             1,
             "#f0f921"
            ]
           ],
           "sequentialminus": [
            [
             0,
             "#0d0887"
            ],
            [
             0.1111111111111111,
             "#46039f"
            ],
            [
             0.2222222222222222,
             "#7201a8"
            ],
            [
             0.3333333333333333,
             "#9c179e"
            ],
            [
             0.4444444444444444,
             "#bd3786"
            ],
            [
             0.5555555555555556,
             "#d8576b"
            ],
            [
             0.6666666666666666,
             "#ed7953"
            ],
            [
             0.7777777777777778,
             "#fb9f3a"
            ],
            [
             0.8888888888888888,
             "#fdca26"
            ],
            [
             1,
             "#f0f921"
            ]
           ]
          },
          "colorway": [
           "#636efa",
           "#EF553B",
           "#00cc96",
           "#ab63fa",
           "#FFA15A",
           "#19d3f3",
           "#FF6692",
           "#B6E880",
           "#FF97FF",
           "#FECB52"
          ],
          "font": {
           "color": "#2a3f5f"
          },
          "geo": {
           "bgcolor": "white",
           "lakecolor": "white",
           "landcolor": "#E5ECF6",
           "showlakes": true,
           "showland": true,
           "subunitcolor": "white"
          },
          "hoverlabel": {
           "align": "left"
          },
          "hovermode": "closest",
          "mapbox": {
           "style": "light"
          },
          "paper_bgcolor": "white",
          "plot_bgcolor": "#E5ECF6",
          "polar": {
           "angularaxis": {
            "gridcolor": "white",
            "linecolor": "white",
            "ticks": ""
           },
           "bgcolor": "#E5ECF6",
           "radialaxis": {
            "gridcolor": "white",
            "linecolor": "white",
            "ticks": ""
           }
          },
          "scene": {
           "xaxis": {
            "backgroundcolor": "#E5ECF6",
            "gridcolor": "white",
            "gridwidth": 2,
            "linecolor": "white",
            "showbackground": true,
            "ticks": "",
            "zerolinecolor": "white"
           },
           "yaxis": {
            "backgroundcolor": "#E5ECF6",
            "gridcolor": "white",
            "gridwidth": 2,
            "linecolor": "white",
            "showbackground": true,
            "ticks": "",
            "zerolinecolor": "white"
           },
           "zaxis": {
            "backgroundcolor": "#E5ECF6",
            "gridcolor": "white",
            "gridwidth": 2,
            "linecolor": "white",
            "showbackground": true,
            "ticks": "",
            "zerolinecolor": "white"
           }
          },
          "shapedefaults": {
           "line": {
            "color": "#2a3f5f"
           }
          },
          "ternary": {
           "aaxis": {
            "gridcolor": "white",
            "linecolor": "white",
            "ticks": ""
           },
           "baxis": {
            "gridcolor": "white",
            "linecolor": "white",
            "ticks": ""
           },
           "bgcolor": "#E5ECF6",
           "caxis": {
            "gridcolor": "white",
            "linecolor": "white",
            "ticks": ""
           }
          },
          "title": {
           "x": 0.05
          },
          "xaxis": {
           "automargin": true,
           "gridcolor": "white",
           "linecolor": "white",
           "ticks": "",
           "title": {
            "standoff": 15
           },
           "zerolinecolor": "white",
           "zerolinewidth": 2
          },
          "yaxis": {
           "automargin": true,
           "gridcolor": "white",
           "linecolor": "white",
           "ticks": "",
           "title": {
            "standoff": 15
           },
           "zerolinecolor": "white",
           "zerolinewidth": 2
          }
         }
        },
        "title": {
         "text": "Top 10 Brands that generate largest proportion of negative tweets "
        },
        "yaxis": {
         "title": {
          "text": "# Proportion of positivity in tweets"
         }
        }
       }
      },
      "text/html": [
       "<div>\n",
       "        \n",
       "        \n",
       "            <div id=\"16d4ad3a-23df-44d4-bbc5-0493d8eeb0fb\" class=\"plotly-graph-div\" style=\"height:525px; width:100%;\"></div>\n",
       "            <script type=\"text/javascript\">\n",
       "                require([\"plotly\"], function(Plotly) {\n",
       "                    window.PLOTLYENV=window.PLOTLYENV || {};\n",
       "                    \n",
       "                if (document.getElementById(\"16d4ad3a-23df-44d4-bbc5-0493d8eeb0fb\")) {\n",
       "                    Plotly.newPlot(\n",
       "                        '16d4ad3a-23df-44d4-bbc5-0493d8eeb0fb',\n",
       "                        [{\"type\": \"bar\", \"x\": [\"Soda Stream\", \"HardRockHotel\", \"Quibi\", \"Audi\", \"Turkish Airlines\", \"Budwieser\", \"Google\", \"NFL\", \"Jeep\", \"Toyota\", \"Planters\", \"Porsche\", \"KIA\", \"Cheetos\", \"Discover Card\", \"Kellog\", \"Amazon Prime\", \"Coca Cola\", \"Hyundai\", \"Heinz\", \"TurboTax\", \"Avacados From Mexico\", \"Pringles\", \"Marvel\", \"Snickers\", \"Hulu\", \"Squarespace\", \"Verizon\", \"Tide\", \"General Motors\", \"Metro Goldwyn Mayer\", \"Miscrosoft\", \"WeatherTech\", \"Michelob Ultra\", \"Facebook\", \"Reeses\", \"Proctor and Gamble\", \"Bud Light X Tide\", \"Sabra\", \"Doritos\", \"Bloomberg\", \"Pepsi\", \"Trump\", \"Little Ceasars\", \"T-Mobile\", \"Tide x DC\", \"Mountain Dew\", \"Rocket Mortgage\", \"New York Life\", \"BudLight\", \"Olay\"], \"y\": [0.5557570262919311, 0.5285285285285285, 0.392278360343184, 0.2567172120244746, 0.25134770889487873, 0.24285714285714285, 0.17697966248377325, 0.16639344262295083, 0.16581495427649273, 0.16391184573002754, 0.1613780598368087, 0.1556585554268057, 0.15542439572793704, 0.1533496550189183, 0.15284677111196027, 0.15095628415300547, 0.15028901734104047, 0.14990512333965844, 0.1467409105797576, 0.1426893716970053, 0.1397706054947986, 0.12271794317813546, 0.12231551528251171, 0.12228260869565218, 0.11940298507462686, 0.11843814968814968, 0.10843864655523848, 0.10778836674334538, 0.10723209328151027, 0.10708944062219564, 0.09471708661102902, 0.09093646492020475, 0.0895979020979021, 0.08628972653362897, 0.08254716981132075, 0.08022388059701492, 0.07692307692307693, 0.07608695652173914, 0.07462686567164178, 0.06993736951983298, 0.05755084379056685, 0.050682261208576995, 0.04887124782932275, 0.04838709677419355, 0.04783196649799337, 0.047619047619047616, 0.046612938357656286, 0.04249603126144828, 0.03881315156375301, 0.030839650979831212, 0.0266844563042028]}],\n",
       "                        {\"font\": {\"size\": 13}, \"plot_bgcolor\": \"rgb(255,255,255)\", \"template\": {\"data\": {\"bar\": [{\"error_x\": {\"color\": \"#2a3f5f\"}, \"error_y\": {\"color\": \"#2a3f5f\"}, \"marker\": {\"line\": {\"color\": \"#E5ECF6\", \"width\": 0.5}}, \"type\": \"bar\"}], \"barpolar\": [{\"marker\": {\"line\": {\"color\": \"#E5ECF6\", \"width\": 0.5}}, \"type\": \"barpolar\"}], \"carpet\": [{\"aaxis\": {\"endlinecolor\": \"#2a3f5f\", \"gridcolor\": \"white\", \"linecolor\": \"white\", \"minorgridcolor\": \"white\", \"startlinecolor\": \"#2a3f5f\"}, \"baxis\": {\"endlinecolor\": \"#2a3f5f\", \"gridcolor\": \"white\", \"linecolor\": \"white\", \"minorgridcolor\": \"white\", \"startlinecolor\": \"#2a3f5f\"}, \"type\": \"carpet\"}], \"choropleth\": [{\"colorbar\": {\"outlinewidth\": 0, \"ticks\": \"\"}, \"type\": \"choropleth\"}], \"contour\": [{\"colorbar\": {\"outlinewidth\": 0, \"ticks\": \"\"}, \"colorscale\": [[0.0, \"#0d0887\"], [0.1111111111111111, \"#46039f\"], [0.2222222222222222, \"#7201a8\"], [0.3333333333333333, \"#9c179e\"], [0.4444444444444444, \"#bd3786\"], [0.5555555555555556, \"#d8576b\"], [0.6666666666666666, \"#ed7953\"], [0.7777777777777778, \"#fb9f3a\"], [0.8888888888888888, \"#fdca26\"], [1.0, \"#f0f921\"]], \"type\": \"contour\"}], \"contourcarpet\": [{\"colorbar\": {\"outlinewidth\": 0, \"ticks\": \"\"}, \"type\": \"contourcarpet\"}], \"heatmap\": [{\"colorbar\": {\"outlinewidth\": 0, \"ticks\": \"\"}, \"colorscale\": [[0.0, \"#0d0887\"], [0.1111111111111111, \"#46039f\"], [0.2222222222222222, \"#7201a8\"], [0.3333333333333333, \"#9c179e\"], [0.4444444444444444, \"#bd3786\"], [0.5555555555555556, \"#d8576b\"], [0.6666666666666666, \"#ed7953\"], [0.7777777777777778, \"#fb9f3a\"], [0.8888888888888888, \"#fdca26\"], [1.0, \"#f0f921\"]], \"type\": \"heatmap\"}], \"heatmapgl\": [{\"colorbar\": {\"outlinewidth\": 0, \"ticks\": \"\"}, \"colorscale\": [[0.0, \"#0d0887\"], [0.1111111111111111, \"#46039f\"], [0.2222222222222222, \"#7201a8\"], [0.3333333333333333, \"#9c179e\"], [0.4444444444444444, \"#bd3786\"], [0.5555555555555556, \"#d8576b\"], [0.6666666666666666, \"#ed7953\"], [0.7777777777777778, \"#fb9f3a\"], [0.8888888888888888, \"#fdca26\"], [1.0, \"#f0f921\"]], \"type\": \"heatmapgl\"}], \"histogram\": [{\"marker\": {\"colorbar\": {\"outlinewidth\": 0, \"ticks\": \"\"}}, \"type\": \"histogram\"}], \"histogram2d\": [{\"colorbar\": {\"outlinewidth\": 0, \"ticks\": \"\"}, \"colorscale\": [[0.0, \"#0d0887\"], [0.1111111111111111, \"#46039f\"], [0.2222222222222222, \"#7201a8\"], [0.3333333333333333, \"#9c179e\"], [0.4444444444444444, \"#bd3786\"], [0.5555555555555556, \"#d8576b\"], [0.6666666666666666, \"#ed7953\"], [0.7777777777777778, \"#fb9f3a\"], [0.8888888888888888, \"#fdca26\"], [1.0, \"#f0f921\"]], \"type\": \"histogram2d\"}], \"histogram2dcontour\": [{\"colorbar\": {\"outlinewidth\": 0, \"ticks\": \"\"}, \"colorscale\": [[0.0, \"#0d0887\"], [0.1111111111111111, \"#46039f\"], [0.2222222222222222, \"#7201a8\"], [0.3333333333333333, \"#9c179e\"], [0.4444444444444444, \"#bd3786\"], [0.5555555555555556, \"#d8576b\"], [0.6666666666666666, \"#ed7953\"], [0.7777777777777778, \"#fb9f3a\"], [0.8888888888888888, \"#fdca26\"], [1.0, \"#f0f921\"]], \"type\": \"histogram2dcontour\"}], \"mesh3d\": [{\"colorbar\": {\"outlinewidth\": 0, \"ticks\": \"\"}, \"type\": \"mesh3d\"}], \"parcoords\": [{\"line\": {\"colorbar\": {\"outlinewidth\": 0, \"ticks\": \"\"}}, \"type\": \"parcoords\"}], \"pie\": [{\"automargin\": true, \"type\": \"pie\"}], \"scatter\": [{\"marker\": {\"colorbar\": {\"outlinewidth\": 0, \"ticks\": \"\"}}, \"type\": \"scatter\"}], \"scatter3d\": [{\"line\": {\"colorbar\": {\"outlinewidth\": 0, \"ticks\": \"\"}}, \"marker\": {\"colorbar\": {\"outlinewidth\": 0, \"ticks\": \"\"}}, \"type\": \"scatter3d\"}], \"scattercarpet\": [{\"marker\": {\"colorbar\": {\"outlinewidth\": 0, \"ticks\": \"\"}}, \"type\": \"scattercarpet\"}], \"scattergeo\": [{\"marker\": {\"colorbar\": {\"outlinewidth\": 0, \"ticks\": \"\"}}, \"type\": \"scattergeo\"}], \"scattergl\": [{\"marker\": {\"colorbar\": {\"outlinewidth\": 0, \"ticks\": \"\"}}, \"type\": \"scattergl\"}], \"scattermapbox\": [{\"marker\": {\"colorbar\": {\"outlinewidth\": 0, \"ticks\": \"\"}}, \"type\": \"scattermapbox\"}], \"scatterpolar\": [{\"marker\": {\"colorbar\": {\"outlinewidth\": 0, \"ticks\": \"\"}}, \"type\": \"scatterpolar\"}], \"scatterpolargl\": [{\"marker\": {\"colorbar\": {\"outlinewidth\": 0, \"ticks\": \"\"}}, \"type\": \"scatterpolargl\"}], \"scatterternary\": [{\"marker\": {\"colorbar\": {\"outlinewidth\": 0, \"ticks\": \"\"}}, \"type\": \"scatterternary\"}], \"surface\": [{\"colorbar\": {\"outlinewidth\": 0, \"ticks\": \"\"}, \"colorscale\": [[0.0, \"#0d0887\"], [0.1111111111111111, \"#46039f\"], [0.2222222222222222, \"#7201a8\"], [0.3333333333333333, \"#9c179e\"], [0.4444444444444444, \"#bd3786\"], [0.5555555555555556, \"#d8576b\"], [0.6666666666666666, \"#ed7953\"], [0.7777777777777778, \"#fb9f3a\"], [0.8888888888888888, \"#fdca26\"], [1.0, \"#f0f921\"]], \"type\": \"surface\"}], \"table\": [{\"cells\": {\"fill\": {\"color\": \"#EBF0F8\"}, \"line\": {\"color\": \"white\"}}, \"header\": {\"fill\": {\"color\": \"#C8D4E3\"}, \"line\": {\"color\": \"white\"}}, \"type\": \"table\"}]}, \"layout\": {\"annotationdefaults\": {\"arrowcolor\": \"#2a3f5f\", \"arrowhead\": 0, \"arrowwidth\": 1}, \"coloraxis\": {\"colorbar\": {\"outlinewidth\": 0, \"ticks\": \"\"}}, \"colorscale\": {\"diverging\": [[0, \"#8e0152\"], [0.1, \"#c51b7d\"], [0.2, \"#de77ae\"], [0.3, \"#f1b6da\"], [0.4, \"#fde0ef\"], [0.5, \"#f7f7f7\"], [0.6, \"#e6f5d0\"], [0.7, \"#b8e186\"], [0.8, \"#7fbc41\"], [0.9, \"#4d9221\"], [1, \"#276419\"]], \"sequential\": [[0.0, \"#0d0887\"], [0.1111111111111111, \"#46039f\"], [0.2222222222222222, \"#7201a8\"], [0.3333333333333333, \"#9c179e\"], [0.4444444444444444, \"#bd3786\"], [0.5555555555555556, \"#d8576b\"], [0.6666666666666666, \"#ed7953\"], [0.7777777777777778, \"#fb9f3a\"], [0.8888888888888888, \"#fdca26\"], [1.0, \"#f0f921\"]], \"sequentialminus\": [[0.0, \"#0d0887\"], [0.1111111111111111, \"#46039f\"], [0.2222222222222222, \"#7201a8\"], [0.3333333333333333, \"#9c179e\"], [0.4444444444444444, \"#bd3786\"], [0.5555555555555556, \"#d8576b\"], [0.6666666666666666, \"#ed7953\"], [0.7777777777777778, \"#fb9f3a\"], [0.8888888888888888, \"#fdca26\"], [1.0, \"#f0f921\"]]}, \"colorway\": [\"#636efa\", \"#EF553B\", \"#00cc96\", \"#ab63fa\", \"#FFA15A\", \"#19d3f3\", \"#FF6692\", \"#B6E880\", \"#FF97FF\", \"#FECB52\"], \"font\": {\"color\": \"#2a3f5f\"}, \"geo\": {\"bgcolor\": \"white\", \"lakecolor\": \"white\", \"landcolor\": \"#E5ECF6\", \"showlakes\": true, \"showland\": true, \"subunitcolor\": \"white\"}, \"hoverlabel\": {\"align\": \"left\"}, \"hovermode\": \"closest\", \"mapbox\": {\"style\": \"light\"}, \"paper_bgcolor\": \"white\", \"plot_bgcolor\": \"#E5ECF6\", \"polar\": {\"angularaxis\": {\"gridcolor\": \"white\", \"linecolor\": \"white\", \"ticks\": \"\"}, \"bgcolor\": \"#E5ECF6\", \"radialaxis\": {\"gridcolor\": \"white\", \"linecolor\": \"white\", \"ticks\": \"\"}}, \"scene\": {\"xaxis\": {\"backgroundcolor\": \"#E5ECF6\", \"gridcolor\": \"white\", \"gridwidth\": 2, \"linecolor\": \"white\", \"showbackground\": true, \"ticks\": \"\", \"zerolinecolor\": \"white\"}, \"yaxis\": {\"backgroundcolor\": \"#E5ECF6\", \"gridcolor\": \"white\", \"gridwidth\": 2, \"linecolor\": \"white\", \"showbackground\": true, \"ticks\": \"\", \"zerolinecolor\": \"white\"}, \"zaxis\": {\"backgroundcolor\": \"#E5ECF6\", \"gridcolor\": \"white\", \"gridwidth\": 2, \"linecolor\": \"white\", \"showbackground\": true, \"ticks\": \"\", \"zerolinecolor\": \"white\"}}, \"shapedefaults\": {\"line\": {\"color\": \"#2a3f5f\"}}, \"ternary\": {\"aaxis\": {\"gridcolor\": \"white\", \"linecolor\": \"white\", \"ticks\": \"\"}, \"baxis\": {\"gridcolor\": \"white\", \"linecolor\": \"white\", \"ticks\": \"\"}, \"bgcolor\": \"#E5ECF6\", \"caxis\": {\"gridcolor\": \"white\", \"linecolor\": \"white\", \"ticks\": \"\"}}, \"title\": {\"x\": 0.05}, \"xaxis\": {\"automargin\": true, \"gridcolor\": \"white\", \"linecolor\": \"white\", \"ticks\": \"\", \"title\": {\"standoff\": 15}, \"zerolinecolor\": \"white\", \"zerolinewidth\": 2}, \"yaxis\": {\"automargin\": true, \"gridcolor\": \"white\", \"linecolor\": \"white\", \"ticks\": \"\", \"title\": {\"standoff\": 15}, \"zerolinecolor\": \"white\", \"zerolinewidth\": 2}}}, \"title\": {\"text\": \"Top 10 Brands that generate largest proportion of negative tweets \"}, \"yaxis\": {\"title\": {\"text\": \"# Proportion of positivity in tweets\"}}},\n",
       "                        {\"responsive\": true}\n",
       "                    ).then(function(){\n",
       "                            \n",
       "var gd = document.getElementById('16d4ad3a-23df-44d4-bbc5-0493d8eeb0fb');\n",
       "var x = new MutationObserver(function (mutations, observer) {{\n",
       "        var display = window.getComputedStyle(gd).display;\n",
       "        if (!display || display === 'none') {{\n",
       "            console.log([gd, 'removed!']);\n",
       "            Plotly.purge(gd);\n",
       "            observer.disconnect();\n",
       "        }}\n",
       "}});\n",
       "\n",
       "// Listen for the removal of the full notebook cells\n",
       "var notebookContainer = gd.closest('#notebook-container');\n",
       "if (notebookContainer) {{\n",
       "    x.observe(notebookContainer, {childList: true});\n",
       "}}\n",
       "\n",
       "// Listen for the clearing of the current output cell\n",
       "var outputEl = gd.closest('.output');\n",
       "if (outputEl) {{\n",
       "    x.observe(outputEl, {childList: true});\n",
       "}}\n",
       "\n",
       "                        })\n",
       "                };\n",
       "                });\n",
       "            </script>\n",
       "        </div>"
      ]
     },
     "metadata": {},
     "output_type": "display_data"
    }
   ],
   "source": [
    "\n",
    "fig = go.Figure()\n",
    "fig.add_trace(go.Bar(x=new_df_3['Brand'].unique(), y=new_df_3['proportion_negative']))\n",
    "fig.update_layout(\n",
    "    title=\"Top 10 Brands that generate largest proportion of negative tweets \",\n",
    "    yaxis_title=\"# Proportion of positivity in tweets\",plot_bgcolor='rgb(255,255,255)',\n",
    "    font=dict(\n",
    "        size=13\n",
    "))\n",
    "fig.show()"
   ]
  },
  {
   "cell_type": "code",
   "execution_count": 23,
   "metadata": {},
   "outputs": [
    {
     "data": {
      "application/vnd.plotly.v1+json": {
       "config": {
        "plotlyServerURL": "https://plot.ly"
       },
       "data": [
        {
         "marker": {
          "size": 10
         },
         "mode": "markers",
         "text": [
          "Amazon Prime",
          "Audi",
          "Avacados From Mexico",
          "Bloomberg",
          "Bud Light X Tide",
          "BudLight",
          "Budwieser",
          "Cheetos",
          "Coca Cola",
          "Discover Card",
          "Doritos",
          "Facebook",
          "General Motors",
          "Google",
          "HardRockHotel",
          "Heinz",
          "Hulu",
          "Hyundai",
          "Jeep",
          "KIA",
          "Kellog",
          "Little Ceasars",
          "Marvel",
          "Metro Goldwyn Mayer",
          "Michelob Ultra",
          "Miscrosoft",
          "Mountain Dew",
          "NFL",
          "New York Life",
          "Olay",
          "Pepsi",
          "Planters",
          "Porsche",
          "Pringles",
          "Proctor and Gamble",
          "Quibi",
          "Reeses",
          "Rocket Mortgage",
          "Sabra",
          "Snickers",
          "Soda Stream",
          "Squarespace",
          "T-Mobile",
          "Tide",
          "Tide x DC",
          "Toyota",
          "Trump",
          "TurboTax",
          "Turkish Airlines",
          "Verizon",
          "WeatherTech"
         ],
         "type": "scatter",
         "x": [
          617.8666666666667,
          1047.0166666666667,
          608.3,
          149.01666666666668,
          2676.383333333333,
          2067.616666666667,
          351.85,
          2467.733333333333,
          22.866666666666667,
          1522.4333333333334,
          17.366666666666667,
          16.283333333333335,
          928.6333333333333,
          1127.8333333333333,
          12.42962962962963,
          196.83333333333334,
          1479.0333333333333,
          102.53333333333333,
          913.7833333333333,
          129.4,
          619,
          14.666666666666666,
          298.23333333333335,
          4803.133333333333,
          91.76666666666667,
          212.83333333333334,
          108.76666666666667,
          17.152941176470588,
          284.1333333333333,
          1377.6,
          580.2666666666667,
          1719.9,
          53.9,
          4639.5,
          0.2833333333333333,
          217.43333333333334,
          101.06666666666666,
          149.23333333333332,
          40.06,
          426.4,
          44.2,
          395.03333333333336,
          3389.9333333333334,
          695.6333333333333,
          44.46666666666667,
          116.76666666666667,
          340.26666666666665,
          1115.6222222222223,
          61.56,
          211.93333333333334,
          390.4
         ],
         "y": [
          2.802097902097902,
          1.5806563039723662,
          4.342429577464789,
          3.511278195488722,
          4.23469387755102,
          20.355287569573285,
          1.8009803921568628,
          3.7143686502177067,
          3.5253164556962027,
          2.749375,
          10.402985074626866,
          6.485714285714286,
          4.831005586592179,
          1.8960880195599021,
          0.39204545454545453,
          3.0041152263374484,
          1.8968732857926496,
          2.4910714285714284,
          3.669910786699108,
          2.9746835443037973,
          3.6493212669683257,
          13.333333333333334,
          4.048148148148148,
          2.430860033726813,
          3.359743040685225,
          6.9072847682119205,
          18.401869158878505,
          2.3300492610837438,
          22.05785123966942,
          11.98125,
          13.75,
          3.106741573033708,
          2.866004962779156,
          3.5598096964204804,
          11,
          0.93681652490887,
          5.953488372093023,
          18.985632183908045,
          5.275,
          3.8511904761904763,
          0.5024469820554649,
          4.665413533834586,
          14.87779297765618,
          3.9805825242718447,
          9.6,
          2.361344537815126,
          10.634517766497462,
          3.0768129770992365,
          1.383378016085791,
          5.7682926829268295,
          5.273170731707317
         ]
        }
       ],
       "layout": {
        "plot_bgcolor": "rgb(255,255,255)",
        "template": {
         "data": {
          "bar": [
           {
            "error_x": {
             "color": "#2a3f5f"
            },
            "error_y": {
             "color": "#2a3f5f"
            },
            "marker": {
             "line": {
              "color": "#E5ECF6",
              "width": 0.5
             }
            },
            "type": "bar"
           }
          ],
          "barpolar": [
           {
            "marker": {
             "line": {
              "color": "#E5ECF6",
              "width": 0.5
             }
            },
            "type": "barpolar"
           }
          ],
          "carpet": [
           {
            "aaxis": {
             "endlinecolor": "#2a3f5f",
             "gridcolor": "white",
             "linecolor": "white",
             "minorgridcolor": "white",
             "startlinecolor": "#2a3f5f"
            },
            "baxis": {
             "endlinecolor": "#2a3f5f",
             "gridcolor": "white",
             "linecolor": "white",
             "minorgridcolor": "white",
             "startlinecolor": "#2a3f5f"
            },
            "type": "carpet"
           }
          ],
          "choropleth": [
           {
            "colorbar": {
             "outlinewidth": 0,
             "ticks": ""
            },
            "type": "choropleth"
           }
          ],
          "contour": [
           {
            "colorbar": {
             "outlinewidth": 0,
             "ticks": ""
            },
            "colorscale": [
             [
              0,
              "#0d0887"
             ],
             [
              0.1111111111111111,
              "#46039f"
             ],
             [
              0.2222222222222222,
              "#7201a8"
             ],
             [
              0.3333333333333333,
              "#9c179e"
             ],
             [
              0.4444444444444444,
              "#bd3786"
             ],
             [
              0.5555555555555556,
              "#d8576b"
             ],
             [
              0.6666666666666666,
              "#ed7953"
             ],
             [
              0.7777777777777778,
              "#fb9f3a"
             ],
             [
              0.8888888888888888,
              "#fdca26"
             ],
             [
              1,
              "#f0f921"
             ]
            ],
            "type": "contour"
           }
          ],
          "contourcarpet": [
           {
            "colorbar": {
             "outlinewidth": 0,
             "ticks": ""
            },
            "type": "contourcarpet"
           }
          ],
          "heatmap": [
           {
            "colorbar": {
             "outlinewidth": 0,
             "ticks": ""
            },
            "colorscale": [
             [
              0,
              "#0d0887"
             ],
             [
              0.1111111111111111,
              "#46039f"
             ],
             [
              0.2222222222222222,
              "#7201a8"
             ],
             [
              0.3333333333333333,
              "#9c179e"
             ],
             [
              0.4444444444444444,
              "#bd3786"
             ],
             [
              0.5555555555555556,
              "#d8576b"
             ],
             [
              0.6666666666666666,
              "#ed7953"
             ],
             [
              0.7777777777777778,
              "#fb9f3a"
             ],
             [
              0.8888888888888888,
              "#fdca26"
             ],
             [
              1,
              "#f0f921"
             ]
            ],
            "type": "heatmap"
           }
          ],
          "heatmapgl": [
           {
            "colorbar": {
             "outlinewidth": 0,
             "ticks": ""
            },
            "colorscale": [
             [
              0,
              "#0d0887"
             ],
             [
              0.1111111111111111,
              "#46039f"
             ],
             [
              0.2222222222222222,
              "#7201a8"
             ],
             [
              0.3333333333333333,
              "#9c179e"
             ],
             [
              0.4444444444444444,
              "#bd3786"
             ],
             [
              0.5555555555555556,
              "#d8576b"
             ],
             [
              0.6666666666666666,
              "#ed7953"
             ],
             [
              0.7777777777777778,
              "#fb9f3a"
             ],
             [
              0.8888888888888888,
              "#fdca26"
             ],
             [
              1,
              "#f0f921"
             ]
            ],
            "type": "heatmapgl"
           }
          ],
          "histogram": [
           {
            "marker": {
             "colorbar": {
              "outlinewidth": 0,
              "ticks": ""
             }
            },
            "type": "histogram"
           }
          ],
          "histogram2d": [
           {
            "colorbar": {
             "outlinewidth": 0,
             "ticks": ""
            },
            "colorscale": [
             [
              0,
              "#0d0887"
             ],
             [
              0.1111111111111111,
              "#46039f"
             ],
             [
              0.2222222222222222,
              "#7201a8"
             ],
             [
              0.3333333333333333,
              "#9c179e"
             ],
             [
              0.4444444444444444,
              "#bd3786"
             ],
             [
              0.5555555555555556,
              "#d8576b"
             ],
             [
              0.6666666666666666,
              "#ed7953"
             ],
             [
              0.7777777777777778,
              "#fb9f3a"
             ],
             [
              0.8888888888888888,
              "#fdca26"
             ],
             [
              1,
              "#f0f921"
             ]
            ],
            "type": "histogram2d"
           }
          ],
          "histogram2dcontour": [
           {
            "colorbar": {
             "outlinewidth": 0,
             "ticks": ""
            },
            "colorscale": [
             [
              0,
              "#0d0887"
             ],
             [
              0.1111111111111111,
              "#46039f"
             ],
             [
              0.2222222222222222,
              "#7201a8"
             ],
             [
              0.3333333333333333,
              "#9c179e"
             ],
             [
              0.4444444444444444,
              "#bd3786"
             ],
             [
              0.5555555555555556,
              "#d8576b"
             ],
             [
              0.6666666666666666,
              "#ed7953"
             ],
             [
              0.7777777777777778,
              "#fb9f3a"
             ],
             [
              0.8888888888888888,
              "#fdca26"
             ],
             [
              1,
              "#f0f921"
             ]
            ],
            "type": "histogram2dcontour"
           }
          ],
          "mesh3d": [
           {
            "colorbar": {
             "outlinewidth": 0,
             "ticks": ""
            },
            "type": "mesh3d"
           }
          ],
          "parcoords": [
           {
            "line": {
             "colorbar": {
              "outlinewidth": 0,
              "ticks": ""
             }
            },
            "type": "parcoords"
           }
          ],
          "pie": [
           {
            "automargin": true,
            "type": "pie"
           }
          ],
          "scatter": [
           {
            "marker": {
             "colorbar": {
              "outlinewidth": 0,
              "ticks": ""
             }
            },
            "type": "scatter"
           }
          ],
          "scatter3d": [
           {
            "line": {
             "colorbar": {
              "outlinewidth": 0,
              "ticks": ""
             }
            },
            "marker": {
             "colorbar": {
              "outlinewidth": 0,
              "ticks": ""
             }
            },
            "type": "scatter3d"
           }
          ],
          "scattercarpet": [
           {
            "marker": {
             "colorbar": {
              "outlinewidth": 0,
              "ticks": ""
             }
            },
            "type": "scattercarpet"
           }
          ],
          "scattergeo": [
           {
            "marker": {
             "colorbar": {
              "outlinewidth": 0,
              "ticks": ""
             }
            },
            "type": "scattergeo"
           }
          ],
          "scattergl": [
           {
            "marker": {
             "colorbar": {
              "outlinewidth": 0,
              "ticks": ""
             }
            },
            "type": "scattergl"
           }
          ],
          "scattermapbox": [
           {
            "marker": {
             "colorbar": {
              "outlinewidth": 0,
              "ticks": ""
             }
            },
            "type": "scattermapbox"
           }
          ],
          "scatterpolar": [
           {
            "marker": {
             "colorbar": {
              "outlinewidth": 0,
              "ticks": ""
             }
            },
            "type": "scatterpolar"
           }
          ],
          "scatterpolargl": [
           {
            "marker": {
             "colorbar": {
              "outlinewidth": 0,
              "ticks": ""
             }
            },
            "type": "scatterpolargl"
           }
          ],
          "scatterternary": [
           {
            "marker": {
             "colorbar": {
              "outlinewidth": 0,
              "ticks": ""
             }
            },
            "type": "scatterternary"
           }
          ],
          "surface": [
           {
            "colorbar": {
             "outlinewidth": 0,
             "ticks": ""
            },
            "colorscale": [
             [
              0,
              "#0d0887"
             ],
             [
              0.1111111111111111,
              "#46039f"
             ],
             [
              0.2222222222222222,
              "#7201a8"
             ],
             [
              0.3333333333333333,
              "#9c179e"
             ],
             [
              0.4444444444444444,
              "#bd3786"
             ],
             [
              0.5555555555555556,
              "#d8576b"
             ],
             [
              0.6666666666666666,
              "#ed7953"
             ],
             [
              0.7777777777777778,
              "#fb9f3a"
             ],
             [
              0.8888888888888888,
              "#fdca26"
             ],
             [
              1,
              "#f0f921"
             ]
            ],
            "type": "surface"
           }
          ],
          "table": [
           {
            "cells": {
             "fill": {
              "color": "#EBF0F8"
             },
             "line": {
              "color": "white"
             }
            },
            "header": {
             "fill": {
              "color": "#C8D4E3"
             },
             "line": {
              "color": "white"
             }
            },
            "type": "table"
           }
          ]
         },
         "layout": {
          "annotationdefaults": {
           "arrowcolor": "#2a3f5f",
           "arrowhead": 0,
           "arrowwidth": 1
          },
          "coloraxis": {
           "colorbar": {
            "outlinewidth": 0,
            "ticks": ""
           }
          },
          "colorscale": {
           "diverging": [
            [
             0,
             "#8e0152"
            ],
            [
             0.1,
             "#c51b7d"
            ],
            [
             0.2,
             "#de77ae"
            ],
            [
             0.3,
             "#f1b6da"
            ],
            [
             0.4,
             "#fde0ef"
            ],
            [
             0.5,
             "#f7f7f7"
            ],
            [
             0.6,
             "#e6f5d0"
            ],
            [
             0.7,
             "#b8e186"
            ],
            [
             0.8,
             "#7fbc41"
            ],
            [
             0.9,
             "#4d9221"
            ],
            [
             1,
             "#276419"
            ]
           ],
           "sequential": [
            [
             0,
             "#0d0887"
            ],
            [
             0.1111111111111111,
             "#46039f"
            ],
            [
             0.2222222222222222,
             "#7201a8"
            ],
            [
             0.3333333333333333,
             "#9c179e"
            ],
            [
             0.4444444444444444,
             "#bd3786"
            ],
            [
             0.5555555555555556,
             "#d8576b"
            ],
            [
             0.6666666666666666,
             "#ed7953"
            ],
            [
             0.7777777777777778,
             "#fb9f3a"
            ],
            [
             0.8888888888888888,
             "#fdca26"
            ],
            [
             1,
             "#f0f921"
            ]
           ],
           "sequentialminus": [
            [
             0,
             "#0d0887"
            ],
            [
             0.1111111111111111,
             "#46039f"
            ],
            [
             0.2222222222222222,
             "#7201a8"
            ],
            [
             0.3333333333333333,
             "#9c179e"
            ],
            [
             0.4444444444444444,
             "#bd3786"
            ],
            [
             0.5555555555555556,
             "#d8576b"
            ],
            [
             0.6666666666666666,
             "#ed7953"
            ],
            [
             0.7777777777777778,
             "#fb9f3a"
            ],
            [
             0.8888888888888888,
             "#fdca26"
            ],
            [
             1,
             "#f0f921"
            ]
           ]
          },
          "colorway": [
           "#636efa",
           "#EF553B",
           "#00cc96",
           "#ab63fa",
           "#FFA15A",
           "#19d3f3",
           "#FF6692",
           "#B6E880",
           "#FF97FF",
           "#FECB52"
          ],
          "font": {
           "color": "#2a3f5f"
          },
          "geo": {
           "bgcolor": "white",
           "lakecolor": "white",
           "landcolor": "#E5ECF6",
           "showlakes": true,
           "showland": true,
           "subunitcolor": "white"
          },
          "hoverlabel": {
           "align": "left"
          },
          "hovermode": "closest",
          "mapbox": {
           "style": "light"
          },
          "paper_bgcolor": "white",
          "plot_bgcolor": "#E5ECF6",
          "polar": {
           "angularaxis": {
            "gridcolor": "white",
            "linecolor": "white",
            "ticks": ""
           },
           "bgcolor": "#E5ECF6",
           "radialaxis": {
            "gridcolor": "white",
            "linecolor": "white",
            "ticks": ""
           }
          },
          "scene": {
           "xaxis": {
            "backgroundcolor": "#E5ECF6",
            "gridcolor": "white",
            "gridwidth": 2,
            "linecolor": "white",
            "showbackground": true,
            "ticks": "",
            "zerolinecolor": "white"
           },
           "yaxis": {
            "backgroundcolor": "#E5ECF6",
            "gridcolor": "white",
            "gridwidth": 2,
            "linecolor": "white",
            "showbackground": true,
            "ticks": "",
            "zerolinecolor": "white"
           },
           "zaxis": {
            "backgroundcolor": "#E5ECF6",
            "gridcolor": "white",
            "gridwidth": 2,
            "linecolor": "white",
            "showbackground": true,
            "ticks": "",
            "zerolinecolor": "white"
           }
          },
          "shapedefaults": {
           "line": {
            "color": "#2a3f5f"
           }
          },
          "ternary": {
           "aaxis": {
            "gridcolor": "white",
            "linecolor": "white",
            "ticks": ""
           },
           "baxis": {
            "gridcolor": "white",
            "linecolor": "white",
            "ticks": ""
           },
           "bgcolor": "#E5ECF6",
           "caxis": {
            "gridcolor": "white",
            "linecolor": "white",
            "ticks": ""
           }
          },
          "title": {
           "x": 0.05
          },
          "xaxis": {
           "automargin": true,
           "gridcolor": "white",
           "linecolor": "white",
           "ticks": "",
           "title": {
            "standoff": 15
           },
           "zerolinecolor": "white",
           "zerolinewidth": 2
          },
          "yaxis": {
           "automargin": true,
           "gridcolor": "white",
           "linecolor": "white",
           "ticks": "",
           "title": {
            "standoff": 15
           },
           "zerolinecolor": "white",
           "zerolinewidth": 2
          }
         }
        },
        "title": {
         "text": "<b>Positive/ Negative vs Engagement Volume<b>"
        },
        "xaxis": {
         "title": {
          "text": "<b>Engagement per Second of Ad<b>"
         }
        },
        "yaxis": {
         "title": {
          "text": "<b>Positive : negative<b>"
         }
        }
       }
      },
      "text/html": [
       "<div>\n",
       "        \n",
       "        \n",
       "            <div id=\"04b9b3f1-f121-4bc6-9ede-aed4c00ec374\" class=\"plotly-graph-div\" style=\"height:525px; width:100%;\"></div>\n",
       "            <script type=\"text/javascript\">\n",
       "                require([\"plotly\"], function(Plotly) {\n",
       "                    window.PLOTLYENV=window.PLOTLYENV || {};\n",
       "                    \n",
       "                if (document.getElementById(\"04b9b3f1-f121-4bc6-9ede-aed4c00ec374\")) {\n",
       "                    Plotly.newPlot(\n",
       "                        '04b9b3f1-f121-4bc6-9ede-aed4c00ec374',\n",
       "                        [{\"marker\": {\"size\": 10}, \"mode\": \"markers\", \"text\": [\"Amazon Prime\", \"Audi\", \"Avacados From Mexico\", \"Bloomberg\", \"Bud Light X Tide\", \"BudLight\", \"Budwieser\", \"Cheetos\", \"Coca Cola\", \"Discover Card\", \"Doritos\", \"Facebook\", \"General Motors\", \"Google\", \"HardRockHotel\", \"Heinz\", \"Hulu\", \"Hyundai\", \"Jeep\", \"KIA\", \"Kellog\", \"Little Ceasars\", \"Marvel\", \"Metro Goldwyn Mayer\", \"Michelob Ultra\", \"Miscrosoft\", \"Mountain Dew\", \"NFL\", \"New York Life\", \"Olay\", \"Pepsi\", \"Planters\", \"Porsche\", \"Pringles\", \"Proctor and Gamble\", \"Quibi\", \"Reeses\", \"Rocket Mortgage\", \"Sabra\", \"Snickers\", \"Soda Stream\", \"Squarespace\", \"T-Mobile\", \"Tide\", \"Tide x DC\", \"Toyota\", \"Trump\", \"TurboTax\", \"Turkish Airlines\", \"Verizon\", \"WeatherTech\"], \"type\": \"scatter\", \"x\": [617.8666666666667, 1047.0166666666667, 608.3, 149.01666666666668, 2676.383333333333, 2067.616666666667, 351.85, 2467.733333333333, 22.866666666666667, 1522.4333333333334, 17.366666666666667, 16.283333333333335, 928.6333333333333, 1127.8333333333333, 12.42962962962963, 196.83333333333334, 1479.0333333333333, 102.53333333333333, 913.7833333333333, 129.4, 619.0, 14.666666666666666, 298.23333333333335, 4803.133333333333, 91.76666666666667, 212.83333333333334, 108.76666666666667, 17.152941176470588, 284.1333333333333, 1377.6, 580.2666666666667, 1719.9, 53.9, 4639.5, 0.2833333333333333, 217.43333333333334, 101.06666666666666, 149.23333333333332, 40.06, 426.4, 44.2, 395.03333333333336, 3389.9333333333334, 695.6333333333333, 44.46666666666667, 116.76666666666667, 340.26666666666665, 1115.6222222222223, 61.56, 211.93333333333334, 390.4], \"y\": [2.802097902097902, 1.5806563039723662, 4.342429577464789, 3.511278195488722, 4.23469387755102, 20.355287569573285, 1.8009803921568628, 3.7143686502177067, 3.5253164556962027, 2.749375, 10.402985074626866, 6.485714285714286, 4.831005586592179, 1.8960880195599021, 0.39204545454545453, 3.0041152263374484, 1.8968732857926496, 2.4910714285714284, 3.669910786699108, 2.9746835443037973, 3.6493212669683257, 13.333333333333334, 4.048148148148148, 2.430860033726813, 3.359743040685225, 6.9072847682119205, 18.401869158878505, 2.3300492610837438, 22.05785123966942, 11.98125, 13.75, 3.106741573033708, 2.866004962779156, 3.5598096964204804, 11.0, 0.93681652490887, 5.953488372093023, 18.985632183908045, 5.275, 3.8511904761904763, 0.5024469820554649, 4.665413533834586, 14.87779297765618, 3.9805825242718447, 9.6, 2.361344537815126, 10.634517766497462, 3.0768129770992365, 1.383378016085791, 5.7682926829268295, 5.273170731707317]}],\n",
       "                        {\"plot_bgcolor\": \"rgb(255,255,255)\", \"template\": {\"data\": {\"bar\": [{\"error_x\": {\"color\": \"#2a3f5f\"}, \"error_y\": {\"color\": \"#2a3f5f\"}, \"marker\": {\"line\": {\"color\": \"#E5ECF6\", \"width\": 0.5}}, \"type\": \"bar\"}], \"barpolar\": [{\"marker\": {\"line\": {\"color\": \"#E5ECF6\", \"width\": 0.5}}, \"type\": \"barpolar\"}], \"carpet\": [{\"aaxis\": {\"endlinecolor\": \"#2a3f5f\", \"gridcolor\": \"white\", \"linecolor\": \"white\", \"minorgridcolor\": \"white\", \"startlinecolor\": \"#2a3f5f\"}, \"baxis\": {\"endlinecolor\": \"#2a3f5f\", \"gridcolor\": \"white\", \"linecolor\": \"white\", \"minorgridcolor\": \"white\", \"startlinecolor\": \"#2a3f5f\"}, \"type\": \"carpet\"}], \"choropleth\": [{\"colorbar\": {\"outlinewidth\": 0, \"ticks\": \"\"}, \"type\": \"choropleth\"}], \"contour\": [{\"colorbar\": {\"outlinewidth\": 0, \"ticks\": \"\"}, \"colorscale\": [[0.0, \"#0d0887\"], [0.1111111111111111, \"#46039f\"], [0.2222222222222222, \"#7201a8\"], [0.3333333333333333, \"#9c179e\"], [0.4444444444444444, \"#bd3786\"], [0.5555555555555556, \"#d8576b\"], [0.6666666666666666, \"#ed7953\"], [0.7777777777777778, \"#fb9f3a\"], [0.8888888888888888, \"#fdca26\"], [1.0, \"#f0f921\"]], \"type\": \"contour\"}], \"contourcarpet\": [{\"colorbar\": {\"outlinewidth\": 0, \"ticks\": \"\"}, \"type\": \"contourcarpet\"}], \"heatmap\": [{\"colorbar\": {\"outlinewidth\": 0, \"ticks\": \"\"}, \"colorscale\": [[0.0, \"#0d0887\"], [0.1111111111111111, \"#46039f\"], [0.2222222222222222, \"#7201a8\"], [0.3333333333333333, \"#9c179e\"], [0.4444444444444444, \"#bd3786\"], [0.5555555555555556, \"#d8576b\"], [0.6666666666666666, \"#ed7953\"], [0.7777777777777778, \"#fb9f3a\"], [0.8888888888888888, \"#fdca26\"], [1.0, \"#f0f921\"]], \"type\": \"heatmap\"}], \"heatmapgl\": [{\"colorbar\": {\"outlinewidth\": 0, \"ticks\": \"\"}, \"colorscale\": [[0.0, \"#0d0887\"], [0.1111111111111111, \"#46039f\"], [0.2222222222222222, \"#7201a8\"], [0.3333333333333333, \"#9c179e\"], [0.4444444444444444, \"#bd3786\"], [0.5555555555555556, \"#d8576b\"], [0.6666666666666666, \"#ed7953\"], [0.7777777777777778, \"#fb9f3a\"], [0.8888888888888888, \"#fdca26\"], [1.0, \"#f0f921\"]], \"type\": \"heatmapgl\"}], \"histogram\": [{\"marker\": {\"colorbar\": {\"outlinewidth\": 0, \"ticks\": \"\"}}, \"type\": \"histogram\"}], \"histogram2d\": [{\"colorbar\": {\"outlinewidth\": 0, \"ticks\": \"\"}, \"colorscale\": [[0.0, \"#0d0887\"], [0.1111111111111111, \"#46039f\"], [0.2222222222222222, \"#7201a8\"], [0.3333333333333333, \"#9c179e\"], [0.4444444444444444, \"#bd3786\"], [0.5555555555555556, \"#d8576b\"], [0.6666666666666666, \"#ed7953\"], [0.7777777777777778, \"#fb9f3a\"], [0.8888888888888888, \"#fdca26\"], [1.0, \"#f0f921\"]], \"type\": \"histogram2d\"}], \"histogram2dcontour\": [{\"colorbar\": {\"outlinewidth\": 0, \"ticks\": \"\"}, \"colorscale\": [[0.0, \"#0d0887\"], [0.1111111111111111, \"#46039f\"], [0.2222222222222222, \"#7201a8\"], [0.3333333333333333, \"#9c179e\"], [0.4444444444444444, \"#bd3786\"], [0.5555555555555556, \"#d8576b\"], [0.6666666666666666, \"#ed7953\"], [0.7777777777777778, \"#fb9f3a\"], [0.8888888888888888, \"#fdca26\"], [1.0, \"#f0f921\"]], \"type\": \"histogram2dcontour\"}], \"mesh3d\": [{\"colorbar\": {\"outlinewidth\": 0, \"ticks\": \"\"}, \"type\": \"mesh3d\"}], \"parcoords\": [{\"line\": {\"colorbar\": {\"outlinewidth\": 0, \"ticks\": \"\"}}, \"type\": \"parcoords\"}], \"pie\": [{\"automargin\": true, \"type\": \"pie\"}], \"scatter\": [{\"marker\": {\"colorbar\": {\"outlinewidth\": 0, \"ticks\": \"\"}}, \"type\": \"scatter\"}], \"scatter3d\": [{\"line\": {\"colorbar\": {\"outlinewidth\": 0, \"ticks\": \"\"}}, \"marker\": {\"colorbar\": {\"outlinewidth\": 0, \"ticks\": \"\"}}, \"type\": \"scatter3d\"}], \"scattercarpet\": [{\"marker\": {\"colorbar\": {\"outlinewidth\": 0, \"ticks\": \"\"}}, \"type\": \"scattercarpet\"}], \"scattergeo\": [{\"marker\": {\"colorbar\": {\"outlinewidth\": 0, \"ticks\": \"\"}}, \"type\": \"scattergeo\"}], \"scattergl\": [{\"marker\": {\"colorbar\": {\"outlinewidth\": 0, \"ticks\": \"\"}}, \"type\": \"scattergl\"}], \"scattermapbox\": [{\"marker\": {\"colorbar\": {\"outlinewidth\": 0, \"ticks\": \"\"}}, \"type\": \"scattermapbox\"}], \"scatterpolar\": [{\"marker\": {\"colorbar\": {\"outlinewidth\": 0, \"ticks\": \"\"}}, \"type\": \"scatterpolar\"}], \"scatterpolargl\": [{\"marker\": {\"colorbar\": {\"outlinewidth\": 0, \"ticks\": \"\"}}, \"type\": \"scatterpolargl\"}], \"scatterternary\": [{\"marker\": {\"colorbar\": {\"outlinewidth\": 0, \"ticks\": \"\"}}, \"type\": \"scatterternary\"}], \"surface\": [{\"colorbar\": {\"outlinewidth\": 0, \"ticks\": \"\"}, \"colorscale\": [[0.0, \"#0d0887\"], [0.1111111111111111, \"#46039f\"], [0.2222222222222222, \"#7201a8\"], [0.3333333333333333, \"#9c179e\"], [0.4444444444444444, \"#bd3786\"], [0.5555555555555556, \"#d8576b\"], [0.6666666666666666, \"#ed7953\"], [0.7777777777777778, \"#fb9f3a\"], [0.8888888888888888, \"#fdca26\"], [1.0, \"#f0f921\"]], \"type\": \"surface\"}], \"table\": [{\"cells\": {\"fill\": {\"color\": \"#EBF0F8\"}, \"line\": {\"color\": \"white\"}}, \"header\": {\"fill\": {\"color\": \"#C8D4E3\"}, \"line\": {\"color\": \"white\"}}, \"type\": \"table\"}]}, \"layout\": {\"annotationdefaults\": {\"arrowcolor\": \"#2a3f5f\", \"arrowhead\": 0, \"arrowwidth\": 1}, \"coloraxis\": {\"colorbar\": {\"outlinewidth\": 0, \"ticks\": \"\"}}, \"colorscale\": {\"diverging\": [[0, \"#8e0152\"], [0.1, \"#c51b7d\"], [0.2, \"#de77ae\"], [0.3, \"#f1b6da\"], [0.4, \"#fde0ef\"], [0.5, \"#f7f7f7\"], [0.6, \"#e6f5d0\"], [0.7, \"#b8e186\"], [0.8, \"#7fbc41\"], [0.9, \"#4d9221\"], [1, \"#276419\"]], \"sequential\": [[0.0, \"#0d0887\"], [0.1111111111111111, \"#46039f\"], [0.2222222222222222, \"#7201a8\"], [0.3333333333333333, \"#9c179e\"], [0.4444444444444444, \"#bd3786\"], [0.5555555555555556, \"#d8576b\"], [0.6666666666666666, \"#ed7953\"], [0.7777777777777778, \"#fb9f3a\"], [0.8888888888888888, \"#fdca26\"], [1.0, \"#f0f921\"]], \"sequentialminus\": [[0.0, \"#0d0887\"], [0.1111111111111111, \"#46039f\"], [0.2222222222222222, \"#7201a8\"], [0.3333333333333333, \"#9c179e\"], [0.4444444444444444, \"#bd3786\"], [0.5555555555555556, \"#d8576b\"], [0.6666666666666666, \"#ed7953\"], [0.7777777777777778, \"#fb9f3a\"], [0.8888888888888888, \"#fdca26\"], [1.0, \"#f0f921\"]]}, \"colorway\": [\"#636efa\", \"#EF553B\", \"#00cc96\", \"#ab63fa\", \"#FFA15A\", \"#19d3f3\", \"#FF6692\", \"#B6E880\", \"#FF97FF\", \"#FECB52\"], \"font\": {\"color\": \"#2a3f5f\"}, \"geo\": {\"bgcolor\": \"white\", \"lakecolor\": \"white\", \"landcolor\": \"#E5ECF6\", \"showlakes\": true, \"showland\": true, \"subunitcolor\": \"white\"}, \"hoverlabel\": {\"align\": \"left\"}, \"hovermode\": \"closest\", \"mapbox\": {\"style\": \"light\"}, \"paper_bgcolor\": \"white\", \"plot_bgcolor\": \"#E5ECF6\", \"polar\": {\"angularaxis\": {\"gridcolor\": \"white\", \"linecolor\": \"white\", \"ticks\": \"\"}, \"bgcolor\": \"#E5ECF6\", \"radialaxis\": {\"gridcolor\": \"white\", \"linecolor\": \"white\", \"ticks\": \"\"}}, \"scene\": {\"xaxis\": {\"backgroundcolor\": \"#E5ECF6\", \"gridcolor\": \"white\", \"gridwidth\": 2, \"linecolor\": \"white\", \"showbackground\": true, \"ticks\": \"\", \"zerolinecolor\": \"white\"}, \"yaxis\": {\"backgroundcolor\": \"#E5ECF6\", \"gridcolor\": \"white\", \"gridwidth\": 2, \"linecolor\": \"white\", \"showbackground\": true, \"ticks\": \"\", \"zerolinecolor\": \"white\"}, \"zaxis\": {\"backgroundcolor\": \"#E5ECF6\", \"gridcolor\": \"white\", \"gridwidth\": 2, \"linecolor\": \"white\", \"showbackground\": true, \"ticks\": \"\", \"zerolinecolor\": \"white\"}}, \"shapedefaults\": {\"line\": {\"color\": \"#2a3f5f\"}}, \"ternary\": {\"aaxis\": {\"gridcolor\": \"white\", \"linecolor\": \"white\", \"ticks\": \"\"}, \"baxis\": {\"gridcolor\": \"white\", \"linecolor\": \"white\", \"ticks\": \"\"}, \"bgcolor\": \"#E5ECF6\", \"caxis\": {\"gridcolor\": \"white\", \"linecolor\": \"white\", \"ticks\": \"\"}}, \"title\": {\"x\": 0.05}, \"xaxis\": {\"automargin\": true, \"gridcolor\": \"white\", \"linecolor\": \"white\", \"ticks\": \"\", \"title\": {\"standoff\": 15}, \"zerolinecolor\": \"white\", \"zerolinewidth\": 2}, \"yaxis\": {\"automargin\": true, \"gridcolor\": \"white\", \"linecolor\": \"white\", \"ticks\": \"\", \"title\": {\"standoff\": 15}, \"zerolinecolor\": \"white\", \"zerolinewidth\": 2}}}, \"title\": {\"text\": \"<b>Positive/ Negative vs Engagement Volume<b>\"}, \"xaxis\": {\"title\": {\"text\": \"<b>Engagement per Second of Ad<b>\"}}, \"yaxis\": {\"title\": {\"text\": \"<b>Positive : negative<b>\"}}},\n",
       "                        {\"responsive\": true}\n",
       "                    ).then(function(){\n",
       "                            \n",
       "var gd = document.getElementById('04b9b3f1-f121-4bc6-9ede-aed4c00ec374');\n",
       "var x = new MutationObserver(function (mutations, observer) {{\n",
       "        var display = window.getComputedStyle(gd).display;\n",
       "        if (!display || display === 'none') {{\n",
       "            console.log([gd, 'removed!']);\n",
       "            Plotly.purge(gd);\n",
       "            observer.disconnect();\n",
       "        }}\n",
       "}});\n",
       "\n",
       "// Listen for the removal of the full notebook cells\n",
       "var notebookContainer = gd.closest('#notebook-container');\n",
       "if (notebookContainer) {{\n",
       "    x.observe(notebookContainer, {childList: true});\n",
       "}}\n",
       "\n",
       "// Listen for the clearing of the current output cell\n",
       "var outputEl = gd.closest('.output');\n",
       "if (outputEl) {{\n",
       "    x.observe(outputEl, {childList: true});\n",
       "}}\n",
       "\n",
       "                        })\n",
       "                };\n",
       "                });\n",
       "            </script>\n",
       "        </div>"
      ]
     },
     "metadata": {},
     "output_type": "display_data"
    }
   ],
   "source": [
    "pos_neg= sentiment_tweet_positive/sentiment_tweet_negative\n",
    "sent_eng = pd.merge(pos_neg,new_df, on ='Brand',how ='inner')\n",
    "fig = go.Figure(data=go.Scatter(y=sent_eng['timestamp'],\n",
    "                                x=sent_eng['engage_per_second'],\n",
    "                                mode='markers',\n",
    "                                text=sent_eng['Brand'].values,\n",
    "                                marker=dict(\n",
    "        size=10)\n",
    "                               ))\n",
    "\n",
    "fig.update_layout(title='<b>Positive/ Negative vs Engagement Volume<b>',\n",
    "                  xaxis_title=\"<b>Engagement per Second of Ad<b>\",\n",
    "                  yaxis_title=\"<b>Positive : negative<b>\",\n",
    "                  plot_bgcolor='rgb(255,255,255)'\n",
    "                 \n",
    "                 )\n",
    "fig.show()"
   ]
  },
  {
   "cell_type": "markdown",
   "metadata": {},
   "source": [
    "## Sentiment "
   ]
  },
  {
   "cell_type": "code",
   "execution_count": 24,
   "metadata": {},
   "outputs": [
    {
     "data": {
      "text/plain": [
       "<matplotlib.axes._subplots.AxesSubplot at 0x2032c139908>"
      ]
     },
     "execution_count": 24,
     "metadata": {},
     "output_type": "execute_result"
    },
    {
     "data": {
      "image/png": "[encoded data removed]",
      "text/plain": [
       "<Figure size 432x288 with 1 Axes>"
      ]
     },
     "metadata": {
      "needs_background": "light"
     },
     "output_type": "display_data"
    }
   ],
   "source": [
    "sns.countplot('sentiment',data= Tweet)"
   ]
  },
  {
   "cell_type": "markdown",
   "metadata": {},
   "source": [
    "## Brand Count"
   ]
  },
  {
   "cell_type": "code",
   "execution_count": 56,
   "metadata": {},
   "outputs": [
    {
     "data": {
      "image/png": "[encoded data removed]",
      "text/plain": [
       "<Figure size 1440x1080 with 1 Axes>"
      ]
     },
     "metadata": {
      "needs_background": "light"
     },
     "output_type": "display_data"
    }
   ],
   "source": [
    "Brand_count=Tweet['Brand'].value_counts()\n",
    "fig, ax = plt.subplots(figsize=(20,15))\n",
    "bar = sns.barplot(Brand_count.index,Brand_count.values)\n",
    "\n",
    "plt.xticks(rotation=45)\n",
    "plt.ylabel('Number of Tweets',fontsize=15)\n",
    "plt.show()"
   ]
  },
  {
   "cell_type": "markdown",
   "metadata": {},
   "source": [
    "## word cloud"
   ]
  },
  {
   "cell_type": "code",
   "execution_count": 26,
   "metadata": {},
   "outputs": [],
   "source": [
    "# pip install wordcloud\n",
    "from wordcloud import WordCloud,STOPWORDS\n",
    "negat_tw=Tweet[Tweet['sentiment']=='negative']\n",
    "words = ' '.join(negat_tw['text'])\n",
    "cleaned_word = \" \".join([word for word in words.split()\n",
    "                            if 'http' not in word\n",
    "                                and not word.startswith('@')\n",
    "                                and word != 'RT'\n",
    "                            ])"
   ]
  },
  {
   "cell_type": "code",
   "execution_count": 27,
   "metadata": {},
   "outputs": [],
   "source": [
    "wordcloud = WordCloud(stopwords=STOPWORDS,\n",
    "                      background_color='black',\n",
    "                      width=3000,\n",
    "                      height=2500\n",
    "                     ).generate(cleaned_word)"
   ]
  },
  {
   "cell_type": "code",
   "execution_count": 28,
   "metadata": {},
   "outputs": [
    {
     "data": {
      "image/png": "[encoded data removed]",
      "text/plain": [
       "<Figure size 864x864 with 1 Axes>"
      ]
     },
     "metadata": {
      "needs_background": "light"
     },
     "output_type": "display_data"
    }
   ],
   "source": [
    "plt.figure(1,figsize=(12, 12))\n",
    "plt.imshow(wordcloud)\n",
    "plt.axis('off')\n",
    "plt.title('Negative word cloud',fontsize=25)\n",
    "plt.show()"
   ]
  },
  {
   "cell_type": "code",
   "execution_count": 29,
   "metadata": {},
   "outputs": [
    {
     "data": {
      "image/png": "[encoded data removed]",
      "text/plain": [
       "<Figure size 864x864 with 1 Axes>"
      ]
     },
     "metadata": {
      "needs_background": "light"
     },
     "output_type": "display_data"
    }
   ],
   "source": [
    "\n",
    "pos_tw=Tweet[Tweet['sentiment']=='positive']\n",
    "pos_words = ' '.join(pos_tw['text'])\n",
    "cleaned_word = \" \".join([word for word in pos_words.split()\n",
    "                            if 'http' not in word\n",
    "                                and not word.startswith('@')\n",
    "                                and word != 'RT'\n",
    "                            ])\n",
    "wordcloud_positive = WordCloud(stopwords=STOPWORDS,\n",
    "                      background_color='white',\n",
    "                      width=3000,\n",
    "                      height=2500\n",
    "                     ).generate(cleaned_word)\n",
    "plt.figure(1,figsize=(12, 12))\n",
    "plt.imshow(wordcloud_positive)\n",
    "plt.title('Positive word cloud',fontsize=25)\n",
    "plt.axis('off')\n",
    "plt.show()"
   ]
  },
  {
   "cell_type": "markdown",
   "metadata": {},
   "source": [
    "# Analysis"
   ]
  },
  {
   "cell_type": "code",
   "execution_count": 30,
   "metadata": {},
   "outputs": [
    {
     "data": {
      "text/html": [
       "<div>\n",
       "<style scoped>\n",
       "    .dataframe tbody tr th:only-of-type {\n",
       "        vertical-align: middle;\n",
       "    }\n",
       "\n",
       "    .dataframe tbody tr th {\n",
       "        vertical-align: top;\n",
       "    }\n",
       "\n",
       "    .dataframe thead th {\n",
       "        text-align: right;\n",
       "    }\n",
       "</style>\n",
       "<table border=\"1\" class=\"dataframe\">\n",
       "  <thead>\n",
       "    <tr style=\"text-align: right;\">\n",
       "      <th></th>\n",
       "      <th>Brand</th>\n",
       "      <th>time(seconds)</th>\n",
       "      <th>Cost/ 30 Sec</th>\n",
       "      <th>moral value vs funny</th>\n",
       "      <th>tv drama celebraty related/ with out star</th>\n",
       "    </tr>\n",
       "  </thead>\n",
       "  <tbody>\n",
       "    <tr>\n",
       "      <td>0</td>\n",
       "      <td>Amazon Alexa</td>\n",
       "      <td>90</td>\n",
       "      <td>1680000.0</td>\n",
       "      <td>F</td>\n",
       "      <td>Y</td>\n",
       "    </tr>\n",
       "    <tr>\n",
       "      <td>1</td>\n",
       "      <td>Amazon Prime</td>\n",
       "      <td>60</td>\n",
       "      <td>1120000.0</td>\n",
       "      <td>N</td>\n",
       "      <td>Y</td>\n",
       "    </tr>\n",
       "    <tr>\n",
       "      <td>2</td>\n",
       "      <td>Audi</td>\n",
       "      <td>60</td>\n",
       "      <td>1120000.0</td>\n",
       "      <td>N</td>\n",
       "      <td>Y</td>\n",
       "    </tr>\n",
       "    <tr>\n",
       "      <td>3</td>\n",
       "      <td>Avacados From Mexico</td>\n",
       "      <td>30</td>\n",
       "      <td>560000.0</td>\n",
       "      <td>F</td>\n",
       "      <td>N</td>\n",
       "    </tr>\n",
       "    <tr>\n",
       "      <td>4</td>\n",
       "      <td>Bloomberg</td>\n",
       "      <td>60</td>\n",
       "      <td>1120000.0</td>\n",
       "      <td>M</td>\n",
       "      <td>Y</td>\n",
       "    </tr>\n",
       "  </tbody>\n",
       "</table>\n",
       "</div>"
      ],
      "text/plain": [
       "                  Brand  time(seconds)  Cost/ 30 Sec moral value vs funny  \\\n",
       "0          Amazon Alexa             90     1680000.0                    F   \n",
       "1          Amazon Prime             60     1120000.0                    N   \n",
       "2                  Audi             60     1120000.0                    N   \n",
       "3  Avacados From Mexico             30      560000.0                    F   \n",
       "4             Bloomberg             60     1120000.0                    M   \n",
       "\n",
       "  tv drama celebraty related/ with out star  \n",
       "0                                         Y  \n",
       "1                                         Y  \n",
       "2                                         Y  \n",
       "3                                         N  \n",
       "4                                         Y  "
      ]
     },
     "execution_count": 30,
     "metadata": {},
     "output_type": "execute_result"
    }
   ],
   "source": [
    "ads_info = pd.read_excel('renew ver2.xlsx')\n",
    "ads_info.rename(columns={'Brand_Cleaned':'Brand'},inplace=True)\n",
    "ads_info.head()"
   ]
  },
  {
   "cell_type": "code",
   "execution_count": 31,
   "metadata": {},
   "outputs": [
    {
     "data": {
      "text/html": [
       "<div>\n",
       "<style scoped>\n",
       "    .dataframe tbody tr th:only-of-type {\n",
       "        vertical-align: middle;\n",
       "    }\n",
       "\n",
       "    .dataframe tbody tr th {\n",
       "        vertical-align: top;\n",
       "    }\n",
       "\n",
       "    .dataframe thead th {\n",
       "        text-align: right;\n",
       "    }\n",
       "</style>\n",
       "<table border=\"1\" class=\"dataframe\">\n",
       "  <thead>\n",
       "    <tr style=\"text-align: right;\">\n",
       "      <th></th>\n",
       "      <th>favorite_count</th>\n",
       "      <th>reply_count</th>\n",
       "      <th>user.followers_count</th>\n",
       "      <th>retweet_count</th>\n",
       "      <th>engage</th>\n",
       "    </tr>\n",
       "    <tr>\n",
       "      <th>Brand</th>\n",
       "      <th></th>\n",
       "      <th></th>\n",
       "      <th></th>\n",
       "      <th></th>\n",
       "      <th></th>\n",
       "    </tr>\n",
       "  </thead>\n",
       "  <tbody>\n",
       "    <tr>\n",
       "      <td>Amazon Prime</td>\n",
       "      <td>28631</td>\n",
       "      <td>2609</td>\n",
       "      <td>76433706</td>\n",
       "      <td>5832</td>\n",
       "      <td>37072</td>\n",
       "    </tr>\n",
       "    <tr>\n",
       "      <td>Audi</td>\n",
       "      <td>52060</td>\n",
       "      <td>4079</td>\n",
       "      <td>337185165</td>\n",
       "      <td>6682</td>\n",
       "      <td>62821</td>\n",
       "    </tr>\n",
       "    <tr>\n",
       "      <td>Avacados From Mexico</td>\n",
       "      <td>13903</td>\n",
       "      <td>1759</td>\n",
       "      <td>28593427</td>\n",
       "      <td>2587</td>\n",
       "      <td>18249</td>\n",
       "    </tr>\n",
       "    <tr>\n",
       "      <td>Bloomberg</td>\n",
       "      <td>7205</td>\n",
       "      <td>338</td>\n",
       "      <td>14795189</td>\n",
       "      <td>1398</td>\n",
       "      <td>8941</td>\n",
       "    </tr>\n",
       "    <tr>\n",
       "      <td>Bud Light X Tide</td>\n",
       "      <td>139194</td>\n",
       "      <td>2909</td>\n",
       "      <td>27737828</td>\n",
       "      <td>18480</td>\n",
       "      <td>160583</td>\n",
       "    </tr>\n",
       "  </tbody>\n",
       "</table>\n",
       "</div>"
      ],
      "text/plain": [
       "                      favorite_count  reply_count  user.followers_count  \\\n",
       "Brand                                                                     \n",
       "Amazon Prime                   28631         2609              76433706   \n",
       "Audi                           52060         4079             337185165   \n",
       "Avacados From Mexico           13903         1759              28593427   \n",
       "Bloomberg                       7205          338              14795189   \n",
       "Bud Light X Tide              139194         2909              27737828   \n",
       "\n",
       "                      retweet_count  engage  \n",
       "Brand                                        \n",
       "Amazon Prime                   5832   37072  \n",
       "Audi                           6682   62821  \n",
       "Avacados From Mexico           2587   18249  \n",
       "Bloomberg                      1398    8941  \n",
       "Bud Light X Tide              18480  160583  "
      ]
     },
     "execution_count": 31,
     "metadata": {},
     "output_type": "execute_result"
    }
   ],
   "source": [
    "Tw_cost.head()"
   ]
  },
  {
   "cell_type": "code",
   "execution_count": 32,
   "metadata": {},
   "outputs": [
    {
     "data": {
      "text/html": [
       "<div>\n",
       "<style scoped>\n",
       "    .dataframe tbody tr th:only-of-type {\n",
       "        vertical-align: middle;\n",
       "    }\n",
       "\n",
       "    .dataframe tbody tr th {\n",
       "        vertical-align: top;\n",
       "    }\n",
       "\n",
       "    .dataframe thead th {\n",
       "        text-align: right;\n",
       "    }\n",
       "</style>\n",
       "<table border=\"1\" class=\"dataframe\">\n",
       "  <thead>\n",
       "    <tr style=\"text-align: right;\">\n",
       "      <th></th>\n",
       "      <th>Brand</th>\n",
       "      <th>favorite_count</th>\n",
       "      <th>reply_count</th>\n",
       "      <th>user.followers_count</th>\n",
       "      <th>retweet_count</th>\n",
       "      <th>engage</th>\n",
       "      <th>time(seconds)</th>\n",
       "      <th>Cost/ 30 Sec</th>\n",
       "      <th>moral value vs funny</th>\n",
       "      <th>tv drama celebraty related/ with out star</th>\n",
       "      <th>pos_neg</th>\n",
       "      <th>eng_per_sec</th>\n",
       "    </tr>\n",
       "  </thead>\n",
       "  <tbody>\n",
       "    <tr>\n",
       "      <td>0</td>\n",
       "      <td>Amazon Prime</td>\n",
       "      <td>28631</td>\n",
       "      <td>2609</td>\n",
       "      <td>76433706</td>\n",
       "      <td>5832</td>\n",
       "      <td>37072</td>\n",
       "      <td>60</td>\n",
       "      <td>1120000.0</td>\n",
       "      <td>N</td>\n",
       "      <td>Y</td>\n",
       "      <td>2.802098</td>\n",
       "      <td>617.866667</td>\n",
       "    </tr>\n",
       "    <tr>\n",
       "      <td>1</td>\n",
       "      <td>Audi</td>\n",
       "      <td>52060</td>\n",
       "      <td>4079</td>\n",
       "      <td>337185165</td>\n",
       "      <td>6682</td>\n",
       "      <td>62821</td>\n",
       "      <td>60</td>\n",
       "      <td>1120000.0</td>\n",
       "      <td>N</td>\n",
       "      <td>Y</td>\n",
       "      <td>1.580656</td>\n",
       "      <td>1047.016667</td>\n",
       "    </tr>\n",
       "    <tr>\n",
       "      <td>2</td>\n",
       "      <td>Avacados From Mexico</td>\n",
       "      <td>13903</td>\n",
       "      <td>1759</td>\n",
       "      <td>28593427</td>\n",
       "      <td>2587</td>\n",
       "      <td>18249</td>\n",
       "      <td>30</td>\n",
       "      <td>560000.0</td>\n",
       "      <td>F</td>\n",
       "      <td>N</td>\n",
       "      <td>4.342430</td>\n",
       "      <td>608.300000</td>\n",
       "    </tr>\n",
       "    <tr>\n",
       "      <td>3</td>\n",
       "      <td>Bloomberg</td>\n",
       "      <td>7205</td>\n",
       "      <td>338</td>\n",
       "      <td>14795189</td>\n",
       "      <td>1398</td>\n",
       "      <td>8941</td>\n",
       "      <td>60</td>\n",
       "      <td>1120000.0</td>\n",
       "      <td>M</td>\n",
       "      <td>Y</td>\n",
       "      <td>3.511278</td>\n",
       "      <td>149.016667</td>\n",
       "    </tr>\n",
       "    <tr>\n",
       "      <td>4</td>\n",
       "      <td>Bud Light X Tide</td>\n",
       "      <td>139194</td>\n",
       "      <td>2909</td>\n",
       "      <td>27737828</td>\n",
       "      <td>18480</td>\n",
       "      <td>160583</td>\n",
       "      <td>15</td>\n",
       "      <td>280000.0</td>\n",
       "      <td>F</td>\n",
       "      <td>N</td>\n",
       "      <td>4.234694</td>\n",
       "      <td>10705.533333</td>\n",
       "    </tr>\n",
       "  </tbody>\n",
       "</table>\n",
       "</div>"
      ],
      "text/plain": [
       "                  Brand  favorite_count  reply_count  user.followers_count  \\\n",
       "0          Amazon Prime           28631         2609              76433706   \n",
       "1                  Audi           52060         4079             337185165   \n",
       "2  Avacados From Mexico           13903         1759              28593427   \n",
       "3             Bloomberg            7205          338              14795189   \n",
       "4      Bud Light X Tide          139194         2909              27737828   \n",
       "\n",
       "   retweet_count  engage  time(seconds)  Cost/ 30 Sec moral value vs funny  \\\n",
       "0           5832   37072             60     1120000.0                    N   \n",
       "1           6682   62821             60     1120000.0                    N   \n",
       "2           2587   18249             30      560000.0                    F   \n",
       "3           1398    8941             60     1120000.0                    M   \n",
       "4          18480  160583             15      280000.0                    F   \n",
       "\n",
       "  tv drama celebraty related/ with out star   pos_neg   eng_per_sec  \n",
       "0                                         Y  2.802098    617.866667  \n",
       "1                                         Y  1.580656   1047.016667  \n",
       "2                                         N  4.342430    608.300000  \n",
       "3                                         Y  3.511278    149.016667  \n",
       "4                                         N  4.234694  10705.533333  "
      ]
     },
     "execution_count": 32,
     "metadata": {},
     "output_type": "execute_result"
    }
   ],
   "source": [
    "analy_tw = pd.merge(pd.merge(Tw_cost,ads_info, on ='Brand',how='inner'),pos_neg,on ='Brand',how='inner')\n",
    "analy_tw.rename(columns={'timestamp':'pos_neg'},inplace=True)\n",
    "analy_tw['eng_per_sec'] = analy_tw['engage']/analy_tw['time(seconds)']\n",
    "analy_tw.head()"
   ]
  },
  {
   "cell_type": "markdown",
   "metadata": {},
   "source": [
    "Here I want to know per second of ads invested how likely we generate positive engagement per second relative to negative enagement per second\n",
    ".I simply multiply the two and it gives me a new feature that capture those information"
   ]
  },
  {
   "cell_type": "code",
   "execution_count": 33,
   "metadata": {},
   "outputs": [],
   "source": [
    "\n",
    "analy_tw['magnitude per second'] = analy_tw['pos_neg'] * analy_tw['eng_per_sec']"
   ]
  },
  {
   "cell_type": "code",
   "execution_count": 34,
   "metadata": {},
   "outputs": [
    {
     "data": {
      "text/plain": [
       "moral value vs funny\n",
       "F    1241.307659\n",
       "M     443.178782\n",
       "N     928.955623\n",
       "Name: eng_per_sec, dtype: float64"
      ]
     },
     "execution_count": 34,
     "metadata": {},
     "output_type": "execute_result"
    }
   ],
   "source": [
    "analy_tw.groupby('moral value vs funny').mean()['eng_per_sec']"
   ]
  },
  {
   "cell_type": "code",
   "execution_count": 35,
   "metadata": {},
   "outputs": [
    {
     "data": {
      "text/plain": [
       "moral value vs funny\n",
       "F    6481.344130\n",
       "M    2717.835939\n",
       "N    3172.904740\n",
       "Name: magnitude per second, dtype: float64"
      ]
     },
     "execution_count": 35,
     "metadata": {},
     "output_type": "execute_result"
    }
   ],
   "source": [
    "analy_tw.groupby('moral value vs funny').mean()['magnitude per second']\n"
   ]
  },
  {
   "cell_type": "code",
   "execution_count": 36,
   "metadata": {},
   "outputs": [
    {
     "data": {
      "text/plain": [
       "tv drama celebraty related/ with out star\n",
       "N    1028.765367\n",
       "Y     878.940211\n",
       "Name: eng_per_sec, dtype: float64"
      ]
     },
     "execution_count": 36,
     "metadata": {},
     "output_type": "execute_result"
    }
   ],
   "source": [
    "analy_tw.groupby('tv drama celebraty related/ with out star').mean()['eng_per_sec']"
   ]
  },
  {
   "cell_type": "code",
   "execution_count": 37,
   "metadata": {},
   "outputs": [
    {
     "data": {
      "text/plain": [
       "tv drama celebraty related/ with out star\n",
       "N    4842.319613\n",
       "Y    4529.114376\n",
       "Name: magnitude per second, dtype: float64"
      ]
     },
     "execution_count": 37,
     "metadata": {},
     "output_type": "execute_result"
    }
   ],
   "source": [
    "analy_tw.groupby('tv drama celebraty related/ with out star').mean()['magnitude per second']"
   ]
  },
  {
   "cell_type": "markdown",
   "metadata": {},
   "source": [
    "### Hypothesis testing on Funny ads vs Series ads\n",
    "Null hypothesis: the mean of magnitude per second is no difference between funny ads and series ads  \n",
    "\n",
    "Alternative hypothesis : the mean of magnitude per second is higher for funny ads than series ads \n",
    "\n",
    "This is a one way two sample t-test and we assume independence. That means that the mean of each ads won't affect one another\n",
    "Now we will test on a 5% significant level"
   ]
  },
  {
   "cell_type": "code",
   "execution_count": 48,
   "metadata": {},
   "outputs": [
    {
     "data": {
      "text/plain": [
       "0.10508805198496328"
      ]
     },
     "execution_count": 48,
     "metadata": {},
     "output_type": "execute_result"
    }
   ],
   "source": [
    "# Hypothesis testing on Funny ads vs Series ads\n",
    "import numpy as np\n",
    "from scipy import stats\n",
    "\n",
    "mean_f = analy_tw[(analy_tw['moral value vs funny']=='F')].mean()['magnitude per second']\n",
    "mean_m = analy_tw[(analy_tw['moral value vs funny']=='M')].mean()['magnitude per second']\n",
    "\n",
    "std_f = analy_tw[(analy_tw['moral value vs funny']=='F')].std()['magnitude per second']\n",
    "std_m = analy_tw[(analy_tw['moral value vs funny']=='M')].std()['magnitude per second']\n",
    "\n",
    "n_f= len(analy_tw[(analy_tw['moral value vs funny']=='F')])\n",
    "n_m = len(analy_tw[(analy_tw['moral value vs funny']=='M')])\n",
    "\n",
    "# Test statistics\n",
    "\n",
    "t_test_type = (mean_f-mean_m)/np.sqrt((std_f**2/n_f)+(std_m**2/n_m))\n",
    "# degrees of freedom\n",
    "df = n_f + n_m - 2\n",
    "# p value\n",
    "pval = stats.t.sf(t_test_type, df)\n",
    "pval"
   ]
  },
  {
   "cell_type": "markdown",
   "metadata": {},
   "source": [
    "Since the p value is 0.105 >0.05, we failed to reject the null hypothesis and we conclude that there is not enough evidence to show the funny ads is more effective at the 5% significant level."
   ]
  },
  {
   "cell_type": "code",
   "execution_count": 49,
   "metadata": {},
   "outputs": [
    {
     "data": {
      "text/plain": [
       "0.058139871360111214"
      ]
     },
     "execution_count": 49,
     "metadata": {},
     "output_type": "execute_result"
    }
   ],
   "source": [
    "mean_f_e = analy_tw[(analy_tw['moral value vs funny']=='F')].mean()['eng_per_sec']\n",
    "mean_m_e = analy_tw[(analy_tw['moral value vs funny']=='M')].mean()['eng_per_sec']\n",
    "\n",
    "std_f_e = analy_tw[(analy_tw['moral value vs funny']=='F')].std()['eng_per_sec']\n",
    "std_m_e = analy_tw[(analy_tw['moral value vs funny']=='M')].std()['eng_per_sec']\n",
    "\n",
    "n_f= len(analy_tw[(analy_tw['moral value vs funny']=='F')])\n",
    "n_m = len(analy_tw[(analy_tw['moral value vs funny']=='M')])\n",
    "\n",
    "# Test statistics\n",
    "\n",
    "t_test_type = (mean_f_e-mean_m_e)/np.sqrt((std_f_e**2/n_f)+(std_m_e**2/n_m))\n",
    "# degrees of freedom\n",
    "df = n_f + n_m - 2\n",
    "# p value\n",
    "pval = stats.t.sf(t_test_type, df)\n",
    "pval"
   ]
  },
  {
   "cell_type": "markdown",
   "metadata": {},
   "source": [
    "### Hypothesis testing on tv drama celebraty related/ without star"
   ]
  },
  {
   "cell_type": "code",
   "execution_count": 50,
   "metadata": {},
   "outputs": [
    {
     "data": {
      "text/plain": [
       "0.5432662388930803"
      ]
     },
     "execution_count": 50,
     "metadata": {},
     "output_type": "execute_result"
    }
   ],
   "source": [
    "mean_y = analy_tw[(analy_tw['tv drama celebraty related/ with out star']=='Y')].mean()['magnitude per second']\n",
    "mean_n = analy_tw[(analy_tw['tv drama celebraty related/ with out star']=='N')].mean()['magnitude per second']\n",
    "\n",
    "std_y = analy_tw[(analy_tw['tv drama celebraty related/ with out star']=='Y')].std()['magnitude per second']\n",
    "std_n = analy_tw[(analy_tw['tv drama celebraty related/ with out star']=='N')].std()['magnitude per second']\n",
    "\n",
    "n_y= len(analy_tw[(analy_tw['tv drama celebraty related/ with out star']=='Y')])\n",
    "n_n = len(analy_tw[(analy_tw['tv drama celebraty related/ with out star']=='N')])\n",
    "\n",
    "# Test statistics\n",
    "\n",
    "t_test_cele = (mean_y-mean_n)/np.sqrt((std_y**2/n_y)+(std_n**2/n_n))\n",
    "# degrees of freedom\n",
    "df_2 = n_y + n_n - 2\n",
    "# p value\n",
    "pval = stats.t.sf(t_test_cele, df)\n",
    "pval"
   ]
  },
  {
   "cell_type": "code",
   "execution_count": 51,
   "metadata": {},
   "outputs": [
    {
     "data": {
      "text/plain": [
       "0.6051496656653198"
      ]
     },
     "execution_count": 51,
     "metadata": {},
     "output_type": "execute_result"
    }
   ],
   "source": [
    "mean_y = analy_tw[(analy_tw['tv drama celebraty related/ with out star']=='Y')].mean()['eng_per_sec']\n",
    "mean_n = analy_tw[(analy_tw['tv drama celebraty related/ with out star']=='N')].mean()['eng_per_sec']\n",
    "\n",
    "std_y = analy_tw[(analy_tw['tv drama celebraty related/ with out star']=='Y')].std()['eng_per_sec']\n",
    "std_n = analy_tw[(analy_tw['tv drama celebraty related/ with out star']=='N')].std()['eng_per_sec']\n",
    "\n",
    "n_y= len(analy_tw[(analy_tw['tv drama celebraty related/ with out star']=='Y')])\n",
    "n_n = len(analy_tw[(analy_tw['tv drama celebraty related/ with out star']=='N')])\n",
    "\n",
    "# Test statistics\n",
    "\n",
    "t_test_cele = (mean_y-mean_n)/np.sqrt((std_y**2/n_y)+(std_n**2/n_n))\n",
    "# degrees of freedom\n",
    "df_2 = n_y + n_n - 2\n",
    "# p value\n",
    "pval = stats.t.sf(t_test_cele, df)\n",
    "pval"
   ]
  },
  {
   "cell_type": "markdown",
   "metadata": {},
   "source": [
    "Since the p-value >0.05, we failed to reject the null hypothesis and conclude that celebrity is doesn't have significant difference on engagement per second nor magnitutde per second"
   ]
  },
  {
   "cell_type": "markdown",
   "metadata": {},
   "source": [
    "### Hypothesis testing on duration"
   ]
  },
  {
   "cell_type": "code",
   "execution_count": 57,
   "metadata": {},
   "outputs": [
    {
     "data": {
      "application/vnd.plotly.v1+json": {
       "config": {
        "plotlyServerURL": "https://plot.ly"
       },
       "data": [
        {
         "type": "box",
         "x": [
          60,
          60,
          30,
          60,
          15,
          60,
          30,
          60,
          30,
          60,
          60,
          30,
          90,
          135,
          30,
          30,
          120,
          60,
          60,
          30,
          30,
          30,
          30,
          60,
          30,
          170,
          60,
          30,
          30,
          30,
          60,
          30,
          60,
          30,
          30,
          60,
          50,
          75,
          30,
          30,
          60,
          45,
          105,
          60,
          30,
          45,
          100,
          60,
          30
         ],
         "y": [
          1731.3228904428904,
          1654.9734945308003,
          2641.499911971831,
          523.2389724310777,
          45334.65646258503,
          633.6749509803922,
          9166.071330430575,
          80.61223628691984,
          4185.740145833333,
          180.66517412935323,
          105.60904761904763,
          4486.23282122905,
          2138.471271393643,
          4.872979797979798,
          591.3100137174212,
          2805.538818796855,
          255.41785714285712,
          3353.5033117058665,
          384.9240506329114,
          2258.9298642533936,
          195.55555555555554,
          1207.2927160493828,
          11675.744856661046,
          1470.100441501104,
          2001.509968847352,
          39.967197913648214,
          6267.370798898071,
          16505.37,
          7978.666666666666,
          5343.2848314606745,
          386.1941687344913,
          16515.73708654282,
          3.1166666666666667,
          203.6951397326853,
          601.6992248062015,
          2833.2891762452105,
          211.31650000000002,
          1642.147619047619,
          22.20815660685155,
          1842.993859649123,
          50434.72634138927,
          5538.051779935275,
          2373.4507628294036,
          275.7263305322129,
          3618.5719120135363,
          3432.5609308736216,
          85.1607506702413,
          1222.4934959349594,
          2058.6458536585365
         ]
        }
       ],
       "layout": {
        "font": {
         "size": 13
        },
        "plot_bgcolor": "rgb(255,255,255)",
        "template": {
         "data": {
          "bar": [
           {
            "error_x": {
             "color": "#2a3f5f"
            },
            "error_y": {
             "color": "#2a3f5f"
            },
            "marker": {
             "line": {
              "color": "#E5ECF6",
              "width": 0.5
             }
            },
            "type": "bar"
           }
          ],
          "barpolar": [
           {
            "marker": {
             "line": {
              "color": "#E5ECF6",
              "width": 0.5
             }
            },
            "type": "barpolar"
           }
          ],
          "carpet": [
           {
            "aaxis": {
             "endlinecolor": "#2a3f5f",
             "gridcolor": "white",
             "linecolor": "white",
             "minorgridcolor": "white",
             "startlinecolor": "#2a3f5f"
            },
            "baxis": {
             "endlinecolor": "#2a3f5f",
             "gridcolor": "white",
             "linecolor": "white",
             "minorgridcolor": "white",
             "startlinecolor": "#2a3f5f"
            },
            "type": "carpet"
           }
          ],
          "choropleth": [
           {
            "colorbar": {
             "outlinewidth": 0,
             "ticks": ""
            },
            "type": "choropleth"
           }
          ],
          "contour": [
           {
            "colorbar": {
             "outlinewidth": 0,
             "ticks": ""
            },
            "colorscale": [
             [
              0,
              "#0d0887"
             ],
             [
              0.1111111111111111,
              "#46039f"
             ],
             [
              0.2222222222222222,
              "#7201a8"
             ],
             [
              0.3333333333333333,
              "#9c179e"
             ],
             [
              0.4444444444444444,
              "#bd3786"
             ],
             [
              0.5555555555555556,
              "#d8576b"
             ],
             [
              0.6666666666666666,
              "#ed7953"
             ],
             [
              0.7777777777777778,
              "#fb9f3a"
             ],
             [
              0.8888888888888888,
              "#fdca26"
             ],
             [
              1,
              "#f0f921"
             ]
            ],
            "type": "contour"
           }
          ],
          "contourcarpet": [
           {
            "colorbar": {
             "outlinewidth": 0,
             "ticks": ""
            },
            "type": "contourcarpet"
           }
          ],
          "heatmap": [
           {
            "colorbar": {
             "outlinewidth": 0,
             "ticks": ""
            },
            "colorscale": [
             [
              0,
              "#0d0887"
             ],
             [
              0.1111111111111111,
              "#46039f"
             ],
             [
              0.2222222222222222,
              "#7201a8"
             ],
             [
              0.3333333333333333,
              "#9c179e"
             ],
             [
              0.4444444444444444,
              "#bd3786"
             ],
             [
              0.5555555555555556,
              "#d8576b"
             ],
             [
              0.6666666666666666,
              "#ed7953"
             ],
             [
              0.7777777777777778,
              "#fb9f3a"
             ],
             [
              0.8888888888888888,
              "#fdca26"
             ],
             [
              1,
              "#f0f921"
             ]
            ],
            "type": "heatmap"
           }
          ],
          "heatmapgl": [
           {
            "colorbar": {
             "outlinewidth": 0,
             "ticks": ""
            },
            "colorscale": [
             [
              0,
              "#0d0887"
             ],
             [
              0.1111111111111111,
              "#46039f"
             ],
             [
              0.2222222222222222,
              "#7201a8"
             ],
             [
              0.3333333333333333,
              "#9c179e"
             ],
             [
              0.4444444444444444,
              "#bd3786"
             ],
             [
              0.5555555555555556,
              "#d8576b"
             ],
             [
              0.6666666666666666,
              "#ed7953"
             ],
             [
              0.7777777777777778,
              "#fb9f3a"
             ],
             [
              0.8888888888888888,
              "#fdca26"
             ],
             [
              1,
              "#f0f921"
             ]
            ],
            "type": "heatmapgl"
           }
          ],
          "histogram": [
           {
            "marker": {
             "colorbar": {
              "outlinewidth": 0,
              "ticks": ""
             }
            },
            "type": "histogram"
           }
          ],
          "histogram2d": [
           {
            "colorbar": {
             "outlinewidth": 0,
             "ticks": ""
            },
            "colorscale": [
             [
              0,
              "#0d0887"
             ],
             [
              0.1111111111111111,
              "#46039f"
             ],
             [
              0.2222222222222222,
              "#7201a8"
             ],
             [
              0.3333333333333333,
              "#9c179e"
             ],
             [
              0.4444444444444444,
              "#bd3786"
             ],
             [
              0.5555555555555556,
              "#d8576b"
             ],
             [
              0.6666666666666666,
              "#ed7953"
             ],
             [
              0.7777777777777778,
              "#fb9f3a"
             ],
             [
              0.8888888888888888,
              "#fdca26"
             ],
             [
              1,
              "#f0f921"
             ]
            ],
            "type": "histogram2d"
           }
          ],
          "histogram2dcontour": [
           {
            "colorbar": {
             "outlinewidth": 0,
             "ticks": ""
            },
            "colorscale": [
             [
              0,
              "#0d0887"
             ],
             [
              0.1111111111111111,
              "#46039f"
             ],
             [
              0.2222222222222222,
              "#7201a8"
             ],
             [
              0.3333333333333333,
              "#9c179e"
             ],
             [
              0.4444444444444444,
              "#bd3786"
             ],
             [
              0.5555555555555556,
              "#d8576b"
             ],
             [
              0.6666666666666666,
              "#ed7953"
             ],
             [
              0.7777777777777778,
              "#fb9f3a"
             ],
             [
              0.8888888888888888,
              "#fdca26"
             ],
             [
              1,
              "#f0f921"
             ]
            ],
            "type": "histogram2dcontour"
           }
          ],
          "mesh3d": [
           {
            "colorbar": {
             "outlinewidth": 0,
             "ticks": ""
            },
            "type": "mesh3d"
           }
          ],
          "parcoords": [
           {
            "line": {
             "colorbar": {
              "outlinewidth": 0,
              "ticks": ""
             }
            },
            "type": "parcoords"
           }
          ],
          "pie": [
           {
            "automargin": true,
            "type": "pie"
           }
          ],
          "scatter": [
           {
            "marker": {
             "colorbar": {
              "outlinewidth": 0,
              "ticks": ""
             }
            },
            "type": "scatter"
           }
          ],
          "scatter3d": [
           {
            "line": {
             "colorbar": {
              "outlinewidth": 0,
              "ticks": ""
             }
            },
            "marker": {
             "colorbar": {
              "outlinewidth": 0,
              "ticks": ""
             }
            },
            "type": "scatter3d"
           }
          ],
          "scattercarpet": [
           {
            "marker": {
             "colorbar": {
              "outlinewidth": 0,
              "ticks": ""
             }
            },
            "type": "scattercarpet"
           }
          ],
          "scattergeo": [
           {
            "marker": {
             "colorbar": {
              "outlinewidth": 0,
              "ticks": ""
             }
            },
            "type": "scattergeo"
           }
          ],
          "scattergl": [
           {
            "marker": {
             "colorbar": {
              "outlinewidth": 0,
              "ticks": ""
             }
            },
            "type": "scattergl"
           }
          ],
          "scattermapbox": [
           {
            "marker": {
             "colorbar": {
              "outlinewidth": 0,
              "ticks": ""
             }
            },
            "type": "scattermapbox"
           }
          ],
          "scatterpolar": [
           {
            "marker": {
             "colorbar": {
              "outlinewidth": 0,
              "ticks": ""
             }
            },
            "type": "scatterpolar"
           }
          ],
          "scatterpolargl": [
           {
            "marker": {
             "colorbar": {
              "outlinewidth": 0,
              "ticks": ""
             }
            },
            "type": "scatterpolargl"
           }
          ],
          "scatterternary": [
           {
            "marker": {
             "colorbar": {
              "outlinewidth": 0,
              "ticks": ""
             }
            },
            "type": "scatterternary"
           }
          ],
          "surface": [
           {
            "colorbar": {
             "outlinewidth": 0,
             "ticks": ""
            },
            "colorscale": [
             [
              0,
              "#0d0887"
             ],
             [
              0.1111111111111111,
              "#46039f"
             ],
             [
              0.2222222222222222,
              "#7201a8"
             ],
             [
              0.3333333333333333,
              "#9c179e"
             ],
             [
              0.4444444444444444,
              "#bd3786"
             ],
             [
              0.5555555555555556,
              "#d8576b"
             ],
             [
              0.6666666666666666,
              "#ed7953"
             ],
             [
              0.7777777777777778,
              "#fb9f3a"
             ],
             [
              0.8888888888888888,
              "#fdca26"
             ],
             [
              1,
              "#f0f921"
             ]
            ],
            "type": "surface"
           }
          ],
          "table": [
           {
            "cells": {
             "fill": {
              "color": "#EBF0F8"
             },
             "line": {
              "color": "white"
             }
            },
            "header": {
             "fill": {
              "color": "#C8D4E3"
             },
             "line": {
              "color": "white"
             }
            },
            "type": "table"
           }
          ]
         },
         "layout": {
          "annotationdefaults": {
           "arrowcolor": "#2a3f5f",
           "arrowhead": 0,
           "arrowwidth": 1
          },
          "coloraxis": {
           "colorbar": {
            "outlinewidth": 0,
            "ticks": ""
           }
          },
          "colorscale": {
           "diverging": [
            [
             0,
             "#8e0152"
            ],
            [
             0.1,
             "#c51b7d"
            ],
            [
             0.2,
             "#de77ae"
            ],
            [
             0.3,
             "#f1b6da"
            ],
            [
             0.4,
             "#fde0ef"
            ],
            [
             0.5,
             "#f7f7f7"
            ],
            [
             0.6,
             "#e6f5d0"
            ],
            [
             0.7,
             "#b8e186"
            ],
            [
             0.8,
             "#7fbc41"
            ],
            [
             0.9,
             "#4d9221"
            ],
            [
             1,
             "#276419"
            ]
           ],
           "sequential": [
            [
             0,
             "#0d0887"
            ],
            [
             0.1111111111111111,
             "#46039f"
            ],
            [
             0.2222222222222222,
             "#7201a8"
            ],
            [
             0.3333333333333333,
             "#9c179e"
            ],
            [
             0.4444444444444444,
             "#bd3786"
            ],
            [
             0.5555555555555556,
             "#d8576b"
            ],
            [
             0.6666666666666666,
             "#ed7953"
            ],
            [
             0.7777777777777778,
             "#fb9f3a"
            ],
            [
             0.8888888888888888,
             "#fdca26"
            ],
            [
             1,
             "#f0f921"
            ]
           ],
           "sequentialminus": [
            [
             0,
             "#0d0887"
            ],
            [
             0.1111111111111111,
             "#46039f"
            ],
            [
             0.2222222222222222,
             "#7201a8"
            ],
            [
             0.3333333333333333,
             "#9c179e"
            ],
            [
             0.4444444444444444,
             "#bd3786"
            ],
            [
             0.5555555555555556,
             "#d8576b"
            ],
            [
             0.6666666666666666,
             "#ed7953"
            ],
            [
             0.7777777777777778,
             "#fb9f3a"
            ],
            [
             0.8888888888888888,
             "#fdca26"
            ],
            [
             1,
             "#f0f921"
            ]
           ]
          },
          "colorway": [
           "#636efa",
           "#EF553B",
           "#00cc96",
           "#ab63fa",
           "#FFA15A",
           "#19d3f3",
           "#FF6692",
           "#B6E880",
           "#FF97FF",
           "#FECB52"
          ],
          "font": {
           "color": "#2a3f5f"
          },
          "geo": {
           "bgcolor": "white",
           "lakecolor": "white",
           "landcolor": "#E5ECF6",
           "showlakes": true,
           "showland": true,
           "subunitcolor": "white"
          },
          "hoverlabel": {
           "align": "left"
          },
          "hovermode": "closest",
          "mapbox": {
           "style": "light"
          },
          "paper_bgcolor": "white",
          "plot_bgcolor": "#E5ECF6",
          "polar": {
           "angularaxis": {
            "gridcolor": "white",
            "linecolor": "white",
            "ticks": ""
           },
           "bgcolor": "#E5ECF6",
           "radialaxis": {
            "gridcolor": "white",
            "linecolor": "white",
            "ticks": ""
           }
          },
          "scene": {
           "xaxis": {
            "backgroundcolor": "#E5ECF6",
            "gridcolor": "white",
            "gridwidth": 2,
            "linecolor": "white",
            "showbackground": true,
            "ticks": "",
            "zerolinecolor": "white"
           },
           "yaxis": {
            "backgroundcolor": "#E5ECF6",
            "gridcolor": "white",
            "gridwidth": 2,
            "linecolor": "white",
            "showbackground": true,
            "ticks": "",
            "zerolinecolor": "white"
           },
           "zaxis": {
            "backgroundcolor": "#E5ECF6",
            "gridcolor": "white",
            "gridwidth": 2,
            "linecolor": "white",
            "showbackground": true,
            "ticks": "",
            "zerolinecolor": "white"
           }
          },
          "shapedefaults": {
           "line": {
            "color": "#2a3f5f"
           }
          },
          "ternary": {
           "aaxis": {
            "gridcolor": "white",
            "linecolor": "white",
            "ticks": ""
           },
           "baxis": {
            "gridcolor": "white",
            "linecolor": "white",
            "ticks": ""
           },
           "bgcolor": "#E5ECF6",
           "caxis": {
            "gridcolor": "white",
            "linecolor": "white",
            "ticks": ""
           }
          },
          "title": {
           "x": 0.05
          },
          "xaxis": {
           "automargin": true,
           "gridcolor": "white",
           "linecolor": "white",
           "ticks": "",
           "title": {
            "standoff": 15
           },
           "zerolinecolor": "white",
           "zerolinewidth": 2
          },
          "yaxis": {
           "automargin": true,
           "gridcolor": "white",
           "linecolor": "white",
           "ticks": "",
           "title": {
            "standoff": 15
           },
           "zerolinecolor": "white",
           "zerolinewidth": 2
          }
         }
        },
        "title": {
         "text": "<b>Duration on engagement volume <b> "
        },
        "yaxis": {
         "title": {
          "text": "<b>Number of Engagement per second of ad<b>"
         }
        }
       }
      },
      "text/html": [
       "<div>\n",
       "        \n",
       "        \n",
       "            <div id=\"457712c9-7e01-4ec5-a935-1e08fa1614a9\" class=\"plotly-graph-div\" style=\"height:525px; width:100%;\"></div>\n",
       "            <script type=\"text/javascript\">\n",
       "                require([\"plotly\"], function(Plotly) {\n",
       "                    window.PLOTLYENV=window.PLOTLYENV || {};\n",
       "                    \n",
       "                if (document.getElementById(\"457712c9-7e01-4ec5-a935-1e08fa1614a9\")) {\n",
       "                    Plotly.newPlot(\n",
       "                        '457712c9-7e01-4ec5-a935-1e08fa1614a9',\n",
       "                        [{\"type\": \"box\", \"x\": [60, 60, 30, 60, 15, 60, 30, 60, 30, 60, 60, 30, 90, 135, 30, 30, 120, 60, 60, 30, 30, 30, 30, 60, 30, 170, 60, 30, 30, 30, 60, 30, 60, 30, 30, 60, 50, 75, 30, 30, 60, 45, 105, 60, 30, 45, 100, 60, 30], \"y\": [1731.3228904428904, 1654.9734945308003, 2641.499911971831, 523.2389724310777, 45334.65646258503, 633.6749509803922, 9166.071330430575, 80.61223628691984, 4185.740145833333, 180.66517412935323, 105.60904761904763, 4486.23282122905, 2138.471271393643, 4.872979797979798, 591.3100137174212, 2805.538818796855, 255.41785714285712, 3353.5033117058665, 384.9240506329114, 2258.9298642533936, 195.55555555555554, 1207.2927160493828, 11675.744856661046, 1470.100441501104, 2001.509968847352, 39.967197913648214, 6267.370798898071, 16505.37, 7978.666666666666, 5343.2848314606745, 386.1941687344913, 16515.73708654282, 3.1166666666666667, 203.6951397326853, 601.6992248062015, 2833.2891762452105, 211.31650000000002, 1642.147619047619, 22.20815660685155, 1842.993859649123, 50434.72634138927, 5538.051779935275, 2373.4507628294036, 275.7263305322129, 3618.5719120135363, 3432.5609308736216, 85.1607506702413, 1222.4934959349594, 2058.6458536585365]}],\n",
       "                        {\"font\": {\"size\": 13}, \"plot_bgcolor\": \"rgb(255,255,255)\", \"template\": {\"data\": {\"bar\": [{\"error_x\": {\"color\": \"#2a3f5f\"}, \"error_y\": {\"color\": \"#2a3f5f\"}, \"marker\": {\"line\": {\"color\": \"#E5ECF6\", \"width\": 0.5}}, \"type\": \"bar\"}], \"barpolar\": [{\"marker\": {\"line\": {\"color\": \"#E5ECF6\", \"width\": 0.5}}, \"type\": \"barpolar\"}], \"carpet\": [{\"aaxis\": {\"endlinecolor\": \"#2a3f5f\", \"gridcolor\": \"white\", \"linecolor\": \"white\", \"minorgridcolor\": \"white\", \"startlinecolor\": \"#2a3f5f\"}, \"baxis\": {\"endlinecolor\": \"#2a3f5f\", \"gridcolor\": \"white\", \"linecolor\": \"white\", \"minorgridcolor\": \"white\", \"startlinecolor\": \"#2a3f5f\"}, \"type\": \"carpet\"}], \"choropleth\": [{\"colorbar\": {\"outlinewidth\": 0, \"ticks\": \"\"}, \"type\": \"choropleth\"}], \"contour\": [{\"colorbar\": {\"outlinewidth\": 0, \"ticks\": \"\"}, \"colorscale\": [[0.0, \"#0d0887\"], [0.1111111111111111, \"#46039f\"], [0.2222222222222222, \"#7201a8\"], [0.3333333333333333, \"#9c179e\"], [0.4444444444444444, \"#bd3786\"], [0.5555555555555556, \"#d8576b\"], [0.6666666666666666, \"#ed7953\"], [0.7777777777777778, \"#fb9f3a\"], [0.8888888888888888, \"#fdca26\"], [1.0, \"#f0f921\"]], \"type\": \"contour\"}], \"contourcarpet\": [{\"colorbar\": {\"outlinewidth\": 0, \"ticks\": \"\"}, \"type\": \"contourcarpet\"}], \"heatmap\": [{\"colorbar\": {\"outlinewidth\": 0, \"ticks\": \"\"}, \"colorscale\": [[0.0, \"#0d0887\"], [0.1111111111111111, \"#46039f\"], [0.2222222222222222, \"#7201a8\"], [0.3333333333333333, \"#9c179e\"], [0.4444444444444444, \"#bd3786\"], [0.5555555555555556, \"#d8576b\"], [0.6666666666666666, \"#ed7953\"], [0.7777777777777778, \"#fb9f3a\"], [0.8888888888888888, \"#fdca26\"], [1.0, \"#f0f921\"]], \"type\": \"heatmap\"}], \"heatmapgl\": [{\"colorbar\": {\"outlinewidth\": 0, \"ticks\": \"\"}, \"colorscale\": [[0.0, \"#0d0887\"], [0.1111111111111111, \"#46039f\"], [0.2222222222222222, \"#7201a8\"], [0.3333333333333333, \"#9c179e\"], [0.4444444444444444, \"#bd3786\"], [0.5555555555555556, \"#d8576b\"], [0.6666666666666666, \"#ed7953\"], [0.7777777777777778, \"#fb9f3a\"], [0.8888888888888888, \"#fdca26\"], [1.0, \"#f0f921\"]], \"type\": \"heatmapgl\"}], \"histogram\": [{\"marker\": {\"colorbar\": {\"outlinewidth\": 0, \"ticks\": \"\"}}, \"type\": \"histogram\"}], \"histogram2d\": [{\"colorbar\": {\"outlinewidth\": 0, \"ticks\": \"\"}, \"colorscale\": [[0.0, \"#0d0887\"], [0.1111111111111111, \"#46039f\"], [0.2222222222222222, \"#7201a8\"], [0.3333333333333333, \"#9c179e\"], [0.4444444444444444, \"#bd3786\"], [0.5555555555555556, \"#d8576b\"], [0.6666666666666666, \"#ed7953\"], [0.7777777777777778, \"#fb9f3a\"], [0.8888888888888888, \"#fdca26\"], [1.0, \"#f0f921\"]], \"type\": \"histogram2d\"}], \"histogram2dcontour\": [{\"colorbar\": {\"outlinewidth\": 0, \"ticks\": \"\"}, \"colorscale\": [[0.0, \"#0d0887\"], [0.1111111111111111, \"#46039f\"], [0.2222222222222222, \"#7201a8\"], [0.3333333333333333, \"#9c179e\"], [0.4444444444444444, \"#bd3786\"], [0.5555555555555556, \"#d8576b\"], [0.6666666666666666, \"#ed7953\"], [0.7777777777777778, \"#fb9f3a\"], [0.8888888888888888, \"#fdca26\"], [1.0, \"#f0f921\"]], \"type\": \"histogram2dcontour\"}], \"mesh3d\": [{\"colorbar\": {\"outlinewidth\": 0, \"ticks\": \"\"}, \"type\": \"mesh3d\"}], \"parcoords\": [{\"line\": {\"colorbar\": {\"outlinewidth\": 0, \"ticks\": \"\"}}, \"type\": \"parcoords\"}], \"pie\": [{\"automargin\": true, \"type\": \"pie\"}], \"scatter\": [{\"marker\": {\"colorbar\": {\"outlinewidth\": 0, \"ticks\": \"\"}}, \"type\": \"scatter\"}], \"scatter3d\": [{\"line\": {\"colorbar\": {\"outlinewidth\": 0, \"ticks\": \"\"}}, \"marker\": {\"colorbar\": {\"outlinewidth\": 0, \"ticks\": \"\"}}, \"type\": \"scatter3d\"}], \"scattercarpet\": [{\"marker\": {\"colorbar\": {\"outlinewidth\": 0, \"ticks\": \"\"}}, \"type\": \"scattercarpet\"}], \"scattergeo\": [{\"marker\": {\"colorbar\": {\"outlinewidth\": 0, \"ticks\": \"\"}}, \"type\": \"scattergeo\"}], \"scattergl\": [{\"marker\": {\"colorbar\": {\"outlinewidth\": 0, \"ticks\": \"\"}}, \"type\": \"scattergl\"}], \"scattermapbox\": [{\"marker\": {\"colorbar\": {\"outlinewidth\": 0, \"ticks\": \"\"}}, \"type\": \"scattermapbox\"}], \"scatterpolar\": [{\"marker\": {\"colorbar\": {\"outlinewidth\": 0, \"ticks\": \"\"}}, \"type\": \"scatterpolar\"}], \"scatterpolargl\": [{\"marker\": {\"colorbar\": {\"outlinewidth\": 0, \"ticks\": \"\"}}, \"type\": \"scatterpolargl\"}], \"scatterternary\": [{\"marker\": {\"colorbar\": {\"outlinewidth\": 0, \"ticks\": \"\"}}, \"type\": \"scatterternary\"}], \"surface\": [{\"colorbar\": {\"outlinewidth\": 0, \"ticks\": \"\"}, \"colorscale\": [[0.0, \"#0d0887\"], [0.1111111111111111, \"#46039f\"], [0.2222222222222222, \"#7201a8\"], [0.3333333333333333, \"#9c179e\"], [0.4444444444444444, \"#bd3786\"], [0.5555555555555556, \"#d8576b\"], [0.6666666666666666, \"#ed7953\"], [0.7777777777777778, \"#fb9f3a\"], [0.8888888888888888, \"#fdca26\"], [1.0, \"#f0f921\"]], \"type\": \"surface\"}], \"table\": [{\"cells\": {\"fill\": {\"color\": \"#EBF0F8\"}, \"line\": {\"color\": \"white\"}}, \"header\": {\"fill\": {\"color\": \"#C8D4E3\"}, \"line\": {\"color\": \"white\"}}, \"type\": \"table\"}]}, \"layout\": {\"annotationdefaults\": {\"arrowcolor\": \"#2a3f5f\", \"arrowhead\": 0, \"arrowwidth\": 1}, \"coloraxis\": {\"colorbar\": {\"outlinewidth\": 0, \"ticks\": \"\"}}, \"colorscale\": {\"diverging\": [[0, \"#8e0152\"], [0.1, \"#c51b7d\"], [0.2, \"#de77ae\"], [0.3, \"#f1b6da\"], [0.4, \"#fde0ef\"], [0.5, \"#f7f7f7\"], [0.6, \"#e6f5d0\"], [0.7, \"#b8e186\"], [0.8, \"#7fbc41\"], [0.9, \"#4d9221\"], [1, \"#276419\"]], \"sequential\": [[0.0, \"#0d0887\"], [0.1111111111111111, \"#46039f\"], [0.2222222222222222, \"#7201a8\"], [0.3333333333333333, \"#9c179e\"], [0.4444444444444444, \"#bd3786\"], [0.5555555555555556, \"#d8576b\"], [0.6666666666666666, \"#ed7953\"], [0.7777777777777778, \"#fb9f3a\"], [0.8888888888888888, \"#fdca26\"], [1.0, \"#f0f921\"]], \"sequentialminus\": [[0.0, \"#0d0887\"], [0.1111111111111111, \"#46039f\"], [0.2222222222222222, \"#7201a8\"], [0.3333333333333333, \"#9c179e\"], [0.4444444444444444, \"#bd3786\"], [0.5555555555555556, \"#d8576b\"], [0.6666666666666666, \"#ed7953\"], [0.7777777777777778, \"#fb9f3a\"], [0.8888888888888888, \"#fdca26\"], [1.0, \"#f0f921\"]]}, \"colorway\": [\"#636efa\", \"#EF553B\", \"#00cc96\", \"#ab63fa\", \"#FFA15A\", \"#19d3f3\", \"#FF6692\", \"#B6E880\", \"#FF97FF\", \"#FECB52\"], \"font\": {\"color\": \"#2a3f5f\"}, \"geo\": {\"bgcolor\": \"white\", \"lakecolor\": \"white\", \"landcolor\": \"#E5ECF6\", \"showlakes\": true, \"showland\": true, \"subunitcolor\": \"white\"}, \"hoverlabel\": {\"align\": \"left\"}, \"hovermode\": \"closest\", \"mapbox\": {\"style\": \"light\"}, \"paper_bgcolor\": \"white\", \"plot_bgcolor\": \"#E5ECF6\", \"polar\": {\"angularaxis\": {\"gridcolor\": \"white\", \"linecolor\": \"white\", \"ticks\": \"\"}, \"bgcolor\": \"#E5ECF6\", \"radialaxis\": {\"gridcolor\": \"white\", \"linecolor\": \"white\", \"ticks\": \"\"}}, \"scene\": {\"xaxis\": {\"backgroundcolor\": \"#E5ECF6\", \"gridcolor\": \"white\", \"gridwidth\": 2, \"linecolor\": \"white\", \"showbackground\": true, \"ticks\": \"\", \"zerolinecolor\": \"white\"}, \"yaxis\": {\"backgroundcolor\": \"#E5ECF6\", \"gridcolor\": \"white\", \"gridwidth\": 2, \"linecolor\": \"white\", \"showbackground\": true, \"ticks\": \"\", \"zerolinecolor\": \"white\"}, \"zaxis\": {\"backgroundcolor\": \"#E5ECF6\", \"gridcolor\": \"white\", \"gridwidth\": 2, \"linecolor\": \"white\", \"showbackground\": true, \"ticks\": \"\", \"zerolinecolor\": \"white\"}}, \"shapedefaults\": {\"line\": {\"color\": \"#2a3f5f\"}}, \"ternary\": {\"aaxis\": {\"gridcolor\": \"white\", \"linecolor\": \"white\", \"ticks\": \"\"}, \"baxis\": {\"gridcolor\": \"white\", \"linecolor\": \"white\", \"ticks\": \"\"}, \"bgcolor\": \"#E5ECF6\", \"caxis\": {\"gridcolor\": \"white\", \"linecolor\": \"white\", \"ticks\": \"\"}}, \"title\": {\"x\": 0.05}, \"xaxis\": {\"automargin\": true, \"gridcolor\": \"white\", \"linecolor\": \"white\", \"ticks\": \"\", \"title\": {\"standoff\": 15}, \"zerolinecolor\": \"white\", \"zerolinewidth\": 2}, \"yaxis\": {\"automargin\": true, \"gridcolor\": \"white\", \"linecolor\": \"white\", \"ticks\": \"\", \"title\": {\"standoff\": 15}, \"zerolinecolor\": \"white\", \"zerolinewidth\": 2}}}, \"title\": {\"text\": \"<b>Duration on engagement volume <b> \"}, \"yaxis\": {\"title\": {\"text\": \"<b>Number of Engagement per second of ad<b>\"}}},\n",
       "                        {\"responsive\": true}\n",
       "                    ).then(function(){\n",
       "                            \n",
       "var gd = document.getElementById('457712c9-7e01-4ec5-a935-1e08fa1614a9');\n",
       "var x = new MutationObserver(function (mutations, observer) {{\n",
       "        var display = window.getComputedStyle(gd).display;\n",
       "        if (!display || display === 'none') {{\n",
       "            console.log([gd, 'removed!']);\n",
       "            Plotly.purge(gd);\n",
       "            observer.disconnect();\n",
       "        }}\n",
       "}});\n",
       "\n",
       "// Listen for the removal of the full notebook cells\n",
       "var notebookContainer = gd.closest('#notebook-container');\n",
       "if (notebookContainer) {{\n",
       "    x.observe(notebookContainer, {childList: true});\n",
       "}}\n",
       "\n",
       "// Listen for the clearing of the current output cell\n",
       "var outputEl = gd.closest('.output');\n",
       "if (outputEl) {{\n",
       "    x.observe(outputEl, {childList: true});\n",
       "}}\n",
       "\n",
       "                        })\n",
       "                };\n",
       "                });\n",
       "            </script>\n",
       "        </div>"
      ]
     },
     "metadata": {},
     "output_type": "display_data"
    }
   ],
   "source": [
    "fig = go.Figure()\n",
    "fig.add_trace(go.Box(x=analy_tw['time(seconds)'], y=analy_tw['magnitude per second']))\n",
    "fig.update_layout(\n",
    "    title=\"<b>Duration on engagement volume <b> \",\n",
    "    yaxis_title=\"<b>Number of Engagement per second of ad<b>\",plot_bgcolor='rgb(255,255,255)',\n",
    "    font=dict(\n",
    "        size=13      \n",
    "            )\n",
    ")\n"
   ]
  },
  {
   "cell_type": "markdown",
   "metadata": {},
   "source": [
    "From the above graph, it seems like 15 seconds generate most engagement per second, it declines significantly after the 15 second threshold\n",
    "\n",
    "Now we want to test if the engagement from 15 second is actually significant different from other duration\n",
    "\n",
    "We would use one-way ANOVA in this case to test if at least one group is significantly different from other groups.\n",
    "To check the assumptions\n",
    "1. Independence  - goodfitness of fit Chi square independent test\n",
    "2. Normality -QQplot\n",
    "3. Constant variance - boxplot"
   ]
  },
  {
   "cell_type": "code",
   "execution_count": 58,
   "metadata": {},
   "outputs": [
    {
     "data": {
      "text/plain": [
       "F_onewayResult(statistic=2.1268650146739567, pvalue=0.04283654217139645)"
      ]
     },
     "execution_count": 58,
     "metadata": {},
     "output_type": "execute_result"
    }
   ],
   "source": [
    "import scipy.stats as stats\n",
    "\n",
    "stats.f_oneway(analy_tw['magnitude per second'][analy_tw['time(seconds)']==15],\n",
    "              analy_tw['magnitude per second'][analy_tw['time(seconds)']==30],\n",
    "              analy_tw['magnitude per second'][analy_tw['time(seconds)']==45],\n",
    "              analy_tw['magnitude per second'][analy_tw['time(seconds)']==50],\n",
    "              analy_tw['magnitude per second'][analy_tw['time(seconds)']==60],\n",
    "              analy_tw['magnitude per second'][analy_tw['time(seconds)']==75],\n",
    "              analy_tw['magnitude per second'][analy_tw['time(seconds)']==90],\n",
    "              analy_tw['magnitude per second'][analy_tw['time(seconds)']==100],\n",
    "              analy_tw['magnitude per second'][analy_tw['time(seconds)']==105],\n",
    "              analy_tw['magnitude per second'][analy_tw['time(seconds)']==120],\n",
    "              analy_tw['magnitude per second'][analy_tw['time(seconds)']==135],\n",
    "              analy_tw['magnitude per second'][analy_tw['time(seconds)']==170]\n",
    ")\n",
    "\n",
    "# Test statistics\n",
    "\n"
   ]
  },
  {
   "cell_type": "code",
   "execution_count": 59,
   "metadata": {},
   "outputs": [
    {
     "data": {
      "text/html": [
       "<table class=\"simpletable\">\n",
       "<caption>OLS Regression Results</caption>\n",
       "<tr>\n",
       "  <th>Dep. Variable:</th>    <td>magnitude per second</td> <th>  R-squared (uncentered):</th>      <td>   0.076</td>\n",
       "</tr>\n",
       "<tr>\n",
       "  <th>Model:</th>                     <td>OLS</td>         <th>  Adj. R-squared (uncentered):</th> <td>   0.057</td>\n",
       "</tr>\n",
       "<tr>\n",
       "  <th>Method:</th>               <td>Least Squares</td>    <th>  F-statistic:       </th>          <td>   3.943</td>\n",
       "</tr>\n",
       "<tr>\n",
       "  <th>Date:</th>               <td>Fri, 21 Feb 2020</td>   <th>  Prob (F-statistic):</th>           <td>0.0528</td> \n",
       "</tr>\n",
       "<tr>\n",
       "  <th>Time:</th>                   <td>22:03:14</td>       <th>  Log-Likelihood:    </th>          <td> -522.46</td>\n",
       "</tr>\n",
       "<tr>\n",
       "  <th>No. Observations:</th>        <td>    49</td>        <th>  AIC:               </th>          <td>   1047.</td>\n",
       "</tr>\n",
       "<tr>\n",
       "  <th>Df Residuals:</th>            <td>    48</td>        <th>  BIC:               </th>          <td>   1049.</td>\n",
       "</tr>\n",
       "<tr>\n",
       "  <th>Df Model:</th>                <td>     1</td>        <th>                     </th>              <td> </td>   \n",
       "</tr>\n",
       "<tr>\n",
       "  <th>Covariance Type:</th>        <td>nonrobust</td>      <th>                     </th>              <td> </td>   \n",
       "</tr>\n",
       "</table>\n",
       "<table class=\"simpletable\">\n",
       "<tr>\n",
       "        <td></td>           <th>coef</th>     <th>std err</th>      <th>t</th>      <th>P>|t|</th>  <th>[0.025</th>    <th>0.975]</th>  \n",
       "</tr>\n",
       "<tr>\n",
       "  <th>time(seconds)</th> <td>   48.4597</td> <td>   24.404</td> <td>    1.986</td> <td> 0.053</td> <td>   -0.608</td> <td>   97.527</td>\n",
       "</tr>\n",
       "</table>\n",
       "<table class=\"simpletable\">\n",
       "<tr>\n",
       "  <th>Omnibus:</th>       <td>61.370</td> <th>  Durbin-Watson:     </th> <td>   2.018</td>\n",
       "</tr>\n",
       "<tr>\n",
       "  <th>Prob(Omnibus):</th> <td> 0.000</td> <th>  Jarque-Bera (JB):  </th> <td> 377.939</td>\n",
       "</tr>\n",
       "<tr>\n",
       "  <th>Skew:</th>          <td> 3.377</td> <th>  Prob(JB):          </th> <td>8.54e-83</td>\n",
       "</tr>\n",
       "<tr>\n",
       "  <th>Kurtosis:</th>      <td>14.811</td> <th>  Cond. No.          </th> <td>    1.00</td>\n",
       "</tr>\n",
       "</table><br/><br/>Warnings:<br/>[1] Standard Errors assume that the covariance matrix of the errors is correctly specified."
      ],
      "text/plain": [
       "<class 'statsmodels.iolib.summary.Summary'>\n",
       "\"\"\"\n",
       "                                  OLS Regression Results                                 \n",
       "=========================================================================================\n",
       "Dep. Variable:     magnitude per second   R-squared (uncentered):                   0.076\n",
       "Model:                              OLS   Adj. R-squared (uncentered):              0.057\n",
       "Method:                   Least Squares   F-statistic:                              3.943\n",
       "Date:                  Fri, 21 Feb 2020   Prob (F-statistic):                      0.0528\n",
       "Time:                          22:03:14   Log-Likelihood:                         -522.46\n",
       "No. Observations:                    49   AIC:                                      1047.\n",
       "Df Residuals:                        48   BIC:                                      1049.\n",
       "Df Model:                             1                                                  \n",
       "Covariance Type:              nonrobust                                                  \n",
       "=================================================================================\n",
       "                    coef    std err          t      P>|t|      [0.025      0.975]\n",
       "---------------------------------------------------------------------------------\n",
       "time(seconds)    48.4597     24.404      1.986      0.053      -0.608      97.527\n",
       "==============================================================================\n",
       "Omnibus:                       61.370   Durbin-Watson:                   2.018\n",
       "Prob(Omnibus):                  0.000   Jarque-Bera (JB):              377.939\n",
       "Skew:                           3.377   Prob(JB):                     8.54e-83\n",
       "Kurtosis:                      14.811   Cond. No.                         1.00\n",
       "==============================================================================\n",
       "\n",
       "Warnings:\n",
       "[1] Standard Errors assume that the covariance matrix of the errors is correctly specified.\n",
       "\"\"\""
      ]
     },
     "execution_count": 59,
     "metadata": {},
     "output_type": "execute_result"
    }
   ],
   "source": [
    "import statsmodels.api as sm\n",
    "results = sm.OLS(endog =analy_tw['magnitude per second'] ,exog=analy_tw['time(seconds)']).fit()\n",
    "results.summary()"
   ]
  },
  {
   "cell_type": "markdown",
   "metadata": {},
   "source": [
    "Since the p value is 0.0428, wer know that at least one mean of the groups are significant different, but we don't know which one yet. Now we need to do an Ad hoc analysis to check which one is significant different \n"
   ]
  },
  {
   "cell_type": "markdown",
   "metadata": {},
   "source": [
    "Fisher’s Least Significant Difference (LSD): Take the groups you want to compare and conduct multiple t-tests. This method requires that the ANOVA model be significant. This method is easy, but receives push back since it doesn’t account for familywise error rate. The argument is that since the overall model was significant, one is protected from increasing the familywise error rate.\n",
    " \n",
    "Bonferroni correction: Take the alpha the ANOVA was tested at, 0.05, then divide it by the number of planned comparisons. In this case, 0.05/3 = 0.0167. A post-hoc test would have to have an alpha level < 0.0167 to be considered significant. To test the groups, conduct multiple t-tests, but set the alpha value to the corrected value. This method is quick, but often considered too conservative.\n",
    "\n",
    "Tukey’s HSD: Method also controls for familywise error rate with a different method than Bonferroni, and is also considered conservative."
   ]
  },
  {
   "cell_type": "markdown",
   "metadata": {},
   "source": [
    "## Check assumptions"
   ]
  },
  {
   "cell_type": "markdown",
   "metadata": {},
   "source": [
    "### Assumption: Homogeneity of Variance"
   ]
  },
  {
   "cell_type": "code",
   "execution_count": 60,
   "metadata": {},
   "outputs": [
    {
     "data": {
      "text/plain": [
       "LeveneResult(statistic=0.137003654746711, pvalue=0.9993936830394278)"
      ]
     },
     "execution_count": 60,
     "metadata": {},
     "output_type": "execute_result"
    }
   ],
   "source": [
    "stats.levene(analy_tw['magnitude per second'][analy_tw['time(seconds)']==15],\n",
    "              analy_tw['magnitude per second'][analy_tw['time(seconds)']==30],\n",
    "              analy_tw['magnitude per second'][analy_tw['time(seconds)']==45],\n",
    "              analy_tw['magnitude per second'][analy_tw['time(seconds)']==50],\n",
    "              analy_tw['magnitude per second'][analy_tw['time(seconds)']==60],\n",
    "              analy_tw['magnitude per second'][analy_tw['time(seconds)']==75],\n",
    "              analy_tw['magnitude per second'][analy_tw['time(seconds)']==90],\n",
    "              analy_tw['magnitude per second'][analy_tw['time(seconds)']==100],\n",
    "              analy_tw['magnitude per second'][analy_tw['time(seconds)']==105],\n",
    "              analy_tw['magnitude per second'][analy_tw['time(seconds)']==120],\n",
    "              analy_tw['magnitude per second'][analy_tw['time(seconds)']==135],\n",
    "              analy_tw['magnitude per second'][analy_tw['time(seconds)']==170])"
   ]
  },
  {
   "cell_type": "markdown",
   "metadata": {},
   "source": [
    "Levene’s test for homogeneity of variance is not significant which indicates that the groups have equal variances."
   ]
  },
  {
   "cell_type": "code",
   "execution_count": 61,
   "metadata": {},
   "outputs": [
    {
     "data": {
      "text/plain": [
       "{'jb': 377.9389053309678,\n",
       " 'jbpv': 8.542981366476288e-83,\n",
       " 'skew': 3.3768884635411216,\n",
       " 'kurtosis': 14.810987699703304,\n",
       " 'omni': 61.36993422186448,\n",
       " 'omnipv': 4.717241453759843e-14,\n",
       " 'condno': 1.0,\n",
       " 'mineigval': 183150.0}"
      ]
     },
     "execution_count": 61,
     "metadata": {},
     "output_type": "execute_result"
    }
   ],
   "source": [
    "results.diagn"
   ]
  },
  {
   "cell_type": "markdown",
   "metadata": {},
   "source": [
    "Assumption: Normality\n",
    "The assumption of normality is tested on the residuals as a whole which is how the diagnostic information provided by statsmodels tests the residuals. One could use the Jarque-Bera test provided, or one could use Shapiro or others. I will demonstrate how to test for normality using the Shapiro method. The output is not labelled, but the numbers are the test statistic value followed by the p-value. The official documentation can be found here."
   ]
  },
  {
   "cell_type": "code",
   "execution_count": 62,
   "metadata": {},
   "outputs": [
    {
     "data": {
      "text/plain": [
       "(0.5702807903289795, 9.481376794795437e-11)"
      ]
     },
     "execution_count": 62,
     "metadata": {},
     "output_type": "execute_result"
    }
   ],
   "source": [
    "stats.shapiro(results.resid)"
   ]
  },
  {
   "cell_type": "code",
   "execution_count": 63,
   "metadata": {},
   "outputs": [
    {
     "name": "stdout",
     "output_type": "stream",
     "text": [
      "     Multiple Comparison of Means - Tukey HSD, FWER=0.05      \n",
      "==============================================================\n",
      "group1 group2   meandiff  p-adj     lower      upper    reject\n",
      "--------------------------------------------------------------\n",
      "    15     30 -40767.6899 0.0027 -71890.6917  -9644.688   True\n",
      "    15     45 -40849.3501 0.0213    -78090.7 -3608.0002   True\n",
      "    15     50   -45123.34 0.0327 -88125.9468 -2120.7332   True\n",
      "    15     60 -41126.3305 0.0026 -72415.3228 -9837.3381   True\n",
      "    15     75 -43692.5088 0.0437 -86695.1157   -689.902   True\n",
      "    15     90 -43196.1852 0.0481  -86198.792  -193.5784   True\n",
      "    15    100 -45249.4957 0.0318 -88252.1025 -2246.8889   True\n",
      "    15    105 -42961.2057 0.0504 -85963.8125    41.4011  False\n",
      "    15    120 -45079.2386  0.033 -88081.8454 -2076.6318   True\n",
      "    15    135 -45329.7835 0.0313 -88332.3903 -2327.1767   True\n",
      "    15    170 -45294.6893 0.0315 -88297.2961 -2292.0825   True\n",
      "    30     45    -81.6603    0.9 -22583.5534 22420.2329  False\n",
      "    30     50  -4355.6501    0.9 -35478.6519 26767.3517  False\n",
      "    30     60   -358.6406    0.9   -10279.23  9561.9488  False\n",
      "    30     75   -2924.819    0.9 -34047.8208 28198.1829  False\n",
      "    30     90  -2428.4953    0.9 -33551.4972 28694.5065  False\n",
      "    30    100  -4481.8059    0.9 -35604.8077  26641.196  False\n",
      "    30    105  -2193.5158    0.9 -33316.5177  28929.486  False\n",
      "    30    120  -4311.5487    0.9 -35434.5506 26811.4531  False\n",
      "    30    135  -4562.0936    0.9 -35685.0955 26560.9082  False\n",
      "    30    170  -4526.9994    0.9 -35650.0012 26596.0024  False\n",
      "    45     50  -4273.9899    0.9 -41515.3398 32967.3601  False\n",
      "    45     60   -276.9804    0.9 -23007.9063 22453.9456  False\n",
      "    45     75  -2843.1587    0.9 -40084.5087 34398.1912  False\n",
      "    45     90  -2346.8351    0.9  -39588.185 34894.5148  False\n",
      "    45    100  -4400.1456    0.9 -41641.4955 32841.2043  False\n",
      "    45    105  -2111.8556    0.9 -39353.2055 35129.4943  False\n",
      "    45    120  -4229.8885    0.9 -41471.2384 33011.4614  False\n",
      "    45    135  -4480.4334    0.9 -41721.7833 32760.9165  False\n",
      "    45    170  -4445.3392    0.9 -41686.6891 32796.0108  False\n",
      "    50     60   3997.0095    0.9 -27291.9829 35286.0018  False\n",
      "    50     75   1430.8311    0.9 -41571.7757 44433.4379  False\n",
      "    50     90   1927.1548    0.9  -41075.452 44929.7616  False\n",
      "    50    100   -126.1557    0.9 -43128.7626 42876.4511  False\n",
      "    50    105   2162.1343    0.9 -40840.4725 45164.7411  False\n",
      "    50    120     44.1014    0.9 -42958.5054 43046.7082  False\n",
      "    50    135   -206.4435    0.9 -43209.0503 42796.1633  False\n",
      "    50    170   -171.3493    0.9 -43173.9561 42831.2575  False\n",
      "    60     75  -2566.1784    0.9 -33855.1707  28722.814  False\n",
      "    60     90  -2069.8547    0.9 -33358.8471 29219.1377  False\n",
      "    60    100  -4123.1652    0.9 -35412.1576 27165.8271  False\n",
      "    60    105  -1834.8752    0.9 -33123.8676 29454.1171  False\n",
      "    60    120  -3952.9081    0.9 -35241.9005 27336.0842  False\n",
      "    60    135   -4203.453    0.9 -35492.4454 27085.5394  False\n",
      "    60    170  -4168.3588    0.9 -35457.3511 27120.6336  False\n",
      "    75     90    496.3237    0.9 -42506.2832 43498.9305  False\n",
      "    75    100  -1556.9869    0.9 -44559.5937 41445.6199  False\n",
      "    75    105    731.3031    0.9 -42271.3037   43733.91  False\n",
      "    75    120  -1386.7298    0.9 -44389.3366  41615.877  False\n",
      "    75    135  -1637.2746    0.9 -44639.8814 41365.3322  False\n",
      "    75    170  -1602.1804    0.9 -44604.7872 41400.4264  False\n",
      "    90    100  -2053.3105    0.9 -45055.9173 40949.2963  False\n",
      "    90    105    234.9795    0.9 -42767.6273 43237.5863  False\n",
      "    90    120  -1883.0534    0.9 -44885.6602 41119.5534  False\n",
      "    90    135  -2133.5983    0.9 -45136.2051 40869.0085  False\n",
      "    90    170  -2098.5041    0.9 -45101.1109 40904.1027  False\n",
      "   100    105     2288.29    0.9 -40714.3168 45290.8968  False\n",
      "   100    120    170.2571    0.9 -42832.3497 43172.8639  False\n",
      "   100    135    -80.2878    0.9 -43082.8946  42922.319  False\n",
      "   100    170    -45.1936    0.9 -43047.8004 42957.4133  False\n",
      "   105    120  -2118.0329    0.9 -45120.6397 40884.5739  False\n",
      "   105    135  -2368.5778    0.9 -45371.1846  40634.029  False\n",
      "   105    170  -2333.4836    0.9 -45336.0904 40669.1232  False\n",
      "   120    135   -250.5449    0.9 -43253.1517 42752.0619  False\n",
      "   120    170   -215.4507    0.9 -43218.0575 42787.1561  False\n",
      "   135    170     35.0942    0.9 -42967.5126  43037.701  False\n",
      "--------------------------------------------------------------\n"
     ]
    }
   ],
   "source": [
    "from statsmodels.stats.multicomp import pairwise_tukeyhsd\n",
    "from statsmodels.stats.multicomp import MultiComparison\n",
    "\n",
    "mc = MultiComparison(analy_tw['magnitude per second'], analy_tw['time(seconds)'])\n",
    "mc_results = mc.tukeyhsd()\n",
    "print(mc_results)"
   ]
  },
  {
   "cell_type": "markdown",
   "metadata": {},
   "source": [
    "There was a significant effect of 15 seconds ads on magnitude per second.There were no other statistically significant differences between other groups."
   ]
  },
  {
   "cell_type": "code",
   "execution_count": null,
   "metadata": {},
   "outputs": [],
   "source": []
  }
 ],
 "metadata": {
  "kernelspec": {
   "display_name": "Python 3",
   "language": "python",
   "name": "python3"
  },
  "language_info": {
   "codemirror_mode": {
    "name": "ipython",
    "version": 3
   },
   "file_extension": ".py",
   "mimetype": "text/x-python",
   "name": "python",
   "nbconvert_exporter": "python",
   "pygments_lexer": "ipython3",
   "version": "3.7.4"
  }
 },
 "nbformat": 4,
 "nbformat_minor": 2
}
